{
 "cells": [
  {
   "cell_type": "markdown",
   "metadata": {},
   "source": [
    "数据框（DataFrame）是一种矩阵形式的数据结构，但数据框中<font color=red>各列可以是不同类型的数据</font >。数据框每列是一个变量，每行是一个观测或称为记录。"
   ]
  },
  {
   "cell_type": "markdown",
   "metadata": {},
   "source": [
    "# 数据框的创建"
   ]
  },
  {
   "cell_type": "markdown",
   "metadata": {},
   "source": [
    "## 手工创建\n",
    "--由多个向量创建"
   ]
  },
  {
   "cell_type": "code",
   "execution_count": 1,
   "metadata": {},
   "outputs": [
    {
     "data": {
      "text/html": [
       "<table class=\"dataframe\">\n",
       "<caption>A data.frame: 7 × 3</caption>\n",
       "<thead>\n",
       "\t<tr><th scope=col>x</th><th scope=col>y</th><th scope=col>z</th></tr>\n",
       "\t<tr><th scope=col>&lt;dbl&gt;</th><th scope=col>&lt;chr&gt;</th><th scope=col>&lt;dbl&gt;</th></tr>\n",
       "</thead>\n",
       "<tbody>\n",
       "\t<tr><td>1</td><td>女</td><td>80</td></tr>\n",
       "\t<tr><td>1</td><td>男</td><td>85</td></tr>\n",
       "\t<tr><td>2</td><td>男</td><td>92</td></tr>\n",
       "\t<tr><td>2</td><td>女</td><td>76</td></tr>\n",
       "\t<tr><td>3</td><td>女</td><td>61</td></tr>\n",
       "\t<tr><td>3</td><td>女</td><td>95</td></tr>\n",
       "\t<tr><td>3</td><td>男</td><td>83</td></tr>\n",
       "</tbody>\n",
       "</table>\n"
      ],
      "text/latex": [
       "A data.frame: 7 × 3\n",
       "\\begin{tabular}{lll}\n",
       " x & y & z\\\\\n",
       " <dbl> & <chr> & <dbl>\\\\\n",
       "\\hline\n",
       "\t 1 & 女 & 80\\\\\n",
       "\t 1 & 男 & 85\\\\\n",
       "\t 2 & 男 & 92\\\\\n",
       "\t 2 & 女 & 76\\\\\n",
       "\t 3 & 女 & 61\\\\\n",
       "\t 3 & 女 & 95\\\\\n",
       "\t 3 & 男 & 83\\\\\n",
       "\\end{tabular}\n"
      ],
      "text/markdown": [
       "\n",
       "A data.frame: 7 × 3\n",
       "\n",
       "| x &lt;dbl&gt; | y &lt;chr&gt; | z &lt;dbl&gt; |\n",
       "|---|---|---|\n",
       "| 1 | 女 | 80 |\n",
       "| 1 | 男 | 85 |\n",
       "| 2 | 男 | 92 |\n",
       "| 2 | 女 | 76 |\n",
       "| 3 | 女 | 61 |\n",
       "| 3 | 女 | 95 |\n",
       "| 3 | 男 | 83 |\n",
       "\n"
      ],
      "text/plain": [
       "  x y  z \n",
       "1 1 女 80\n",
       "2 1 男 85\n",
       "3 2 男 92\n",
       "4 2 女 76\n",
       "5 3 女 61\n",
       "6 3 女 95\n",
       "7 3 男 83"
      ]
     },
     "metadata": {},
     "output_type": "display_data"
    }
   ],
   "source": [
    "x <- c(1, 1, 2, 2, 3, 3, 3)\n",
    "y <- c(\"女\", \"男\", \"男\", \"女\", \"女\", \"女\", \"男\")\n",
    "z <- c(80, 85, 92, 76, 61, 95, 83)\n",
    "(student <- data.frame(x, y, z))\n",
    "#请观察各列的类型"
   ]
  },
  {
   "cell_type": "code",
   "execution_count": 2,
   "metadata": {},
   "outputs": [
    {
     "data": {
      "text/html": [
       "<style>\n",
       ".list-inline {list-style: none; margin:0; padding: 0}\n",
       ".list-inline>li {display: inline-block}\n",
       ".list-inline>li:not(:last-child)::after {content: \"\\00b7\"; padding: 0 .5ex}\n",
       "</style>\n",
       "<ol class=list-inline><li>7</li><li>3</li></ol>\n"
      ],
      "text/latex": [
       "\\begin{enumerate*}\n",
       "\\item 7\n",
       "\\item 3\n",
       "\\end{enumerate*}\n"
      ],
      "text/markdown": [
       "1. 7\n",
       "2. 3\n",
       "\n",
       "\n"
      ],
      "text/plain": [
       "[1] 7 3"
      ]
     },
     "metadata": {},
     "output_type": "display_data"
    }
   ],
   "source": [
    "dim(student)   #行列数"
   ]
  },
  {
   "cell_type": "code",
   "execution_count": 3,
   "metadata": {},
   "outputs": [
    {
     "data": {
      "text/html": [
       "3"
      ],
      "text/latex": [
       "3"
      ],
      "text/markdown": [
       "3"
      ],
      "text/plain": [
       "[1] 3"
      ]
     },
     "metadata": {},
     "output_type": "display_data"
    }
   ],
   "source": [
    "ncol(student)"
   ]
  },
  {
   "cell_type": "code",
   "execution_count": 4,
   "metadata": {},
   "outputs": [
    {
     "data": {
      "text/html": [
       "<table class=\"dataframe\">\n",
       "<caption>A data.frame: 7 × 3</caption>\n",
       "<thead>\n",
       "\t<tr><th scope=col>class</th><th scope=col>gender</th><th scope=col>score</th></tr>\n",
       "\t<tr><th scope=col>&lt;dbl&gt;</th><th scope=col>&lt;chr&gt;</th><th scope=col>&lt;dbl&gt;</th></tr>\n",
       "</thead>\n",
       "<tbody>\n",
       "\t<tr><td>1</td><td>女</td><td>80</td></tr>\n",
       "\t<tr><td>1</td><td>男</td><td>85</td></tr>\n",
       "\t<tr><td>2</td><td>男</td><td>92</td></tr>\n",
       "\t<tr><td>2</td><td>女</td><td>76</td></tr>\n",
       "\t<tr><td>3</td><td>女</td><td>61</td></tr>\n",
       "\t<tr><td>3</td><td>女</td><td>95</td></tr>\n",
       "\t<tr><td>3</td><td>男</td><td>83</td></tr>\n",
       "</tbody>\n",
       "</table>\n"
      ],
      "text/latex": [
       "A data.frame: 7 × 3\n",
       "\\begin{tabular}{lll}\n",
       " class & gender & score\\\\\n",
       " <dbl> & <chr> & <dbl>\\\\\n",
       "\\hline\n",
       "\t 1 & 女 & 80\\\\\n",
       "\t 1 & 男 & 85\\\\\n",
       "\t 2 & 男 & 92\\\\\n",
       "\t 2 & 女 & 76\\\\\n",
       "\t 3 & 女 & 61\\\\\n",
       "\t 3 & 女 & 95\\\\\n",
       "\t 3 & 男 & 83\\\\\n",
       "\\end{tabular}\n"
      ],
      "text/markdown": [
       "\n",
       "A data.frame: 7 × 3\n",
       "\n",
       "| class &lt;dbl&gt; | gender &lt;chr&gt; | score &lt;dbl&gt; |\n",
       "|---|---|---|\n",
       "| 1 | 女 | 80 |\n",
       "| 1 | 男 | 85 |\n",
       "| 2 | 男 | 92 |\n",
       "| 2 | 女 | 76 |\n",
       "| 3 | 女 | 61 |\n",
       "| 3 | 女 | 95 |\n",
       "| 3 | 男 | 83 |\n",
       "\n"
      ],
      "text/plain": [
       "  class gender score\n",
       "1 1     女     80   \n",
       "2 1     男     85   \n",
       "3 2     男     92   \n",
       "4 2     女     76   \n",
       "5 3     女     61   \n",
       "6 3     女     95   \n",
       "7 3     男     83   "
      ]
     },
     "metadata": {},
     "output_type": "display_data"
    }
   ],
   "source": [
    "(student <- data.frame(class=x,gender=y,score=z))  #对列名进行重新命名"
   ]
  },
  {
   "cell_type": "code",
   "execution_count": 5,
   "metadata": {},
   "outputs": [
    {
     "data": {
      "text/html": [
       "7"
      ],
      "text/latex": [
       "7"
      ],
      "text/markdown": [
       "7"
      ],
      "text/plain": [
       "[1] 7"
      ]
     },
     "metadata": {},
     "output_type": "display_data"
    }
   ],
   "source": [
    "nrow(student)"
   ]
  },
  {
   "cell_type": "code",
   "execution_count": 6,
   "metadata": {},
   "outputs": [
    {
     "data": {
      "text/html": [
       "<table class=\"dataframe\">\n",
       "<caption>A data.frame: 7 × 3</caption>\n",
       "<thead>\n",
       "\t<tr><th></th><th scope=col>class</th><th scope=col>gender</th><th scope=col>score</th></tr>\n",
       "\t<tr><th></th><th scope=col>&lt;dbl&gt;</th><th scope=col>&lt;chr&gt;</th><th scope=col>&lt;dbl&gt;</th></tr>\n",
       "</thead>\n",
       "<tbody>\n",
       "\t<tr><th scope=row>王x</th><td>1</td><td>女</td><td>80</td></tr>\n",
       "\t<tr><th scope=row>张x</th><td>1</td><td>男</td><td>85</td></tr>\n",
       "\t<tr><th scope=row>赵x</th><td>2</td><td>男</td><td>92</td></tr>\n",
       "\t<tr><th scope=row>刘x</th><td>2</td><td>女</td><td>76</td></tr>\n",
       "\t<tr><th scope=row>黄x</th><td>3</td><td>女</td><td>61</td></tr>\n",
       "\t<tr><th scope=row>孙x</th><td>3</td><td>女</td><td>95</td></tr>\n",
       "\t<tr><th scope=row>李x</th><td>3</td><td>男</td><td>83</td></tr>\n",
       "</tbody>\n",
       "</table>\n"
      ],
      "text/latex": [
       "A data.frame: 7 × 3\n",
       "\\begin{tabular}{r|lll}\n",
       "  & class & gender & score\\\\\n",
       "  & <dbl> & <chr> & <dbl>\\\\\n",
       "\\hline\n",
       "\t王x & 1 & 女 & 80\\\\\n",
       "\t张x & 1 & 男 & 85\\\\\n",
       "\t赵x & 2 & 男 & 92\\\\\n",
       "\t刘x & 2 & 女 & 76\\\\\n",
       "\t黄x & 3 & 女 & 61\\\\\n",
       "\t孙x & 3 & 女 & 95\\\\\n",
       "\t李x & 3 & 男 & 83\\\\\n",
       "\\end{tabular}\n"
      ],
      "text/markdown": [
       "\n",
       "A data.frame: 7 × 3\n",
       "\n",
       "| <!--/--> | class &lt;dbl&gt; | gender &lt;chr&gt; | score &lt;dbl&gt; |\n",
       "|---|---|---|---|\n",
       "| 王x | 1 | 女 | 80 |\n",
       "| 张x | 1 | 男 | 85 |\n",
       "| 赵x | 2 | 男 | 92 |\n",
       "| 刘x | 2 | 女 | 76 |\n",
       "| 黄x | 3 | 女 | 61 |\n",
       "| 孙x | 3 | 女 | 95 |\n",
       "| 李x | 3 | 男 | 83 |\n",
       "\n"
      ],
      "text/plain": [
       "    class gender score\n",
       "王x 1     女     80   \n",
       "张x 1     男     85   \n",
       "赵x 2     男     92   \n",
       "刘x 2     女     76   \n",
       "黄x 3     女     61   \n",
       "孙x 3     女     95   \n",
       "李x 3     男     83   "
      ]
     },
     "metadata": {},
     "output_type": "display_data"
    }
   ],
   "source": [
    "row.names(student) <- c(\"王x\",\"张x\",\"赵x\",\"刘x\",\"黄x\",\"孙x\",\"李x\") #对数据框的行名进行修改\n",
    "student"
   ]
  },
  {
   "cell_type": "markdown",
   "metadata": {},
   "source": [
    "创建空数据框--用于后期(逐行)添加数据"
   ]
  },
  {
   "cell_type": "code",
   "execution_count": 91,
   "metadata": {},
   "outputs": [
    {
     "data": {
      "text/html": [
       "<table class=\"dataframe\">\n",
       "<caption>A data.frame: 0 × 3</caption>\n",
       "<thead>\n",
       "\t<tr><th scope=col>ID</th><th scope=col>name</th><th scope=col>score</th></tr>\n",
       "\t<tr><th scope=col>&lt;lgl&gt;</th><th scope=col>&lt;lgl&gt;</th><th scope=col>&lt;lgl&gt;</th></tr>\n",
       "</thead>\n",
       "<tbody>\n",
       "</tbody>\n",
       "</table>\n"
      ],
      "text/latex": [
       "A data.frame: 0 × 3\n",
       "\\begin{tabular}{lll}\n",
       " ID & name & score\\\\\n",
       " <lgl> & <lgl> & <lgl>\\\\\n",
       "\\hline\n",
       "\\end{tabular}\n"
      ],
      "text/markdown": [
       "\n",
       "A data.frame: 0 × 3\n",
       "\n",
       "| ID &lt;lgl&gt; | name &lt;lgl&gt; | score &lt;lgl&gt; |\n",
       "|---|---|---|\n",
       "\n"
      ],
      "text/plain": [
       "     ID name score"
      ]
     },
     "metadata": {},
     "output_type": "display_data"
    }
   ],
   "source": [
    "df <- data.frame(matrix(ncol = 3, nrow = 0))  #先创建一个空矩阵\n",
    "colnames(df) <- c('ID', 'name', 'score')        #再赋予列名\n",
    "df"
   ]
  },
  {
   "cell_type": "markdown",
   "metadata": {},
   "source": [
    "## 读取文件创建"
   ]
  },
  {
   "cell_type": "markdown",
   "metadata": {},
   "source": [
    "最基本函数是read.table()---读取一个表格形式的文件，并创建一个相应的数据框。\n",
    "\n",
    "read.table(file, header = FALSE, sep = \"\", quote = \"\\\"'\", dec = \".\", skip = 0, strip.white = FALSE, blank.lines.skip = TRUE, comment.char = \"#\")\n",
    "\n",
    "- file表示要读取的文件。file可以是绝对路径或者相对路径，但是一定要注意，因为在R语言中\\是转义符，**所以路径分隔符必须写成\\\\\\或者/**，比如“C:\\\\\\myfile\\\\\\myfile.csv”.或者“C:/myfile/myfile.csv”\n",
    "- <font color=red>使用file.choose()，弹出对话框，让你选择文件位置。强烈推荐使用此种方法，免去了记忆和书写文件路径的麻烦，特别是能够避免因数据文件位置移动带来的错误！例如：read.table(file.choose(),...).</font>\n",
    "- sep指定分隔符，**默认是空格**，若读取csv文件，则必须设置成逗号，才能以逗号为分割形成数据框！\n",
    "- quote是引号，默认就是双引号。用于指定包围字符型数据的字符\n",
    "- dec是小数点的表示，默认就是一个点。\n",
    "- skip是确定是否跳过某些行。strip.white确定是否消除空白字符。blank.lines.skip确定是否跳过空白行。\n",
    "- strip.white：逻辑值，默认为FALSE。此参数只在指定了sep参数时有效。当此参数设置为TRUE时，数据文件中没有包围的字符串域的前边和后边的空格将会被去掉。\n",
    "- header来确定数据文件中第一行是不是标题。默认F，即认为数据文件没有标题，也即认为第一行就开始是数据了！"
   ]
  },
  {
   "cell_type": "code",
   "execution_count": 7,
   "metadata": {
    "scrolled": true
   },
   "outputs": [
    {
     "data": {
      "text/html": [
       "<table class=\"dataframe\">\n",
       "<caption>A data.frame: 518 × 9</caption>\n",
       "<thead>\n",
       "\t<tr><th scope=col>V1</th><th scope=col>V2</th><th scope=col>V3</th><th scope=col>V4</th><th scope=col>V5</th><th scope=col>V6</th><th scope=col>V7</th><th scope=col>V8</th><th scope=col>V9</th></tr>\n",
       "\t<tr><th scope=col>&lt;chr&gt;</th><th scope=col>&lt;chr&gt;</th><th scope=col>&lt;chr&gt;</th><th scope=col>&lt;chr&gt;</th><th scope=col>&lt;chr&gt;</th><th scope=col>&lt;chr&gt;</th><th scope=col>&lt;chr&gt;</th><th scope=col>&lt;chr&gt;</th><th scope=col>&lt;chr&gt;</th></tr>\n",
       "</thead>\n",
       "<tbody>\n",
       "\t<tr><td>X</td><td>Y</td><td>month</td><td>day</td><td>temp</td><td>RH</td><td>wind</td><td>rain</td><td>area  </td></tr>\n",
       "\t<tr><td>1</td><td>2</td><td>aug  </td><td>fri</td><td>14.7</td><td>66</td><td>2.7 </td><td>0   </td><td>0     </td></tr>\n",
       "\t<tr><td>1</td><td>2</td><td>aug  </td><td>fri</td><td>18.5</td><td>73</td><td>8.5 </td><td>0   </td><td>0     </td></tr>\n",
       "\t<tr><td>1</td><td>2</td><td>aug  </td><td>fri</td><td>25.9</td><td>41</td><td>3.6 </td><td>0   </td><td>0     </td></tr>\n",
       "\t<tr><td>1</td><td>2</td><td>aug  </td><td>sat</td><td>25.9</td><td>32</td><td>3.1 </td><td>0   </td><td>0     </td></tr>\n",
       "\t<tr><td>1</td><td>2</td><td>aug  </td><td>sun</td><td>19.5</td><td>39</td><td>6.3 </td><td>0   </td><td>0     </td></tr>\n",
       "\t<tr><td>1</td><td>2</td><td>aug  </td><td>sun</td><td>17.9</td><td>44</td><td>2.2 </td><td>0   </td><td>0     </td></tr>\n",
       "\t<tr><td>1</td><td>2</td><td>aug  </td><td>thu</td><td>20.2</td><td>45</td><td>3.6 </td><td>0   </td><td>0     </td></tr>\n",
       "\t<tr><td>1</td><td>2</td><td>aug  </td><td>thu</td><td>26.7</td><td>35</td><td>1.8 </td><td>0   </td><td>5.8   </td></tr>\n",
       "\t<tr><td>1</td><td>2</td><td>aug  </td><td>tue</td><td>21.6</td><td>19</td><td>6.7 </td><td>0   </td><td>0     </td></tr>\n",
       "\t<tr><td>1</td><td>2</td><td>aug  </td><td>tue</td><td>18.6</td><td>51</td><td>4.5 </td><td>0   </td><td>0     </td></tr>\n",
       "\t<tr><td>1</td><td>2</td><td>aug  </td><td>wed</td><td>16.6</td><td>47</td><td>0.9 </td><td>0   </td><td>0     </td></tr>\n",
       "\t<tr><td>1</td><td>2</td><td>aug  </td><td>wed</td><td>23.3</td><td>31</td><td>4.5 </td><td>0   </td><td>0.55  </td></tr>\n",
       "\t<tr><td>1</td><td>2</td><td>jul  </td><td>fri</td><td>14.8</td><td>78</td><td>8   </td><td>0   </td><td>0     </td></tr>\n",
       "\t<tr><td>1</td><td>2</td><td>jul  </td><td>sat</td><td>16.6</td><td>53</td><td>5.4 </td><td>0   </td><td>0.71  </td></tr>\n",
       "\t<tr><td>1</td><td>2</td><td>sep  </td><td>sun</td><td>25.3</td><td>36</td><td>3.6 </td><td>0   </td><td>0     </td></tr>\n",
       "\t<tr><td>1</td><td>2</td><td>sep  </td><td>thu</td><td>21.5</td><td>15</td><td>0.9 </td><td>0   </td><td>0     </td></tr>\n",
       "\t<tr><td>1</td><td>2</td><td>sep  </td><td>thu</td><td>25.4</td><td>27</td><td>2.2 </td><td>0   </td><td>0     </td></tr>\n",
       "\t<tr><td>1</td><td>2</td><td>sep  </td><td>thu</td><td>22.4</td><td>34</td><td>2.2 </td><td>0   </td><td>0     </td></tr>\n",
       "\t<tr><td>1</td><td>2</td><td>sep  </td><td>tue</td><td>18.8</td><td>40</td><td>2.2 </td><td>0   </td><td>212.88</td></tr>\n",
       "\t<tr><td>1</td><td>3</td><td>aug  </td><td>fri</td><td>32.4</td><td>27</td><td>2.2 </td><td>0   </td><td>0     </td></tr>\n",
       "\t<tr><td>1</td><td>3</td><td>aug  </td><td>fri</td><td>27.5</td><td>29</td><td>4.5 </td><td>0   </td><td>43.32 </td></tr>\n",
       "\t<tr><td>1</td><td>3</td><td>aug  </td><td>sat</td><td>23.3</td><td>40</td><td>4   </td><td>0   </td><td>6.36  </td></tr>\n",
       "\t<tr><td>1</td><td>3</td><td>aug  </td><td>thu</td><td>26.2</td><td>34</td><td>5.8 </td><td>0   </td><td>0     </td></tr>\n",
       "\t<tr><td>1</td><td>3</td><td>mar  </td><td>mon</td><td>8.3 </td><td>72</td><td>3.1 </td><td>0   </td><td>0     </td></tr>\n",
       "\t<tr><td>1</td><td>3</td><td>sep  </td><td>fri</td><td>19.1</td><td>46</td><td>2.2 </td><td>0   </td><td>0.33  </td></tr>\n",
       "\t<tr><td>1</td><td>3</td><td>sep  </td><td>mon</td><td>12.4</td><td>73</td><td>6.3 </td><td>0   </td><td>30.32 </td></tr>\n",
       "\t<tr><td>1</td><td>3</td><td>sep  </td><td>sat</td><td>22.3</td><td>48</td><td>4   </td><td>0   </td><td>0.72  </td></tr>\n",
       "\t<tr><td>1</td><td>3</td><td>sep  </td><td>sun</td><td>23.9</td><td>32</td><td>6.7 </td><td>0   </td><td>5.33  </td></tr>\n",
       "\t<tr><td>1</td><td>3</td><td>sep  </td><td>sun</td><td>21.9</td><td>43</td><td>4   </td><td>0   </td><td>70.76 </td></tr>\n",
       "\t<tr><td>⋮</td><td>⋮</td><td>⋮</td><td>⋮</td><td>⋮</td><td>⋮</td><td>⋮</td><td>⋮</td><td>⋮</td></tr>\n",
       "\t<tr><td>8</td><td>6</td><td>jul</td><td>tue</td><td>17.1</td><td>67</td><td>3.6</td><td>0  </td><td>6.57  </td></tr>\n",
       "\t<tr><td>8</td><td>6</td><td>jun</td><td>sun</td><td>15.4</td><td>45</td><td>2.2</td><td>0  </td><td>0     </td></tr>\n",
       "\t<tr><td>8</td><td>6</td><td>jun</td><td>wed</td><td>19.6</td><td>43</td><td>4.9</td><td>0  </td><td>0     </td></tr>\n",
       "\t<tr><td>8</td><td>6</td><td>mar</td><td>fri</td><td>8.3 </td><td>97</td><td>4  </td><td>0.2</td><td>0     </td></tr>\n",
       "\t<tr><td>8</td><td>6</td><td>mar</td><td>fri</td><td>17.4</td><td>24</td><td>5.4</td><td>0  </td><td>0     </td></tr>\n",
       "\t<tr><td>8</td><td>6</td><td>mar</td><td>sun</td><td>11.4</td><td>99</td><td>1.8</td><td>0  </td><td>0     </td></tr>\n",
       "\t<tr><td>8</td><td>6</td><td>mar</td><td>sun</td><td>11.5</td><td>39</td><td>5.8</td><td>0  </td><td>7.19  </td></tr>\n",
       "\t<tr><td>8</td><td>6</td><td>oct</td><td>mon</td><td>19.1</td><td>32</td><td>4  </td><td>0  </td><td>5.44  </td></tr>\n",
       "\t<tr><td>8</td><td>6</td><td>oct</td><td>wed</td><td>20.2</td><td>37</td><td>2.7</td><td>0  </td><td>13.7  </td></tr>\n",
       "\t<tr><td>8</td><td>6</td><td>sep</td><td>fri</td><td>20.7</td><td>46</td><td>2.7</td><td>0  </td><td>30.18 </td></tr>\n",
       "\t<tr><td>8</td><td>6</td><td>sep</td><td>mon</td><td>22.7</td><td>35</td><td>2.2</td><td>0  </td><td>7.48  </td></tr>\n",
       "\t<tr><td>8</td><td>6</td><td>sep</td><td>mon</td><td>15.7</td><td>51</td><td>2.2</td><td>0  </td><td>0     </td></tr>\n",
       "\t<tr><td>8</td><td>6</td><td>sep</td><td>mon</td><td>15.9</td><td>51</td><td>4.5</td><td>0  </td><td>2.18  </td></tr>\n",
       "\t<tr><td>8</td><td>6</td><td>sep</td><td>sat</td><td>17.8</td><td>56</td><td>1.8</td><td>0  </td><td>1.95  </td></tr>\n",
       "\t<tr><td>8</td><td>6</td><td>sep</td><td>thu</td><td>23.7</td><td>25</td><td>4.5</td><td>0  </td><td>1.12  </td></tr>\n",
       "\t<tr><td>8</td><td>6</td><td>sep</td><td>tue</td><td>13.1</td><td>63</td><td>5.4</td><td>0  </td><td>0     </td></tr>\n",
       "\t<tr><td>8</td><td>8</td><td>aug</td><td>wed</td><td>26.2</td><td>36</td><td>4.5</td><td>0  </td><td>185.76</td></tr>\n",
       "\t<tr><td>9</td><td>4</td><td>jul</td><td>mon</td><td>22.8</td><td>27</td><td>4.5</td><td>0  </td><td>1.63  </td></tr>\n",
       "\t<tr><td>9</td><td>4</td><td>jul</td><td>sat</td><td>25.3</td><td>39</td><td>0.9</td><td>0  </td><td>8     </td></tr>\n",
       "\t<tr><td>9</td><td>4</td><td>jun</td><td>sat</td><td>24.5</td><td>50</td><td>3.1</td><td>0  </td><td>70.32 </td></tr>\n",
       "\t<tr><td>9</td><td>4</td><td>sep</td><td>tue</td><td>24.3</td><td>36</td><td>3.1</td><td>0  </td><td>105.66</td></tr>\n",
       "\t<tr><td>9</td><td>5</td><td>jun</td><td>wed</td><td>28  </td><td>34</td><td>4.5</td><td>0  </td><td>0     </td></tr>\n",
       "\t<tr><td>9</td><td>5</td><td>jun</td><td>wed</td><td>28  </td><td>34</td><td>4.5</td><td>0  </td><td>8.16  </td></tr>\n",
       "\t<tr><td>9</td><td>6</td><td>aug</td><td>thu</td><td>20.5</td><td>58</td><td>2.7</td><td>0  </td><td>42.87 </td></tr>\n",
       "\t<tr><td>9</td><td>9</td><td>aug</td><td>fri</td><td>25  </td><td>36</td><td>4  </td><td>0  </td><td>0     </td></tr>\n",
       "\t<tr><td>9</td><td>9</td><td>feb</td><td>fri</td><td>15.7</td><td>43</td><td>3.1</td><td>0  </td><td>0     </td></tr>\n",
       "\t<tr><td>9</td><td>9</td><td>feb</td><td>thu</td><td>6.7 </td><td>79</td><td>3.1</td><td>0  </td><td>0     </td></tr>\n",
       "\t<tr><td>9</td><td>9</td><td>jul</td><td>sun</td><td>24.8</td><td>29</td><td>2.2</td><td>0  </td><td>1.36  </td></tr>\n",
       "\t<tr><td>9</td><td>9</td><td>jul</td><td>thu</td><td>30.2</td><td>25</td><td>4.5</td><td>0  </td><td>2.75  </td></tr>\n",
       "\t<tr><td>9</td><td>9</td><td>jul</td><td>tue</td><td>18  </td><td>42</td><td>2.7</td><td>0  </td><td>0.36  </td></tr>\n",
       "</tbody>\n",
       "</table>\n"
      ],
      "text/latex": [
       "A data.frame: 518 × 9\n",
       "\\begin{tabular}{lllllllll}\n",
       " V1 & V2 & V3 & V4 & V5 & V6 & V7 & V8 & V9\\\\\n",
       " <chr> & <chr> & <chr> & <chr> & <chr> & <chr> & <chr> & <chr> & <chr>\\\\\n",
       "\\hline\n",
       "\t X & Y & month & day & temp & RH & wind & rain & area  \\\\\n",
       "\t 1 & 2 & aug   & fri & 14.7 & 66 & 2.7  & 0    & 0     \\\\\n",
       "\t 1 & 2 & aug   & fri & 18.5 & 73 & 8.5  & 0    & 0     \\\\\n",
       "\t 1 & 2 & aug   & fri & 25.9 & 41 & 3.6  & 0    & 0     \\\\\n",
       "\t 1 & 2 & aug   & sat & 25.9 & 32 & 3.1  & 0    & 0     \\\\\n",
       "\t 1 & 2 & aug   & sun & 19.5 & 39 & 6.3  & 0    & 0     \\\\\n",
       "\t 1 & 2 & aug   & sun & 17.9 & 44 & 2.2  & 0    & 0     \\\\\n",
       "\t 1 & 2 & aug   & thu & 20.2 & 45 & 3.6  & 0    & 0     \\\\\n",
       "\t 1 & 2 & aug   & thu & 26.7 & 35 & 1.8  & 0    & 5.8   \\\\\n",
       "\t 1 & 2 & aug   & tue & 21.6 & 19 & 6.7  & 0    & 0     \\\\\n",
       "\t 1 & 2 & aug   & tue & 18.6 & 51 & 4.5  & 0    & 0     \\\\\n",
       "\t 1 & 2 & aug   & wed & 16.6 & 47 & 0.9  & 0    & 0     \\\\\n",
       "\t 1 & 2 & aug   & wed & 23.3 & 31 & 4.5  & 0    & 0.55  \\\\\n",
       "\t 1 & 2 & jul   & fri & 14.8 & 78 & 8    & 0    & 0     \\\\\n",
       "\t 1 & 2 & jul   & sat & 16.6 & 53 & 5.4  & 0    & 0.71  \\\\\n",
       "\t 1 & 2 & sep   & sun & 25.3 & 36 & 3.6  & 0    & 0     \\\\\n",
       "\t 1 & 2 & sep   & thu & 21.5 & 15 & 0.9  & 0    & 0     \\\\\n",
       "\t 1 & 2 & sep   & thu & 25.4 & 27 & 2.2  & 0    & 0     \\\\\n",
       "\t 1 & 2 & sep   & thu & 22.4 & 34 & 2.2  & 0    & 0     \\\\\n",
       "\t 1 & 2 & sep   & tue & 18.8 & 40 & 2.2  & 0    & 212.88\\\\\n",
       "\t 1 & 3 & aug   & fri & 32.4 & 27 & 2.2  & 0    & 0     \\\\\n",
       "\t 1 & 3 & aug   & fri & 27.5 & 29 & 4.5  & 0    & 43.32 \\\\\n",
       "\t 1 & 3 & aug   & sat & 23.3 & 40 & 4    & 0    & 6.36  \\\\\n",
       "\t 1 & 3 & aug   & thu & 26.2 & 34 & 5.8  & 0    & 0     \\\\\n",
       "\t 1 & 3 & mar   & mon & 8.3  & 72 & 3.1  & 0    & 0     \\\\\n",
       "\t 1 & 3 & sep   & fri & 19.1 & 46 & 2.2  & 0    & 0.33  \\\\\n",
       "\t 1 & 3 & sep   & mon & 12.4 & 73 & 6.3  & 0    & 30.32 \\\\\n",
       "\t 1 & 3 & sep   & sat & 22.3 & 48 & 4    & 0    & 0.72  \\\\\n",
       "\t 1 & 3 & sep   & sun & 23.9 & 32 & 6.7  & 0    & 5.33  \\\\\n",
       "\t 1 & 3 & sep   & sun & 21.9 & 43 & 4    & 0    & 70.76 \\\\\n",
       "\t ⋮ & ⋮ & ⋮ & ⋮ & ⋮ & ⋮ & ⋮ & ⋮ & ⋮\\\\\n",
       "\t 8 & 6 & jul & tue & 17.1 & 67 & 3.6 & 0   & 6.57  \\\\\n",
       "\t 8 & 6 & jun & sun & 15.4 & 45 & 2.2 & 0   & 0     \\\\\n",
       "\t 8 & 6 & jun & wed & 19.6 & 43 & 4.9 & 0   & 0     \\\\\n",
       "\t 8 & 6 & mar & fri & 8.3  & 97 & 4   & 0.2 & 0     \\\\\n",
       "\t 8 & 6 & mar & fri & 17.4 & 24 & 5.4 & 0   & 0     \\\\\n",
       "\t 8 & 6 & mar & sun & 11.4 & 99 & 1.8 & 0   & 0     \\\\\n",
       "\t 8 & 6 & mar & sun & 11.5 & 39 & 5.8 & 0   & 7.19  \\\\\n",
       "\t 8 & 6 & oct & mon & 19.1 & 32 & 4   & 0   & 5.44  \\\\\n",
       "\t 8 & 6 & oct & wed & 20.2 & 37 & 2.7 & 0   & 13.7  \\\\\n",
       "\t 8 & 6 & sep & fri & 20.7 & 46 & 2.7 & 0   & 30.18 \\\\\n",
       "\t 8 & 6 & sep & mon & 22.7 & 35 & 2.2 & 0   & 7.48  \\\\\n",
       "\t 8 & 6 & sep & mon & 15.7 & 51 & 2.2 & 0   & 0     \\\\\n",
       "\t 8 & 6 & sep & mon & 15.9 & 51 & 4.5 & 0   & 2.18  \\\\\n",
       "\t 8 & 6 & sep & sat & 17.8 & 56 & 1.8 & 0   & 1.95  \\\\\n",
       "\t 8 & 6 & sep & thu & 23.7 & 25 & 4.5 & 0   & 1.12  \\\\\n",
       "\t 8 & 6 & sep & tue & 13.1 & 63 & 5.4 & 0   & 0     \\\\\n",
       "\t 8 & 8 & aug & wed & 26.2 & 36 & 4.5 & 0   & 185.76\\\\\n",
       "\t 9 & 4 & jul & mon & 22.8 & 27 & 4.5 & 0   & 1.63  \\\\\n",
       "\t 9 & 4 & jul & sat & 25.3 & 39 & 0.9 & 0   & 8     \\\\\n",
       "\t 9 & 4 & jun & sat & 24.5 & 50 & 3.1 & 0   & 70.32 \\\\\n",
       "\t 9 & 4 & sep & tue & 24.3 & 36 & 3.1 & 0   & 105.66\\\\\n",
       "\t 9 & 5 & jun & wed & 28   & 34 & 4.5 & 0   & 0     \\\\\n",
       "\t 9 & 5 & jun & wed & 28   & 34 & 4.5 & 0   & 8.16  \\\\\n",
       "\t 9 & 6 & aug & thu & 20.5 & 58 & 2.7 & 0   & 42.87 \\\\\n",
       "\t 9 & 9 & aug & fri & 25   & 36 & 4   & 0   & 0     \\\\\n",
       "\t 9 & 9 & feb & fri & 15.7 & 43 & 3.1 & 0   & 0     \\\\\n",
       "\t 9 & 9 & feb & thu & 6.7  & 79 & 3.1 & 0   & 0     \\\\\n",
       "\t 9 & 9 & jul & sun & 24.8 & 29 & 2.2 & 0   & 1.36  \\\\\n",
       "\t 9 & 9 & jul & thu & 30.2 & 25 & 4.5 & 0   & 2.75  \\\\\n",
       "\t 9 & 9 & jul & tue & 18   & 42 & 2.7 & 0   & 0.36  \\\\\n",
       "\\end{tabular}\n"
      ],
      "text/markdown": [
       "\n",
       "A data.frame: 518 × 9\n",
       "\n",
       "| V1 &lt;chr&gt; | V2 &lt;chr&gt; | V3 &lt;chr&gt; | V4 &lt;chr&gt; | V5 &lt;chr&gt; | V6 &lt;chr&gt; | V7 &lt;chr&gt; | V8 &lt;chr&gt; | V9 &lt;chr&gt; |\n",
       "|---|---|---|---|---|---|---|---|---|\n",
       "| X | Y | month | day | temp | RH | wind | rain | area   |\n",
       "| 1 | 2 | aug   | fri | 14.7 | 66 | 2.7  | 0    | 0      |\n",
       "| 1 | 2 | aug   | fri | 18.5 | 73 | 8.5  | 0    | 0      |\n",
       "| 1 | 2 | aug   | fri | 25.9 | 41 | 3.6  | 0    | 0      |\n",
       "| 1 | 2 | aug   | sat | 25.9 | 32 | 3.1  | 0    | 0      |\n",
       "| 1 | 2 | aug   | sun | 19.5 | 39 | 6.3  | 0    | 0      |\n",
       "| 1 | 2 | aug   | sun | 17.9 | 44 | 2.2  | 0    | 0      |\n",
       "| 1 | 2 | aug   | thu | 20.2 | 45 | 3.6  | 0    | 0      |\n",
       "| 1 | 2 | aug   | thu | 26.7 | 35 | 1.8  | 0    | 5.8    |\n",
       "| 1 | 2 | aug   | tue | 21.6 | 19 | 6.7  | 0    | 0      |\n",
       "| 1 | 2 | aug   | tue | 18.6 | 51 | 4.5  | 0    | 0      |\n",
       "| 1 | 2 | aug   | wed | 16.6 | 47 | 0.9  | 0    | 0      |\n",
       "| 1 | 2 | aug   | wed | 23.3 | 31 | 4.5  | 0    | 0.55   |\n",
       "| 1 | 2 | jul   | fri | 14.8 | 78 | 8    | 0    | 0      |\n",
       "| 1 | 2 | jul   | sat | 16.6 | 53 | 5.4  | 0    | 0.71   |\n",
       "| 1 | 2 | sep   | sun | 25.3 | 36 | 3.6  | 0    | 0      |\n",
       "| 1 | 2 | sep   | thu | 21.5 | 15 | 0.9  | 0    | 0      |\n",
       "| 1 | 2 | sep   | thu | 25.4 | 27 | 2.2  | 0    | 0      |\n",
       "| 1 | 2 | sep   | thu | 22.4 | 34 | 2.2  | 0    | 0      |\n",
       "| 1 | 2 | sep   | tue | 18.8 | 40 | 2.2  | 0    | 212.88 |\n",
       "| 1 | 3 | aug   | fri | 32.4 | 27 | 2.2  | 0    | 0      |\n",
       "| 1 | 3 | aug   | fri | 27.5 | 29 | 4.5  | 0    | 43.32  |\n",
       "| 1 | 3 | aug   | sat | 23.3 | 40 | 4    | 0    | 6.36   |\n",
       "| 1 | 3 | aug   | thu | 26.2 | 34 | 5.8  | 0    | 0      |\n",
       "| 1 | 3 | mar   | mon | 8.3  | 72 | 3.1  | 0    | 0      |\n",
       "| 1 | 3 | sep   | fri | 19.1 | 46 | 2.2  | 0    | 0.33   |\n",
       "| 1 | 3 | sep   | mon | 12.4 | 73 | 6.3  | 0    | 30.32  |\n",
       "| 1 | 3 | sep   | sat | 22.3 | 48 | 4    | 0    | 0.72   |\n",
       "| 1 | 3 | sep   | sun | 23.9 | 32 | 6.7  | 0    | 5.33   |\n",
       "| 1 | 3 | sep   | sun | 21.9 | 43 | 4    | 0    | 70.76  |\n",
       "| ⋮ | ⋮ | ⋮ | ⋮ | ⋮ | ⋮ | ⋮ | ⋮ | ⋮ |\n",
       "| 8 | 6 | jul | tue | 17.1 | 67 | 3.6 | 0   | 6.57   |\n",
       "| 8 | 6 | jun | sun | 15.4 | 45 | 2.2 | 0   | 0      |\n",
       "| 8 | 6 | jun | wed | 19.6 | 43 | 4.9 | 0   | 0      |\n",
       "| 8 | 6 | mar | fri | 8.3  | 97 | 4   | 0.2 | 0      |\n",
       "| 8 | 6 | mar | fri | 17.4 | 24 | 5.4 | 0   | 0      |\n",
       "| 8 | 6 | mar | sun | 11.4 | 99 | 1.8 | 0   | 0      |\n",
       "| 8 | 6 | mar | sun | 11.5 | 39 | 5.8 | 0   | 7.19   |\n",
       "| 8 | 6 | oct | mon | 19.1 | 32 | 4   | 0   | 5.44   |\n",
       "| 8 | 6 | oct | wed | 20.2 | 37 | 2.7 | 0   | 13.7   |\n",
       "| 8 | 6 | sep | fri | 20.7 | 46 | 2.7 | 0   | 30.18  |\n",
       "| 8 | 6 | sep | mon | 22.7 | 35 | 2.2 | 0   | 7.48   |\n",
       "| 8 | 6 | sep | mon | 15.7 | 51 | 2.2 | 0   | 0      |\n",
       "| 8 | 6 | sep | mon | 15.9 | 51 | 4.5 | 0   | 2.18   |\n",
       "| 8 | 6 | sep | sat | 17.8 | 56 | 1.8 | 0   | 1.95   |\n",
       "| 8 | 6 | sep | thu | 23.7 | 25 | 4.5 | 0   | 1.12   |\n",
       "| 8 | 6 | sep | tue | 13.1 | 63 | 5.4 | 0   | 0      |\n",
       "| 8 | 8 | aug | wed | 26.2 | 36 | 4.5 | 0   | 185.76 |\n",
       "| 9 | 4 | jul | mon | 22.8 | 27 | 4.5 | 0   | 1.63   |\n",
       "| 9 | 4 | jul | sat | 25.3 | 39 | 0.9 | 0   | 8      |\n",
       "| 9 | 4 | jun | sat | 24.5 | 50 | 3.1 | 0   | 70.32  |\n",
       "| 9 | 4 | sep | tue | 24.3 | 36 | 3.1 | 0   | 105.66 |\n",
       "| 9 | 5 | jun | wed | 28   | 34 | 4.5 | 0   | 0      |\n",
       "| 9 | 5 | jun | wed | 28   | 34 | 4.5 | 0   | 8.16   |\n",
       "| 9 | 6 | aug | thu | 20.5 | 58 | 2.7 | 0   | 42.87  |\n",
       "| 9 | 9 | aug | fri | 25   | 36 | 4   | 0   | 0      |\n",
       "| 9 | 9 | feb | fri | 15.7 | 43 | 3.1 | 0   | 0      |\n",
       "| 9 | 9 | feb | thu | 6.7  | 79 | 3.1 | 0   | 0      |\n",
       "| 9 | 9 | jul | sun | 24.8 | 29 | 2.2 | 0   | 1.36   |\n",
       "| 9 | 9 | jul | thu | 30.2 | 25 | 4.5 | 0   | 2.75   |\n",
       "| 9 | 9 | jul | tue | 18   | 42 | 2.7 | 0   | 0.36   |\n",
       "\n"
      ],
      "text/plain": [
       "    V1 V2 V3    V4  V5   V6 V7   V8   V9    \n",
       "1   X  Y  month day temp RH wind rain area  \n",
       "2   1  2  aug   fri 14.7 66 2.7  0    0     \n",
       "3   1  2  aug   fri 18.5 73 8.5  0    0     \n",
       "4   1  2  aug   fri 25.9 41 3.6  0    0     \n",
       "5   1  2  aug   sat 25.9 32 3.1  0    0     \n",
       "6   1  2  aug   sun 19.5 39 6.3  0    0     \n",
       "7   1  2  aug   sun 17.9 44 2.2  0    0     \n",
       "8   1  2  aug   thu 20.2 45 3.6  0    0     \n",
       "9   1  2  aug   thu 26.7 35 1.8  0    5.8   \n",
       "10  1  2  aug   tue 21.6 19 6.7  0    0     \n",
       "11  1  2  aug   tue 18.6 51 4.5  0    0     \n",
       "12  1  2  aug   wed 16.6 47 0.9  0    0     \n",
       "13  1  2  aug   wed 23.3 31 4.5  0    0.55  \n",
       "14  1  2  jul   fri 14.8 78 8    0    0     \n",
       "15  1  2  jul   sat 16.6 53 5.4  0    0.71  \n",
       "16  1  2  sep   sun 25.3 36 3.6  0    0     \n",
       "17  1  2  sep   thu 21.5 15 0.9  0    0     \n",
       "18  1  2  sep   thu 25.4 27 2.2  0    0     \n",
       "19  1  2  sep   thu 22.4 34 2.2  0    0     \n",
       "20  1  2  sep   tue 18.8 40 2.2  0    212.88\n",
       "21  1  3  aug   fri 32.4 27 2.2  0    0     \n",
       "22  1  3  aug   fri 27.5 29 4.5  0    43.32 \n",
       "23  1  3  aug   sat 23.3 40 4    0    6.36  \n",
       "24  1  3  aug   thu 26.2 34 5.8  0    0     \n",
       "25  1  3  mar   mon 8.3  72 3.1  0    0     \n",
       "26  1  3  sep   fri 19.1 46 2.2  0    0.33  \n",
       "27  1  3  sep   mon 12.4 73 6.3  0    30.32 \n",
       "28  1  3  sep   sat 22.3 48 4    0    0.72  \n",
       "29  1  3  sep   sun 23.9 32 6.7  0    5.33  \n",
       "30  1  3  sep   sun 21.9 43 4    0    70.76 \n",
       "⋮   ⋮  ⋮  ⋮     ⋮   ⋮    ⋮  ⋮    ⋮    ⋮     \n",
       "489 8  6  jul   tue 17.1 67 3.6  0    6.57  \n",
       "490 8  6  jun   sun 15.4 45 2.2  0    0     \n",
       "491 8  6  jun   wed 19.6 43 4.9  0    0     \n",
       "492 8  6  mar   fri 8.3  97 4    0.2  0     \n",
       "493 8  6  mar   fri 17.4 24 5.4  0    0     \n",
       "494 8  6  mar   sun 11.4 99 1.8  0    0     \n",
       "495 8  6  mar   sun 11.5 39 5.8  0    7.19  \n",
       "496 8  6  oct   mon 19.1 32 4    0    5.44  \n",
       "497 8  6  oct   wed 20.2 37 2.7  0    13.7  \n",
       "498 8  6  sep   fri 20.7 46 2.7  0    30.18 \n",
       "499 8  6  sep   mon 22.7 35 2.2  0    7.48  \n",
       "500 8  6  sep   mon 15.7 51 2.2  0    0     \n",
       "501 8  6  sep   mon 15.9 51 4.5  0    2.18  \n",
       "502 8  6  sep   sat 17.8 56 1.8  0    1.95  \n",
       "503 8  6  sep   thu 23.7 25 4.5  0    1.12  \n",
       "504 8  6  sep   tue 13.1 63 5.4  0    0     \n",
       "505 8  8  aug   wed 26.2 36 4.5  0    185.76\n",
       "506 9  4  jul   mon 22.8 27 4.5  0    1.63  \n",
       "507 9  4  jul   sat 25.3 39 0.9  0    8     \n",
       "508 9  4  jun   sat 24.5 50 3.1  0    70.32 \n",
       "509 9  4  sep   tue 24.3 36 3.1  0    105.66\n",
       "510 9  5  jun   wed 28   34 4.5  0    0     \n",
       "511 9  5  jun   wed 28   34 4.5  0    8.16  \n",
       "512 9  6  aug   thu 20.5 58 2.7  0    42.87 \n",
       "513 9  9  aug   fri 25   36 4    0    0     \n",
       "514 9  9  feb   fri 15.7 43 3.1  0    0     \n",
       "515 9  9  feb   thu 6.7  79 3.1  0    0     \n",
       "516 9  9  jul   sun 24.8 29 2.2  0    1.36  \n",
       "517 9  9  jul   thu 30.2 25 4.5  0    2.75  \n",
       "518 9  9  jul   tue 18   42 2.7  0    0.36  "
      ]
     },
     "metadata": {},
     "output_type": "display_data"
    }
   ],
   "source": [
    "read.table(file.choose())   #图形方式读取---当前文件夹下的文件“s森林数据.txt”"
   ]
  },
  {
   "cell_type": "code",
   "execution_count": 8,
   "metadata": {
    "scrolled": true
   },
   "outputs": [
    {
     "data": {
      "text/html": [
       "<table class=\"dataframe\">\n",
       "<caption>A data.frame: 518 × 9</caption>\n",
       "<thead>\n",
       "\t<tr><th scope=col>V1</th><th scope=col>V2</th><th scope=col>V3</th><th scope=col>V4</th><th scope=col>V5</th><th scope=col>V6</th><th scope=col>V7</th><th scope=col>V8</th><th scope=col>V9</th></tr>\n",
       "\t<tr><th scope=col>&lt;chr&gt;</th><th scope=col>&lt;chr&gt;</th><th scope=col>&lt;chr&gt;</th><th scope=col>&lt;chr&gt;</th><th scope=col>&lt;chr&gt;</th><th scope=col>&lt;chr&gt;</th><th scope=col>&lt;chr&gt;</th><th scope=col>&lt;chr&gt;</th><th scope=col>&lt;chr&gt;</th></tr>\n",
       "</thead>\n",
       "<tbody>\n",
       "\t<tr><td>X</td><td>Y</td><td>month</td><td>day</td><td>temp</td><td>RH</td><td>wind</td><td>rain</td><td>area  </td></tr>\n",
       "\t<tr><td>1</td><td>2</td><td>aug  </td><td>fri</td><td>14.7</td><td>66</td><td>2.7 </td><td>0   </td><td>0     </td></tr>\n",
       "\t<tr><td>1</td><td>2</td><td>aug  </td><td>fri</td><td>18.5</td><td>73</td><td>8.5 </td><td>0   </td><td>0     </td></tr>\n",
       "\t<tr><td>1</td><td>2</td><td>aug  </td><td>fri</td><td>25.9</td><td>41</td><td>3.6 </td><td>0   </td><td>0     </td></tr>\n",
       "\t<tr><td>1</td><td>2</td><td>aug  </td><td>sat</td><td>25.9</td><td>32</td><td>3.1 </td><td>0   </td><td>0     </td></tr>\n",
       "\t<tr><td>1</td><td>2</td><td>aug  </td><td>sun</td><td>19.5</td><td>39</td><td>6.3 </td><td>0   </td><td>0     </td></tr>\n",
       "\t<tr><td>1</td><td>2</td><td>aug  </td><td>sun</td><td>17.9</td><td>44</td><td>2.2 </td><td>0   </td><td>0     </td></tr>\n",
       "\t<tr><td>1</td><td>2</td><td>aug  </td><td>thu</td><td>20.2</td><td>45</td><td>3.6 </td><td>0   </td><td>0     </td></tr>\n",
       "\t<tr><td>1</td><td>2</td><td>aug  </td><td>thu</td><td>26.7</td><td>35</td><td>1.8 </td><td>0   </td><td>5.8   </td></tr>\n",
       "\t<tr><td>1</td><td>2</td><td>aug  </td><td>tue</td><td>21.6</td><td>19</td><td>6.7 </td><td>0   </td><td>0     </td></tr>\n",
       "\t<tr><td>1</td><td>2</td><td>aug  </td><td>tue</td><td>18.6</td><td>51</td><td>4.5 </td><td>0   </td><td>0     </td></tr>\n",
       "\t<tr><td>1</td><td>2</td><td>aug  </td><td>wed</td><td>16.6</td><td>47</td><td>0.9 </td><td>0   </td><td>0     </td></tr>\n",
       "\t<tr><td>1</td><td>2</td><td>aug  </td><td>wed</td><td>23.3</td><td>31</td><td>4.5 </td><td>0   </td><td>0.55  </td></tr>\n",
       "\t<tr><td>1</td><td>2</td><td>jul  </td><td>fri</td><td>14.8</td><td>78</td><td>8   </td><td>0   </td><td>0     </td></tr>\n",
       "\t<tr><td>1</td><td>2</td><td>jul  </td><td>sat</td><td>16.6</td><td>53</td><td>5.4 </td><td>0   </td><td>0.71  </td></tr>\n",
       "\t<tr><td>1</td><td>2</td><td>sep  </td><td>sun</td><td>25.3</td><td>36</td><td>3.6 </td><td>0   </td><td>0     </td></tr>\n",
       "\t<tr><td>1</td><td>2</td><td>sep  </td><td>thu</td><td>21.5</td><td>15</td><td>0.9 </td><td>0   </td><td>0     </td></tr>\n",
       "\t<tr><td>1</td><td>2</td><td>sep  </td><td>thu</td><td>25.4</td><td>27</td><td>2.2 </td><td>0   </td><td>0     </td></tr>\n",
       "\t<tr><td>1</td><td>2</td><td>sep  </td><td>thu</td><td>22.4</td><td>34</td><td>2.2 </td><td>0   </td><td>0     </td></tr>\n",
       "\t<tr><td>1</td><td>2</td><td>sep  </td><td>tue</td><td>18.8</td><td>40</td><td>2.2 </td><td>0   </td><td>212.88</td></tr>\n",
       "\t<tr><td>1</td><td>3</td><td>aug  </td><td>fri</td><td>32.4</td><td>27</td><td>2.2 </td><td>0   </td><td>0     </td></tr>\n",
       "\t<tr><td>1</td><td>3</td><td>aug  </td><td>fri</td><td>27.5</td><td>29</td><td>4.5 </td><td>0   </td><td>43.32 </td></tr>\n",
       "\t<tr><td>1</td><td>3</td><td>aug  </td><td>sat</td><td>23.3</td><td>40</td><td>4   </td><td>0   </td><td>6.36  </td></tr>\n",
       "\t<tr><td>1</td><td>3</td><td>aug  </td><td>thu</td><td>26.2</td><td>34</td><td>5.8 </td><td>0   </td><td>0     </td></tr>\n",
       "\t<tr><td>1</td><td>3</td><td>mar  </td><td>mon</td><td>8.3 </td><td>72</td><td>3.1 </td><td>0   </td><td>0     </td></tr>\n",
       "\t<tr><td>1</td><td>3</td><td>sep  </td><td>fri</td><td>19.1</td><td>46</td><td>2.2 </td><td>0   </td><td>0.33  </td></tr>\n",
       "\t<tr><td>1</td><td>3</td><td>sep  </td><td>mon</td><td>12.4</td><td>73</td><td>6.3 </td><td>0   </td><td>30.32 </td></tr>\n",
       "\t<tr><td>1</td><td>3</td><td>sep  </td><td>sat</td><td>22.3</td><td>48</td><td>4   </td><td>0   </td><td>0.72  </td></tr>\n",
       "\t<tr><td>1</td><td>3</td><td>sep  </td><td>sun</td><td>23.9</td><td>32</td><td>6.7 </td><td>0   </td><td>5.33  </td></tr>\n",
       "\t<tr><td>1</td><td>3</td><td>sep  </td><td>sun</td><td>21.9</td><td>43</td><td>4   </td><td>0   </td><td>70.76 </td></tr>\n",
       "\t<tr><td>⋮</td><td>⋮</td><td>⋮</td><td>⋮</td><td>⋮</td><td>⋮</td><td>⋮</td><td>⋮</td><td>⋮</td></tr>\n",
       "\t<tr><td>8</td><td>6</td><td>jul</td><td>tue</td><td>17.1</td><td>67</td><td>3.6</td><td>0  </td><td>6.57  </td></tr>\n",
       "\t<tr><td>8</td><td>6</td><td>jun</td><td>sun</td><td>15.4</td><td>45</td><td>2.2</td><td>0  </td><td>0     </td></tr>\n",
       "\t<tr><td>8</td><td>6</td><td>jun</td><td>wed</td><td>19.6</td><td>43</td><td>4.9</td><td>0  </td><td>0     </td></tr>\n",
       "\t<tr><td>8</td><td>6</td><td>mar</td><td>fri</td><td>8.3 </td><td>97</td><td>4  </td><td>0.2</td><td>0     </td></tr>\n",
       "\t<tr><td>8</td><td>6</td><td>mar</td><td>fri</td><td>17.4</td><td>24</td><td>5.4</td><td>0  </td><td>0     </td></tr>\n",
       "\t<tr><td>8</td><td>6</td><td>mar</td><td>sun</td><td>11.4</td><td>99</td><td>1.8</td><td>0  </td><td>0     </td></tr>\n",
       "\t<tr><td>8</td><td>6</td><td>mar</td><td>sun</td><td>11.5</td><td>39</td><td>5.8</td><td>0  </td><td>7.19  </td></tr>\n",
       "\t<tr><td>8</td><td>6</td><td>oct</td><td>mon</td><td>19.1</td><td>32</td><td>4  </td><td>0  </td><td>5.44  </td></tr>\n",
       "\t<tr><td>8</td><td>6</td><td>oct</td><td>wed</td><td>20.2</td><td>37</td><td>2.7</td><td>0  </td><td>13.7  </td></tr>\n",
       "\t<tr><td>8</td><td>6</td><td>sep</td><td>fri</td><td>20.7</td><td>46</td><td>2.7</td><td>0  </td><td>30.18 </td></tr>\n",
       "\t<tr><td>8</td><td>6</td><td>sep</td><td>mon</td><td>22.7</td><td>35</td><td>2.2</td><td>0  </td><td>7.48  </td></tr>\n",
       "\t<tr><td>8</td><td>6</td><td>sep</td><td>mon</td><td>15.7</td><td>51</td><td>2.2</td><td>0  </td><td>0     </td></tr>\n",
       "\t<tr><td>8</td><td>6</td><td>sep</td><td>mon</td><td>15.9</td><td>51</td><td>4.5</td><td>0  </td><td>2.18  </td></tr>\n",
       "\t<tr><td>8</td><td>6</td><td>sep</td><td>sat</td><td>17.8</td><td>56</td><td>1.8</td><td>0  </td><td>1.95  </td></tr>\n",
       "\t<tr><td>8</td><td>6</td><td>sep</td><td>thu</td><td>23.7</td><td>25</td><td>4.5</td><td>0  </td><td>1.12  </td></tr>\n",
       "\t<tr><td>8</td><td>6</td><td>sep</td><td>tue</td><td>13.1</td><td>63</td><td>5.4</td><td>0  </td><td>0     </td></tr>\n",
       "\t<tr><td>8</td><td>8</td><td>aug</td><td>wed</td><td>26.2</td><td>36</td><td>4.5</td><td>0  </td><td>185.76</td></tr>\n",
       "\t<tr><td>9</td><td>4</td><td>jul</td><td>mon</td><td>22.8</td><td>27</td><td>4.5</td><td>0  </td><td>1.63  </td></tr>\n",
       "\t<tr><td>9</td><td>4</td><td>jul</td><td>sat</td><td>25.3</td><td>39</td><td>0.9</td><td>0  </td><td>8     </td></tr>\n",
       "\t<tr><td>9</td><td>4</td><td>jun</td><td>sat</td><td>24.5</td><td>50</td><td>3.1</td><td>0  </td><td>70.32 </td></tr>\n",
       "\t<tr><td>9</td><td>4</td><td>sep</td><td>tue</td><td>24.3</td><td>36</td><td>3.1</td><td>0  </td><td>105.66</td></tr>\n",
       "\t<tr><td>9</td><td>5</td><td>jun</td><td>wed</td><td>28  </td><td>34</td><td>4.5</td><td>0  </td><td>0     </td></tr>\n",
       "\t<tr><td>9</td><td>5</td><td>jun</td><td>wed</td><td>28  </td><td>34</td><td>4.5</td><td>0  </td><td>8.16  </td></tr>\n",
       "\t<tr><td>9</td><td>6</td><td>aug</td><td>thu</td><td>20.5</td><td>58</td><td>2.7</td><td>0  </td><td>42.87 </td></tr>\n",
       "\t<tr><td>9</td><td>9</td><td>aug</td><td>fri</td><td>25  </td><td>36</td><td>4  </td><td>0  </td><td>0     </td></tr>\n",
       "\t<tr><td>9</td><td>9</td><td>feb</td><td>fri</td><td>15.7</td><td>43</td><td>3.1</td><td>0  </td><td>0     </td></tr>\n",
       "\t<tr><td>9</td><td>9</td><td>feb</td><td>thu</td><td>6.7 </td><td>79</td><td>3.1</td><td>0  </td><td>0     </td></tr>\n",
       "\t<tr><td>9</td><td>9</td><td>jul</td><td>sun</td><td>24.8</td><td>29</td><td>2.2</td><td>0  </td><td>1.36  </td></tr>\n",
       "\t<tr><td>9</td><td>9</td><td>jul</td><td>thu</td><td>30.2</td><td>25</td><td>4.5</td><td>0  </td><td>2.75  </td></tr>\n",
       "\t<tr><td>9</td><td>9</td><td>jul</td><td>tue</td><td>18  </td><td>42</td><td>2.7</td><td>0  </td><td>0.36  </td></tr>\n",
       "</tbody>\n",
       "</table>\n"
      ],
      "text/latex": [
       "A data.frame: 518 × 9\n",
       "\\begin{tabular}{lllllllll}\n",
       " V1 & V2 & V3 & V4 & V5 & V6 & V7 & V8 & V9\\\\\n",
       " <chr> & <chr> & <chr> & <chr> & <chr> & <chr> & <chr> & <chr> & <chr>\\\\\n",
       "\\hline\n",
       "\t X & Y & month & day & temp & RH & wind & rain & area  \\\\\n",
       "\t 1 & 2 & aug   & fri & 14.7 & 66 & 2.7  & 0    & 0     \\\\\n",
       "\t 1 & 2 & aug   & fri & 18.5 & 73 & 8.5  & 0    & 0     \\\\\n",
       "\t 1 & 2 & aug   & fri & 25.9 & 41 & 3.6  & 0    & 0     \\\\\n",
       "\t 1 & 2 & aug   & sat & 25.9 & 32 & 3.1  & 0    & 0     \\\\\n",
       "\t 1 & 2 & aug   & sun & 19.5 & 39 & 6.3  & 0    & 0     \\\\\n",
       "\t 1 & 2 & aug   & sun & 17.9 & 44 & 2.2  & 0    & 0     \\\\\n",
       "\t 1 & 2 & aug   & thu & 20.2 & 45 & 3.6  & 0    & 0     \\\\\n",
       "\t 1 & 2 & aug   & thu & 26.7 & 35 & 1.8  & 0    & 5.8   \\\\\n",
       "\t 1 & 2 & aug   & tue & 21.6 & 19 & 6.7  & 0    & 0     \\\\\n",
       "\t 1 & 2 & aug   & tue & 18.6 & 51 & 4.5  & 0    & 0     \\\\\n",
       "\t 1 & 2 & aug   & wed & 16.6 & 47 & 0.9  & 0    & 0     \\\\\n",
       "\t 1 & 2 & aug   & wed & 23.3 & 31 & 4.5  & 0    & 0.55  \\\\\n",
       "\t 1 & 2 & jul   & fri & 14.8 & 78 & 8    & 0    & 0     \\\\\n",
       "\t 1 & 2 & jul   & sat & 16.6 & 53 & 5.4  & 0    & 0.71  \\\\\n",
       "\t 1 & 2 & sep   & sun & 25.3 & 36 & 3.6  & 0    & 0     \\\\\n",
       "\t 1 & 2 & sep   & thu & 21.5 & 15 & 0.9  & 0    & 0     \\\\\n",
       "\t 1 & 2 & sep   & thu & 25.4 & 27 & 2.2  & 0    & 0     \\\\\n",
       "\t 1 & 2 & sep   & thu & 22.4 & 34 & 2.2  & 0    & 0     \\\\\n",
       "\t 1 & 2 & sep   & tue & 18.8 & 40 & 2.2  & 0    & 212.88\\\\\n",
       "\t 1 & 3 & aug   & fri & 32.4 & 27 & 2.2  & 0    & 0     \\\\\n",
       "\t 1 & 3 & aug   & fri & 27.5 & 29 & 4.5  & 0    & 43.32 \\\\\n",
       "\t 1 & 3 & aug   & sat & 23.3 & 40 & 4    & 0    & 6.36  \\\\\n",
       "\t 1 & 3 & aug   & thu & 26.2 & 34 & 5.8  & 0    & 0     \\\\\n",
       "\t 1 & 3 & mar   & mon & 8.3  & 72 & 3.1  & 0    & 0     \\\\\n",
       "\t 1 & 3 & sep   & fri & 19.1 & 46 & 2.2  & 0    & 0.33  \\\\\n",
       "\t 1 & 3 & sep   & mon & 12.4 & 73 & 6.3  & 0    & 30.32 \\\\\n",
       "\t 1 & 3 & sep   & sat & 22.3 & 48 & 4    & 0    & 0.72  \\\\\n",
       "\t 1 & 3 & sep   & sun & 23.9 & 32 & 6.7  & 0    & 5.33  \\\\\n",
       "\t 1 & 3 & sep   & sun & 21.9 & 43 & 4    & 0    & 70.76 \\\\\n",
       "\t ⋮ & ⋮ & ⋮ & ⋮ & ⋮ & ⋮ & ⋮ & ⋮ & ⋮\\\\\n",
       "\t 8 & 6 & jul & tue & 17.1 & 67 & 3.6 & 0   & 6.57  \\\\\n",
       "\t 8 & 6 & jun & sun & 15.4 & 45 & 2.2 & 0   & 0     \\\\\n",
       "\t 8 & 6 & jun & wed & 19.6 & 43 & 4.9 & 0   & 0     \\\\\n",
       "\t 8 & 6 & mar & fri & 8.3  & 97 & 4   & 0.2 & 0     \\\\\n",
       "\t 8 & 6 & mar & fri & 17.4 & 24 & 5.4 & 0   & 0     \\\\\n",
       "\t 8 & 6 & mar & sun & 11.4 & 99 & 1.8 & 0   & 0     \\\\\n",
       "\t 8 & 6 & mar & sun & 11.5 & 39 & 5.8 & 0   & 7.19  \\\\\n",
       "\t 8 & 6 & oct & mon & 19.1 & 32 & 4   & 0   & 5.44  \\\\\n",
       "\t 8 & 6 & oct & wed & 20.2 & 37 & 2.7 & 0   & 13.7  \\\\\n",
       "\t 8 & 6 & sep & fri & 20.7 & 46 & 2.7 & 0   & 30.18 \\\\\n",
       "\t 8 & 6 & sep & mon & 22.7 & 35 & 2.2 & 0   & 7.48  \\\\\n",
       "\t 8 & 6 & sep & mon & 15.7 & 51 & 2.2 & 0   & 0     \\\\\n",
       "\t 8 & 6 & sep & mon & 15.9 & 51 & 4.5 & 0   & 2.18  \\\\\n",
       "\t 8 & 6 & sep & sat & 17.8 & 56 & 1.8 & 0   & 1.95  \\\\\n",
       "\t 8 & 6 & sep & thu & 23.7 & 25 & 4.5 & 0   & 1.12  \\\\\n",
       "\t 8 & 6 & sep & tue & 13.1 & 63 & 5.4 & 0   & 0     \\\\\n",
       "\t 8 & 8 & aug & wed & 26.2 & 36 & 4.5 & 0   & 185.76\\\\\n",
       "\t 9 & 4 & jul & mon & 22.8 & 27 & 4.5 & 0   & 1.63  \\\\\n",
       "\t 9 & 4 & jul & sat & 25.3 & 39 & 0.9 & 0   & 8     \\\\\n",
       "\t 9 & 4 & jun & sat & 24.5 & 50 & 3.1 & 0   & 70.32 \\\\\n",
       "\t 9 & 4 & sep & tue & 24.3 & 36 & 3.1 & 0   & 105.66\\\\\n",
       "\t 9 & 5 & jun & wed & 28   & 34 & 4.5 & 0   & 0     \\\\\n",
       "\t 9 & 5 & jun & wed & 28   & 34 & 4.5 & 0   & 8.16  \\\\\n",
       "\t 9 & 6 & aug & thu & 20.5 & 58 & 2.7 & 0   & 42.87 \\\\\n",
       "\t 9 & 9 & aug & fri & 25   & 36 & 4   & 0   & 0     \\\\\n",
       "\t 9 & 9 & feb & fri & 15.7 & 43 & 3.1 & 0   & 0     \\\\\n",
       "\t 9 & 9 & feb & thu & 6.7  & 79 & 3.1 & 0   & 0     \\\\\n",
       "\t 9 & 9 & jul & sun & 24.8 & 29 & 2.2 & 0   & 1.36  \\\\\n",
       "\t 9 & 9 & jul & thu & 30.2 & 25 & 4.5 & 0   & 2.75  \\\\\n",
       "\t 9 & 9 & jul & tue & 18   & 42 & 2.7 & 0   & 0.36  \\\\\n",
       "\\end{tabular}\n"
      ],
      "text/markdown": [
       "\n",
       "A data.frame: 518 × 9\n",
       "\n",
       "| V1 &lt;chr&gt; | V2 &lt;chr&gt; | V3 &lt;chr&gt; | V4 &lt;chr&gt; | V5 &lt;chr&gt; | V6 &lt;chr&gt; | V7 &lt;chr&gt; | V8 &lt;chr&gt; | V9 &lt;chr&gt; |\n",
       "|---|---|---|---|---|---|---|---|---|\n",
       "| X | Y | month | day | temp | RH | wind | rain | area   |\n",
       "| 1 | 2 | aug   | fri | 14.7 | 66 | 2.7  | 0    | 0      |\n",
       "| 1 | 2 | aug   | fri | 18.5 | 73 | 8.5  | 0    | 0      |\n",
       "| 1 | 2 | aug   | fri | 25.9 | 41 | 3.6  | 0    | 0      |\n",
       "| 1 | 2 | aug   | sat | 25.9 | 32 | 3.1  | 0    | 0      |\n",
       "| 1 | 2 | aug   | sun | 19.5 | 39 | 6.3  | 0    | 0      |\n",
       "| 1 | 2 | aug   | sun | 17.9 | 44 | 2.2  | 0    | 0      |\n",
       "| 1 | 2 | aug   | thu | 20.2 | 45 | 3.6  | 0    | 0      |\n",
       "| 1 | 2 | aug   | thu | 26.7 | 35 | 1.8  | 0    | 5.8    |\n",
       "| 1 | 2 | aug   | tue | 21.6 | 19 | 6.7  | 0    | 0      |\n",
       "| 1 | 2 | aug   | tue | 18.6 | 51 | 4.5  | 0    | 0      |\n",
       "| 1 | 2 | aug   | wed | 16.6 | 47 | 0.9  | 0    | 0      |\n",
       "| 1 | 2 | aug   | wed | 23.3 | 31 | 4.5  | 0    | 0.55   |\n",
       "| 1 | 2 | jul   | fri | 14.8 | 78 | 8    | 0    | 0      |\n",
       "| 1 | 2 | jul   | sat | 16.6 | 53 | 5.4  | 0    | 0.71   |\n",
       "| 1 | 2 | sep   | sun | 25.3 | 36 | 3.6  | 0    | 0      |\n",
       "| 1 | 2 | sep   | thu | 21.5 | 15 | 0.9  | 0    | 0      |\n",
       "| 1 | 2 | sep   | thu | 25.4 | 27 | 2.2  | 0    | 0      |\n",
       "| 1 | 2 | sep   | thu | 22.4 | 34 | 2.2  | 0    | 0      |\n",
       "| 1 | 2 | sep   | tue | 18.8 | 40 | 2.2  | 0    | 212.88 |\n",
       "| 1 | 3 | aug   | fri | 32.4 | 27 | 2.2  | 0    | 0      |\n",
       "| 1 | 3 | aug   | fri | 27.5 | 29 | 4.5  | 0    | 43.32  |\n",
       "| 1 | 3 | aug   | sat | 23.3 | 40 | 4    | 0    | 6.36   |\n",
       "| 1 | 3 | aug   | thu | 26.2 | 34 | 5.8  | 0    | 0      |\n",
       "| 1 | 3 | mar   | mon | 8.3  | 72 | 3.1  | 0    | 0      |\n",
       "| 1 | 3 | sep   | fri | 19.1 | 46 | 2.2  | 0    | 0.33   |\n",
       "| 1 | 3 | sep   | mon | 12.4 | 73 | 6.3  | 0    | 30.32  |\n",
       "| 1 | 3 | sep   | sat | 22.3 | 48 | 4    | 0    | 0.72   |\n",
       "| 1 | 3 | sep   | sun | 23.9 | 32 | 6.7  | 0    | 5.33   |\n",
       "| 1 | 3 | sep   | sun | 21.9 | 43 | 4    | 0    | 70.76  |\n",
       "| ⋮ | ⋮ | ⋮ | ⋮ | ⋮ | ⋮ | ⋮ | ⋮ | ⋮ |\n",
       "| 8 | 6 | jul | tue | 17.1 | 67 | 3.6 | 0   | 6.57   |\n",
       "| 8 | 6 | jun | sun | 15.4 | 45 | 2.2 | 0   | 0      |\n",
       "| 8 | 6 | jun | wed | 19.6 | 43 | 4.9 | 0   | 0      |\n",
       "| 8 | 6 | mar | fri | 8.3  | 97 | 4   | 0.2 | 0      |\n",
       "| 8 | 6 | mar | fri | 17.4 | 24 | 5.4 | 0   | 0      |\n",
       "| 8 | 6 | mar | sun | 11.4 | 99 | 1.8 | 0   | 0      |\n",
       "| 8 | 6 | mar | sun | 11.5 | 39 | 5.8 | 0   | 7.19   |\n",
       "| 8 | 6 | oct | mon | 19.1 | 32 | 4   | 0   | 5.44   |\n",
       "| 8 | 6 | oct | wed | 20.2 | 37 | 2.7 | 0   | 13.7   |\n",
       "| 8 | 6 | sep | fri | 20.7 | 46 | 2.7 | 0   | 30.18  |\n",
       "| 8 | 6 | sep | mon | 22.7 | 35 | 2.2 | 0   | 7.48   |\n",
       "| 8 | 6 | sep | mon | 15.7 | 51 | 2.2 | 0   | 0      |\n",
       "| 8 | 6 | sep | mon | 15.9 | 51 | 4.5 | 0   | 2.18   |\n",
       "| 8 | 6 | sep | sat | 17.8 | 56 | 1.8 | 0   | 1.95   |\n",
       "| 8 | 6 | sep | thu | 23.7 | 25 | 4.5 | 0   | 1.12   |\n",
       "| 8 | 6 | sep | tue | 13.1 | 63 | 5.4 | 0   | 0      |\n",
       "| 8 | 8 | aug | wed | 26.2 | 36 | 4.5 | 0   | 185.76 |\n",
       "| 9 | 4 | jul | mon | 22.8 | 27 | 4.5 | 0   | 1.63   |\n",
       "| 9 | 4 | jul | sat | 25.3 | 39 | 0.9 | 0   | 8      |\n",
       "| 9 | 4 | jun | sat | 24.5 | 50 | 3.1 | 0   | 70.32  |\n",
       "| 9 | 4 | sep | tue | 24.3 | 36 | 3.1 | 0   | 105.66 |\n",
       "| 9 | 5 | jun | wed | 28   | 34 | 4.5 | 0   | 0      |\n",
       "| 9 | 5 | jun | wed | 28   | 34 | 4.5 | 0   | 8.16   |\n",
       "| 9 | 6 | aug | thu | 20.5 | 58 | 2.7 | 0   | 42.87  |\n",
       "| 9 | 9 | aug | fri | 25   | 36 | 4   | 0   | 0      |\n",
       "| 9 | 9 | feb | fri | 15.7 | 43 | 3.1 | 0   | 0      |\n",
       "| 9 | 9 | feb | thu | 6.7  | 79 | 3.1 | 0   | 0      |\n",
       "| 9 | 9 | jul | sun | 24.8 | 29 | 2.2 | 0   | 1.36   |\n",
       "| 9 | 9 | jul | thu | 30.2 | 25 | 4.5 | 0   | 2.75   |\n",
       "| 9 | 9 | jul | tue | 18   | 42 | 2.7 | 0   | 0.36   |\n",
       "\n"
      ],
      "text/plain": [
       "    V1 V2 V3    V4  V5   V6 V7   V8   V9    \n",
       "1   X  Y  month day temp RH wind rain area  \n",
       "2   1  2  aug   fri 14.7 66 2.7  0    0     \n",
       "3   1  2  aug   fri 18.5 73 8.5  0    0     \n",
       "4   1  2  aug   fri 25.9 41 3.6  0    0     \n",
       "5   1  2  aug   sat 25.9 32 3.1  0    0     \n",
       "6   1  2  aug   sun 19.5 39 6.3  0    0     \n",
       "7   1  2  aug   sun 17.9 44 2.2  0    0     \n",
       "8   1  2  aug   thu 20.2 45 3.6  0    0     \n",
       "9   1  2  aug   thu 26.7 35 1.8  0    5.8   \n",
       "10  1  2  aug   tue 21.6 19 6.7  0    0     \n",
       "11  1  2  aug   tue 18.6 51 4.5  0    0     \n",
       "12  1  2  aug   wed 16.6 47 0.9  0    0     \n",
       "13  1  2  aug   wed 23.3 31 4.5  0    0.55  \n",
       "14  1  2  jul   fri 14.8 78 8    0    0     \n",
       "15  1  2  jul   sat 16.6 53 5.4  0    0.71  \n",
       "16  1  2  sep   sun 25.3 36 3.6  0    0     \n",
       "17  1  2  sep   thu 21.5 15 0.9  0    0     \n",
       "18  1  2  sep   thu 25.4 27 2.2  0    0     \n",
       "19  1  2  sep   thu 22.4 34 2.2  0    0     \n",
       "20  1  2  sep   tue 18.8 40 2.2  0    212.88\n",
       "21  1  3  aug   fri 32.4 27 2.2  0    0     \n",
       "22  1  3  aug   fri 27.5 29 4.5  0    43.32 \n",
       "23  1  3  aug   sat 23.3 40 4    0    6.36  \n",
       "24  1  3  aug   thu 26.2 34 5.8  0    0     \n",
       "25  1  3  mar   mon 8.3  72 3.1  0    0     \n",
       "26  1  3  sep   fri 19.1 46 2.2  0    0.33  \n",
       "27  1  3  sep   mon 12.4 73 6.3  0    30.32 \n",
       "28  1  3  sep   sat 22.3 48 4    0    0.72  \n",
       "29  1  3  sep   sun 23.9 32 6.7  0    5.33  \n",
       "30  1  3  sep   sun 21.9 43 4    0    70.76 \n",
       "⋮   ⋮  ⋮  ⋮     ⋮   ⋮    ⋮  ⋮    ⋮    ⋮     \n",
       "489 8  6  jul   tue 17.1 67 3.6  0    6.57  \n",
       "490 8  6  jun   sun 15.4 45 2.2  0    0     \n",
       "491 8  6  jun   wed 19.6 43 4.9  0    0     \n",
       "492 8  6  mar   fri 8.3  97 4    0.2  0     \n",
       "493 8  6  mar   fri 17.4 24 5.4  0    0     \n",
       "494 8  6  mar   sun 11.4 99 1.8  0    0     \n",
       "495 8  6  mar   sun 11.5 39 5.8  0    7.19  \n",
       "496 8  6  oct   mon 19.1 32 4    0    5.44  \n",
       "497 8  6  oct   wed 20.2 37 2.7  0    13.7  \n",
       "498 8  6  sep   fri 20.7 46 2.7  0    30.18 \n",
       "499 8  6  sep   mon 22.7 35 2.2  0    7.48  \n",
       "500 8  6  sep   mon 15.7 51 2.2  0    0     \n",
       "501 8  6  sep   mon 15.9 51 4.5  0    2.18  \n",
       "502 8  6  sep   sat 17.8 56 1.8  0    1.95  \n",
       "503 8  6  sep   thu 23.7 25 4.5  0    1.12  \n",
       "504 8  6  sep   tue 13.1 63 5.4  0    0     \n",
       "505 8  8  aug   wed 26.2 36 4.5  0    185.76\n",
       "506 9  4  jul   mon 22.8 27 4.5  0    1.63  \n",
       "507 9  4  jul   sat 25.3 39 0.9  0    8     \n",
       "508 9  4  jun   sat 24.5 50 3.1  0    70.32 \n",
       "509 9  4  sep   tue 24.3 36 3.1  0    105.66\n",
       "510 9  5  jun   wed 28   34 4.5  0    0     \n",
       "511 9  5  jun   wed 28   34 4.5  0    8.16  \n",
       "512 9  6  aug   thu 20.5 58 2.7  0    42.87 \n",
       "513 9  9  aug   fri 25   36 4    0    0     \n",
       "514 9  9  feb   fri 15.7 43 3.1  0    0     \n",
       "515 9  9  feb   thu 6.7  79 3.1  0    0     \n",
       "516 9  9  jul   sun 24.8 29 2.2  0    1.36  \n",
       "517 9  9  jul   thu 30.2 25 4.5  0    2.75  \n",
       "518 9  9  jul   tue 18   42 2.7  0    0.36  "
      ]
     },
     "metadata": {},
     "output_type": "display_data"
    }
   ],
   "source": [
    "read.table(\"s森林数据.txt\")   #直接读取---当前文件夹下的文件“s森林数据.txt”，注意其间隔符号"
   ]
  },
  {
   "cell_type": "code",
   "execution_count": 9,
   "metadata": {
    "scrolled": true
   },
   "outputs": [
    {
     "data": {
      "text/html": [
       "<table class=\"dataframe\">\n",
       "<caption>A data.frame: 517 × 9</caption>\n",
       "<thead>\n",
       "\t<tr><th scope=col>X</th><th scope=col>Y</th><th scope=col>month</th><th scope=col>day</th><th scope=col>temp</th><th scope=col>RH</th><th scope=col>wind</th><th scope=col>rain</th><th scope=col>area</th></tr>\n",
       "\t<tr><th scope=col>&lt;int&gt;</th><th scope=col>&lt;int&gt;</th><th scope=col>&lt;chr&gt;</th><th scope=col>&lt;chr&gt;</th><th scope=col>&lt;dbl&gt;</th><th scope=col>&lt;int&gt;</th><th scope=col>&lt;dbl&gt;</th><th scope=col>&lt;dbl&gt;</th><th scope=col>&lt;dbl&gt;</th></tr>\n",
       "</thead>\n",
       "<tbody>\n",
       "\t<tr><td>1</td><td>2</td><td>aug</td><td>fri</td><td>14.7</td><td>66</td><td>2.7</td><td>0</td><td>  0.00</td></tr>\n",
       "\t<tr><td>1</td><td>2</td><td>aug</td><td>fri</td><td>18.5</td><td>73</td><td>8.5</td><td>0</td><td>  0.00</td></tr>\n",
       "\t<tr><td>1</td><td>2</td><td>aug</td><td>fri</td><td>25.9</td><td>41</td><td>3.6</td><td>0</td><td>  0.00</td></tr>\n",
       "\t<tr><td>1</td><td>2</td><td>aug</td><td>sat</td><td>25.9</td><td>32</td><td>3.1</td><td>0</td><td>  0.00</td></tr>\n",
       "\t<tr><td>1</td><td>2</td><td>aug</td><td>sun</td><td>19.5</td><td>39</td><td>6.3</td><td>0</td><td>  0.00</td></tr>\n",
       "\t<tr><td>1</td><td>2</td><td>aug</td><td>sun</td><td>17.9</td><td>44</td><td>2.2</td><td>0</td><td>  0.00</td></tr>\n",
       "\t<tr><td>1</td><td>2</td><td>aug</td><td>thu</td><td>20.2</td><td>45</td><td>3.6</td><td>0</td><td>  0.00</td></tr>\n",
       "\t<tr><td>1</td><td>2</td><td>aug</td><td>thu</td><td>26.7</td><td>35</td><td>1.8</td><td>0</td><td>  5.80</td></tr>\n",
       "\t<tr><td>1</td><td>2</td><td>aug</td><td>tue</td><td>21.6</td><td>19</td><td>6.7</td><td>0</td><td>  0.00</td></tr>\n",
       "\t<tr><td>1</td><td>2</td><td>aug</td><td>tue</td><td>18.6</td><td>51</td><td>4.5</td><td>0</td><td>  0.00</td></tr>\n",
       "\t<tr><td>1</td><td>2</td><td>aug</td><td>wed</td><td>16.6</td><td>47</td><td>0.9</td><td>0</td><td>  0.00</td></tr>\n",
       "\t<tr><td>1</td><td>2</td><td>aug</td><td>wed</td><td>23.3</td><td>31</td><td>4.5</td><td>0</td><td>  0.55</td></tr>\n",
       "\t<tr><td>1</td><td>2</td><td>jul</td><td>fri</td><td>14.8</td><td>78</td><td>8.0</td><td>0</td><td>  0.00</td></tr>\n",
       "\t<tr><td>1</td><td>2</td><td>jul</td><td>sat</td><td>16.6</td><td>53</td><td>5.4</td><td>0</td><td>  0.71</td></tr>\n",
       "\t<tr><td>1</td><td>2</td><td>sep</td><td>sun</td><td>25.3</td><td>36</td><td>3.6</td><td>0</td><td>  0.00</td></tr>\n",
       "\t<tr><td>1</td><td>2</td><td>sep</td><td>thu</td><td>21.5</td><td>15</td><td>0.9</td><td>0</td><td>  0.00</td></tr>\n",
       "\t<tr><td>1</td><td>2</td><td>sep</td><td>thu</td><td>25.4</td><td>27</td><td>2.2</td><td>0</td><td>  0.00</td></tr>\n",
       "\t<tr><td>1</td><td>2</td><td>sep</td><td>thu</td><td>22.4</td><td>34</td><td>2.2</td><td>0</td><td>  0.00</td></tr>\n",
       "\t<tr><td>1</td><td>2</td><td>sep</td><td>tue</td><td>18.8</td><td>40</td><td>2.2</td><td>0</td><td>212.88</td></tr>\n",
       "\t<tr><td>1</td><td>3</td><td>aug</td><td>fri</td><td>32.4</td><td>27</td><td>2.2</td><td>0</td><td>  0.00</td></tr>\n",
       "\t<tr><td>1</td><td>3</td><td>aug</td><td>fri</td><td>27.5</td><td>29</td><td>4.5</td><td>0</td><td> 43.32</td></tr>\n",
       "\t<tr><td>1</td><td>3</td><td>aug</td><td>sat</td><td>23.3</td><td>40</td><td>4.0</td><td>0</td><td>  6.36</td></tr>\n",
       "\t<tr><td>1</td><td>3</td><td>aug</td><td>thu</td><td>26.2</td><td>34</td><td>5.8</td><td>0</td><td>  0.00</td></tr>\n",
       "\t<tr><td>1</td><td>3</td><td>mar</td><td>mon</td><td> 8.3</td><td>72</td><td>3.1</td><td>0</td><td>  0.00</td></tr>\n",
       "\t<tr><td>1</td><td>3</td><td>sep</td><td>fri</td><td>19.1</td><td>46</td><td>2.2</td><td>0</td><td>  0.33</td></tr>\n",
       "\t<tr><td>1</td><td>3</td><td>sep</td><td>mon</td><td>12.4</td><td>73</td><td>6.3</td><td>0</td><td> 30.32</td></tr>\n",
       "\t<tr><td>1</td><td>3</td><td>sep</td><td>sat</td><td>22.3</td><td>48</td><td>4.0</td><td>0</td><td>  0.72</td></tr>\n",
       "\t<tr><td>1</td><td>3</td><td>sep</td><td>sun</td><td>23.9</td><td>32</td><td>6.7</td><td>0</td><td>  5.33</td></tr>\n",
       "\t<tr><td>1</td><td>3</td><td>sep</td><td>sun</td><td>21.9</td><td>43</td><td>4.0</td><td>0</td><td> 70.76</td></tr>\n",
       "\t<tr><td>1</td><td>4</td><td>aug</td><td>fri</td><td>22.2</td><td>45</td><td>3.6</td><td>0</td><td>  0.00</td></tr>\n",
       "\t<tr><td>⋮</td><td>⋮</td><td>⋮</td><td>⋮</td><td>⋮</td><td>⋮</td><td>⋮</td><td>⋮</td><td>⋮</td></tr>\n",
       "\t<tr><td>8</td><td>6</td><td>jul</td><td>tue</td><td>17.1</td><td>67</td><td>3.6</td><td>0.0</td><td>  6.57</td></tr>\n",
       "\t<tr><td>8</td><td>6</td><td>jun</td><td>sun</td><td>15.4</td><td>45</td><td>2.2</td><td>0.0</td><td>  0.00</td></tr>\n",
       "\t<tr><td>8</td><td>6</td><td>jun</td><td>wed</td><td>19.6</td><td>43</td><td>4.9</td><td>0.0</td><td>  0.00</td></tr>\n",
       "\t<tr><td>8</td><td>6</td><td>mar</td><td>fri</td><td> 8.3</td><td>97</td><td>4.0</td><td>0.2</td><td>  0.00</td></tr>\n",
       "\t<tr><td>8</td><td>6</td><td>mar</td><td>fri</td><td>17.4</td><td>24</td><td>5.4</td><td>0.0</td><td>  0.00</td></tr>\n",
       "\t<tr><td>8</td><td>6</td><td>mar</td><td>sun</td><td>11.4</td><td>99</td><td>1.8</td><td>0.0</td><td>  0.00</td></tr>\n",
       "\t<tr><td>8</td><td>6</td><td>mar</td><td>sun</td><td>11.5</td><td>39</td><td>5.8</td><td>0.0</td><td>  7.19</td></tr>\n",
       "\t<tr><td>8</td><td>6</td><td>oct</td><td>mon</td><td>19.1</td><td>32</td><td>4.0</td><td>0.0</td><td>  5.44</td></tr>\n",
       "\t<tr><td>8</td><td>6</td><td>oct</td><td>wed</td><td>20.2</td><td>37</td><td>2.7</td><td>0.0</td><td> 13.70</td></tr>\n",
       "\t<tr><td>8</td><td>6</td><td>sep</td><td>fri</td><td>20.7</td><td>46</td><td>2.7</td><td>0.0</td><td> 30.18</td></tr>\n",
       "\t<tr><td>8</td><td>6</td><td>sep</td><td>mon</td><td>22.7</td><td>35</td><td>2.2</td><td>0.0</td><td>  7.48</td></tr>\n",
       "\t<tr><td>8</td><td>6</td><td>sep</td><td>mon</td><td>15.7</td><td>51</td><td>2.2</td><td>0.0</td><td>  0.00</td></tr>\n",
       "\t<tr><td>8</td><td>6</td><td>sep</td><td>mon</td><td>15.9</td><td>51</td><td>4.5</td><td>0.0</td><td>  2.18</td></tr>\n",
       "\t<tr><td>8</td><td>6</td><td>sep</td><td>sat</td><td>17.8</td><td>56</td><td>1.8</td><td>0.0</td><td>  1.95</td></tr>\n",
       "\t<tr><td>8</td><td>6</td><td>sep</td><td>thu</td><td>23.7</td><td>25</td><td>4.5</td><td>0.0</td><td>  1.12</td></tr>\n",
       "\t<tr><td>8</td><td>6</td><td>sep</td><td>tue</td><td>13.1</td><td>63</td><td>5.4</td><td>0.0</td><td>  0.00</td></tr>\n",
       "\t<tr><td>8</td><td>8</td><td>aug</td><td>wed</td><td>26.2</td><td>36</td><td>4.5</td><td>0.0</td><td>185.76</td></tr>\n",
       "\t<tr><td>9</td><td>4</td><td>jul</td><td>mon</td><td>22.8</td><td>27</td><td>4.5</td><td>0.0</td><td>  1.63</td></tr>\n",
       "\t<tr><td>9</td><td>4</td><td>jul</td><td>sat</td><td>25.3</td><td>39</td><td>0.9</td><td>0.0</td><td>  8.00</td></tr>\n",
       "\t<tr><td>9</td><td>4</td><td>jun</td><td>sat</td><td>24.5</td><td>50</td><td>3.1</td><td>0.0</td><td> 70.32</td></tr>\n",
       "\t<tr><td>9</td><td>4</td><td>sep</td><td>tue</td><td>24.3</td><td>36</td><td>3.1</td><td>0.0</td><td>105.66</td></tr>\n",
       "\t<tr><td>9</td><td>5</td><td>jun</td><td>wed</td><td>28.0</td><td>34</td><td>4.5</td><td>0.0</td><td>  0.00</td></tr>\n",
       "\t<tr><td>9</td><td>5</td><td>jun</td><td>wed</td><td>28.0</td><td>34</td><td>4.5</td><td>0.0</td><td>  8.16</td></tr>\n",
       "\t<tr><td>9</td><td>6</td><td>aug</td><td>thu</td><td>20.5</td><td>58</td><td>2.7</td><td>0.0</td><td> 42.87</td></tr>\n",
       "\t<tr><td>9</td><td>9</td><td>aug</td><td>fri</td><td>25.0</td><td>36</td><td>4.0</td><td>0.0</td><td>  0.00</td></tr>\n",
       "\t<tr><td>9</td><td>9</td><td>feb</td><td>fri</td><td>15.7</td><td>43</td><td>3.1</td><td>0.0</td><td>  0.00</td></tr>\n",
       "\t<tr><td>9</td><td>9</td><td>feb</td><td>thu</td><td> 6.7</td><td>79</td><td>3.1</td><td>0.0</td><td>  0.00</td></tr>\n",
       "\t<tr><td>9</td><td>9</td><td>jul</td><td>sun</td><td>24.8</td><td>29</td><td>2.2</td><td>0.0</td><td>  1.36</td></tr>\n",
       "\t<tr><td>9</td><td>9</td><td>jul</td><td>thu</td><td>30.2</td><td>25</td><td>4.5</td><td>0.0</td><td>  2.75</td></tr>\n",
       "\t<tr><td>9</td><td>9</td><td>jul</td><td>tue</td><td>18.0</td><td>42</td><td>2.7</td><td>0.0</td><td>  0.36</td></tr>\n",
       "</tbody>\n",
       "</table>\n"
      ],
      "text/latex": [
       "A data.frame: 517 × 9\n",
       "\\begin{tabular}{lllllllll}\n",
       " X & Y & month & day & temp & RH & wind & rain & area\\\\\n",
       " <int> & <int> & <chr> & <chr> & <dbl> & <int> & <dbl> & <dbl> & <dbl>\\\\\n",
       "\\hline\n",
       "\t 1 & 2 & aug & fri & 14.7 & 66 & 2.7 & 0 &   0.00\\\\\n",
       "\t 1 & 2 & aug & fri & 18.5 & 73 & 8.5 & 0 &   0.00\\\\\n",
       "\t 1 & 2 & aug & fri & 25.9 & 41 & 3.6 & 0 &   0.00\\\\\n",
       "\t 1 & 2 & aug & sat & 25.9 & 32 & 3.1 & 0 &   0.00\\\\\n",
       "\t 1 & 2 & aug & sun & 19.5 & 39 & 6.3 & 0 &   0.00\\\\\n",
       "\t 1 & 2 & aug & sun & 17.9 & 44 & 2.2 & 0 &   0.00\\\\\n",
       "\t 1 & 2 & aug & thu & 20.2 & 45 & 3.6 & 0 &   0.00\\\\\n",
       "\t 1 & 2 & aug & thu & 26.7 & 35 & 1.8 & 0 &   5.80\\\\\n",
       "\t 1 & 2 & aug & tue & 21.6 & 19 & 6.7 & 0 &   0.00\\\\\n",
       "\t 1 & 2 & aug & tue & 18.6 & 51 & 4.5 & 0 &   0.00\\\\\n",
       "\t 1 & 2 & aug & wed & 16.6 & 47 & 0.9 & 0 &   0.00\\\\\n",
       "\t 1 & 2 & aug & wed & 23.3 & 31 & 4.5 & 0 &   0.55\\\\\n",
       "\t 1 & 2 & jul & fri & 14.8 & 78 & 8.0 & 0 &   0.00\\\\\n",
       "\t 1 & 2 & jul & sat & 16.6 & 53 & 5.4 & 0 &   0.71\\\\\n",
       "\t 1 & 2 & sep & sun & 25.3 & 36 & 3.6 & 0 &   0.00\\\\\n",
       "\t 1 & 2 & sep & thu & 21.5 & 15 & 0.9 & 0 &   0.00\\\\\n",
       "\t 1 & 2 & sep & thu & 25.4 & 27 & 2.2 & 0 &   0.00\\\\\n",
       "\t 1 & 2 & sep & thu & 22.4 & 34 & 2.2 & 0 &   0.00\\\\\n",
       "\t 1 & 2 & sep & tue & 18.8 & 40 & 2.2 & 0 & 212.88\\\\\n",
       "\t 1 & 3 & aug & fri & 32.4 & 27 & 2.2 & 0 &   0.00\\\\\n",
       "\t 1 & 3 & aug & fri & 27.5 & 29 & 4.5 & 0 &  43.32\\\\\n",
       "\t 1 & 3 & aug & sat & 23.3 & 40 & 4.0 & 0 &   6.36\\\\\n",
       "\t 1 & 3 & aug & thu & 26.2 & 34 & 5.8 & 0 &   0.00\\\\\n",
       "\t 1 & 3 & mar & mon &  8.3 & 72 & 3.1 & 0 &   0.00\\\\\n",
       "\t 1 & 3 & sep & fri & 19.1 & 46 & 2.2 & 0 &   0.33\\\\\n",
       "\t 1 & 3 & sep & mon & 12.4 & 73 & 6.3 & 0 &  30.32\\\\\n",
       "\t 1 & 3 & sep & sat & 22.3 & 48 & 4.0 & 0 &   0.72\\\\\n",
       "\t 1 & 3 & sep & sun & 23.9 & 32 & 6.7 & 0 &   5.33\\\\\n",
       "\t 1 & 3 & sep & sun & 21.9 & 43 & 4.0 & 0 &  70.76\\\\\n",
       "\t 1 & 4 & aug & fri & 22.2 & 45 & 3.6 & 0 &   0.00\\\\\n",
       "\t ⋮ & ⋮ & ⋮ & ⋮ & ⋮ & ⋮ & ⋮ & ⋮ & ⋮\\\\\n",
       "\t 8 & 6 & jul & tue & 17.1 & 67 & 3.6 & 0.0 &   6.57\\\\\n",
       "\t 8 & 6 & jun & sun & 15.4 & 45 & 2.2 & 0.0 &   0.00\\\\\n",
       "\t 8 & 6 & jun & wed & 19.6 & 43 & 4.9 & 0.0 &   0.00\\\\\n",
       "\t 8 & 6 & mar & fri &  8.3 & 97 & 4.0 & 0.2 &   0.00\\\\\n",
       "\t 8 & 6 & mar & fri & 17.4 & 24 & 5.4 & 0.0 &   0.00\\\\\n",
       "\t 8 & 6 & mar & sun & 11.4 & 99 & 1.8 & 0.0 &   0.00\\\\\n",
       "\t 8 & 6 & mar & sun & 11.5 & 39 & 5.8 & 0.0 &   7.19\\\\\n",
       "\t 8 & 6 & oct & mon & 19.1 & 32 & 4.0 & 0.0 &   5.44\\\\\n",
       "\t 8 & 6 & oct & wed & 20.2 & 37 & 2.7 & 0.0 &  13.70\\\\\n",
       "\t 8 & 6 & sep & fri & 20.7 & 46 & 2.7 & 0.0 &  30.18\\\\\n",
       "\t 8 & 6 & sep & mon & 22.7 & 35 & 2.2 & 0.0 &   7.48\\\\\n",
       "\t 8 & 6 & sep & mon & 15.7 & 51 & 2.2 & 0.0 &   0.00\\\\\n",
       "\t 8 & 6 & sep & mon & 15.9 & 51 & 4.5 & 0.0 &   2.18\\\\\n",
       "\t 8 & 6 & sep & sat & 17.8 & 56 & 1.8 & 0.0 &   1.95\\\\\n",
       "\t 8 & 6 & sep & thu & 23.7 & 25 & 4.5 & 0.0 &   1.12\\\\\n",
       "\t 8 & 6 & sep & tue & 13.1 & 63 & 5.4 & 0.0 &   0.00\\\\\n",
       "\t 8 & 8 & aug & wed & 26.2 & 36 & 4.5 & 0.0 & 185.76\\\\\n",
       "\t 9 & 4 & jul & mon & 22.8 & 27 & 4.5 & 0.0 &   1.63\\\\\n",
       "\t 9 & 4 & jul & sat & 25.3 & 39 & 0.9 & 0.0 &   8.00\\\\\n",
       "\t 9 & 4 & jun & sat & 24.5 & 50 & 3.1 & 0.0 &  70.32\\\\\n",
       "\t 9 & 4 & sep & tue & 24.3 & 36 & 3.1 & 0.0 & 105.66\\\\\n",
       "\t 9 & 5 & jun & wed & 28.0 & 34 & 4.5 & 0.0 &   0.00\\\\\n",
       "\t 9 & 5 & jun & wed & 28.0 & 34 & 4.5 & 0.0 &   8.16\\\\\n",
       "\t 9 & 6 & aug & thu & 20.5 & 58 & 2.7 & 0.0 &  42.87\\\\\n",
       "\t 9 & 9 & aug & fri & 25.0 & 36 & 4.0 & 0.0 &   0.00\\\\\n",
       "\t 9 & 9 & feb & fri & 15.7 & 43 & 3.1 & 0.0 &   0.00\\\\\n",
       "\t 9 & 9 & feb & thu &  6.7 & 79 & 3.1 & 0.0 &   0.00\\\\\n",
       "\t 9 & 9 & jul & sun & 24.8 & 29 & 2.2 & 0.0 &   1.36\\\\\n",
       "\t 9 & 9 & jul & thu & 30.2 & 25 & 4.5 & 0.0 &   2.75\\\\\n",
       "\t 9 & 9 & jul & tue & 18.0 & 42 & 2.7 & 0.0 &   0.36\\\\\n",
       "\\end{tabular}\n"
      ],
      "text/markdown": [
       "\n",
       "A data.frame: 517 × 9\n",
       "\n",
       "| X &lt;int&gt; | Y &lt;int&gt; | month &lt;chr&gt; | day &lt;chr&gt; | temp &lt;dbl&gt; | RH &lt;int&gt; | wind &lt;dbl&gt; | rain &lt;dbl&gt; | area &lt;dbl&gt; |\n",
       "|---|---|---|---|---|---|---|---|---|\n",
       "| 1 | 2 | aug | fri | 14.7 | 66 | 2.7 | 0 |   0.00 |\n",
       "| 1 | 2 | aug | fri | 18.5 | 73 | 8.5 | 0 |   0.00 |\n",
       "| 1 | 2 | aug | fri | 25.9 | 41 | 3.6 | 0 |   0.00 |\n",
       "| 1 | 2 | aug | sat | 25.9 | 32 | 3.1 | 0 |   0.00 |\n",
       "| 1 | 2 | aug | sun | 19.5 | 39 | 6.3 | 0 |   0.00 |\n",
       "| 1 | 2 | aug | sun | 17.9 | 44 | 2.2 | 0 |   0.00 |\n",
       "| 1 | 2 | aug | thu | 20.2 | 45 | 3.6 | 0 |   0.00 |\n",
       "| 1 | 2 | aug | thu | 26.7 | 35 | 1.8 | 0 |   5.80 |\n",
       "| 1 | 2 | aug | tue | 21.6 | 19 | 6.7 | 0 |   0.00 |\n",
       "| 1 | 2 | aug | tue | 18.6 | 51 | 4.5 | 0 |   0.00 |\n",
       "| 1 | 2 | aug | wed | 16.6 | 47 | 0.9 | 0 |   0.00 |\n",
       "| 1 | 2 | aug | wed | 23.3 | 31 | 4.5 | 0 |   0.55 |\n",
       "| 1 | 2 | jul | fri | 14.8 | 78 | 8.0 | 0 |   0.00 |\n",
       "| 1 | 2 | jul | sat | 16.6 | 53 | 5.4 | 0 |   0.71 |\n",
       "| 1 | 2 | sep | sun | 25.3 | 36 | 3.6 | 0 |   0.00 |\n",
       "| 1 | 2 | sep | thu | 21.5 | 15 | 0.9 | 0 |   0.00 |\n",
       "| 1 | 2 | sep | thu | 25.4 | 27 | 2.2 | 0 |   0.00 |\n",
       "| 1 | 2 | sep | thu | 22.4 | 34 | 2.2 | 0 |   0.00 |\n",
       "| 1 | 2 | sep | tue | 18.8 | 40 | 2.2 | 0 | 212.88 |\n",
       "| 1 | 3 | aug | fri | 32.4 | 27 | 2.2 | 0 |   0.00 |\n",
       "| 1 | 3 | aug | fri | 27.5 | 29 | 4.5 | 0 |  43.32 |\n",
       "| 1 | 3 | aug | sat | 23.3 | 40 | 4.0 | 0 |   6.36 |\n",
       "| 1 | 3 | aug | thu | 26.2 | 34 | 5.8 | 0 |   0.00 |\n",
       "| 1 | 3 | mar | mon |  8.3 | 72 | 3.1 | 0 |   0.00 |\n",
       "| 1 | 3 | sep | fri | 19.1 | 46 | 2.2 | 0 |   0.33 |\n",
       "| 1 | 3 | sep | mon | 12.4 | 73 | 6.3 | 0 |  30.32 |\n",
       "| 1 | 3 | sep | sat | 22.3 | 48 | 4.0 | 0 |   0.72 |\n",
       "| 1 | 3 | sep | sun | 23.9 | 32 | 6.7 | 0 |   5.33 |\n",
       "| 1 | 3 | sep | sun | 21.9 | 43 | 4.0 | 0 |  70.76 |\n",
       "| 1 | 4 | aug | fri | 22.2 | 45 | 3.6 | 0 |   0.00 |\n",
       "| ⋮ | ⋮ | ⋮ | ⋮ | ⋮ | ⋮ | ⋮ | ⋮ | ⋮ |\n",
       "| 8 | 6 | jul | tue | 17.1 | 67 | 3.6 | 0.0 |   6.57 |\n",
       "| 8 | 6 | jun | sun | 15.4 | 45 | 2.2 | 0.0 |   0.00 |\n",
       "| 8 | 6 | jun | wed | 19.6 | 43 | 4.9 | 0.0 |   0.00 |\n",
       "| 8 | 6 | mar | fri |  8.3 | 97 | 4.0 | 0.2 |   0.00 |\n",
       "| 8 | 6 | mar | fri | 17.4 | 24 | 5.4 | 0.0 |   0.00 |\n",
       "| 8 | 6 | mar | sun | 11.4 | 99 | 1.8 | 0.0 |   0.00 |\n",
       "| 8 | 6 | mar | sun | 11.5 | 39 | 5.8 | 0.0 |   7.19 |\n",
       "| 8 | 6 | oct | mon | 19.1 | 32 | 4.0 | 0.0 |   5.44 |\n",
       "| 8 | 6 | oct | wed | 20.2 | 37 | 2.7 | 0.0 |  13.70 |\n",
       "| 8 | 6 | sep | fri | 20.7 | 46 | 2.7 | 0.0 |  30.18 |\n",
       "| 8 | 6 | sep | mon | 22.7 | 35 | 2.2 | 0.0 |   7.48 |\n",
       "| 8 | 6 | sep | mon | 15.7 | 51 | 2.2 | 0.0 |   0.00 |\n",
       "| 8 | 6 | sep | mon | 15.9 | 51 | 4.5 | 0.0 |   2.18 |\n",
       "| 8 | 6 | sep | sat | 17.8 | 56 | 1.8 | 0.0 |   1.95 |\n",
       "| 8 | 6 | sep | thu | 23.7 | 25 | 4.5 | 0.0 |   1.12 |\n",
       "| 8 | 6 | sep | tue | 13.1 | 63 | 5.4 | 0.0 |   0.00 |\n",
       "| 8 | 8 | aug | wed | 26.2 | 36 | 4.5 | 0.0 | 185.76 |\n",
       "| 9 | 4 | jul | mon | 22.8 | 27 | 4.5 | 0.0 |   1.63 |\n",
       "| 9 | 4 | jul | sat | 25.3 | 39 | 0.9 | 0.0 |   8.00 |\n",
       "| 9 | 4 | jun | sat | 24.5 | 50 | 3.1 | 0.0 |  70.32 |\n",
       "| 9 | 4 | sep | tue | 24.3 | 36 | 3.1 | 0.0 | 105.66 |\n",
       "| 9 | 5 | jun | wed | 28.0 | 34 | 4.5 | 0.0 |   0.00 |\n",
       "| 9 | 5 | jun | wed | 28.0 | 34 | 4.5 | 0.0 |   8.16 |\n",
       "| 9 | 6 | aug | thu | 20.5 | 58 | 2.7 | 0.0 |  42.87 |\n",
       "| 9 | 9 | aug | fri | 25.0 | 36 | 4.0 | 0.0 |   0.00 |\n",
       "| 9 | 9 | feb | fri | 15.7 | 43 | 3.1 | 0.0 |   0.00 |\n",
       "| 9 | 9 | feb | thu |  6.7 | 79 | 3.1 | 0.0 |   0.00 |\n",
       "| 9 | 9 | jul | sun | 24.8 | 29 | 2.2 | 0.0 |   1.36 |\n",
       "| 9 | 9 | jul | thu | 30.2 | 25 | 4.5 | 0.0 |   2.75 |\n",
       "| 9 | 9 | jul | tue | 18.0 | 42 | 2.7 | 0.0 |   0.36 |\n",
       "\n"
      ],
      "text/plain": [
       "    X Y month day temp RH wind rain area  \n",
       "1   1 2 aug   fri 14.7 66 2.7  0      0.00\n",
       "2   1 2 aug   fri 18.5 73 8.5  0      0.00\n",
       "3   1 2 aug   fri 25.9 41 3.6  0      0.00\n",
       "4   1 2 aug   sat 25.9 32 3.1  0      0.00\n",
       "5   1 2 aug   sun 19.5 39 6.3  0      0.00\n",
       "6   1 2 aug   sun 17.9 44 2.2  0      0.00\n",
       "7   1 2 aug   thu 20.2 45 3.6  0      0.00\n",
       "8   1 2 aug   thu 26.7 35 1.8  0      5.80\n",
       "9   1 2 aug   tue 21.6 19 6.7  0      0.00\n",
       "10  1 2 aug   tue 18.6 51 4.5  0      0.00\n",
       "11  1 2 aug   wed 16.6 47 0.9  0      0.00\n",
       "12  1 2 aug   wed 23.3 31 4.5  0      0.55\n",
       "13  1 2 jul   fri 14.8 78 8.0  0      0.00\n",
       "14  1 2 jul   sat 16.6 53 5.4  0      0.71\n",
       "15  1 2 sep   sun 25.3 36 3.6  0      0.00\n",
       "16  1 2 sep   thu 21.5 15 0.9  0      0.00\n",
       "17  1 2 sep   thu 25.4 27 2.2  0      0.00\n",
       "18  1 2 sep   thu 22.4 34 2.2  0      0.00\n",
       "19  1 2 sep   tue 18.8 40 2.2  0    212.88\n",
       "20  1 3 aug   fri 32.4 27 2.2  0      0.00\n",
       "21  1 3 aug   fri 27.5 29 4.5  0     43.32\n",
       "22  1 3 aug   sat 23.3 40 4.0  0      6.36\n",
       "23  1 3 aug   thu 26.2 34 5.8  0      0.00\n",
       "24  1 3 mar   mon  8.3 72 3.1  0      0.00\n",
       "25  1 3 sep   fri 19.1 46 2.2  0      0.33\n",
       "26  1 3 sep   mon 12.4 73 6.3  0     30.32\n",
       "27  1 3 sep   sat 22.3 48 4.0  0      0.72\n",
       "28  1 3 sep   sun 23.9 32 6.7  0      5.33\n",
       "29  1 3 sep   sun 21.9 43 4.0  0     70.76\n",
       "30  1 4 aug   fri 22.2 45 3.6  0      0.00\n",
       "⋮   ⋮ ⋮ ⋮     ⋮   ⋮    ⋮  ⋮    ⋮    ⋮     \n",
       "488 8 6 jul   tue 17.1 67 3.6  0.0    6.57\n",
       "489 8 6 jun   sun 15.4 45 2.2  0.0    0.00\n",
       "490 8 6 jun   wed 19.6 43 4.9  0.0    0.00\n",
       "491 8 6 mar   fri  8.3 97 4.0  0.2    0.00\n",
       "492 8 6 mar   fri 17.4 24 5.4  0.0    0.00\n",
       "493 8 6 mar   sun 11.4 99 1.8  0.0    0.00\n",
       "494 8 6 mar   sun 11.5 39 5.8  0.0    7.19\n",
       "495 8 6 oct   mon 19.1 32 4.0  0.0    5.44\n",
       "496 8 6 oct   wed 20.2 37 2.7  0.0   13.70\n",
       "497 8 6 sep   fri 20.7 46 2.7  0.0   30.18\n",
       "498 8 6 sep   mon 22.7 35 2.2  0.0    7.48\n",
       "499 8 6 sep   mon 15.7 51 2.2  0.0    0.00\n",
       "500 8 6 sep   mon 15.9 51 4.5  0.0    2.18\n",
       "501 8 6 sep   sat 17.8 56 1.8  0.0    1.95\n",
       "502 8 6 sep   thu 23.7 25 4.5  0.0    1.12\n",
       "503 8 6 sep   tue 13.1 63 5.4  0.0    0.00\n",
       "504 8 8 aug   wed 26.2 36 4.5  0.0  185.76\n",
       "505 9 4 jul   mon 22.8 27 4.5  0.0    1.63\n",
       "506 9 4 jul   sat 25.3 39 0.9  0.0    8.00\n",
       "507 9 4 jun   sat 24.5 50 3.1  0.0   70.32\n",
       "508 9 4 sep   tue 24.3 36 3.1  0.0  105.66\n",
       "509 9 5 jun   wed 28.0 34 4.5  0.0    0.00\n",
       "510 9 5 jun   wed 28.0 34 4.5  0.0    8.16\n",
       "511 9 6 aug   thu 20.5 58 2.7  0.0   42.87\n",
       "512 9 9 aug   fri 25.0 36 4.0  0.0    0.00\n",
       "513 9 9 feb   fri 15.7 43 3.1  0.0    0.00\n",
       "514 9 9 feb   thu  6.7 79 3.1  0.0    0.00\n",
       "515 9 9 jul   sun 24.8 29 2.2  0.0    1.36\n",
       "516 9 9 jul   thu 30.2 25 4.5  0.0    2.75\n",
       "517 9 9 jul   tue 18.0 42 2.7  0.0    0.36"
      ]
     },
     "metadata": {},
     "output_type": "display_data"
    }
   ],
   "source": [
    "read.table(\"s森林数据.txt\", header = TRUE)   #其数据自带了题头"
   ]
  },
  {
   "cell_type": "markdown",
   "metadata": {},
   "source": [
    "使用read.csv()读取一个文本文件，返回的也是一个Data Frame对象。"
   ]
  },
  {
   "cell_type": "code",
   "execution_count": 10,
   "metadata": {
    "scrolled": true
   },
   "outputs": [
    {
     "data": {
      "text/html": [
       "<table class=\"dataframe\">\n",
       "<caption>A data.frame: 8 × 5</caption>\n",
       "<thead>\n",
       "\t<tr><th scope=col>id</th><th scope=col>name</th><th scope=col>salary</th><th scope=col>start_date</th><th scope=col>dept</th></tr>\n",
       "\t<tr><th scope=col>&lt;int&gt;</th><th scope=col>&lt;chr&gt;</th><th scope=col>&lt;dbl&gt;</th><th scope=col>&lt;chr&gt;</th><th scope=col>&lt;chr&gt;</th></tr>\n",
       "</thead>\n",
       "<tbody>\n",
       "\t<tr><td> 1</td><td>Rick    </td><td>623.30</td><td>2012-01-01</td><td>IT        </td></tr>\n",
       "\t<tr><td> 2</td><td>Dan     </td><td>515.20</td><td>2013-09-23</td><td>Operations</td></tr>\n",
       "\t<tr><td> 3</td><td>Michelle</td><td>611.00</td><td>2014-11-15</td><td>IT        </td></tr>\n",
       "\t<tr><td> 4</td><td>Ryan    </td><td>729.00</td><td>2014-05-11</td><td>HR        </td></tr>\n",
       "\t<tr><td>NA</td><td>Gary    </td><td>843.25</td><td>2015-03-27</td><td>Finance   </td></tr>\n",
       "\t<tr><td> 6</td><td>Nina    </td><td>578.00</td><td>2013-05-21</td><td>IT        </td></tr>\n",
       "\t<tr><td> 7</td><td>Simon   </td><td>632.80</td><td>2013-07-30</td><td>Operations</td></tr>\n",
       "\t<tr><td> 8</td><td>Guru    </td><td>722.50</td><td>2014-06-17</td><td>Finance   </td></tr>\n",
       "</tbody>\n",
       "</table>\n"
      ],
      "text/latex": [
       "A data.frame: 8 × 5\n",
       "\\begin{tabular}{lllll}\n",
       " id & name & salary & start\\_date & dept\\\\\n",
       " <int> & <chr> & <dbl> & <chr> & <chr>\\\\\n",
       "\\hline\n",
       "\t  1 & Rick     & 623.30 & 2012-01-01 & IT        \\\\\n",
       "\t  2 & Dan      & 515.20 & 2013-09-23 & Operations\\\\\n",
       "\t  3 & Michelle & 611.00 & 2014-11-15 & IT        \\\\\n",
       "\t  4 & Ryan     & 729.00 & 2014-05-11 & HR        \\\\\n",
       "\t NA & Gary     & 843.25 & 2015-03-27 & Finance   \\\\\n",
       "\t  6 & Nina     & 578.00 & 2013-05-21 & IT        \\\\\n",
       "\t  7 & Simon    & 632.80 & 2013-07-30 & Operations\\\\\n",
       "\t  8 & Guru     & 722.50 & 2014-06-17 & Finance   \\\\\n",
       "\\end{tabular}\n"
      ],
      "text/markdown": [
       "\n",
       "A data.frame: 8 × 5\n",
       "\n",
       "| id &lt;int&gt; | name &lt;chr&gt; | salary &lt;dbl&gt; | start_date &lt;chr&gt; | dept &lt;chr&gt; |\n",
       "|---|---|---|---|---|\n",
       "|  1 | Rick     | 623.30 | 2012-01-01 | IT         |\n",
       "|  2 | Dan      | 515.20 | 2013-09-23 | Operations |\n",
       "|  3 | Michelle | 611.00 | 2014-11-15 | IT         |\n",
       "|  4 | Ryan     | 729.00 | 2014-05-11 | HR         |\n",
       "| NA | Gary     | 843.25 | 2015-03-27 | Finance    |\n",
       "|  6 | Nina     | 578.00 | 2013-05-21 | IT         |\n",
       "|  7 | Simon    | 632.80 | 2013-07-30 | Operations |\n",
       "|  8 | Guru     | 722.50 | 2014-06-17 | Finance    |\n",
       "\n"
      ],
      "text/plain": [
       "  id name     salary start_date dept      \n",
       "1  1 Rick     623.30 2012-01-01 IT        \n",
       "2  2 Dan      515.20 2013-09-23 Operations\n",
       "3  3 Michelle 611.00 2014-11-15 IT        \n",
       "4  4 Ryan     729.00 2014-05-11 HR        \n",
       "5 NA Gary     843.25 2015-03-27 Finance   \n",
       "6  6 Nina     578.00 2013-05-21 IT        \n",
       "7  7 Simon    632.80 2013-07-30 Operations\n",
       "8  8 Guru     722.50 2014-06-17 Finance   "
      ]
     },
     "metadata": {},
     "output_type": "display_data"
    },
    {
     "data": {
      "text/html": [
       "'data.frame'"
      ],
      "text/latex": [
       "'data.frame'"
      ],
      "text/markdown": [
       "'data.frame'"
      ],
      "text/plain": [
       "[1] \"data.frame\""
      ]
     },
     "metadata": {},
     "output_type": "display_data"
    }
   ],
   "source": [
    "(data <- read.csv(\"input.csv\"))\n",
    "class(data)"
   ]
  },
  {
   "cell_type": "markdown",
   "metadata": {},
   "source": [
    "# 数据框的存储\n",
    "--写入硬盘"
   ]
  },
  {
   "cell_type": "code",
   "execution_count": 11,
   "metadata": {},
   "outputs": [
    {
     "data": {
      "text/html": [
       "<table class=\"dataframe\">\n",
       "<caption>A data.frame: 7 × 3</caption>\n",
       "<thead>\n",
       "\t<tr><th scope=col>x</th><th scope=col>y</th><th scope=col>z</th></tr>\n",
       "\t<tr><th scope=col>&lt;dbl&gt;</th><th scope=col>&lt;chr&gt;</th><th scope=col>&lt;dbl&gt;</th></tr>\n",
       "</thead>\n",
       "<tbody>\n",
       "\t<tr><td>1</td><td>女</td><td>80</td></tr>\n",
       "\t<tr><td>1</td><td>男</td><td>85</td></tr>\n",
       "\t<tr><td>2</td><td>男</td><td>92</td></tr>\n",
       "\t<tr><td>2</td><td>女</td><td>76</td></tr>\n",
       "\t<tr><td>3</td><td>女</td><td>61</td></tr>\n",
       "\t<tr><td>3</td><td>女</td><td>95</td></tr>\n",
       "\t<tr><td>3</td><td>男</td><td>83</td></tr>\n",
       "</tbody>\n",
       "</table>\n"
      ],
      "text/latex": [
       "A data.frame: 7 × 3\n",
       "\\begin{tabular}{lll}\n",
       " x & y & z\\\\\n",
       " <dbl> & <chr> & <dbl>\\\\\n",
       "\\hline\n",
       "\t 1 & 女 & 80\\\\\n",
       "\t 1 & 男 & 85\\\\\n",
       "\t 2 & 男 & 92\\\\\n",
       "\t 2 & 女 & 76\\\\\n",
       "\t 3 & 女 & 61\\\\\n",
       "\t 3 & 女 & 95\\\\\n",
       "\t 3 & 男 & 83\\\\\n",
       "\\end{tabular}\n"
      ],
      "text/markdown": [
       "\n",
       "A data.frame: 7 × 3\n",
       "\n",
       "| x &lt;dbl&gt; | y &lt;chr&gt; | z &lt;dbl&gt; |\n",
       "|---|---|---|\n",
       "| 1 | 女 | 80 |\n",
       "| 1 | 男 | 85 |\n",
       "| 2 | 男 | 92 |\n",
       "| 2 | 女 | 76 |\n",
       "| 3 | 女 | 61 |\n",
       "| 3 | 女 | 95 |\n",
       "| 3 | 男 | 83 |\n",
       "\n"
      ],
      "text/plain": [
       "  x y  z \n",
       "1 1 女 80\n",
       "2 1 男 85\n",
       "3 2 男 92\n",
       "4 2 女 76\n",
       "5 3 女 61\n",
       "6 3 女 95\n",
       "7 3 男 83"
      ]
     },
     "metadata": {},
     "output_type": "display_data"
    }
   ],
   "source": [
    "x <- c(1, 1, 2, 2, 3, 3, 3)\n",
    "y <- c(\"女\", \"男\", \"男\", \"女\", \"女\", \"女\", \"男\")\n",
    "z <- c(80, 85, 92, 76, 61, 95, 83)\n",
    "(student <- data.frame(x, y, z))"
   ]
  },
  {
   "cell_type": "code",
   "execution_count": 12,
   "metadata": {},
   "outputs": [],
   "source": [
    "write.csv(student,\"output.csv\")    #以csv格式存储到当前文件夹"
   ]
  },
  {
   "cell_type": "markdown",
   "metadata": {},
   "source": [
    "# 数据框的引用"
   ]
  },
  {
   "cell_type": "markdown",
   "metadata": {},
   "source": [
    "## 引用列"
   ]
  },
  {
   "cell_type": "code",
   "execution_count": 13,
   "metadata": {},
   "outputs": [
    {
     "data": {
      "text/html": [
       "<table class=\"dataframe\">\n",
       "<caption>A data.frame: 7 × 3</caption>\n",
       "<thead>\n",
       "\t<tr><th scope=col>class</th><th scope=col>gender</th><th scope=col>score</th></tr>\n",
       "\t<tr><th scope=col>&lt;dbl&gt;</th><th scope=col>&lt;chr&gt;</th><th scope=col>&lt;dbl&gt;</th></tr>\n",
       "</thead>\n",
       "<tbody>\n",
       "\t<tr><td>1</td><td>女</td><td>80</td></tr>\n",
       "\t<tr><td>1</td><td>男</td><td>85</td></tr>\n",
       "\t<tr><td>2</td><td>男</td><td>92</td></tr>\n",
       "\t<tr><td>2</td><td>女</td><td>76</td></tr>\n",
       "\t<tr><td>3</td><td>女</td><td>61</td></tr>\n",
       "\t<tr><td>3</td><td>女</td><td>95</td></tr>\n",
       "\t<tr><td>3</td><td>男</td><td>83</td></tr>\n",
       "</tbody>\n",
       "</table>\n"
      ],
      "text/latex": [
       "A data.frame: 7 × 3\n",
       "\\begin{tabular}{lll}\n",
       " class & gender & score\\\\\n",
       " <dbl> & <chr> & <dbl>\\\\\n",
       "\\hline\n",
       "\t 1 & 女 & 80\\\\\n",
       "\t 1 & 男 & 85\\\\\n",
       "\t 2 & 男 & 92\\\\\n",
       "\t 2 & 女 & 76\\\\\n",
       "\t 3 & 女 & 61\\\\\n",
       "\t 3 & 女 & 95\\\\\n",
       "\t 3 & 男 & 83\\\\\n",
       "\\end{tabular}\n"
      ],
      "text/markdown": [
       "\n",
       "A data.frame: 7 × 3\n",
       "\n",
       "| class &lt;dbl&gt; | gender &lt;chr&gt; | score &lt;dbl&gt; |\n",
       "|---|---|---|\n",
       "| 1 | 女 | 80 |\n",
       "| 1 | 男 | 85 |\n",
       "| 2 | 男 | 92 |\n",
       "| 2 | 女 | 76 |\n",
       "| 3 | 女 | 61 |\n",
       "| 3 | 女 | 95 |\n",
       "| 3 | 男 | 83 |\n",
       "\n"
      ],
      "text/plain": [
       "  class gender score\n",
       "1 1     女     80   \n",
       "2 1     男     85   \n",
       "3 2     男     92   \n",
       "4 2     女     76   \n",
       "5 3     女     61   \n",
       "6 3     女     95   \n",
       "7 3     男     83   "
      ]
     },
     "metadata": {},
     "output_type": "display_data"
    }
   ],
   "source": [
    "x <- c(1, 1, 2, 2, 3, 3, 3)\n",
    "y <- c(\"女\", \"男\", \"男\", \"女\", \"女\", \"女\", \"男\")\n",
    "z <- c(80, 85, 92, 76, 61, 95, 83)\n",
    "(student <- data.frame(class=x, gender=y, score=z))  #对列名进行重新命名"
   ]
  },
  {
   "cell_type": "code",
   "execution_count": 14,
   "metadata": {},
   "outputs": [
    {
     "data": {
      "text/html": [
       "<style>\n",
       ".list-inline {list-style: none; margin:0; padding: 0}\n",
       ".list-inline>li {display: inline-block}\n",
       ".list-inline>li:not(:last-child)::after {content: \"\\00b7\"; padding: 0 .5ex}\n",
       "</style>\n",
       "<ol class=list-inline><li>80</li><li>85</li><li>92</li><li>76</li><li>61</li><li>95</li><li>83</li></ol>\n"
      ],
      "text/latex": [
       "\\begin{enumerate*}\n",
       "\\item 80\n",
       "\\item 85\n",
       "\\item 92\n",
       "\\item 76\n",
       "\\item 61\n",
       "\\item 95\n",
       "\\item 83\n",
       "\\end{enumerate*}\n"
      ],
      "text/markdown": [
       "1. 80\n",
       "2. 85\n",
       "3. 92\n",
       "4. 76\n",
       "5. 61\n",
       "6. 95\n",
       "7. 83\n",
       "\n",
       "\n"
      ],
      "text/plain": [
       "[1] 80 85 92 76 61 95 83"
      ]
     },
     "metadata": {},
     "output_type": "display_data"
    }
   ],
   "source": [
    "student[,\"score\"]     #返回student的score列"
   ]
  },
  {
   "cell_type": "code",
   "execution_count": 15,
   "metadata": {},
   "outputs": [
    {
     "data": {
      "text/html": [
       "<style>\n",
       ".list-inline {list-style: none; margin:0; padding: 0}\n",
       ".list-inline>li {display: inline-block}\n",
       ".list-inline>li:not(:last-child)::after {content: \"\\00b7\"; padding: 0 .5ex}\n",
       "</style>\n",
       "<ol class=list-inline><li>80</li><li>85</li><li>92</li><li>76</li><li>61</li><li>95</li><li>83</li></ol>\n"
      ],
      "text/latex": [
       "\\begin{enumerate*}\n",
       "\\item 80\n",
       "\\item 85\n",
       "\\item 92\n",
       "\\item 76\n",
       "\\item 61\n",
       "\\item 95\n",
       "\\item 83\n",
       "\\end{enumerate*}\n"
      ],
      "text/markdown": [
       "1. 80\n",
       "2. 85\n",
       "3. 92\n",
       "4. 76\n",
       "5. 61\n",
       "6. 95\n",
       "7. 83\n",
       "\n",
       "\n"
      ],
      "text/plain": [
       "[1] 80 85 92 76 61 95 83"
      ]
     },
     "metadata": {},
     "output_type": "display_data"
    }
   ],
   "source": [
    "student$score    #返回student的score列，更简单"
   ]
  },
  {
   "cell_type": "code",
   "execution_count": 16,
   "metadata": {},
   "outputs": [
    {
     "data": {
      "text/html": [
       "'numeric'"
      ],
      "text/latex": [
       "'numeric'"
      ],
      "text/markdown": [
       "'numeric'"
      ],
      "text/plain": [
       "[1] \"numeric\""
      ]
     },
     "metadata": {},
     "output_type": "display_data"
    }
   ],
   "source": [
    "class(student[,\"score\"])"
   ]
  },
  {
   "cell_type": "code",
   "execution_count": 17,
   "metadata": {},
   "outputs": [
    {
     "data": {
      "text/html": [
       "'numeric'"
      ],
      "text/latex": [
       "'numeric'"
      ],
      "text/markdown": [
       "'numeric'"
      ],
      "text/plain": [
       "[1] \"numeric\""
      ]
     },
     "metadata": {},
     "output_type": "display_data"
    }
   ],
   "source": [
    "class(student$score)"
   ]
  },
  {
   "cell_type": "code",
   "execution_count": 18,
   "metadata": {},
   "outputs": [
    {
     "data": {
      "text/html": [
       "<style>\n",
       ".list-inline {list-style: none; margin:0; padding: 0}\n",
       ".list-inline>li {display: inline-block}\n",
       ".list-inline>li:not(:last-child)::after {content: \"\\00b7\"; padding: 0 .5ex}\n",
       "</style>\n",
       "<ol class=list-inline><li>80</li><li>85</li><li>92</li><li>76</li><li>61</li><li>95</li><li>83</li></ol>\n"
      ],
      "text/latex": [
       "\\begin{enumerate*}\n",
       "\\item 80\n",
       "\\item 85\n",
       "\\item 92\n",
       "\\item 76\n",
       "\\item 61\n",
       "\\item 95\n",
       "\\item 83\n",
       "\\end{enumerate*}\n"
      ],
      "text/markdown": [
       "1. 80\n",
       "2. 85\n",
       "3. 92\n",
       "4. 76\n",
       "5. 61\n",
       "6. 95\n",
       "7. 83\n",
       "\n",
       "\n"
      ],
      "text/plain": [
       "[1] 80 85 92 76 61 95 83"
      ]
     },
     "metadata": {},
     "output_type": "display_data"
    }
   ],
   "source": [
    "student[,3]"
   ]
  },
  {
   "cell_type": "code",
   "execution_count": 19,
   "metadata": {},
   "outputs": [
    {
     "data": {
      "text/html": [
       "'numeric'"
      ],
      "text/latex": [
       "'numeric'"
      ],
      "text/markdown": [
       "'numeric'"
      ],
      "text/plain": [
       "[1] \"numeric\""
      ]
     },
     "metadata": {},
     "output_type": "display_data"
    }
   ],
   "source": [
    "class(student[,3])"
   ]
  },
  {
   "cell_type": "code",
   "execution_count": 20,
   "metadata": {},
   "outputs": [
    {
     "data": {
      "text/html": [
       "<table class=\"dataframe\">\n",
       "<caption>A data.frame: 7 × 1</caption>\n",
       "<thead>\n",
       "\t<tr><th scope=col>score</th></tr>\n",
       "\t<tr><th scope=col>&lt;dbl&gt;</th></tr>\n",
       "</thead>\n",
       "<tbody>\n",
       "\t<tr><td>80</td></tr>\n",
       "\t<tr><td>85</td></tr>\n",
       "\t<tr><td>92</td></tr>\n",
       "\t<tr><td>76</td></tr>\n",
       "\t<tr><td>61</td></tr>\n",
       "\t<tr><td>95</td></tr>\n",
       "\t<tr><td>83</td></tr>\n",
       "</tbody>\n",
       "</table>\n"
      ],
      "text/latex": [
       "A data.frame: 7 × 1\n",
       "\\begin{tabular}{l}\n",
       " score\\\\\n",
       " <dbl>\\\\\n",
       "\\hline\n",
       "\t 80\\\\\n",
       "\t 85\\\\\n",
       "\t 92\\\\\n",
       "\t 76\\\\\n",
       "\t 61\\\\\n",
       "\t 95\\\\\n",
       "\t 83\\\\\n",
       "\\end{tabular}\n"
      ],
      "text/markdown": [
       "\n",
       "A data.frame: 7 × 1\n",
       "\n",
       "| score &lt;dbl&gt; |\n",
       "|---|\n",
       "| 80 |\n",
       "| 85 |\n",
       "| 92 |\n",
       "| 76 |\n",
       "| 61 |\n",
       "| 95 |\n",
       "| 83 |\n",
       "\n"
      ],
      "text/plain": [
       "  score\n",
       "1 80   \n",
       "2 85   \n",
       "3 92   \n",
       "4 76   \n",
       "5 61   \n",
       "6 95   \n",
       "7 83   "
      ]
     },
     "metadata": {},
     "output_type": "display_data"
    }
   ],
   "source": [
    "student[3]     #不要前边的“,”，注意返回的类型"
   ]
  },
  {
   "cell_type": "code",
   "execution_count": 21,
   "metadata": {},
   "outputs": [
    {
     "data": {
      "text/html": [
       "'data.frame'"
      ],
      "text/latex": [
       "'data.frame'"
      ],
      "text/markdown": [
       "'data.frame'"
      ],
      "text/plain": [
       "[1] \"data.frame\""
      ]
     },
     "metadata": {},
     "output_type": "display_data"
    }
   ],
   "source": [
    "class(student[3])"
   ]
  },
  {
   "cell_type": "code",
   "execution_count": 22,
   "metadata": {},
   "outputs": [
    {
     "data": {
      "text/html": [
       "<table class=\"dataframe\">\n",
       "<caption>A data.frame: 7 × 2</caption>\n",
       "<thead>\n",
       "\t<tr><th scope=col>class</th><th scope=col>score</th></tr>\n",
       "\t<tr><th scope=col>&lt;dbl&gt;</th><th scope=col>&lt;dbl&gt;</th></tr>\n",
       "</thead>\n",
       "<tbody>\n",
       "\t<tr><td>1</td><td>80</td></tr>\n",
       "\t<tr><td>1</td><td>85</td></tr>\n",
       "\t<tr><td>2</td><td>92</td></tr>\n",
       "\t<tr><td>2</td><td>76</td></tr>\n",
       "\t<tr><td>3</td><td>61</td></tr>\n",
       "\t<tr><td>3</td><td>95</td></tr>\n",
       "\t<tr><td>3</td><td>83</td></tr>\n",
       "</tbody>\n",
       "</table>\n"
      ],
      "text/latex": [
       "A data.frame: 7 × 2\n",
       "\\begin{tabular}{ll}\n",
       " class & score\\\\\n",
       " <dbl> & <dbl>\\\\\n",
       "\\hline\n",
       "\t 1 & 80\\\\\n",
       "\t 1 & 85\\\\\n",
       "\t 2 & 92\\\\\n",
       "\t 2 & 76\\\\\n",
       "\t 3 & 61\\\\\n",
       "\t 3 & 95\\\\\n",
       "\t 3 & 83\\\\\n",
       "\\end{tabular}\n"
      ],
      "text/markdown": [
       "\n",
       "A data.frame: 7 × 2\n",
       "\n",
       "| class &lt;dbl&gt; | score &lt;dbl&gt; |\n",
       "|---|---|\n",
       "| 1 | 80 |\n",
       "| 1 | 85 |\n",
       "| 2 | 92 |\n",
       "| 2 | 76 |\n",
       "| 3 | 61 |\n",
       "| 3 | 95 |\n",
       "| 3 | 83 |\n",
       "\n"
      ],
      "text/plain": [
       "  class score\n",
       "1 1     80   \n",
       "2 1     85   \n",
       "3 2     92   \n",
       "4 2     76   \n",
       "5 3     61   \n",
       "6 3     95   \n",
       "7 3     83   "
      ]
     },
     "metadata": {},
     "output_type": "display_data"
    }
   ],
   "source": [
    "student[,c(1,3)]    #引用第1和第3列"
   ]
  },
  {
   "cell_type": "code",
   "execution_count": 23,
   "metadata": {},
   "outputs": [
    {
     "data": {
      "text/html": [
       "<table class=\"dataframe\">\n",
       "<caption>A data.frame: 7 × 2</caption>\n",
       "<thead>\n",
       "\t<tr><th scope=col>class</th><th scope=col>score</th></tr>\n",
       "\t<tr><th scope=col>&lt;dbl&gt;</th><th scope=col>&lt;dbl&gt;</th></tr>\n",
       "</thead>\n",
       "<tbody>\n",
       "\t<tr><td>1</td><td>80</td></tr>\n",
       "\t<tr><td>1</td><td>85</td></tr>\n",
       "\t<tr><td>2</td><td>92</td></tr>\n",
       "\t<tr><td>2</td><td>76</td></tr>\n",
       "\t<tr><td>3</td><td>61</td></tr>\n",
       "\t<tr><td>3</td><td>95</td></tr>\n",
       "\t<tr><td>3</td><td>83</td></tr>\n",
       "</tbody>\n",
       "</table>\n"
      ],
      "text/latex": [
       "A data.frame: 7 × 2\n",
       "\\begin{tabular}{ll}\n",
       " class & score\\\\\n",
       " <dbl> & <dbl>\\\\\n",
       "\\hline\n",
       "\t 1 & 80\\\\\n",
       "\t 1 & 85\\\\\n",
       "\t 2 & 92\\\\\n",
       "\t 2 & 76\\\\\n",
       "\t 3 & 61\\\\\n",
       "\t 3 & 95\\\\\n",
       "\t 3 & 83\\\\\n",
       "\\end{tabular}\n"
      ],
      "text/markdown": [
       "\n",
       "A data.frame: 7 × 2\n",
       "\n",
       "| class &lt;dbl&gt; | score &lt;dbl&gt; |\n",
       "|---|---|\n",
       "| 1 | 80 |\n",
       "| 1 | 85 |\n",
       "| 2 | 92 |\n",
       "| 2 | 76 |\n",
       "| 3 | 61 |\n",
       "| 3 | 95 |\n",
       "| 3 | 83 |\n",
       "\n"
      ],
      "text/plain": [
       "  class score\n",
       "1 1     80   \n",
       "2 1     85   \n",
       "3 2     92   \n",
       "4 2     76   \n",
       "5 3     61   \n",
       "6 3     95   \n",
       "7 3     83   "
      ]
     },
     "metadata": {},
     "output_type": "display_data"
    }
   ],
   "source": [
    "student[c(1,3)]    #引用第1和第3列，省略掉前边的“,”亦可以--注意！！！"
   ]
  },
  {
   "cell_type": "markdown",
   "metadata": {},
   "source": [
    "##### 如果方括号内只有一个元素，引用的是“列”"
   ]
  },
  {
   "cell_type": "code",
   "execution_count": 24,
   "metadata": {},
   "outputs": [
    {
     "data": {
      "text/html": [
       "<table class=\"dataframe\">\n",
       "<caption>A data.frame: 7 × 2</caption>\n",
       "<thead>\n",
       "\t<tr><th scope=col>class</th><th scope=col>score</th></tr>\n",
       "\t<tr><th scope=col>&lt;dbl&gt;</th><th scope=col>&lt;dbl&gt;</th></tr>\n",
       "</thead>\n",
       "<tbody>\n",
       "\t<tr><td>1</td><td>80</td></tr>\n",
       "\t<tr><td>1</td><td>85</td></tr>\n",
       "\t<tr><td>2</td><td>92</td></tr>\n",
       "\t<tr><td>2</td><td>76</td></tr>\n",
       "\t<tr><td>3</td><td>61</td></tr>\n",
       "\t<tr><td>3</td><td>95</td></tr>\n",
       "\t<tr><td>3</td><td>83</td></tr>\n",
       "</tbody>\n",
       "</table>\n"
      ],
      "text/latex": [
       "A data.frame: 7 × 2\n",
       "\\begin{tabular}{ll}\n",
       " class & score\\\\\n",
       " <dbl> & <dbl>\\\\\n",
       "\\hline\n",
       "\t 1 & 80\\\\\n",
       "\t 1 & 85\\\\\n",
       "\t 2 & 92\\\\\n",
       "\t 2 & 76\\\\\n",
       "\t 3 & 61\\\\\n",
       "\t 3 & 95\\\\\n",
       "\t 3 & 83\\\\\n",
       "\\end{tabular}\n"
      ],
      "text/markdown": [
       "\n",
       "A data.frame: 7 × 2\n",
       "\n",
       "| class &lt;dbl&gt; | score &lt;dbl&gt; |\n",
       "|---|---|\n",
       "| 1 | 80 |\n",
       "| 1 | 85 |\n",
       "| 2 | 92 |\n",
       "| 2 | 76 |\n",
       "| 3 | 61 |\n",
       "| 3 | 95 |\n",
       "| 3 | 83 |\n",
       "\n"
      ],
      "text/plain": [
       "  class score\n",
       "1 1     80   \n",
       "2 1     85   \n",
       "3 2     92   \n",
       "4 2     76   \n",
       "5 3     61   \n",
       "6 3     95   \n",
       "7 3     83   "
      ]
     },
     "metadata": {},
     "output_type": "display_data"
    }
   ],
   "source": [
    "student[-2]    #去除第2列"
   ]
  },
  {
   "cell_type": "code",
   "execution_count": 25,
   "metadata": {},
   "outputs": [
    {
     "data": {
      "text/html": [
       "<table class=\"dataframe\">\n",
       "<caption>A data.frame: 7 × 1</caption>\n",
       "<thead>\n",
       "\t<tr><th scope=col>score</th></tr>\n",
       "\t<tr><th scope=col>&lt;dbl&gt;</th></tr>\n",
       "</thead>\n",
       "<tbody>\n",
       "\t<tr><td>80</td></tr>\n",
       "\t<tr><td>85</td></tr>\n",
       "\t<tr><td>92</td></tr>\n",
       "\t<tr><td>76</td></tr>\n",
       "\t<tr><td>61</td></tr>\n",
       "\t<tr><td>95</td></tr>\n",
       "\t<tr><td>83</td></tr>\n",
       "</tbody>\n",
       "</table>\n"
      ],
      "text/latex": [
       "A data.frame: 7 × 1\n",
       "\\begin{tabular}{l}\n",
       " score\\\\\n",
       " <dbl>\\\\\n",
       "\\hline\n",
       "\t 80\\\\\n",
       "\t 85\\\\\n",
       "\t 92\\\\\n",
       "\t 76\\\\\n",
       "\t 61\\\\\n",
       "\t 95\\\\\n",
       "\t 83\\\\\n",
       "\\end{tabular}\n"
      ],
      "text/markdown": [
       "\n",
       "A data.frame: 7 × 1\n",
       "\n",
       "| score &lt;dbl&gt; |\n",
       "|---|\n",
       "| 80 |\n",
       "| 85 |\n",
       "| 92 |\n",
       "| 76 |\n",
       "| 61 |\n",
       "| 95 |\n",
       "| 83 |\n",
       "\n"
      ],
      "text/plain": [
       "  score\n",
       "1 80   \n",
       "2 85   \n",
       "3 92   \n",
       "4 76   \n",
       "5 61   \n",
       "6 95   \n",
       "7 83   "
      ]
     },
     "metadata": {},
     "output_type": "display_data"
    }
   ],
   "source": [
    "student[-c(1,2)]    #去除第1,2列"
   ]
  },
  {
   "cell_type": "code",
   "execution_count": 26,
   "metadata": {},
   "outputs": [
    {
     "data": {
      "text/html": [
       "<table class=\"dataframe\">\n",
       "<caption>A data.frame: 7 × 2</caption>\n",
       "<thead>\n",
       "\t<tr><th scope=col>class</th><th scope=col>score</th></tr>\n",
       "\t<tr><th scope=col>&lt;dbl&gt;</th><th scope=col>&lt;dbl&gt;</th></tr>\n",
       "</thead>\n",
       "<tbody>\n",
       "\t<tr><td>1</td><td>80</td></tr>\n",
       "\t<tr><td>1</td><td>85</td></tr>\n",
       "\t<tr><td>2</td><td>92</td></tr>\n",
       "\t<tr><td>2</td><td>76</td></tr>\n",
       "\t<tr><td>3</td><td>61</td></tr>\n",
       "\t<tr><td>3</td><td>95</td></tr>\n",
       "\t<tr><td>3</td><td>83</td></tr>\n",
       "</tbody>\n",
       "</table>\n"
      ],
      "text/latex": [
       "A data.frame: 7 × 2\n",
       "\\begin{tabular}{ll}\n",
       " class & score\\\\\n",
       " <dbl> & <dbl>\\\\\n",
       "\\hline\n",
       "\t 1 & 80\\\\\n",
       "\t 1 & 85\\\\\n",
       "\t 2 & 92\\\\\n",
       "\t 2 & 76\\\\\n",
       "\t 3 & 61\\\\\n",
       "\t 3 & 95\\\\\n",
       "\t 3 & 83\\\\\n",
       "\\end{tabular}\n"
      ],
      "text/markdown": [
       "\n",
       "A data.frame: 7 × 2\n",
       "\n",
       "| class &lt;dbl&gt; | score &lt;dbl&gt; |\n",
       "|---|---|\n",
       "| 1 | 80 |\n",
       "| 1 | 85 |\n",
       "| 2 | 92 |\n",
       "| 2 | 76 |\n",
       "| 3 | 61 |\n",
       "| 3 | 95 |\n",
       "| 3 | 83 |\n",
       "\n"
      ],
      "text/plain": [
       "  class score\n",
       "1 1     80   \n",
       "2 1     85   \n",
       "3 2     92   \n",
       "4 2     76   \n",
       "5 3     61   \n",
       "6 3     95   \n",
       "7 3     83   "
      ]
     },
     "metadata": {},
     "output_type": "display_data"
    }
   ],
   "source": [
    "student[c(T,F,T)]    #使用逻辑向量"
   ]
  },
  {
   "cell_type": "code",
   "execution_count": 27,
   "metadata": {},
   "outputs": [
    {
     "data": {
      "text/html": [
       "80"
      ],
      "text/latex": [
       "80"
      ],
      "text/markdown": [
       "80"
      ],
      "text/plain": [
       "[1] 80"
      ]
     },
     "metadata": {},
     "output_type": "display_data"
    }
   ],
   "source": [
    "student[1,3]    #引用第1行的第3列"
   ]
  },
  {
   "cell_type": "code",
   "execution_count": 28,
   "metadata": {},
   "outputs": [
    {
     "data": {
      "text/html": [
       "'data.frame'"
      ],
      "text/latex": [
       "'data.frame'"
      ],
      "text/markdown": [
       "'data.frame'"
      ],
      "text/plain": [
       "[1] \"data.frame\""
      ]
     },
     "metadata": {},
     "output_type": "display_data"
    }
   ],
   "source": [
    "class(student[,c(1,3)])"
   ]
  },
  {
   "cell_type": "markdown",
   "metadata": {},
   "source": [
    "## 引用行"
   ]
  },
  {
   "cell_type": "code",
   "execution_count": 29,
   "metadata": {},
   "outputs": [
    {
     "data": {
      "text/html": [
       "<table class=\"dataframe\">\n",
       "<caption>A data.frame: 7 × 3</caption>\n",
       "<thead>\n",
       "\t<tr><th scope=col>class</th><th scope=col>gender</th><th scope=col>score</th></tr>\n",
       "\t<tr><th scope=col>&lt;dbl&gt;</th><th scope=col>&lt;chr&gt;</th><th scope=col>&lt;dbl&gt;</th></tr>\n",
       "</thead>\n",
       "<tbody>\n",
       "\t<tr><td>1</td><td>女</td><td>80</td></tr>\n",
       "\t<tr><td>1</td><td>男</td><td>85</td></tr>\n",
       "\t<tr><td>2</td><td>男</td><td>92</td></tr>\n",
       "\t<tr><td>2</td><td>女</td><td>76</td></tr>\n",
       "\t<tr><td>3</td><td>女</td><td>61</td></tr>\n",
       "\t<tr><td>3</td><td>女</td><td>95</td></tr>\n",
       "\t<tr><td>3</td><td>男</td><td>83</td></tr>\n",
       "</tbody>\n",
       "</table>\n"
      ],
      "text/latex": [
       "A data.frame: 7 × 3\n",
       "\\begin{tabular}{lll}\n",
       " class & gender & score\\\\\n",
       " <dbl> & <chr> & <dbl>\\\\\n",
       "\\hline\n",
       "\t 1 & 女 & 80\\\\\n",
       "\t 1 & 男 & 85\\\\\n",
       "\t 2 & 男 & 92\\\\\n",
       "\t 2 & 女 & 76\\\\\n",
       "\t 3 & 女 & 61\\\\\n",
       "\t 3 & 女 & 95\\\\\n",
       "\t 3 & 男 & 83\\\\\n",
       "\\end{tabular}\n"
      ],
      "text/markdown": [
       "\n",
       "A data.frame: 7 × 3\n",
       "\n",
       "| class &lt;dbl&gt; | gender &lt;chr&gt; | score &lt;dbl&gt; |\n",
       "|---|---|---|\n",
       "| 1 | 女 | 80 |\n",
       "| 1 | 男 | 85 |\n",
       "| 2 | 男 | 92 |\n",
       "| 2 | 女 | 76 |\n",
       "| 3 | 女 | 61 |\n",
       "| 3 | 女 | 95 |\n",
       "| 3 | 男 | 83 |\n",
       "\n"
      ],
      "text/plain": [
       "  class gender score\n",
       "1 1     女     80   \n",
       "2 1     男     85   \n",
       "3 2     男     92   \n",
       "4 2     女     76   \n",
       "5 3     女     61   \n",
       "6 3     女     95   \n",
       "7 3     男     83   "
      ]
     },
     "metadata": {},
     "output_type": "display_data"
    }
   ],
   "source": [
    "x <- c(1, 1, 2, 2, 3, 3, 3)\n",
    "y <- c(\"女\", \"男\", \"男\", \"女\", \"女\", \"女\", \"男\")\n",
    "z <- c(80, 85, 92, 76, 61, 95, 83)\n",
    "(student <- data.frame(class=x, gender=y, score=z))  #对列名进行重新命名"
   ]
  },
  {
   "cell_type": "code",
   "execution_count": 30,
   "metadata": {},
   "outputs": [
    {
     "data": {
      "text/html": [
       "<table class=\"dataframe\">\n",
       "<caption>A data.frame: 5 × 3</caption>\n",
       "<thead>\n",
       "\t<tr><th></th><th scope=col>class</th><th scope=col>gender</th><th scope=col>score</th></tr>\n",
       "\t<tr><th></th><th scope=col>&lt;dbl&gt;</th><th scope=col>&lt;chr&gt;</th><th scope=col>&lt;dbl&gt;</th></tr>\n",
       "</thead>\n",
       "<tbody>\n",
       "\t<tr><th scope=row>1</th><td>1</td><td>女</td><td>80</td></tr>\n",
       "\t<tr><th scope=row>2</th><td>1</td><td>男</td><td>85</td></tr>\n",
       "\t<tr><th scope=row>3</th><td>2</td><td>男</td><td>92</td></tr>\n",
       "\t<tr><th scope=row>4</th><td>2</td><td>女</td><td>76</td></tr>\n",
       "\t<tr><th scope=row>5</th><td>3</td><td>女</td><td>61</td></tr>\n",
       "</tbody>\n",
       "</table>\n"
      ],
      "text/latex": [
       "A data.frame: 5 × 3\n",
       "\\begin{tabular}{r|lll}\n",
       "  & class & gender & score\\\\\n",
       "  & <dbl> & <chr> & <dbl>\\\\\n",
       "\\hline\n",
       "\t1 & 1 & 女 & 80\\\\\n",
       "\t2 & 1 & 男 & 85\\\\\n",
       "\t3 & 2 & 男 & 92\\\\\n",
       "\t4 & 2 & 女 & 76\\\\\n",
       "\t5 & 3 & 女 & 61\\\\\n",
       "\\end{tabular}\n"
      ],
      "text/markdown": [
       "\n",
       "A data.frame: 5 × 3\n",
       "\n",
       "| <!--/--> | class &lt;dbl&gt; | gender &lt;chr&gt; | score &lt;dbl&gt; |\n",
       "|---|---|---|---|\n",
       "| 1 | 1 | 女 | 80 |\n",
       "| 2 | 1 | 男 | 85 |\n",
       "| 3 | 2 | 男 | 92 |\n",
       "| 4 | 2 | 女 | 76 |\n",
       "| 5 | 3 | 女 | 61 |\n",
       "\n"
      ],
      "text/plain": [
       "  class gender score\n",
       "1 1     女     80   \n",
       "2 1     男     85   \n",
       "3 2     男     92   \n",
       "4 2     女     76   \n",
       "5 3     女     61   "
      ]
     },
     "metadata": {},
     "output_type": "display_data"
    }
   ],
   "source": [
    "student[1:5,]   #引用连续行"
   ]
  },
  {
   "cell_type": "code",
   "execution_count": 31,
   "metadata": {},
   "outputs": [
    {
     "data": {
      "text/html": [
       "<table class=\"dataframe\">\n",
       "<caption>A data.frame: 2 × 3</caption>\n",
       "<thead>\n",
       "\t<tr><th></th><th scope=col>class</th><th scope=col>gender</th><th scope=col>score</th></tr>\n",
       "\t<tr><th></th><th scope=col>&lt;dbl&gt;</th><th scope=col>&lt;chr&gt;</th><th scope=col>&lt;dbl&gt;</th></tr>\n",
       "</thead>\n",
       "<tbody>\n",
       "\t<tr><th scope=row>1</th><td>1</td><td>女</td><td>80</td></tr>\n",
       "\t<tr><th scope=row>5</th><td>3</td><td>女</td><td>61</td></tr>\n",
       "</tbody>\n",
       "</table>\n"
      ],
      "text/latex": [
       "A data.frame: 2 × 3\n",
       "\\begin{tabular}{r|lll}\n",
       "  & class & gender & score\\\\\n",
       "  & <dbl> & <chr> & <dbl>\\\\\n",
       "\\hline\n",
       "\t1 & 1 & 女 & 80\\\\\n",
       "\t5 & 3 & 女 & 61\\\\\n",
       "\\end{tabular}\n"
      ],
      "text/markdown": [
       "\n",
       "A data.frame: 2 × 3\n",
       "\n",
       "| <!--/--> | class &lt;dbl&gt; | gender &lt;chr&gt; | score &lt;dbl&gt; |\n",
       "|---|---|---|---|\n",
       "| 1 | 1 | 女 | 80 |\n",
       "| 5 | 3 | 女 | 61 |\n",
       "\n"
      ],
      "text/plain": [
       "  class gender score\n",
       "1 1     女     80   \n",
       "5 3     女     61   "
      ]
     },
     "metadata": {},
     "output_type": "display_data"
    }
   ],
   "source": [
    "student[c(1,5),]   #引用某些行"
   ]
  },
  {
   "cell_type": "code",
   "execution_count": 32,
   "metadata": {},
   "outputs": [
    {
     "data": {
      "text/html": [
       "'data.frame'"
      ],
      "text/latex": [
       "'data.frame'"
      ],
      "text/markdown": [
       "'data.frame'"
      ],
      "text/plain": [
       "[1] \"data.frame\""
      ]
     },
     "metadata": {},
     "output_type": "display_data"
    }
   ],
   "source": [
    "class(student[c(1,5),] )"
   ]
  },
  {
   "cell_type": "markdown",
   "metadata": {},
   "source": [
    "## 引用某些行、列"
   ]
  },
  {
   "cell_type": "code",
   "execution_count": 33,
   "metadata": {},
   "outputs": [
    {
     "data": {
      "text/html": [
       "<table class=\"dataframe\">\n",
       "<caption>A data.frame: 7 × 3</caption>\n",
       "<thead>\n",
       "\t<tr><th scope=col>class</th><th scope=col>gender</th><th scope=col>score</th></tr>\n",
       "\t<tr><th scope=col>&lt;dbl&gt;</th><th scope=col>&lt;chr&gt;</th><th scope=col>&lt;dbl&gt;</th></tr>\n",
       "</thead>\n",
       "<tbody>\n",
       "\t<tr><td>1</td><td>女</td><td>80</td></tr>\n",
       "\t<tr><td>1</td><td>男</td><td>85</td></tr>\n",
       "\t<tr><td>2</td><td>男</td><td>92</td></tr>\n",
       "\t<tr><td>2</td><td>女</td><td>76</td></tr>\n",
       "\t<tr><td>3</td><td>女</td><td>61</td></tr>\n",
       "\t<tr><td>3</td><td>女</td><td>95</td></tr>\n",
       "\t<tr><td>3</td><td>男</td><td>83</td></tr>\n",
       "</tbody>\n",
       "</table>\n"
      ],
      "text/latex": [
       "A data.frame: 7 × 3\n",
       "\\begin{tabular}{lll}\n",
       " class & gender & score\\\\\n",
       " <dbl> & <chr> & <dbl>\\\\\n",
       "\\hline\n",
       "\t 1 & 女 & 80\\\\\n",
       "\t 1 & 男 & 85\\\\\n",
       "\t 2 & 男 & 92\\\\\n",
       "\t 2 & 女 & 76\\\\\n",
       "\t 3 & 女 & 61\\\\\n",
       "\t 3 & 女 & 95\\\\\n",
       "\t 3 & 男 & 83\\\\\n",
       "\\end{tabular}\n"
      ],
      "text/markdown": [
       "\n",
       "A data.frame: 7 × 3\n",
       "\n",
       "| class &lt;dbl&gt; | gender &lt;chr&gt; | score &lt;dbl&gt; |\n",
       "|---|---|---|\n",
       "| 1 | 女 | 80 |\n",
       "| 1 | 男 | 85 |\n",
       "| 2 | 男 | 92 |\n",
       "| 2 | 女 | 76 |\n",
       "| 3 | 女 | 61 |\n",
       "| 3 | 女 | 95 |\n",
       "| 3 | 男 | 83 |\n",
       "\n"
      ],
      "text/plain": [
       "  class gender score\n",
       "1 1     女     80   \n",
       "2 1     男     85   \n",
       "3 2     男     92   \n",
       "4 2     女     76   \n",
       "5 3     女     61   \n",
       "6 3     女     95   \n",
       "7 3     男     83   "
      ]
     },
     "metadata": {},
     "output_type": "display_data"
    }
   ],
   "source": [
    "x <- c(1, 1, 2, 2, 3, 3, 3)\n",
    "y <- c(\"女\", \"男\", \"男\", \"女\", \"女\", \"女\", \"男\")\n",
    "z <- c(80, 85, 92, 76, 61, 95, 83)\n",
    "(student <- data.frame(class=x, gender=y, score=z))  #对列名进行重新命名"
   ]
  },
  {
   "cell_type": "code",
   "execution_count": 34,
   "metadata": {},
   "outputs": [
    {
     "data": {
      "text/html": [
       "<table class=\"dataframe\">\n",
       "<caption>A data.frame: 5 × 3</caption>\n",
       "<thead>\n",
       "\t<tr><th></th><th scope=col>class</th><th scope=col>gender</th><th scope=col>score</th></tr>\n",
       "\t<tr><th></th><th scope=col>&lt;dbl&gt;</th><th scope=col>&lt;chr&gt;</th><th scope=col>&lt;dbl&gt;</th></tr>\n",
       "</thead>\n",
       "<tbody>\n",
       "\t<tr><th scope=row>1</th><td>1</td><td>女</td><td>80</td></tr>\n",
       "\t<tr><th scope=row>2</th><td>1</td><td>男</td><td>85</td></tr>\n",
       "\t<tr><th scope=row>3</th><td>2</td><td>男</td><td>92</td></tr>\n",
       "\t<tr><th scope=row>4</th><td>2</td><td>女</td><td>76</td></tr>\n",
       "\t<tr><th scope=row>5</th><td>3</td><td>女</td><td>61</td></tr>\n",
       "</tbody>\n",
       "</table>\n"
      ],
      "text/latex": [
       "A data.frame: 5 × 3\n",
       "\\begin{tabular}{r|lll}\n",
       "  & class & gender & score\\\\\n",
       "  & <dbl> & <chr> & <dbl>\\\\\n",
       "\\hline\n",
       "\t1 & 1 & 女 & 80\\\\\n",
       "\t2 & 1 & 男 & 85\\\\\n",
       "\t3 & 2 & 男 & 92\\\\\n",
       "\t4 & 2 & 女 & 76\\\\\n",
       "\t5 & 3 & 女 & 61\\\\\n",
       "\\end{tabular}\n"
      ],
      "text/markdown": [
       "\n",
       "A data.frame: 5 × 3\n",
       "\n",
       "| <!--/--> | class &lt;dbl&gt; | gender &lt;chr&gt; | score &lt;dbl&gt; |\n",
       "|---|---|---|---|\n",
       "| 1 | 1 | 女 | 80 |\n",
       "| 2 | 1 | 男 | 85 |\n",
       "| 3 | 2 | 男 | 92 |\n",
       "| 4 | 2 | 女 | 76 |\n",
       "| 5 | 3 | 女 | 61 |\n",
       "\n"
      ],
      "text/plain": [
       "  class gender score\n",
       "1 1     女     80   \n",
       "2 1     男     85   \n",
       "3 2     男     92   \n",
       "4 2     女     76   \n",
       "5 3     女     61   "
      ]
     },
     "metadata": {},
     "output_type": "display_data"
    }
   ],
   "source": [
    "student[1:5, 1:3] # 引用连续的行、列"
   ]
  },
  {
   "cell_type": "code",
   "execution_count": 35,
   "metadata": {},
   "outputs": [
    {
     "data": {
      "text/html": [
       "'data.frame'"
      ],
      "text/latex": [
       "'data.frame'"
      ],
      "text/markdown": [
       "'data.frame'"
      ],
      "text/plain": [
       "[1] \"data.frame\""
      ]
     },
     "metadata": {},
     "output_type": "display_data"
    }
   ],
   "source": [
    "class(student[1:5, 1:3])  "
   ]
  },
  {
   "cell_type": "code",
   "execution_count": 36,
   "metadata": {},
   "outputs": [
    {
     "data": {
      "text/html": [
       "<table class=\"dataframe\">\n",
       "<caption>A data.frame: 2 × 2</caption>\n",
       "<thead>\n",
       "\t<tr><th></th><th scope=col>class</th><th scope=col>score</th></tr>\n",
       "\t<tr><th></th><th scope=col>&lt;dbl&gt;</th><th scope=col>&lt;dbl&gt;</th></tr>\n",
       "</thead>\n",
       "<tbody>\n",
       "\t<tr><th scope=row>1</th><td>1</td><td>80</td></tr>\n",
       "\t<tr><th scope=row>5</th><td>3</td><td>61</td></tr>\n",
       "</tbody>\n",
       "</table>\n"
      ],
      "text/latex": [
       "A data.frame: 2 × 2\n",
       "\\begin{tabular}{r|ll}\n",
       "  & class & score\\\\\n",
       "  & <dbl> & <dbl>\\\\\n",
       "\\hline\n",
       "\t1 & 1 & 80\\\\\n",
       "\t5 & 3 & 61\\\\\n",
       "\\end{tabular}\n"
      ],
      "text/markdown": [
       "\n",
       "A data.frame: 2 × 2\n",
       "\n",
       "| <!--/--> | class &lt;dbl&gt; | score &lt;dbl&gt; |\n",
       "|---|---|---|\n",
       "| 1 | 1 | 80 |\n",
       "| 5 | 3 | 61 |\n",
       "\n"
      ],
      "text/plain": [
       "  class score\n",
       "1 1     80   \n",
       "5 3     61   "
      ]
     },
     "metadata": {},
     "output_type": "display_data"
    }
   ],
   "source": [
    "student[c(1,5), c(1,3)] #引用不连续的行、列"
   ]
  },
  {
   "cell_type": "code",
   "execution_count": 37,
   "metadata": {},
   "outputs": [
    {
     "data": {
      "text/html": [
       "<table class=\"dataframe\">\n",
       "<caption>A data.frame: 4 × 3</caption>\n",
       "<thead>\n",
       "\t<tr><th></th><th scope=col>class</th><th scope=col>gender</th><th scope=col>score</th></tr>\n",
       "\t<tr><th></th><th scope=col>&lt;dbl&gt;</th><th scope=col>&lt;chr&gt;</th><th scope=col>&lt;dbl&gt;</th></tr>\n",
       "</thead>\n",
       "<tbody>\n",
       "\t<tr><th scope=row>2</th><td>1</td><td>男</td><td>85</td></tr>\n",
       "\t<tr><th scope=row>3</th><td>2</td><td>男</td><td>92</td></tr>\n",
       "\t<tr><th scope=row>6</th><td>3</td><td>女</td><td>95</td></tr>\n",
       "\t<tr><th scope=row>7</th><td>3</td><td>男</td><td>83</td></tr>\n",
       "</tbody>\n",
       "</table>\n"
      ],
      "text/latex": [
       "A data.frame: 4 × 3\n",
       "\\begin{tabular}{r|lll}\n",
       "  & class & gender & score\\\\\n",
       "  & <dbl> & <chr> & <dbl>\\\\\n",
       "\\hline\n",
       "\t2 & 1 & 男 & 85\\\\\n",
       "\t3 & 2 & 男 & 92\\\\\n",
       "\t6 & 3 & 女 & 95\\\\\n",
       "\t7 & 3 & 男 & 83\\\\\n",
       "\\end{tabular}\n"
      ],
      "text/markdown": [
       "\n",
       "A data.frame: 4 × 3\n",
       "\n",
       "| <!--/--> | class &lt;dbl&gt; | gender &lt;chr&gt; | score &lt;dbl&gt; |\n",
       "|---|---|---|---|\n",
       "| 2 | 1 | 男 | 85 |\n",
       "| 3 | 2 | 男 | 92 |\n",
       "| 6 | 3 | 女 | 95 |\n",
       "| 7 | 3 | 男 | 83 |\n",
       "\n"
      ],
      "text/plain": [
       "  class gender score\n",
       "2 1     男     85   \n",
       "3 2     男     92   \n",
       "6 3     女     95   \n",
       "7 3     男     83   "
      ]
     },
     "metadata": {},
     "output_type": "display_data"
    }
   ],
   "source": [
    "student[student$score > 80, ] # 筛选出符合条件的数据--成绩大于80分的学生"
   ]
  },
  {
   "cell_type": "code",
   "execution_count": 38,
   "metadata": {},
   "outputs": [
    {
     "data": {
      "text/html": [
       "<table class=\"dataframe\">\n",
       "<caption>A data.frame: 0 × 3</caption>\n",
       "<thead>\n",
       "\t<tr><th scope=col>class</th><th scope=col>gender</th><th scope=col>score</th></tr>\n",
       "\t<tr><th scope=col>&lt;dbl&gt;</th><th scope=col>&lt;chr&gt;</th><th scope=col>&lt;dbl&gt;</th></tr>\n",
       "</thead>\n",
       "<tbody>\n",
       "</tbody>\n",
       "</table>\n"
      ],
      "text/latex": [
       "A data.frame: 0 × 3\n",
       "\\begin{tabular}{lll}\n",
       " class & gender & score\\\\\n",
       " <dbl> & <chr> & <dbl>\\\\\n",
       "\\hline\n",
       "\\end{tabular}\n"
      ],
      "text/markdown": [
       "\n",
       "A data.frame: 0 × 3\n",
       "\n",
       "| class &lt;dbl&gt; | gender &lt;chr&gt; | score &lt;dbl&gt; |\n",
       "|---|---|---|\n",
       "\n"
      ],
      "text/plain": [
       "     class gender score"
      ]
     },
     "metadata": {},
     "output_type": "display_data"
    }
   ],
   "source": [
    "student[student$score>80 & student$sex==\"女\", ]"
   ]
  },
  {
   "cell_type": "markdown",
   "metadata": {},
   "source": [
    "## 数据框绑定\n",
    "--attach()函数"
   ]
  },
  {
   "cell_type": "code",
   "execution_count": 39,
   "metadata": {},
   "outputs": [
    {
     "data": {
      "text/html": [
       "<table class=\"dataframe\">\n",
       "<caption>A data.frame: 7 × 3</caption>\n",
       "<thead>\n",
       "\t<tr><th scope=col>class</th><th scope=col>gender</th><th scope=col>score</th></tr>\n",
       "\t<tr><th scope=col>&lt;dbl&gt;</th><th scope=col>&lt;chr&gt;</th><th scope=col>&lt;dbl&gt;</th></tr>\n",
       "</thead>\n",
       "<tbody>\n",
       "\t<tr><td>1</td><td>女</td><td>80</td></tr>\n",
       "\t<tr><td>1</td><td>男</td><td>85</td></tr>\n",
       "\t<tr><td>2</td><td>男</td><td>92</td></tr>\n",
       "\t<tr><td>2</td><td>女</td><td>76</td></tr>\n",
       "\t<tr><td>3</td><td>女</td><td>61</td></tr>\n",
       "\t<tr><td>3</td><td>女</td><td>95</td></tr>\n",
       "\t<tr><td>3</td><td>男</td><td>83</td></tr>\n",
       "</tbody>\n",
       "</table>\n"
      ],
      "text/latex": [
       "A data.frame: 7 × 3\n",
       "\\begin{tabular}{lll}\n",
       " class & gender & score\\\\\n",
       " <dbl> & <chr> & <dbl>\\\\\n",
       "\\hline\n",
       "\t 1 & 女 & 80\\\\\n",
       "\t 1 & 男 & 85\\\\\n",
       "\t 2 & 男 & 92\\\\\n",
       "\t 2 & 女 & 76\\\\\n",
       "\t 3 & 女 & 61\\\\\n",
       "\t 3 & 女 & 95\\\\\n",
       "\t 3 & 男 & 83\\\\\n",
       "\\end{tabular}\n"
      ],
      "text/markdown": [
       "\n",
       "A data.frame: 7 × 3\n",
       "\n",
       "| class &lt;dbl&gt; | gender &lt;chr&gt; | score &lt;dbl&gt; |\n",
       "|---|---|---|\n",
       "| 1 | 女 | 80 |\n",
       "| 1 | 男 | 85 |\n",
       "| 2 | 男 | 92 |\n",
       "| 2 | 女 | 76 |\n",
       "| 3 | 女 | 61 |\n",
       "| 3 | 女 | 95 |\n",
       "| 3 | 男 | 83 |\n",
       "\n"
      ],
      "text/plain": [
       "  class gender score\n",
       "1 1     女     80   \n",
       "2 1     男     85   \n",
       "3 2     男     92   \n",
       "4 2     女     76   \n",
       "5 3     女     61   \n",
       "6 3     女     95   \n",
       "7 3     男     83   "
      ]
     },
     "metadata": {},
     "output_type": "display_data"
    }
   ],
   "source": [
    "x <- c(1, 1, 2, 2, 3, 3, 3)\n",
    "y <- c(\"女\", \"男\", \"男\", \"女\", \"女\", \"女\", \"男\")\n",
    "z <- c(80, 85, 92, 76, 61, 95, 83)\n",
    "(student <- data.frame(class=x, gender=y, score=z))  #对列名进行重新命名"
   ]
  },
  {
   "cell_type": "code",
   "execution_count": 40,
   "metadata": {},
   "outputs": [
    {
     "ename": "ERROR",
     "evalue": "Error in eval(expr, envir, enclos): object 'score' not found\n",
     "output_type": "error",
     "traceback": [
      "Error in eval(expr, envir, enclos): object 'score' not found\nTraceback:\n"
     ]
    }
   ],
   "source": [
    "score   #不能直接引用数据框中的列"
   ]
  },
  {
   "cell_type": "code",
   "execution_count": 41,
   "metadata": {},
   "outputs": [
    {
     "data": {
      "text/html": [
       "<style>\n",
       ".list-inline {list-style: none; margin:0; padding: 0}\n",
       ".list-inline>li {display: inline-block}\n",
       ".list-inline>li:not(:last-child)::after {content: \"\\00b7\"; padding: 0 .5ex}\n",
       "</style>\n",
       "<ol class=list-inline><li>80</li><li>85</li><li>92</li><li>76</li><li>61</li><li>95</li><li>83</li></ol>\n"
      ],
      "text/latex": [
       "\\begin{enumerate*}\n",
       "\\item 80\n",
       "\\item 85\n",
       "\\item 92\n",
       "\\item 76\n",
       "\\item 61\n",
       "\\item 95\n",
       "\\item 83\n",
       "\\end{enumerate*}\n"
      ],
      "text/markdown": [
       "1. 80\n",
       "2. 85\n",
       "3. 92\n",
       "4. 76\n",
       "5. 61\n",
       "6. 95\n",
       "7. 83\n",
       "\n",
       "\n"
      ],
      "text/plain": [
       "[1] 80 85 92 76 61 95 83"
      ]
     },
     "metadata": {},
     "output_type": "display_data"
    }
   ],
   "source": [
    "student$score   #每次都要附上数据框的名，很麻烦"
   ]
  },
  {
   "cell_type": "code",
   "execution_count": 42,
   "metadata": {},
   "outputs": [],
   "source": [
    "attach(student)    #绑定后，就可以直接引用其中的列了"
   ]
  },
  {
   "cell_type": "code",
   "execution_count": 43,
   "metadata": {},
   "outputs": [
    {
     "data": {
      "text/html": [
       "<style>\n",
       ".list-inline {list-style: none; margin:0; padding: 0}\n",
       ".list-inline>li {display: inline-block}\n",
       ".list-inline>li:not(:last-child)::after {content: \"\\00b7\"; padding: 0 .5ex}\n",
       "</style>\n",
       "<ol class=list-inline><li>80</li><li>85</li><li>92</li><li>76</li><li>61</li><li>95</li><li>83</li></ol>\n"
      ],
      "text/latex": [
       "\\begin{enumerate*}\n",
       "\\item 80\n",
       "\\item 85\n",
       "\\item 92\n",
       "\\item 76\n",
       "\\item 61\n",
       "\\item 95\n",
       "\\item 83\n",
       "\\end{enumerate*}\n"
      ],
      "text/markdown": [
       "1. 80\n",
       "2. 85\n",
       "3. 92\n",
       "4. 76\n",
       "5. 61\n",
       "6. 95\n",
       "7. 83\n",
       "\n",
       "\n"
      ],
      "text/plain": [
       "[1] 80 85 92 76 61 95 83"
      ]
     },
     "metadata": {},
     "output_type": "display_data"
    }
   ],
   "source": [
    "score"
   ]
  },
  {
   "cell_type": "code",
   "execution_count": 44,
   "metadata": {},
   "outputs": [
    {
     "data": {
      "text/html": [
       "<style>\n",
       ".list-inline {list-style: none; margin:0; padding: 0}\n",
       ".list-inline>li {display: inline-block}\n",
       ".list-inline>li:not(:last-child)::after {content: \"\\00b7\"; padding: 0 .5ex}\n",
       "</style>\n",
       "<ol class=list-inline><li>'女'</li><li>'男'</li><li>'男'</li><li>'女'</li><li>'女'</li><li>'女'</li><li>'男'</li></ol>\n"
      ],
      "text/latex": [
       "\\begin{enumerate*}\n",
       "\\item '女'\n",
       "\\item '男'\n",
       "\\item '男'\n",
       "\\item '女'\n",
       "\\item '女'\n",
       "\\item '女'\n",
       "\\item '男'\n",
       "\\end{enumerate*}\n"
      ],
      "text/markdown": [
       "1. '女'\n",
       "2. '男'\n",
       "3. '男'\n",
       "4. '女'\n",
       "5. '女'\n",
       "6. '女'\n",
       "7. '男'\n",
       "\n",
       "\n"
      ],
      "text/plain": [
       "[1] \"女\" \"男\" \"男\" \"女\" \"女\" \"女\" \"男\""
      ]
     },
     "metadata": {},
     "output_type": "display_data"
    }
   ],
   "source": [
    "gender"
   ]
  },
  {
   "cell_type": "code",
   "execution_count": 45,
   "metadata": {},
   "outputs": [],
   "source": [
    "detach()    #解绑后，就不能直接引用其中的列了"
   ]
  },
  {
   "cell_type": "code",
   "execution_count": 46,
   "metadata": {},
   "outputs": [
    {
     "ename": "ERROR",
     "evalue": "Error in eval(expr, envir, enclos): object 'score' not found\n",
     "output_type": "error",
     "traceback": [
      "Error in eval(expr, envir, enclos): object 'score' not found\nTraceback:\n"
     ]
    }
   ],
   "source": [
    "score    #只能在attach与detach围成的区域内直接访问"
   ]
  },
  {
   "cell_type": "markdown",
   "metadata": {},
   "source": [
    "## 创建局部引用环境\n",
    "--with函数\n",
    "\n",
    "{ }内是局部环境，所创建的对象均为局部对象，在{ }内可以访问，在{ }外不能访问。\n",
    "\n",
    "如果要引用的仅有一条语句（例如 summary(mpg) ），那么花括号 { } 可以省略"
   ]
  },
  {
   "cell_type": "code",
   "execution_count": 47,
   "metadata": {
    "scrolled": true
   },
   "outputs": [
    {
     "data": {
      "text/html": [
       "<table class=\"dataframe\">\n",
       "<caption>A data.frame: 32 × 11</caption>\n",
       "<thead>\n",
       "\t<tr><th></th><th scope=col>mpg</th><th scope=col>cyl</th><th scope=col>disp</th><th scope=col>hp</th><th scope=col>drat</th><th scope=col>wt</th><th scope=col>qsec</th><th scope=col>vs</th><th scope=col>am</th><th scope=col>gear</th><th scope=col>carb</th></tr>\n",
       "\t<tr><th></th><th scope=col>&lt;dbl&gt;</th><th scope=col>&lt;dbl&gt;</th><th scope=col>&lt;dbl&gt;</th><th scope=col>&lt;dbl&gt;</th><th scope=col>&lt;dbl&gt;</th><th scope=col>&lt;dbl&gt;</th><th scope=col>&lt;dbl&gt;</th><th scope=col>&lt;dbl&gt;</th><th scope=col>&lt;dbl&gt;</th><th scope=col>&lt;dbl&gt;</th><th scope=col>&lt;dbl&gt;</th></tr>\n",
       "</thead>\n",
       "<tbody>\n",
       "\t<tr><th scope=row>Mazda RX4</th><td>21.0</td><td>6</td><td>160.0</td><td>110</td><td>3.90</td><td>2.620</td><td>16.46</td><td>0</td><td>1</td><td>4</td><td>4</td></tr>\n",
       "\t<tr><th scope=row>Mazda RX4 Wag</th><td>21.0</td><td>6</td><td>160.0</td><td>110</td><td>3.90</td><td>2.875</td><td>17.02</td><td>0</td><td>1</td><td>4</td><td>4</td></tr>\n",
       "\t<tr><th scope=row>Datsun 710</th><td>22.8</td><td>4</td><td>108.0</td><td> 93</td><td>3.85</td><td>2.320</td><td>18.61</td><td>1</td><td>1</td><td>4</td><td>1</td></tr>\n",
       "\t<tr><th scope=row>Hornet 4 Drive</th><td>21.4</td><td>6</td><td>258.0</td><td>110</td><td>3.08</td><td>3.215</td><td>19.44</td><td>1</td><td>0</td><td>3</td><td>1</td></tr>\n",
       "\t<tr><th scope=row>Hornet Sportabout</th><td>18.7</td><td>8</td><td>360.0</td><td>175</td><td>3.15</td><td>3.440</td><td>17.02</td><td>0</td><td>0</td><td>3</td><td>2</td></tr>\n",
       "\t<tr><th scope=row>Valiant</th><td>18.1</td><td>6</td><td>225.0</td><td>105</td><td>2.76</td><td>3.460</td><td>20.22</td><td>1</td><td>0</td><td>3</td><td>1</td></tr>\n",
       "\t<tr><th scope=row>Duster 360</th><td>14.3</td><td>8</td><td>360.0</td><td>245</td><td>3.21</td><td>3.570</td><td>15.84</td><td>0</td><td>0</td><td>3</td><td>4</td></tr>\n",
       "\t<tr><th scope=row>Merc 240D</th><td>24.4</td><td>4</td><td>146.7</td><td> 62</td><td>3.69</td><td>3.190</td><td>20.00</td><td>1</td><td>0</td><td>4</td><td>2</td></tr>\n",
       "\t<tr><th scope=row>Merc 230</th><td>22.8</td><td>4</td><td>140.8</td><td> 95</td><td>3.92</td><td>3.150</td><td>22.90</td><td>1</td><td>0</td><td>4</td><td>2</td></tr>\n",
       "\t<tr><th scope=row>Merc 280</th><td>19.2</td><td>6</td><td>167.6</td><td>123</td><td>3.92</td><td>3.440</td><td>18.30</td><td>1</td><td>0</td><td>4</td><td>4</td></tr>\n",
       "\t<tr><th scope=row>Merc 280C</th><td>17.8</td><td>6</td><td>167.6</td><td>123</td><td>3.92</td><td>3.440</td><td>18.90</td><td>1</td><td>0</td><td>4</td><td>4</td></tr>\n",
       "\t<tr><th scope=row>Merc 450SE</th><td>16.4</td><td>8</td><td>275.8</td><td>180</td><td>3.07</td><td>4.070</td><td>17.40</td><td>0</td><td>0</td><td>3</td><td>3</td></tr>\n",
       "\t<tr><th scope=row>Merc 450SL</th><td>17.3</td><td>8</td><td>275.8</td><td>180</td><td>3.07</td><td>3.730</td><td>17.60</td><td>0</td><td>0</td><td>3</td><td>3</td></tr>\n",
       "\t<tr><th scope=row>Merc 450SLC</th><td>15.2</td><td>8</td><td>275.8</td><td>180</td><td>3.07</td><td>3.780</td><td>18.00</td><td>0</td><td>0</td><td>3</td><td>3</td></tr>\n",
       "\t<tr><th scope=row>Cadillac Fleetwood</th><td>10.4</td><td>8</td><td>472.0</td><td>205</td><td>2.93</td><td>5.250</td><td>17.98</td><td>0</td><td>0</td><td>3</td><td>4</td></tr>\n",
       "\t<tr><th scope=row>Lincoln Continental</th><td>10.4</td><td>8</td><td>460.0</td><td>215</td><td>3.00</td><td>5.424</td><td>17.82</td><td>0</td><td>0</td><td>3</td><td>4</td></tr>\n",
       "\t<tr><th scope=row>Chrysler Imperial</th><td>14.7</td><td>8</td><td>440.0</td><td>230</td><td>3.23</td><td>5.345</td><td>17.42</td><td>0</td><td>0</td><td>3</td><td>4</td></tr>\n",
       "\t<tr><th scope=row>Fiat 128</th><td>32.4</td><td>4</td><td> 78.7</td><td> 66</td><td>4.08</td><td>2.200</td><td>19.47</td><td>1</td><td>1</td><td>4</td><td>1</td></tr>\n",
       "\t<tr><th scope=row>Honda Civic</th><td>30.4</td><td>4</td><td> 75.7</td><td> 52</td><td>4.93</td><td>1.615</td><td>18.52</td><td>1</td><td>1</td><td>4</td><td>2</td></tr>\n",
       "\t<tr><th scope=row>Toyota Corolla</th><td>33.9</td><td>4</td><td> 71.1</td><td> 65</td><td>4.22</td><td>1.835</td><td>19.90</td><td>1</td><td>1</td><td>4</td><td>1</td></tr>\n",
       "\t<tr><th scope=row>Toyota Corona</th><td>21.5</td><td>4</td><td>120.1</td><td> 97</td><td>3.70</td><td>2.465</td><td>20.01</td><td>1</td><td>0</td><td>3</td><td>1</td></tr>\n",
       "\t<tr><th scope=row>Dodge Challenger</th><td>15.5</td><td>8</td><td>318.0</td><td>150</td><td>2.76</td><td>3.520</td><td>16.87</td><td>0</td><td>0</td><td>3</td><td>2</td></tr>\n",
       "\t<tr><th scope=row>AMC Javelin</th><td>15.2</td><td>8</td><td>304.0</td><td>150</td><td>3.15</td><td>3.435</td><td>17.30</td><td>0</td><td>0</td><td>3</td><td>2</td></tr>\n",
       "\t<tr><th scope=row>Camaro Z28</th><td>13.3</td><td>8</td><td>350.0</td><td>245</td><td>3.73</td><td>3.840</td><td>15.41</td><td>0</td><td>0</td><td>3</td><td>4</td></tr>\n",
       "\t<tr><th scope=row>Pontiac Firebird</th><td>19.2</td><td>8</td><td>400.0</td><td>175</td><td>3.08</td><td>3.845</td><td>17.05</td><td>0</td><td>0</td><td>3</td><td>2</td></tr>\n",
       "\t<tr><th scope=row>Fiat X1-9</th><td>27.3</td><td>4</td><td> 79.0</td><td> 66</td><td>4.08</td><td>1.935</td><td>18.90</td><td>1</td><td>1</td><td>4</td><td>1</td></tr>\n",
       "\t<tr><th scope=row>Porsche 914-2</th><td>26.0</td><td>4</td><td>120.3</td><td> 91</td><td>4.43</td><td>2.140</td><td>16.70</td><td>0</td><td>1</td><td>5</td><td>2</td></tr>\n",
       "\t<tr><th scope=row>Lotus Europa</th><td>30.4</td><td>4</td><td> 95.1</td><td>113</td><td>3.77</td><td>1.513</td><td>16.90</td><td>1</td><td>1</td><td>5</td><td>2</td></tr>\n",
       "\t<tr><th scope=row>Ford Pantera L</th><td>15.8</td><td>8</td><td>351.0</td><td>264</td><td>4.22</td><td>3.170</td><td>14.50</td><td>0</td><td>1</td><td>5</td><td>4</td></tr>\n",
       "\t<tr><th scope=row>Ferrari Dino</th><td>19.7</td><td>6</td><td>145.0</td><td>175</td><td>3.62</td><td>2.770</td><td>15.50</td><td>0</td><td>1</td><td>5</td><td>6</td></tr>\n",
       "\t<tr><th scope=row>Maserati Bora</th><td>15.0</td><td>8</td><td>301.0</td><td>335</td><td>3.54</td><td>3.570</td><td>14.60</td><td>0</td><td>1</td><td>5</td><td>8</td></tr>\n",
       "\t<tr><th scope=row>Volvo 142E</th><td>21.4</td><td>4</td><td>121.0</td><td>109</td><td>4.11</td><td>2.780</td><td>18.60</td><td>1</td><td>1</td><td>4</td><td>2</td></tr>\n",
       "</tbody>\n",
       "</table>\n"
      ],
      "text/latex": [
       "A data.frame: 32 × 11\n",
       "\\begin{tabular}{r|lllllllllll}\n",
       "  & mpg & cyl & disp & hp & drat & wt & qsec & vs & am & gear & carb\\\\\n",
       "  & <dbl> & <dbl> & <dbl> & <dbl> & <dbl> & <dbl> & <dbl> & <dbl> & <dbl> & <dbl> & <dbl>\\\\\n",
       "\\hline\n",
       "\tMazda RX4 & 21.0 & 6 & 160.0 & 110 & 3.90 & 2.620 & 16.46 & 0 & 1 & 4 & 4\\\\\n",
       "\tMazda RX4 Wag & 21.0 & 6 & 160.0 & 110 & 3.90 & 2.875 & 17.02 & 0 & 1 & 4 & 4\\\\\n",
       "\tDatsun 710 & 22.8 & 4 & 108.0 &  93 & 3.85 & 2.320 & 18.61 & 1 & 1 & 4 & 1\\\\\n",
       "\tHornet 4 Drive & 21.4 & 6 & 258.0 & 110 & 3.08 & 3.215 & 19.44 & 1 & 0 & 3 & 1\\\\\n",
       "\tHornet Sportabout & 18.7 & 8 & 360.0 & 175 & 3.15 & 3.440 & 17.02 & 0 & 0 & 3 & 2\\\\\n",
       "\tValiant & 18.1 & 6 & 225.0 & 105 & 2.76 & 3.460 & 20.22 & 1 & 0 & 3 & 1\\\\\n",
       "\tDuster 360 & 14.3 & 8 & 360.0 & 245 & 3.21 & 3.570 & 15.84 & 0 & 0 & 3 & 4\\\\\n",
       "\tMerc 240D & 24.4 & 4 & 146.7 &  62 & 3.69 & 3.190 & 20.00 & 1 & 0 & 4 & 2\\\\\n",
       "\tMerc 230 & 22.8 & 4 & 140.8 &  95 & 3.92 & 3.150 & 22.90 & 1 & 0 & 4 & 2\\\\\n",
       "\tMerc 280 & 19.2 & 6 & 167.6 & 123 & 3.92 & 3.440 & 18.30 & 1 & 0 & 4 & 4\\\\\n",
       "\tMerc 280C & 17.8 & 6 & 167.6 & 123 & 3.92 & 3.440 & 18.90 & 1 & 0 & 4 & 4\\\\\n",
       "\tMerc 450SE & 16.4 & 8 & 275.8 & 180 & 3.07 & 4.070 & 17.40 & 0 & 0 & 3 & 3\\\\\n",
       "\tMerc 450SL & 17.3 & 8 & 275.8 & 180 & 3.07 & 3.730 & 17.60 & 0 & 0 & 3 & 3\\\\\n",
       "\tMerc 450SLC & 15.2 & 8 & 275.8 & 180 & 3.07 & 3.780 & 18.00 & 0 & 0 & 3 & 3\\\\\n",
       "\tCadillac Fleetwood & 10.4 & 8 & 472.0 & 205 & 2.93 & 5.250 & 17.98 & 0 & 0 & 3 & 4\\\\\n",
       "\tLincoln Continental & 10.4 & 8 & 460.0 & 215 & 3.00 & 5.424 & 17.82 & 0 & 0 & 3 & 4\\\\\n",
       "\tChrysler Imperial & 14.7 & 8 & 440.0 & 230 & 3.23 & 5.345 & 17.42 & 0 & 0 & 3 & 4\\\\\n",
       "\tFiat 128 & 32.4 & 4 &  78.7 &  66 & 4.08 & 2.200 & 19.47 & 1 & 1 & 4 & 1\\\\\n",
       "\tHonda Civic & 30.4 & 4 &  75.7 &  52 & 4.93 & 1.615 & 18.52 & 1 & 1 & 4 & 2\\\\\n",
       "\tToyota Corolla & 33.9 & 4 &  71.1 &  65 & 4.22 & 1.835 & 19.90 & 1 & 1 & 4 & 1\\\\\n",
       "\tToyota Corona & 21.5 & 4 & 120.1 &  97 & 3.70 & 2.465 & 20.01 & 1 & 0 & 3 & 1\\\\\n",
       "\tDodge Challenger & 15.5 & 8 & 318.0 & 150 & 2.76 & 3.520 & 16.87 & 0 & 0 & 3 & 2\\\\\n",
       "\tAMC Javelin & 15.2 & 8 & 304.0 & 150 & 3.15 & 3.435 & 17.30 & 0 & 0 & 3 & 2\\\\\n",
       "\tCamaro Z28 & 13.3 & 8 & 350.0 & 245 & 3.73 & 3.840 & 15.41 & 0 & 0 & 3 & 4\\\\\n",
       "\tPontiac Firebird & 19.2 & 8 & 400.0 & 175 & 3.08 & 3.845 & 17.05 & 0 & 0 & 3 & 2\\\\\n",
       "\tFiat X1-9 & 27.3 & 4 &  79.0 &  66 & 4.08 & 1.935 & 18.90 & 1 & 1 & 4 & 1\\\\\n",
       "\tPorsche 914-2 & 26.0 & 4 & 120.3 &  91 & 4.43 & 2.140 & 16.70 & 0 & 1 & 5 & 2\\\\\n",
       "\tLotus Europa & 30.4 & 4 &  95.1 & 113 & 3.77 & 1.513 & 16.90 & 1 & 1 & 5 & 2\\\\\n",
       "\tFord Pantera L & 15.8 & 8 & 351.0 & 264 & 4.22 & 3.170 & 14.50 & 0 & 1 & 5 & 4\\\\\n",
       "\tFerrari Dino & 19.7 & 6 & 145.0 & 175 & 3.62 & 2.770 & 15.50 & 0 & 1 & 5 & 6\\\\\n",
       "\tMaserati Bora & 15.0 & 8 & 301.0 & 335 & 3.54 & 3.570 & 14.60 & 0 & 1 & 5 & 8\\\\\n",
       "\tVolvo 142E & 21.4 & 4 & 121.0 & 109 & 4.11 & 2.780 & 18.60 & 1 & 1 & 4 & 2\\\\\n",
       "\\end{tabular}\n"
      ],
      "text/markdown": [
       "\n",
       "A data.frame: 32 × 11\n",
       "\n",
       "| <!--/--> | mpg &lt;dbl&gt; | cyl &lt;dbl&gt; | disp &lt;dbl&gt; | hp &lt;dbl&gt; | drat &lt;dbl&gt; | wt &lt;dbl&gt; | qsec &lt;dbl&gt; | vs &lt;dbl&gt; | am &lt;dbl&gt; | gear &lt;dbl&gt; | carb &lt;dbl&gt; |\n",
       "|---|---|---|---|---|---|---|---|---|---|---|---|\n",
       "| Mazda RX4 | 21.0 | 6 | 160.0 | 110 | 3.90 | 2.620 | 16.46 | 0 | 1 | 4 | 4 |\n",
       "| Mazda RX4 Wag | 21.0 | 6 | 160.0 | 110 | 3.90 | 2.875 | 17.02 | 0 | 1 | 4 | 4 |\n",
       "| Datsun 710 | 22.8 | 4 | 108.0 |  93 | 3.85 | 2.320 | 18.61 | 1 | 1 | 4 | 1 |\n",
       "| Hornet 4 Drive | 21.4 | 6 | 258.0 | 110 | 3.08 | 3.215 | 19.44 | 1 | 0 | 3 | 1 |\n",
       "| Hornet Sportabout | 18.7 | 8 | 360.0 | 175 | 3.15 | 3.440 | 17.02 | 0 | 0 | 3 | 2 |\n",
       "| Valiant | 18.1 | 6 | 225.0 | 105 | 2.76 | 3.460 | 20.22 | 1 | 0 | 3 | 1 |\n",
       "| Duster 360 | 14.3 | 8 | 360.0 | 245 | 3.21 | 3.570 | 15.84 | 0 | 0 | 3 | 4 |\n",
       "| Merc 240D | 24.4 | 4 | 146.7 |  62 | 3.69 | 3.190 | 20.00 | 1 | 0 | 4 | 2 |\n",
       "| Merc 230 | 22.8 | 4 | 140.8 |  95 | 3.92 | 3.150 | 22.90 | 1 | 0 | 4 | 2 |\n",
       "| Merc 280 | 19.2 | 6 | 167.6 | 123 | 3.92 | 3.440 | 18.30 | 1 | 0 | 4 | 4 |\n",
       "| Merc 280C | 17.8 | 6 | 167.6 | 123 | 3.92 | 3.440 | 18.90 | 1 | 0 | 4 | 4 |\n",
       "| Merc 450SE | 16.4 | 8 | 275.8 | 180 | 3.07 | 4.070 | 17.40 | 0 | 0 | 3 | 3 |\n",
       "| Merc 450SL | 17.3 | 8 | 275.8 | 180 | 3.07 | 3.730 | 17.60 | 0 | 0 | 3 | 3 |\n",
       "| Merc 450SLC | 15.2 | 8 | 275.8 | 180 | 3.07 | 3.780 | 18.00 | 0 | 0 | 3 | 3 |\n",
       "| Cadillac Fleetwood | 10.4 | 8 | 472.0 | 205 | 2.93 | 5.250 | 17.98 | 0 | 0 | 3 | 4 |\n",
       "| Lincoln Continental | 10.4 | 8 | 460.0 | 215 | 3.00 | 5.424 | 17.82 | 0 | 0 | 3 | 4 |\n",
       "| Chrysler Imperial | 14.7 | 8 | 440.0 | 230 | 3.23 | 5.345 | 17.42 | 0 | 0 | 3 | 4 |\n",
       "| Fiat 128 | 32.4 | 4 |  78.7 |  66 | 4.08 | 2.200 | 19.47 | 1 | 1 | 4 | 1 |\n",
       "| Honda Civic | 30.4 | 4 |  75.7 |  52 | 4.93 | 1.615 | 18.52 | 1 | 1 | 4 | 2 |\n",
       "| Toyota Corolla | 33.9 | 4 |  71.1 |  65 | 4.22 | 1.835 | 19.90 | 1 | 1 | 4 | 1 |\n",
       "| Toyota Corona | 21.5 | 4 | 120.1 |  97 | 3.70 | 2.465 | 20.01 | 1 | 0 | 3 | 1 |\n",
       "| Dodge Challenger | 15.5 | 8 | 318.0 | 150 | 2.76 | 3.520 | 16.87 | 0 | 0 | 3 | 2 |\n",
       "| AMC Javelin | 15.2 | 8 | 304.0 | 150 | 3.15 | 3.435 | 17.30 | 0 | 0 | 3 | 2 |\n",
       "| Camaro Z28 | 13.3 | 8 | 350.0 | 245 | 3.73 | 3.840 | 15.41 | 0 | 0 | 3 | 4 |\n",
       "| Pontiac Firebird | 19.2 | 8 | 400.0 | 175 | 3.08 | 3.845 | 17.05 | 0 | 0 | 3 | 2 |\n",
       "| Fiat X1-9 | 27.3 | 4 |  79.0 |  66 | 4.08 | 1.935 | 18.90 | 1 | 1 | 4 | 1 |\n",
       "| Porsche 914-2 | 26.0 | 4 | 120.3 |  91 | 4.43 | 2.140 | 16.70 | 0 | 1 | 5 | 2 |\n",
       "| Lotus Europa | 30.4 | 4 |  95.1 | 113 | 3.77 | 1.513 | 16.90 | 1 | 1 | 5 | 2 |\n",
       "| Ford Pantera L | 15.8 | 8 | 351.0 | 264 | 4.22 | 3.170 | 14.50 | 0 | 1 | 5 | 4 |\n",
       "| Ferrari Dino | 19.7 | 6 | 145.0 | 175 | 3.62 | 2.770 | 15.50 | 0 | 1 | 5 | 6 |\n",
       "| Maserati Bora | 15.0 | 8 | 301.0 | 335 | 3.54 | 3.570 | 14.60 | 0 | 1 | 5 | 8 |\n",
       "| Volvo 142E | 21.4 | 4 | 121.0 | 109 | 4.11 | 2.780 | 18.60 | 1 | 1 | 4 | 2 |\n",
       "\n"
      ],
      "text/plain": [
       "                    mpg  cyl disp  hp  drat wt    qsec  vs am gear carb\n",
       "Mazda RX4           21.0 6   160.0 110 3.90 2.620 16.46 0  1  4    4   \n",
       "Mazda RX4 Wag       21.0 6   160.0 110 3.90 2.875 17.02 0  1  4    4   \n",
       "Datsun 710          22.8 4   108.0  93 3.85 2.320 18.61 1  1  4    1   \n",
       "Hornet 4 Drive      21.4 6   258.0 110 3.08 3.215 19.44 1  0  3    1   \n",
       "Hornet Sportabout   18.7 8   360.0 175 3.15 3.440 17.02 0  0  3    2   \n",
       "Valiant             18.1 6   225.0 105 2.76 3.460 20.22 1  0  3    1   \n",
       "Duster 360          14.3 8   360.0 245 3.21 3.570 15.84 0  0  3    4   \n",
       "Merc 240D           24.4 4   146.7  62 3.69 3.190 20.00 1  0  4    2   \n",
       "Merc 230            22.8 4   140.8  95 3.92 3.150 22.90 1  0  4    2   \n",
       "Merc 280            19.2 6   167.6 123 3.92 3.440 18.30 1  0  4    4   \n",
       "Merc 280C           17.8 6   167.6 123 3.92 3.440 18.90 1  0  4    4   \n",
       "Merc 450SE          16.4 8   275.8 180 3.07 4.070 17.40 0  0  3    3   \n",
       "Merc 450SL          17.3 8   275.8 180 3.07 3.730 17.60 0  0  3    3   \n",
       "Merc 450SLC         15.2 8   275.8 180 3.07 3.780 18.00 0  0  3    3   \n",
       "Cadillac Fleetwood  10.4 8   472.0 205 2.93 5.250 17.98 0  0  3    4   \n",
       "Lincoln Continental 10.4 8   460.0 215 3.00 5.424 17.82 0  0  3    4   \n",
       "Chrysler Imperial   14.7 8   440.0 230 3.23 5.345 17.42 0  0  3    4   \n",
       "Fiat 128            32.4 4    78.7  66 4.08 2.200 19.47 1  1  4    1   \n",
       "Honda Civic         30.4 4    75.7  52 4.93 1.615 18.52 1  1  4    2   \n",
       "Toyota Corolla      33.9 4    71.1  65 4.22 1.835 19.90 1  1  4    1   \n",
       "Toyota Corona       21.5 4   120.1  97 3.70 2.465 20.01 1  0  3    1   \n",
       "Dodge Challenger    15.5 8   318.0 150 2.76 3.520 16.87 0  0  3    2   \n",
       "AMC Javelin         15.2 8   304.0 150 3.15 3.435 17.30 0  0  3    2   \n",
       "Camaro Z28          13.3 8   350.0 245 3.73 3.840 15.41 0  0  3    4   \n",
       "Pontiac Firebird    19.2 8   400.0 175 3.08 3.845 17.05 0  0  3    2   \n",
       "Fiat X1-9           27.3 4    79.0  66 4.08 1.935 18.90 1  1  4    1   \n",
       "Porsche 914-2       26.0 4   120.3  91 4.43 2.140 16.70 0  1  5    2   \n",
       "Lotus Europa        30.4 4    95.1 113 3.77 1.513 16.90 1  1  5    2   \n",
       "Ford Pantera L      15.8 8   351.0 264 4.22 3.170 14.50 0  1  5    4   \n",
       "Ferrari Dino        19.7 6   145.0 175 3.62 2.770 15.50 0  1  5    6   \n",
       "Maserati Bora       15.0 8   301.0 335 3.54 3.570 14.60 0  1  5    8   \n",
       "Volvo 142E          21.4 4   121.0 109 4.11 2.780 18.60 1  1  4    2   "
      ]
     },
     "metadata": {},
     "output_type": "display_data"
    }
   ],
   "source": [
    "mtcars"
   ]
  },
  {
   "cell_type": "code",
   "execution_count": 48,
   "metadata": {},
   "outputs": [
    {
     "name": "stdout",
     "output_type": "stream",
     "text": [
      "   Min. 1st Qu.  Median    Mean 3rd Qu.    Max. \n",
      "  10.40   15.43   19.20   20.09   22.80   33.90 \n"
     ]
    },
    {
     "data": {
      "image/png": "[encoded data removed]",
      "text/plain": [
       "plot without title"
      ]
     },
     "metadata": {
      "image/png": {
       "height": 420,
       "width": 420
      }
     },
     "output_type": "display_data"
    },
    {
     "data": {
      "image/png": "[encoded data removed]",
      "text/plain": [
       "plot without title"
      ]
     },
     "metadata": {
      "image/png": {
       "height": 420,
       "width": 420
      }
     },
     "output_type": "display_data"
    }
   ],
   "source": [
    "with(mtcars, { \n",
    "  print(summary(mpg)) \n",
    "  plot(mpg, disp) \n",
    "  plot(mpg, wt) \n",
    "}) "
   ]
  },
  {
   "cell_type": "code",
   "execution_count": 49,
   "metadata": {},
   "outputs": [
    {
     "ename": "ERROR",
     "evalue": "Error in eval(expr, envir, enclos): object 'mpg' not found\n",
     "output_type": "error",
     "traceback": [
      "Error in eval(expr, envir, enclos): object 'mpg' not found\nTraceback:\n",
      "1. print(summary(mpg))",
      "2. summary(mpg)"
     ]
    }
   ],
   "source": [
    "print(summary(mpg))    #不在局部环境内，不能直接引用数据框的列"
   ]
  },
  {
   "cell_type": "markdown",
   "metadata": {},
   "source": [
    "### 依据不同列进行排序"
   ]
  },
  {
   "cell_type": "code",
   "execution_count": 50,
   "metadata": {},
   "outputs": [
    {
     "data": {
      "text/html": [
       "<table class=\"dataframe\">\n",
       "<caption>A data.frame: 4 × 3</caption>\n",
       "<thead>\n",
       "\t<tr><th scope=col>x</th><th scope=col>y</th><th scope=col>z</th></tr>\n",
       "\t<tr><th scope=col>&lt;chr&gt;</th><th scope=col>&lt;dbl&gt;</th><th scope=col>&lt;dbl&gt;</th></tr>\n",
       "</thead>\n",
       "<tbody>\n",
       "\t<tr><td>D</td><td>8</td><td>1</td></tr>\n",
       "\t<tr><td>A</td><td>3</td><td>1</td></tr>\n",
       "\t<tr><td>C</td><td>9</td><td>3</td></tr>\n",
       "\t<tr><td>A</td><td>9</td><td>2</td></tr>\n",
       "</tbody>\n",
       "</table>\n"
      ],
      "text/latex": [
       "A data.frame: 4 × 3\n",
       "\\begin{tabular}{lll}\n",
       " x & y & z\\\\\n",
       " <chr> & <dbl> & <dbl>\\\\\n",
       "\\hline\n",
       "\t D & 8 & 1\\\\\n",
       "\t A & 3 & 1\\\\\n",
       "\t C & 9 & 3\\\\\n",
       "\t A & 9 & 2\\\\\n",
       "\\end{tabular}\n"
      ],
      "text/markdown": [
       "\n",
       "A data.frame: 4 × 3\n",
       "\n",
       "| x &lt;chr&gt; | y &lt;dbl&gt; | z &lt;dbl&gt; |\n",
       "|---|---|---|\n",
       "| D | 8 | 1 |\n",
       "| A | 3 | 1 |\n",
       "| C | 9 | 3 |\n",
       "| A | 9 | 2 |\n",
       "\n"
      ],
      "text/plain": [
       "  x y z\n",
       "1 D 8 1\n",
       "2 A 3 1\n",
       "3 C 9 3\n",
       "4 A 9 2"
      ]
     },
     "metadata": {},
     "output_type": "display_data"
    }
   ],
   "source": [
    "dd <- data.frame(\n",
    "  x = c(\"D\", \"A\", \"C\", \"A\"), \n",
    "  y = c(8, 3, 9, 9),\n",
    "  z = c(1, 1, 3, 2)\n",
    ")\n",
    "dd"
   ]
  },
  {
   "cell_type": "code",
   "execution_count": 51,
   "metadata": {},
   "outputs": [
    {
     "data": {
      "text/html": [
       "<style>\n",
       ".list-inline {list-style: none; margin:0; padding: 0}\n",
       ".list-inline>li {display: inline-block}\n",
       ".list-inline>li:not(:last-child)::after {content: \"\\00b7\"; padding: 0 .5ex}\n",
       "</style>\n",
       "<ol class=list-inline><li>1</li><li>2</li><li>4</li><li>3</li></ol>\n"
      ],
      "text/latex": [
       "\\begin{enumerate*}\n",
       "\\item 1\n",
       "\\item 2\n",
       "\\item 4\n",
       "\\item 3\n",
       "\\end{enumerate*}\n"
      ],
      "text/markdown": [
       "1. 1\n",
       "2. 2\n",
       "3. 4\n",
       "4. 3\n",
       "\n",
       "\n"
      ],
      "text/plain": [
       "[1] 1 2 4 3"
      ]
     },
     "metadata": {},
     "output_type": "display_data"
    },
    {
     "data": {
      "text/html": [
       "<table class=\"dataframe\">\n",
       "<caption>A data.frame: 4 × 3</caption>\n",
       "<thead>\n",
       "\t<tr><th></th><th scope=col>x</th><th scope=col>y</th><th scope=col>z</th></tr>\n",
       "\t<tr><th></th><th scope=col>&lt;chr&gt;</th><th scope=col>&lt;dbl&gt;</th><th scope=col>&lt;dbl&gt;</th></tr>\n",
       "</thead>\n",
       "<tbody>\n",
       "\t<tr><th scope=row>1</th><td>D</td><td>8</td><td>1</td></tr>\n",
       "\t<tr><th scope=row>2</th><td>A</td><td>3</td><td>1</td></tr>\n",
       "\t<tr><th scope=row>4</th><td>A</td><td>9</td><td>2</td></tr>\n",
       "\t<tr><th scope=row>3</th><td>C</td><td>9</td><td>3</td></tr>\n",
       "</tbody>\n",
       "</table>\n"
      ],
      "text/latex": [
       "A data.frame: 4 × 3\n",
       "\\begin{tabular}{r|lll}\n",
       "  & x & y & z\\\\\n",
       "  & <chr> & <dbl> & <dbl>\\\\\n",
       "\\hline\n",
       "\t1 & D & 8 & 1\\\\\n",
       "\t2 & A & 3 & 1\\\\\n",
       "\t4 & A & 9 & 2\\\\\n",
       "\t3 & C & 9 & 3\\\\\n",
       "\\end{tabular}\n"
      ],
      "text/markdown": [
       "\n",
       "A data.frame: 4 × 3\n",
       "\n",
       "| <!--/--> | x &lt;chr&gt; | y &lt;dbl&gt; | z &lt;dbl&gt; |\n",
       "|---|---|---|---|\n",
       "| 1 | D | 8 | 1 |\n",
       "| 2 | A | 3 | 1 |\n",
       "| 4 | A | 9 | 2 |\n",
       "| 3 | C | 9 | 3 |\n",
       "\n"
      ],
      "text/plain": [
       "  x y z\n",
       "1 D 8 1\n",
       "2 A 3 1\n",
       "4 A 9 2\n",
       "3 C 9 3"
      ]
     },
     "metadata": {},
     "output_type": "display_data"
    },
    {
     "data": {
      "text/html": [
       "<table class=\"dataframe\">\n",
       "<caption>A data.frame: 4 × 3</caption>\n",
       "<thead>\n",
       "\t<tr><th scope=col>x</th><th scope=col>y</th><th scope=col>z</th></tr>\n",
       "\t<tr><th scope=col>&lt;chr&gt;</th><th scope=col>&lt;dbl&gt;</th><th scope=col>&lt;dbl&gt;</th></tr>\n",
       "</thead>\n",
       "<tbody>\n",
       "\t<tr><td>D</td><td>8</td><td>1</td></tr>\n",
       "\t<tr><td>A</td><td>3</td><td>1</td></tr>\n",
       "\t<tr><td>C</td><td>9</td><td>3</td></tr>\n",
       "\t<tr><td>A</td><td>9</td><td>2</td></tr>\n",
       "</tbody>\n",
       "</table>\n"
      ],
      "text/latex": [
       "A data.frame: 4 × 3\n",
       "\\begin{tabular}{lll}\n",
       " x & y & z\\\\\n",
       " <chr> & <dbl> & <dbl>\\\\\n",
       "\\hline\n",
       "\t D & 8 & 1\\\\\n",
       "\t A & 3 & 1\\\\\n",
       "\t C & 9 & 3\\\\\n",
       "\t A & 9 & 2\\\\\n",
       "\\end{tabular}\n"
      ],
      "text/markdown": [
       "\n",
       "A data.frame: 4 × 3\n",
       "\n",
       "| x &lt;chr&gt; | y &lt;dbl&gt; | z &lt;dbl&gt; |\n",
       "|---|---|---|\n",
       "| D | 8 | 1 |\n",
       "| A | 3 | 1 |\n",
       "| C | 9 | 3 |\n",
       "| A | 9 | 2 |\n",
       "\n"
      ],
      "text/plain": [
       "  x y z\n",
       "1 D 8 1\n",
       "2 A 3 1\n",
       "3 C 9 3\n",
       "4 A 9 2"
      ]
     },
     "metadata": {},
     "output_type": "display_data"
    }
   ],
   "source": [
    "(with(dd, order(z)))   #z列升序行号\n",
    "dd[with(dd, order(z)), ]\n",
    "dd        #观察原数据有无改变---无改变"
   ]
  },
  {
   "cell_type": "code",
   "execution_count": 52,
   "metadata": {},
   "outputs": [
    {
     "data": {
      "text/html": [
       "<table class=\"dataframe\">\n",
       "<caption>A data.frame: 4 × 3</caption>\n",
       "<thead>\n",
       "\t<tr><th></th><th scope=col>x</th><th scope=col>y</th><th scope=col>z</th></tr>\n",
       "\t<tr><th></th><th scope=col>&lt;chr&gt;</th><th scope=col>&lt;dbl&gt;</th><th scope=col>&lt;dbl&gt;</th></tr>\n",
       "</thead>\n",
       "<tbody>\n",
       "\t<tr><th scope=row>3</th><td>C</td><td>9</td><td>3</td></tr>\n",
       "\t<tr><th scope=row>4</th><td>A</td><td>9</td><td>2</td></tr>\n",
       "\t<tr><th scope=row>1</th><td>D</td><td>8</td><td>1</td></tr>\n",
       "\t<tr><th scope=row>2</th><td>A</td><td>3</td><td>1</td></tr>\n",
       "</tbody>\n",
       "</table>\n"
      ],
      "text/latex": [
       "A data.frame: 4 × 3\n",
       "\\begin{tabular}{r|lll}\n",
       "  & x & y & z\\\\\n",
       "  & <chr> & <dbl> & <dbl>\\\\\n",
       "\\hline\n",
       "\t3 & C & 9 & 3\\\\\n",
       "\t4 & A & 9 & 2\\\\\n",
       "\t1 & D & 8 & 1\\\\\n",
       "\t2 & A & 3 & 1\\\\\n",
       "\\end{tabular}\n"
      ],
      "text/markdown": [
       "\n",
       "A data.frame: 4 × 3\n",
       "\n",
       "| <!--/--> | x &lt;chr&gt; | y &lt;dbl&gt; | z &lt;dbl&gt; |\n",
       "|---|---|---|---|\n",
       "| 3 | C | 9 | 3 |\n",
       "| 4 | A | 9 | 2 |\n",
       "| 1 | D | 8 | 1 |\n",
       "| 2 | A | 3 | 1 |\n",
       "\n"
      ],
      "text/plain": [
       "  x y z\n",
       "3 C 9 3\n",
       "4 A 9 2\n",
       "1 D 8 1\n",
       "2 A 3 1"
      ]
     },
     "metadata": {},
     "output_type": "display_data"
    }
   ],
   "source": [
    "dd[with(dd, order(-z)), ]   #按z列降序排列"
   ]
  },
  {
   "cell_type": "code",
   "execution_count": 53,
   "metadata": {},
   "outputs": [
    {
     "data": {
      "text/html": [
       "<table class=\"dataframe\">\n",
       "<caption>A data.frame: 4 × 3</caption>\n",
       "<thead>\n",
       "\t<tr><th></th><th scope=col>x</th><th scope=col>y</th><th scope=col>z</th></tr>\n",
       "\t<tr><th></th><th scope=col>&lt;chr&gt;</th><th scope=col>&lt;dbl&gt;</th><th scope=col>&lt;dbl&gt;</th></tr>\n",
       "</thead>\n",
       "<tbody>\n",
       "\t<tr><th scope=row>3</th><td>C</td><td>9</td><td>3</td></tr>\n",
       "\t<tr><th scope=row>4</th><td>A</td><td>9</td><td>2</td></tr>\n",
       "\t<tr><th scope=row>2</th><td>A</td><td>3</td><td>1</td></tr>\n",
       "\t<tr><th scope=row>1</th><td>D</td><td>8</td><td>1</td></tr>\n",
       "</tbody>\n",
       "</table>\n"
      ],
      "text/latex": [
       "A data.frame: 4 × 3\n",
       "\\begin{tabular}{r|lll}\n",
       "  & x & y & z\\\\\n",
       "  & <chr> & <dbl> & <dbl>\\\\\n",
       "\\hline\n",
       "\t3 & C & 9 & 3\\\\\n",
       "\t4 & A & 9 & 2\\\\\n",
       "\t2 & A & 3 & 1\\\\\n",
       "\t1 & D & 8 & 1\\\\\n",
       "\\end{tabular}\n"
      ],
      "text/markdown": [
       "\n",
       "A data.frame: 4 × 3\n",
       "\n",
       "| <!--/--> | x &lt;chr&gt; | y &lt;dbl&gt; | z &lt;dbl&gt; |\n",
       "|---|---|---|---|\n",
       "| 3 | C | 9 | 3 |\n",
       "| 4 | A | 9 | 2 |\n",
       "| 2 | A | 3 | 1 |\n",
       "| 1 | D | 8 | 1 |\n",
       "\n"
      ],
      "text/plain": [
       "  x y z\n",
       "3 C 9 3\n",
       "4 A 9 2\n",
       "2 A 3 1\n",
       "1 D 8 1"
      ]
     },
     "metadata": {},
     "output_type": "display_data"
    }
   ],
   "source": [
    "dd[with(dd, order(-z, x)), ]  #按z列降序，x列升序排列"
   ]
  },
  {
   "cell_type": "code",
   "execution_count": 56,
   "metadata": {},
   "outputs": [
    {
     "data": {
      "text/html": [
       "<table class=\"dataframe\">\n",
       "<caption>A data.frame: 4 × 3</caption>\n",
       "<thead>\n",
       "\t<tr><th></th><th scope=col>x</th><th scope=col>y</th><th scope=col>z</th></tr>\n",
       "\t<tr><th></th><th scope=col>&lt;chr&gt;</th><th scope=col>&lt;dbl&gt;</th><th scope=col>&lt;dbl&gt;</th></tr>\n",
       "</thead>\n",
       "<tbody>\n",
       "\t<tr><th scope=row>3</th><td>C</td><td>9</td><td>3</td></tr>\n",
       "\t<tr><th scope=row>4</th><td>A</td><td>9</td><td>2</td></tr>\n",
       "\t<tr><th scope=row>2</th><td>A</td><td>3</td><td>1</td></tr>\n",
       "\t<tr><th scope=row>1</th><td>D</td><td>8</td><td>1</td></tr>\n",
       "</tbody>\n",
       "</table>\n"
      ],
      "text/latex": [
       "A data.frame: 4 × 3\n",
       "\\begin{tabular}{r|lll}\n",
       "  & x & y & z\\\\\n",
       "  & <chr> & <dbl> & <dbl>\\\\\n",
       "\\hline\n",
       "\t3 & C & 9 & 3\\\\\n",
       "\t4 & A & 9 & 2\\\\\n",
       "\t2 & A & 3 & 1\\\\\n",
       "\t1 & D & 8 & 1\\\\\n",
       "\\end{tabular}\n"
      ],
      "text/markdown": [
       "\n",
       "A data.frame: 4 × 3\n",
       "\n",
       "| <!--/--> | x &lt;chr&gt; | y &lt;dbl&gt; | z &lt;dbl&gt; |\n",
       "|---|---|---|---|\n",
       "| 3 | C | 9 | 3 |\n",
       "| 4 | A | 9 | 2 |\n",
       "| 2 | A | 3 | 1 |\n",
       "| 1 | D | 8 | 1 |\n",
       "\n"
      ],
      "text/plain": [
       "  x y z\n",
       "3 C 9 3\n",
       "4 A 9 2\n",
       "2 A 3 1\n",
       "1 D 8 1"
      ]
     },
     "metadata": {},
     "output_type": "display_data"
    }
   ],
   "source": [
    "dd[order(-dd[,3], dd[,1]), ]  #按照列号--第3列降序，第1列升序"
   ]
  },
  {
   "cell_type": "markdown",
   "metadata": {},
   "source": [
    "# 数据框新增一列"
   ]
  },
  {
   "cell_type": "markdown",
   "metadata": {},
   "source": [
    "## 原地操作"
   ]
  },
  {
   "cell_type": "code",
   "execution_count": 57,
   "metadata": {},
   "outputs": [
    {
     "data": {
      "text/html": [
       "<table class=\"dataframe\">\n",
       "<caption>A data.frame: 4 × 4</caption>\n",
       "<thead>\n",
       "\t<tr><th scope=col>x</th><th scope=col>y</th><th scope=col>z</th><th scope=col>yz</th></tr>\n",
       "\t<tr><th scope=col>&lt;chr&gt;</th><th scope=col>&lt;dbl&gt;</th><th scope=col>&lt;dbl&gt;</th><th scope=col>&lt;dbl&gt;</th></tr>\n",
       "</thead>\n",
       "<tbody>\n",
       "\t<tr><td>D</td><td>8</td><td>1</td><td> 9</td></tr>\n",
       "\t<tr><td>A</td><td>3</td><td>1</td><td> 4</td></tr>\n",
       "\t<tr><td>C</td><td>9</td><td>3</td><td>12</td></tr>\n",
       "\t<tr><td>A</td><td>9</td><td>2</td><td>11</td></tr>\n",
       "</tbody>\n",
       "</table>\n"
      ],
      "text/latex": [
       "A data.frame: 4 × 4\n",
       "\\begin{tabular}{llll}\n",
       " x & y & z & yz\\\\\n",
       " <chr> & <dbl> & <dbl> & <dbl>\\\\\n",
       "\\hline\n",
       "\t D & 8 & 1 &  9\\\\\n",
       "\t A & 3 & 1 &  4\\\\\n",
       "\t C & 9 & 3 & 12\\\\\n",
       "\t A & 9 & 2 & 11\\\\\n",
       "\\end{tabular}\n"
      ],
      "text/markdown": [
       "\n",
       "A data.frame: 4 × 4\n",
       "\n",
       "| x &lt;chr&gt; | y &lt;dbl&gt; | z &lt;dbl&gt; | yz &lt;dbl&gt; |\n",
       "|---|---|---|---|\n",
       "| D | 8 | 1 |  9 |\n",
       "| A | 3 | 1 |  4 |\n",
       "| C | 9 | 3 | 12 |\n",
       "| A | 9 | 2 | 11 |\n",
       "\n"
      ],
      "text/plain": [
       "  x y z yz\n",
       "1 D 8 1  9\n",
       "2 A 3 1  4\n",
       "3 C 9 3 12\n",
       "4 A 9 2 11"
      ]
     },
     "metadata": {},
     "output_type": "display_data"
    }
   ],
   "source": [
    "dd$yz <- dd$y + dd$z     \n",
    "dd"
   ]
  },
  {
   "cell_type": "markdown",
   "metadata": {},
   "source": [
    "## 非原地操作\n",
    "--transform函数"
   ]
  },
  {
   "cell_type": "code",
   "execution_count": 58,
   "metadata": {},
   "outputs": [
    {
     "data": {
      "text/html": [
       "<table class=\"dataframe\">\n",
       "<caption>A data.frame: 4 × 2</caption>\n",
       "<thead>\n",
       "\t<tr><th scope=col>x1</th><th scope=col>x2</th></tr>\n",
       "\t<tr><th scope=col>&lt;dbl&gt;</th><th scope=col>&lt;dbl&gt;</th></tr>\n",
       "</thead>\n",
       "<tbody>\n",
       "\t<tr><td>2</td><td>3</td></tr>\n",
       "\t<tr><td>2</td><td>4</td></tr>\n",
       "\t<tr><td>6</td><td>2</td></tr>\n",
       "\t<tr><td>4</td><td>8</td></tr>\n",
       "</tbody>\n",
       "</table>\n"
      ],
      "text/latex": [
       "A data.frame: 4 × 2\n",
       "\\begin{tabular}{ll}\n",
       " x1 & x2\\\\\n",
       " <dbl> & <dbl>\\\\\n",
       "\\hline\n",
       "\t 2 & 3\\\\\n",
       "\t 2 & 4\\\\\n",
       "\t 6 & 2\\\\\n",
       "\t 4 & 8\\\\\n",
       "\\end{tabular}\n"
      ],
      "text/markdown": [
       "\n",
       "A data.frame: 4 × 2\n",
       "\n",
       "| x1 &lt;dbl&gt; | x2 &lt;dbl&gt; |\n",
       "|---|---|\n",
       "| 2 | 3 |\n",
       "| 2 | 4 |\n",
       "| 6 | 2 |\n",
       "| 4 | 8 |\n",
       "\n"
      ],
      "text/plain": [
       "  x1 x2\n",
       "1 2  3 \n",
       "2 2  4 \n",
       "3 6  2 \n",
       "4 4  8 "
      ]
     },
     "metadata": {},
     "output_type": "display_data"
    }
   ],
   "source": [
    "#创建数据框mydata，x1和x2是mydata的两个列向量\n",
    "mydata <- data.frame(x1 = c(2, 2, 6, 4), x2 = c(3, 4, 2, 8))\n",
    "mydata"
   ]
  },
  {
   "cell_type": "code",
   "execution_count": 59,
   "metadata": {},
   "outputs": [
    {
     "data": {
      "text/html": [
       "<table class=\"dataframe\">\n",
       "<caption>A data.frame: 4 × 4</caption>\n",
       "<thead>\n",
       "\t<tr><th scope=col>x1</th><th scope=col>x2</th><th scope=col>sumx</th><th scope=col>meanx</th></tr>\n",
       "\t<tr><th scope=col>&lt;dbl&gt;</th><th scope=col>&lt;dbl&gt;</th><th scope=col>&lt;dbl&gt;</th><th scope=col>&lt;dbl&gt;</th></tr>\n",
       "</thead>\n",
       "<tbody>\n",
       "\t<tr><td>2</td><td>3</td><td> 5</td><td>2.5</td></tr>\n",
       "\t<tr><td>2</td><td>4</td><td> 6</td><td>3.0</td></tr>\n",
       "\t<tr><td>6</td><td>2</td><td> 8</td><td>4.0</td></tr>\n",
       "\t<tr><td>4</td><td>8</td><td>12</td><td>6.0</td></tr>\n",
       "</tbody>\n",
       "</table>\n"
      ],
      "text/latex": [
       "A data.frame: 4 × 4\n",
       "\\begin{tabular}{llll}\n",
       " x1 & x2 & sumx & meanx\\\\\n",
       " <dbl> & <dbl> & <dbl> & <dbl>\\\\\n",
       "\\hline\n",
       "\t 2 & 3 &  5 & 2.5\\\\\n",
       "\t 2 & 4 &  6 & 3.0\\\\\n",
       "\t 6 & 2 &  8 & 4.0\\\\\n",
       "\t 4 & 8 & 12 & 6.0\\\\\n",
       "\\end{tabular}\n"
      ],
      "text/markdown": [
       "\n",
       "A data.frame: 4 × 4\n",
       "\n",
       "| x1 &lt;dbl&gt; | x2 &lt;dbl&gt; | sumx &lt;dbl&gt; | meanx &lt;dbl&gt; |\n",
       "|---|---|---|---|\n",
       "| 2 | 3 |  5 | 2.5 |\n",
       "| 2 | 4 |  6 | 3.0 |\n",
       "| 6 | 2 |  8 | 4.0 |\n",
       "| 4 | 8 | 12 | 6.0 |\n",
       "\n"
      ],
      "text/plain": [
       "  x1 x2 sumx meanx\n",
       "1 2  3   5   2.5  \n",
       "2 2  4   6   3.0  \n",
       "3 6  2   8   4.0  \n",
       "4 4  8  12   6.0  "
      ]
     },
     "metadata": {},
     "output_type": "display_data"
    },
    {
     "data": {
      "text/html": [
       "<table class=\"dataframe\">\n",
       "<caption>A data.frame: 4 × 2</caption>\n",
       "<thead>\n",
       "\t<tr><th scope=col>x1</th><th scope=col>x2</th></tr>\n",
       "\t<tr><th scope=col>&lt;dbl&gt;</th><th scope=col>&lt;dbl&gt;</th></tr>\n",
       "</thead>\n",
       "<tbody>\n",
       "\t<tr><td>2</td><td>3</td></tr>\n",
       "\t<tr><td>2</td><td>4</td></tr>\n",
       "\t<tr><td>6</td><td>2</td></tr>\n",
       "\t<tr><td>4</td><td>8</td></tr>\n",
       "</tbody>\n",
       "</table>\n"
      ],
      "text/latex": [
       "A data.frame: 4 × 2\n",
       "\\begin{tabular}{ll}\n",
       " x1 & x2\\\\\n",
       " <dbl> & <dbl>\\\\\n",
       "\\hline\n",
       "\t 2 & 3\\\\\n",
       "\t 2 & 4\\\\\n",
       "\t 6 & 2\\\\\n",
       "\t 4 & 8\\\\\n",
       "\\end{tabular}\n"
      ],
      "text/markdown": [
       "\n",
       "A data.frame: 4 × 2\n",
       "\n",
       "| x1 &lt;dbl&gt; | x2 &lt;dbl&gt; |\n",
       "|---|---|\n",
       "| 2 | 3 |\n",
       "| 2 | 4 |\n",
       "| 6 | 2 |\n",
       "| 4 | 8 |\n",
       "\n"
      ],
      "text/plain": [
       "  x1 x2\n",
       "1 2  3 \n",
       "2 2  4 \n",
       "3 6  2 \n",
       "4 4  8 "
      ]
     },
     "metadata": {},
     "output_type": "display_data"
    }
   ],
   "source": [
    "#利用transform函数对数据框mydata增加两个变量（列向量）sumx和meanx，并把结果存储在数据框mydata中\n",
    "mydata1 <- transform(mydata, sumx = x1 + x2, meanx = (x1 + x2)/2)\n",
    "mydata1\n",
    "mydata    #观察原数据有无改变"
   ]
  },
  {
   "cell_type": "code",
   "execution_count": 60,
   "metadata": {},
   "outputs": [
    {
     "data": {
      "text/html": [
       "<table class=\"dataframe\">\n",
       "<caption>A data.frame: 4 × 4</caption>\n",
       "<thead>\n",
       "\t<tr><th scope=col>x1</th><th scope=col>x2</th><th scope=col>meanx</th><th scope=col>sumx</th></tr>\n",
       "\t<tr><th scope=col>&lt;dbl&gt;</th><th scope=col>&lt;dbl&gt;</th><th scope=col>&lt;dbl&gt;</th><th scope=col>&lt;dbl&gt;</th></tr>\n",
       "</thead>\n",
       "<tbody>\n",
       "\t<tr><td>2</td><td>3</td><td>2.5</td><td> 5</td></tr>\n",
       "\t<tr><td>2</td><td>4</td><td>3.0</td><td> 6</td></tr>\n",
       "\t<tr><td>6</td><td>2</td><td>4.0</td><td> 8</td></tr>\n",
       "\t<tr><td>4</td><td>8</td><td>6.0</td><td>12</td></tr>\n",
       "</tbody>\n",
       "</table>\n"
      ],
      "text/latex": [
       "A data.frame: 4 × 4\n",
       "\\begin{tabular}{llll}\n",
       " x1 & x2 & meanx & sumx\\\\\n",
       " <dbl> & <dbl> & <dbl> & <dbl>\\\\\n",
       "\\hline\n",
       "\t 2 & 3 & 2.5 &  5\\\\\n",
       "\t 2 & 4 & 3.0 &  6\\\\\n",
       "\t 6 & 2 & 4.0 &  8\\\\\n",
       "\t 4 & 8 & 6.0 & 12\\\\\n",
       "\\end{tabular}\n"
      ],
      "text/markdown": [
       "\n",
       "A data.frame: 4 × 4\n",
       "\n",
       "| x1 &lt;dbl&gt; | x2 &lt;dbl&gt; | meanx &lt;dbl&gt; | sumx &lt;dbl&gt; |\n",
       "|---|---|---|---|\n",
       "| 2 | 3 | 2.5 |  5 |\n",
       "| 2 | 4 | 3.0 |  6 |\n",
       "| 6 | 2 | 4.0 |  8 |\n",
       "| 4 | 8 | 6.0 | 12 |\n",
       "\n"
      ],
      "text/plain": [
       "  x1 x2 meanx sumx\n",
       "1 2  3  2.5    5  \n",
       "2 2  4  3.0    6  \n",
       "3 6  2  4.0    8  \n",
       "4 4  8  6.0   12  "
      ]
     },
     "metadata": {},
     "output_type": "display_data"
    }
   ],
   "source": [
    "#利用within函数，expr表达式执行一条语句占一行，执行多条语句需要换行\n",
    "mydata2 <- within(mydata, {sumx = x1 + x2\n",
    "                         meanx = (x1 + x2)/2})\n",
    "mydata2"
   ]
  },
  {
   "cell_type": "code",
   "execution_count": 61,
   "metadata": {},
   "outputs": [
    {
     "data": {
      "text/html": [
       "<table class=\"dataframe\">\n",
       "<caption>A data.frame: 4 × 4</caption>\n",
       "<thead>\n",
       "\t<tr><th scope=col>x1</th><th scope=col>x2</th><th scope=col>meanx</th><th scope=col>sumx</th></tr>\n",
       "\t<tr><th scope=col>&lt;dbl&gt;</th><th scope=col>&lt;dbl&gt;</th><th scope=col>&lt;dbl&gt;</th><th scope=col>&lt;dbl&gt;</th></tr>\n",
       "</thead>\n",
       "<tbody>\n",
       "\t<tr><td>2</td><td>3</td><td>2.5</td><td> 5</td></tr>\n",
       "\t<tr><td>2</td><td>4</td><td>3.0</td><td> 6</td></tr>\n",
       "\t<tr><td>6</td><td>2</td><td>4.0</td><td> 8</td></tr>\n",
       "\t<tr><td>4</td><td>8</td><td>6.0</td><td>12</td></tr>\n",
       "</tbody>\n",
       "</table>\n"
      ],
      "text/latex": [
       "A data.frame: 4 × 4\n",
       "\\begin{tabular}{llll}\n",
       " x1 & x2 & meanx & sumx\\\\\n",
       " <dbl> & <dbl> & <dbl> & <dbl>\\\\\n",
       "\\hline\n",
       "\t 2 & 3 & 2.5 &  5\\\\\n",
       "\t 2 & 4 & 3.0 &  6\\\\\n",
       "\t 6 & 2 & 4.0 &  8\\\\\n",
       "\t 4 & 8 & 6.0 & 12\\\\\n",
       "\\end{tabular}\n"
      ],
      "text/markdown": [
       "\n",
       "A data.frame: 4 × 4\n",
       "\n",
       "| x1 &lt;dbl&gt; | x2 &lt;dbl&gt; | meanx &lt;dbl&gt; | sumx &lt;dbl&gt; |\n",
       "|---|---|---|---|\n",
       "| 2 | 3 | 2.5 |  5 |\n",
       "| 2 | 4 | 3.0 |  6 |\n",
       "| 6 | 2 | 4.0 |  8 |\n",
       "| 4 | 8 | 6.0 | 12 |\n",
       "\n"
      ],
      "text/plain": [
       "  x1 x2 meanx sumx\n",
       "1 2  3  2.5    5  \n",
       "2 2  4  3.0    6  \n",
       "3 6  2  4.0    8  \n",
       "4 4  8  6.0   12  "
      ]
     },
     "metadata": {},
     "output_type": "display_data"
    }
   ],
   "source": [
    "#或者多条语句在同一行，则中间应当用分号;隔开\n",
    "mydata3 <- within(mydata, {sumx = x1 + x2; meanx = (x1 + x2)/2})\n",
    "mydata3"
   ]
  },
  {
   "cell_type": "code",
   "execution_count": 62,
   "metadata": {},
   "outputs": [
    {
     "data": {
      "text/html": [
       "<style>\n",
       ".list-inline {list-style: none; margin:0; padding: 0}\n",
       ".list-inline>li {display: inline-block}\n",
       ".list-inline>li:not(:last-child)::after {content: \"\\00b7\"; padding: 0 .5ex}\n",
       "</style>\n",
       "<ol class=list-inline><li>2.5</li><li>3</li><li>4</li><li>6</li></ol>\n"
      ],
      "text/latex": [
       "\\begin{enumerate*}\n",
       "\\item 2.5\n",
       "\\item 3\n",
       "\\item 4\n",
       "\\item 6\n",
       "\\end{enumerate*}\n"
      ],
      "text/markdown": [
       "1. 2.5\n",
       "2. 3\n",
       "3. 4\n",
       "4. 6\n",
       "\n",
       "\n"
      ],
      "text/plain": [
       "[1] 2.5 3.0 4.0 6.0"
      ]
     },
     "metadata": {},
     "output_type": "display_data"
    },
    {
     "name": "stdout",
     "output_type": "stream",
     "text": [
      "[1] \"numeric\"\n"
     ]
    }
   ],
   "source": [
    "mydata4 <- with(mydata, {sumx = x1 + x2; meanx = (x1 + x2)/2})   #meanx未起作用且返回的不是dataframe\n",
    "mydata4\n",
    "print(class(mydata4))"
   ]
  },
  {
   "cell_type": "code",
   "execution_count": 63,
   "metadata": {},
   "outputs": [
    {
     "data": {
      "text/html": [
       "<table class=\"dataframe\">\n",
       "<caption>A data.frame: 4 × 2</caption>\n",
       "<thead>\n",
       "\t<tr><th scope=col>x1</th><th scope=col>x2</th></tr>\n",
       "\t<tr><th scope=col>&lt;dbl&gt;</th><th scope=col>&lt;dbl&gt;</th></tr>\n",
       "</thead>\n",
       "<tbody>\n",
       "\t<tr><td>2</td><td>3</td></tr>\n",
       "\t<tr><td>2</td><td>4</td></tr>\n",
       "\t<tr><td>6</td><td>2</td></tr>\n",
       "\t<tr><td>4</td><td>8</td></tr>\n",
       "</tbody>\n",
       "</table>\n"
      ],
      "text/latex": [
       "A data.frame: 4 × 2\n",
       "\\begin{tabular}{ll}\n",
       " x1 & x2\\\\\n",
       " <dbl> & <dbl>\\\\\n",
       "\\hline\n",
       "\t 2 & 3\\\\\n",
       "\t 2 & 4\\\\\n",
       "\t 6 & 2\\\\\n",
       "\t 4 & 8\\\\\n",
       "\\end{tabular}\n"
      ],
      "text/markdown": [
       "\n",
       "A data.frame: 4 × 2\n",
       "\n",
       "| x1 &lt;dbl&gt; | x2 &lt;dbl&gt; |\n",
       "|---|---|\n",
       "| 2 | 3 |\n",
       "| 2 | 4 |\n",
       "| 6 | 2 |\n",
       "| 4 | 8 |\n",
       "\n"
      ],
      "text/plain": [
       "  x1 x2\n",
       "1 2  3 \n",
       "2 2  4 \n",
       "3 6  2 \n",
       "4 4  8 "
      ]
     },
     "metadata": {},
     "output_type": "display_data"
    }
   ],
   "source": [
    "mydata     #自身未变"
   ]
  },
  {
   "cell_type": "markdown",
   "metadata": {},
   "source": [
    "# 数据框横向合并"
   ]
  },
  {
   "cell_type": "code",
   "execution_count": 64,
   "metadata": {},
   "outputs": [
    {
     "data": {
      "text/html": [
       "<table class=\"dataframe\">\n",
       "<caption>A data.frame: 4 × 2</caption>\n",
       "<thead>\n",
       "\t<tr><th scope=col>ID</th><th scope=col>name</th></tr>\n",
       "\t<tr><th scope=col>&lt;dbl&gt;</th><th scope=col>&lt;chr&gt;</th></tr>\n",
       "</thead>\n",
       "<tbody>\n",
       "\t<tr><td>1</td><td>Jim </td></tr>\n",
       "\t<tr><td>2</td><td>Tony</td></tr>\n",
       "\t<tr><td>3</td><td>Lisa</td></tr>\n",
       "\t<tr><td>4</td><td>Tom </td></tr>\n",
       "</tbody>\n",
       "</table>\n"
      ],
      "text/latex": [
       "A data.frame: 4 × 2\n",
       "\\begin{tabular}{ll}\n",
       " ID & name\\\\\n",
       " <dbl> & <chr>\\\\\n",
       "\\hline\n",
       "\t 1 & Jim \\\\\n",
       "\t 2 & Tony\\\\\n",
       "\t 3 & Lisa\\\\\n",
       "\t 4 & Tom \\\\\n",
       "\\end{tabular}\n"
      ],
      "text/markdown": [
       "\n",
       "A data.frame: 4 × 2\n",
       "\n",
       "| ID &lt;dbl&gt; | name &lt;chr&gt; |\n",
       "|---|---|\n",
       "| 1 | Jim  |\n",
       "| 2 | Tony |\n",
       "| 3 | Lisa |\n",
       "| 4 | Tom  |\n",
       "\n"
      ],
      "text/plain": [
       "  ID name\n",
       "1 1  Jim \n",
       "2 2  Tony\n",
       "3 3  Lisa\n",
       "4 4  Tom "
      ]
     },
     "metadata": {},
     "output_type": "display_data"
    },
    {
     "data": {
      "text/html": [
       "<table class=\"dataframe\">\n",
       "<caption>A data.frame: 4 × 2</caption>\n",
       "<thead>\n",
       "\t<tr><th scope=col>ID</th><th scope=col>score</th></tr>\n",
       "\t<tr><th scope=col>&lt;dbl&gt;</th><th scope=col>&lt;dbl&gt;</th></tr>\n",
       "</thead>\n",
       "<tbody>\n",
       "\t<tr><td>1</td><td>89</td></tr>\n",
       "\t<tr><td>2</td><td>22</td></tr>\n",
       "\t<tr><td>3</td><td>78</td></tr>\n",
       "\t<tr><td>4</td><td>78</td></tr>\n",
       "</tbody>\n",
       "</table>\n"
      ],
      "text/latex": [
       "A data.frame: 4 × 2\n",
       "\\begin{tabular}{ll}\n",
       " ID & score\\\\\n",
       " <dbl> & <dbl>\\\\\n",
       "\\hline\n",
       "\t 1 & 89\\\\\n",
       "\t 2 & 22\\\\\n",
       "\t 3 & 78\\\\\n",
       "\t 4 & 78\\\\\n",
       "\\end{tabular}\n"
      ],
      "text/markdown": [
       "\n",
       "A data.frame: 4 × 2\n",
       "\n",
       "| ID &lt;dbl&gt; | score &lt;dbl&gt; |\n",
       "|---|---|\n",
       "| 1 | 89 |\n",
       "| 2 | 22 |\n",
       "| 3 | 78 |\n",
       "| 4 | 78 |\n",
       "\n"
      ],
      "text/plain": [
       "  ID score\n",
       "1 1  89   \n",
       "2 2  22   \n",
       "3 3  78   \n",
       "4 4  78   "
      ]
     },
     "metadata": {},
     "output_type": "display_data"
    },
    {
     "data": {
      "text/html": [
       "<table class=\"dataframe\">\n",
       "<caption>A data.frame: 4 × 3</caption>\n",
       "<thead>\n",
       "\t<tr><th scope=col>ID</th><th scope=col>name</th><th scope=col>score</th></tr>\n",
       "\t<tr><th scope=col>&lt;dbl&gt;</th><th scope=col>&lt;chr&gt;</th><th scope=col>&lt;dbl&gt;</th></tr>\n",
       "</thead>\n",
       "<tbody>\n",
       "\t<tr><td>1</td><td>Jim </td><td>89</td></tr>\n",
       "\t<tr><td>2</td><td>Tony</td><td>22</td></tr>\n",
       "\t<tr><td>3</td><td>Lisa</td><td>78</td></tr>\n",
       "\t<tr><td>4</td><td>Tom </td><td>78</td></tr>\n",
       "</tbody>\n",
       "</table>\n"
      ],
      "text/latex": [
       "A data.frame: 4 × 3\n",
       "\\begin{tabular}{lll}\n",
       " ID & name & score\\\\\n",
       " <dbl> & <chr> & <dbl>\\\\\n",
       "\\hline\n",
       "\t 1 & Jim  & 89\\\\\n",
       "\t 2 & Tony & 22\\\\\n",
       "\t 3 & Lisa & 78\\\\\n",
       "\t 4 & Tom  & 78\\\\\n",
       "\\end{tabular}\n"
      ],
      "text/markdown": [
       "\n",
       "A data.frame: 4 × 3\n",
       "\n",
       "| ID &lt;dbl&gt; | name &lt;chr&gt; | score &lt;dbl&gt; |\n",
       "|---|---|---|\n",
       "| 1 | Jim  | 89 |\n",
       "| 2 | Tony | 22 |\n",
       "| 3 | Lisa | 78 |\n",
       "| 4 | Tom  | 78 |\n",
       "\n"
      ],
      "text/plain": [
       "  ID name score\n",
       "1 1  Jim  89   \n",
       "2 2  Tony 22   \n",
       "3 3  Lisa 78   \n",
       "4 4  Tom  78   "
      ]
     },
     "metadata": {},
     "output_type": "display_data"
    }
   ],
   "source": [
    "ID <- c(1, 2, 3, 4)\n",
    "name <- c(\"Jim\", \"Tony\", \"Lisa\", \"Tom\")\n",
    "score <- c(89, 22, 78, 78)\n",
    "(student1 <- data.frame(ID, name))\n",
    "(student2 <- data.frame(ID, score))\n",
    "total_student <- merge(student1, student2, by = \"ID\") # 或者rbind()\n",
    "total_student"
   ]
  },
  {
   "cell_type": "markdown",
   "metadata": {},
   "source": [
    "# 使用 SQL 语句操作数据框"
   ]
  },
  {
   "cell_type": "code",
   "execution_count": 65,
   "metadata": {},
   "outputs": [
    {
     "data": {
      "text/html": [
       "<table class=\"dataframe\">\n",
       "<caption>A data.frame: 32 × 11</caption>\n",
       "<thead>\n",
       "\t<tr><th></th><th scope=col>mpg</th><th scope=col>cyl</th><th scope=col>disp</th><th scope=col>hp</th><th scope=col>drat</th><th scope=col>wt</th><th scope=col>qsec</th><th scope=col>vs</th><th scope=col>am</th><th scope=col>gear</th><th scope=col>carb</th></tr>\n",
       "\t<tr><th></th><th scope=col>&lt;dbl&gt;</th><th scope=col>&lt;dbl&gt;</th><th scope=col>&lt;dbl&gt;</th><th scope=col>&lt;dbl&gt;</th><th scope=col>&lt;dbl&gt;</th><th scope=col>&lt;dbl&gt;</th><th scope=col>&lt;dbl&gt;</th><th scope=col>&lt;dbl&gt;</th><th scope=col>&lt;dbl&gt;</th><th scope=col>&lt;dbl&gt;</th><th scope=col>&lt;dbl&gt;</th></tr>\n",
       "</thead>\n",
       "<tbody>\n",
       "\t<tr><th scope=row>Mazda RX4</th><td>21.0</td><td>6</td><td>160.0</td><td>110</td><td>3.90</td><td>2.620</td><td>16.46</td><td>0</td><td>1</td><td>4</td><td>4</td></tr>\n",
       "\t<tr><th scope=row>Mazda RX4 Wag</th><td>21.0</td><td>6</td><td>160.0</td><td>110</td><td>3.90</td><td>2.875</td><td>17.02</td><td>0</td><td>1</td><td>4</td><td>4</td></tr>\n",
       "\t<tr><th scope=row>Datsun 710</th><td>22.8</td><td>4</td><td>108.0</td><td> 93</td><td>3.85</td><td>2.320</td><td>18.61</td><td>1</td><td>1</td><td>4</td><td>1</td></tr>\n",
       "\t<tr><th scope=row>Hornet 4 Drive</th><td>21.4</td><td>6</td><td>258.0</td><td>110</td><td>3.08</td><td>3.215</td><td>19.44</td><td>1</td><td>0</td><td>3</td><td>1</td></tr>\n",
       "\t<tr><th scope=row>Hornet Sportabout</th><td>18.7</td><td>8</td><td>360.0</td><td>175</td><td>3.15</td><td>3.440</td><td>17.02</td><td>0</td><td>0</td><td>3</td><td>2</td></tr>\n",
       "\t<tr><th scope=row>Valiant</th><td>18.1</td><td>6</td><td>225.0</td><td>105</td><td>2.76</td><td>3.460</td><td>20.22</td><td>1</td><td>0</td><td>3</td><td>1</td></tr>\n",
       "\t<tr><th scope=row>Duster 360</th><td>14.3</td><td>8</td><td>360.0</td><td>245</td><td>3.21</td><td>3.570</td><td>15.84</td><td>0</td><td>0</td><td>3</td><td>4</td></tr>\n",
       "\t<tr><th scope=row>Merc 240D</th><td>24.4</td><td>4</td><td>146.7</td><td> 62</td><td>3.69</td><td>3.190</td><td>20.00</td><td>1</td><td>0</td><td>4</td><td>2</td></tr>\n",
       "\t<tr><th scope=row>Merc 230</th><td>22.8</td><td>4</td><td>140.8</td><td> 95</td><td>3.92</td><td>3.150</td><td>22.90</td><td>1</td><td>0</td><td>4</td><td>2</td></tr>\n",
       "\t<tr><th scope=row>Merc 280</th><td>19.2</td><td>6</td><td>167.6</td><td>123</td><td>3.92</td><td>3.440</td><td>18.30</td><td>1</td><td>0</td><td>4</td><td>4</td></tr>\n",
       "\t<tr><th scope=row>Merc 280C</th><td>17.8</td><td>6</td><td>167.6</td><td>123</td><td>3.92</td><td>3.440</td><td>18.90</td><td>1</td><td>0</td><td>4</td><td>4</td></tr>\n",
       "\t<tr><th scope=row>Merc 450SE</th><td>16.4</td><td>8</td><td>275.8</td><td>180</td><td>3.07</td><td>4.070</td><td>17.40</td><td>0</td><td>0</td><td>3</td><td>3</td></tr>\n",
       "\t<tr><th scope=row>Merc 450SL</th><td>17.3</td><td>8</td><td>275.8</td><td>180</td><td>3.07</td><td>3.730</td><td>17.60</td><td>0</td><td>0</td><td>3</td><td>3</td></tr>\n",
       "\t<tr><th scope=row>Merc 450SLC</th><td>15.2</td><td>8</td><td>275.8</td><td>180</td><td>3.07</td><td>3.780</td><td>18.00</td><td>0</td><td>0</td><td>3</td><td>3</td></tr>\n",
       "\t<tr><th scope=row>Cadillac Fleetwood</th><td>10.4</td><td>8</td><td>472.0</td><td>205</td><td>2.93</td><td>5.250</td><td>17.98</td><td>0</td><td>0</td><td>3</td><td>4</td></tr>\n",
       "\t<tr><th scope=row>Lincoln Continental</th><td>10.4</td><td>8</td><td>460.0</td><td>215</td><td>3.00</td><td>5.424</td><td>17.82</td><td>0</td><td>0</td><td>3</td><td>4</td></tr>\n",
       "\t<tr><th scope=row>Chrysler Imperial</th><td>14.7</td><td>8</td><td>440.0</td><td>230</td><td>3.23</td><td>5.345</td><td>17.42</td><td>0</td><td>0</td><td>3</td><td>4</td></tr>\n",
       "\t<tr><th scope=row>Fiat 128</th><td>32.4</td><td>4</td><td> 78.7</td><td> 66</td><td>4.08</td><td>2.200</td><td>19.47</td><td>1</td><td>1</td><td>4</td><td>1</td></tr>\n",
       "\t<tr><th scope=row>Honda Civic</th><td>30.4</td><td>4</td><td> 75.7</td><td> 52</td><td>4.93</td><td>1.615</td><td>18.52</td><td>1</td><td>1</td><td>4</td><td>2</td></tr>\n",
       "\t<tr><th scope=row>Toyota Corolla</th><td>33.9</td><td>4</td><td> 71.1</td><td> 65</td><td>4.22</td><td>1.835</td><td>19.90</td><td>1</td><td>1</td><td>4</td><td>1</td></tr>\n",
       "\t<tr><th scope=row>Toyota Corona</th><td>21.5</td><td>4</td><td>120.1</td><td> 97</td><td>3.70</td><td>2.465</td><td>20.01</td><td>1</td><td>0</td><td>3</td><td>1</td></tr>\n",
       "\t<tr><th scope=row>Dodge Challenger</th><td>15.5</td><td>8</td><td>318.0</td><td>150</td><td>2.76</td><td>3.520</td><td>16.87</td><td>0</td><td>0</td><td>3</td><td>2</td></tr>\n",
       "\t<tr><th scope=row>AMC Javelin</th><td>15.2</td><td>8</td><td>304.0</td><td>150</td><td>3.15</td><td>3.435</td><td>17.30</td><td>0</td><td>0</td><td>3</td><td>2</td></tr>\n",
       "\t<tr><th scope=row>Camaro Z28</th><td>13.3</td><td>8</td><td>350.0</td><td>245</td><td>3.73</td><td>3.840</td><td>15.41</td><td>0</td><td>0</td><td>3</td><td>4</td></tr>\n",
       "\t<tr><th scope=row>Pontiac Firebird</th><td>19.2</td><td>8</td><td>400.0</td><td>175</td><td>3.08</td><td>3.845</td><td>17.05</td><td>0</td><td>0</td><td>3</td><td>2</td></tr>\n",
       "\t<tr><th scope=row>Fiat X1-9</th><td>27.3</td><td>4</td><td> 79.0</td><td> 66</td><td>4.08</td><td>1.935</td><td>18.90</td><td>1</td><td>1</td><td>4</td><td>1</td></tr>\n",
       "\t<tr><th scope=row>Porsche 914-2</th><td>26.0</td><td>4</td><td>120.3</td><td> 91</td><td>4.43</td><td>2.140</td><td>16.70</td><td>0</td><td>1</td><td>5</td><td>2</td></tr>\n",
       "\t<tr><th scope=row>Lotus Europa</th><td>30.4</td><td>4</td><td> 95.1</td><td>113</td><td>3.77</td><td>1.513</td><td>16.90</td><td>1</td><td>1</td><td>5</td><td>2</td></tr>\n",
       "\t<tr><th scope=row>Ford Pantera L</th><td>15.8</td><td>8</td><td>351.0</td><td>264</td><td>4.22</td><td>3.170</td><td>14.50</td><td>0</td><td>1</td><td>5</td><td>4</td></tr>\n",
       "\t<tr><th scope=row>Ferrari Dino</th><td>19.7</td><td>6</td><td>145.0</td><td>175</td><td>3.62</td><td>2.770</td><td>15.50</td><td>0</td><td>1</td><td>5</td><td>6</td></tr>\n",
       "\t<tr><th scope=row>Maserati Bora</th><td>15.0</td><td>8</td><td>301.0</td><td>335</td><td>3.54</td><td>3.570</td><td>14.60</td><td>0</td><td>1</td><td>5</td><td>8</td></tr>\n",
       "\t<tr><th scope=row>Volvo 142E</th><td>21.4</td><td>4</td><td>121.0</td><td>109</td><td>4.11</td><td>2.780</td><td>18.60</td><td>1</td><td>1</td><td>4</td><td>2</td></tr>\n",
       "</tbody>\n",
       "</table>\n"
      ],
      "text/latex": [
       "A data.frame: 32 × 11\n",
       "\\begin{tabular}{r|lllllllllll}\n",
       "  & mpg & cyl & disp & hp & drat & wt & qsec & vs & am & gear & carb\\\\\n",
       "  & <dbl> & <dbl> & <dbl> & <dbl> & <dbl> & <dbl> & <dbl> & <dbl> & <dbl> & <dbl> & <dbl>\\\\\n",
       "\\hline\n",
       "\tMazda RX4 & 21.0 & 6 & 160.0 & 110 & 3.90 & 2.620 & 16.46 & 0 & 1 & 4 & 4\\\\\n",
       "\tMazda RX4 Wag & 21.0 & 6 & 160.0 & 110 & 3.90 & 2.875 & 17.02 & 0 & 1 & 4 & 4\\\\\n",
       "\tDatsun 710 & 22.8 & 4 & 108.0 &  93 & 3.85 & 2.320 & 18.61 & 1 & 1 & 4 & 1\\\\\n",
       "\tHornet 4 Drive & 21.4 & 6 & 258.0 & 110 & 3.08 & 3.215 & 19.44 & 1 & 0 & 3 & 1\\\\\n",
       "\tHornet Sportabout & 18.7 & 8 & 360.0 & 175 & 3.15 & 3.440 & 17.02 & 0 & 0 & 3 & 2\\\\\n",
       "\tValiant & 18.1 & 6 & 225.0 & 105 & 2.76 & 3.460 & 20.22 & 1 & 0 & 3 & 1\\\\\n",
       "\tDuster 360 & 14.3 & 8 & 360.0 & 245 & 3.21 & 3.570 & 15.84 & 0 & 0 & 3 & 4\\\\\n",
       "\tMerc 240D & 24.4 & 4 & 146.7 &  62 & 3.69 & 3.190 & 20.00 & 1 & 0 & 4 & 2\\\\\n",
       "\tMerc 230 & 22.8 & 4 & 140.8 &  95 & 3.92 & 3.150 & 22.90 & 1 & 0 & 4 & 2\\\\\n",
       "\tMerc 280 & 19.2 & 6 & 167.6 & 123 & 3.92 & 3.440 & 18.30 & 1 & 0 & 4 & 4\\\\\n",
       "\tMerc 280C & 17.8 & 6 & 167.6 & 123 & 3.92 & 3.440 & 18.90 & 1 & 0 & 4 & 4\\\\\n",
       "\tMerc 450SE & 16.4 & 8 & 275.8 & 180 & 3.07 & 4.070 & 17.40 & 0 & 0 & 3 & 3\\\\\n",
       "\tMerc 450SL & 17.3 & 8 & 275.8 & 180 & 3.07 & 3.730 & 17.60 & 0 & 0 & 3 & 3\\\\\n",
       "\tMerc 450SLC & 15.2 & 8 & 275.8 & 180 & 3.07 & 3.780 & 18.00 & 0 & 0 & 3 & 3\\\\\n",
       "\tCadillac Fleetwood & 10.4 & 8 & 472.0 & 205 & 2.93 & 5.250 & 17.98 & 0 & 0 & 3 & 4\\\\\n",
       "\tLincoln Continental & 10.4 & 8 & 460.0 & 215 & 3.00 & 5.424 & 17.82 & 0 & 0 & 3 & 4\\\\\n",
       "\tChrysler Imperial & 14.7 & 8 & 440.0 & 230 & 3.23 & 5.345 & 17.42 & 0 & 0 & 3 & 4\\\\\n",
       "\tFiat 128 & 32.4 & 4 &  78.7 &  66 & 4.08 & 2.200 & 19.47 & 1 & 1 & 4 & 1\\\\\n",
       "\tHonda Civic & 30.4 & 4 &  75.7 &  52 & 4.93 & 1.615 & 18.52 & 1 & 1 & 4 & 2\\\\\n",
       "\tToyota Corolla & 33.9 & 4 &  71.1 &  65 & 4.22 & 1.835 & 19.90 & 1 & 1 & 4 & 1\\\\\n",
       "\tToyota Corona & 21.5 & 4 & 120.1 &  97 & 3.70 & 2.465 & 20.01 & 1 & 0 & 3 & 1\\\\\n",
       "\tDodge Challenger & 15.5 & 8 & 318.0 & 150 & 2.76 & 3.520 & 16.87 & 0 & 0 & 3 & 2\\\\\n",
       "\tAMC Javelin & 15.2 & 8 & 304.0 & 150 & 3.15 & 3.435 & 17.30 & 0 & 0 & 3 & 2\\\\\n",
       "\tCamaro Z28 & 13.3 & 8 & 350.0 & 245 & 3.73 & 3.840 & 15.41 & 0 & 0 & 3 & 4\\\\\n",
       "\tPontiac Firebird & 19.2 & 8 & 400.0 & 175 & 3.08 & 3.845 & 17.05 & 0 & 0 & 3 & 2\\\\\n",
       "\tFiat X1-9 & 27.3 & 4 &  79.0 &  66 & 4.08 & 1.935 & 18.90 & 1 & 1 & 4 & 1\\\\\n",
       "\tPorsche 914-2 & 26.0 & 4 & 120.3 &  91 & 4.43 & 2.140 & 16.70 & 0 & 1 & 5 & 2\\\\\n",
       "\tLotus Europa & 30.4 & 4 &  95.1 & 113 & 3.77 & 1.513 & 16.90 & 1 & 1 & 5 & 2\\\\\n",
       "\tFord Pantera L & 15.8 & 8 & 351.0 & 264 & 4.22 & 3.170 & 14.50 & 0 & 1 & 5 & 4\\\\\n",
       "\tFerrari Dino & 19.7 & 6 & 145.0 & 175 & 3.62 & 2.770 & 15.50 & 0 & 1 & 5 & 6\\\\\n",
       "\tMaserati Bora & 15.0 & 8 & 301.0 & 335 & 3.54 & 3.570 & 14.60 & 0 & 1 & 5 & 8\\\\\n",
       "\tVolvo 142E & 21.4 & 4 & 121.0 & 109 & 4.11 & 2.780 & 18.60 & 1 & 1 & 4 & 2\\\\\n",
       "\\end{tabular}\n"
      ],
      "text/markdown": [
       "\n",
       "A data.frame: 32 × 11\n",
       "\n",
       "| <!--/--> | mpg &lt;dbl&gt; | cyl &lt;dbl&gt; | disp &lt;dbl&gt; | hp &lt;dbl&gt; | drat &lt;dbl&gt; | wt &lt;dbl&gt; | qsec &lt;dbl&gt; | vs &lt;dbl&gt; | am &lt;dbl&gt; | gear &lt;dbl&gt; | carb &lt;dbl&gt; |\n",
       "|---|---|---|---|---|---|---|---|---|---|---|---|\n",
       "| Mazda RX4 | 21.0 | 6 | 160.0 | 110 | 3.90 | 2.620 | 16.46 | 0 | 1 | 4 | 4 |\n",
       "| Mazda RX4 Wag | 21.0 | 6 | 160.0 | 110 | 3.90 | 2.875 | 17.02 | 0 | 1 | 4 | 4 |\n",
       "| Datsun 710 | 22.8 | 4 | 108.0 |  93 | 3.85 | 2.320 | 18.61 | 1 | 1 | 4 | 1 |\n",
       "| Hornet 4 Drive | 21.4 | 6 | 258.0 | 110 | 3.08 | 3.215 | 19.44 | 1 | 0 | 3 | 1 |\n",
       "| Hornet Sportabout | 18.7 | 8 | 360.0 | 175 | 3.15 | 3.440 | 17.02 | 0 | 0 | 3 | 2 |\n",
       "| Valiant | 18.1 | 6 | 225.0 | 105 | 2.76 | 3.460 | 20.22 | 1 | 0 | 3 | 1 |\n",
       "| Duster 360 | 14.3 | 8 | 360.0 | 245 | 3.21 | 3.570 | 15.84 | 0 | 0 | 3 | 4 |\n",
       "| Merc 240D | 24.4 | 4 | 146.7 |  62 | 3.69 | 3.190 | 20.00 | 1 | 0 | 4 | 2 |\n",
       "| Merc 230 | 22.8 | 4 | 140.8 |  95 | 3.92 | 3.150 | 22.90 | 1 | 0 | 4 | 2 |\n",
       "| Merc 280 | 19.2 | 6 | 167.6 | 123 | 3.92 | 3.440 | 18.30 | 1 | 0 | 4 | 4 |\n",
       "| Merc 280C | 17.8 | 6 | 167.6 | 123 | 3.92 | 3.440 | 18.90 | 1 | 0 | 4 | 4 |\n",
       "| Merc 450SE | 16.4 | 8 | 275.8 | 180 | 3.07 | 4.070 | 17.40 | 0 | 0 | 3 | 3 |\n",
       "| Merc 450SL | 17.3 | 8 | 275.8 | 180 | 3.07 | 3.730 | 17.60 | 0 | 0 | 3 | 3 |\n",
       "| Merc 450SLC | 15.2 | 8 | 275.8 | 180 | 3.07 | 3.780 | 18.00 | 0 | 0 | 3 | 3 |\n",
       "| Cadillac Fleetwood | 10.4 | 8 | 472.0 | 205 | 2.93 | 5.250 | 17.98 | 0 | 0 | 3 | 4 |\n",
       "| Lincoln Continental | 10.4 | 8 | 460.0 | 215 | 3.00 | 5.424 | 17.82 | 0 | 0 | 3 | 4 |\n",
       "| Chrysler Imperial | 14.7 | 8 | 440.0 | 230 | 3.23 | 5.345 | 17.42 | 0 | 0 | 3 | 4 |\n",
       "| Fiat 128 | 32.4 | 4 |  78.7 |  66 | 4.08 | 2.200 | 19.47 | 1 | 1 | 4 | 1 |\n",
       "| Honda Civic | 30.4 | 4 |  75.7 |  52 | 4.93 | 1.615 | 18.52 | 1 | 1 | 4 | 2 |\n",
       "| Toyota Corolla | 33.9 | 4 |  71.1 |  65 | 4.22 | 1.835 | 19.90 | 1 | 1 | 4 | 1 |\n",
       "| Toyota Corona | 21.5 | 4 | 120.1 |  97 | 3.70 | 2.465 | 20.01 | 1 | 0 | 3 | 1 |\n",
       "| Dodge Challenger | 15.5 | 8 | 318.0 | 150 | 2.76 | 3.520 | 16.87 | 0 | 0 | 3 | 2 |\n",
       "| AMC Javelin | 15.2 | 8 | 304.0 | 150 | 3.15 | 3.435 | 17.30 | 0 | 0 | 3 | 2 |\n",
       "| Camaro Z28 | 13.3 | 8 | 350.0 | 245 | 3.73 | 3.840 | 15.41 | 0 | 0 | 3 | 4 |\n",
       "| Pontiac Firebird | 19.2 | 8 | 400.0 | 175 | 3.08 | 3.845 | 17.05 | 0 | 0 | 3 | 2 |\n",
       "| Fiat X1-9 | 27.3 | 4 |  79.0 |  66 | 4.08 | 1.935 | 18.90 | 1 | 1 | 4 | 1 |\n",
       "| Porsche 914-2 | 26.0 | 4 | 120.3 |  91 | 4.43 | 2.140 | 16.70 | 0 | 1 | 5 | 2 |\n",
       "| Lotus Europa | 30.4 | 4 |  95.1 | 113 | 3.77 | 1.513 | 16.90 | 1 | 1 | 5 | 2 |\n",
       "| Ford Pantera L | 15.8 | 8 | 351.0 | 264 | 4.22 | 3.170 | 14.50 | 0 | 1 | 5 | 4 |\n",
       "| Ferrari Dino | 19.7 | 6 | 145.0 | 175 | 3.62 | 2.770 | 15.50 | 0 | 1 | 5 | 6 |\n",
       "| Maserati Bora | 15.0 | 8 | 301.0 | 335 | 3.54 | 3.570 | 14.60 | 0 | 1 | 5 | 8 |\n",
       "| Volvo 142E | 21.4 | 4 | 121.0 | 109 | 4.11 | 2.780 | 18.60 | 1 | 1 | 4 | 2 |\n",
       "\n"
      ],
      "text/plain": [
       "                    mpg  cyl disp  hp  drat wt    qsec  vs am gear carb\n",
       "Mazda RX4           21.0 6   160.0 110 3.90 2.620 16.46 0  1  4    4   \n",
       "Mazda RX4 Wag       21.0 6   160.0 110 3.90 2.875 17.02 0  1  4    4   \n",
       "Datsun 710          22.8 4   108.0  93 3.85 2.320 18.61 1  1  4    1   \n",
       "Hornet 4 Drive      21.4 6   258.0 110 3.08 3.215 19.44 1  0  3    1   \n",
       "Hornet Sportabout   18.7 8   360.0 175 3.15 3.440 17.02 0  0  3    2   \n",
       "Valiant             18.1 6   225.0 105 2.76 3.460 20.22 1  0  3    1   \n",
       "Duster 360          14.3 8   360.0 245 3.21 3.570 15.84 0  0  3    4   \n",
       "Merc 240D           24.4 4   146.7  62 3.69 3.190 20.00 1  0  4    2   \n",
       "Merc 230            22.8 4   140.8  95 3.92 3.150 22.90 1  0  4    2   \n",
       "Merc 280            19.2 6   167.6 123 3.92 3.440 18.30 1  0  4    4   \n",
       "Merc 280C           17.8 6   167.6 123 3.92 3.440 18.90 1  0  4    4   \n",
       "Merc 450SE          16.4 8   275.8 180 3.07 4.070 17.40 0  0  3    3   \n",
       "Merc 450SL          17.3 8   275.8 180 3.07 3.730 17.60 0  0  3    3   \n",
       "Merc 450SLC         15.2 8   275.8 180 3.07 3.780 18.00 0  0  3    3   \n",
       "Cadillac Fleetwood  10.4 8   472.0 205 2.93 5.250 17.98 0  0  3    4   \n",
       "Lincoln Continental 10.4 8   460.0 215 3.00 5.424 17.82 0  0  3    4   \n",
       "Chrysler Imperial   14.7 8   440.0 230 3.23 5.345 17.42 0  0  3    4   \n",
       "Fiat 128            32.4 4    78.7  66 4.08 2.200 19.47 1  1  4    1   \n",
       "Honda Civic         30.4 4    75.7  52 4.93 1.615 18.52 1  1  4    2   \n",
       "Toyota Corolla      33.9 4    71.1  65 4.22 1.835 19.90 1  1  4    1   \n",
       "Toyota Corona       21.5 4   120.1  97 3.70 2.465 20.01 1  0  3    1   \n",
       "Dodge Challenger    15.5 8   318.0 150 2.76 3.520 16.87 0  0  3    2   \n",
       "AMC Javelin         15.2 8   304.0 150 3.15 3.435 17.30 0  0  3    2   \n",
       "Camaro Z28          13.3 8   350.0 245 3.73 3.840 15.41 0  0  3    4   \n",
       "Pontiac Firebird    19.2 8   400.0 175 3.08 3.845 17.05 0  0  3    2   \n",
       "Fiat X1-9           27.3 4    79.0  66 4.08 1.935 18.90 1  1  4    1   \n",
       "Porsche 914-2       26.0 4   120.3  91 4.43 2.140 16.70 0  1  5    2   \n",
       "Lotus Europa        30.4 4    95.1 113 3.77 1.513 16.90 1  1  5    2   \n",
       "Ford Pantera L      15.8 8   351.0 264 4.22 3.170 14.50 0  1  5    4   \n",
       "Ferrari Dino        19.7 6   145.0 175 3.62 2.770 15.50 0  1  5    6   \n",
       "Maserati Bora       15.0 8   301.0 335 3.54 3.570 14.60 0  1  5    8   \n",
       "Volvo 142E          21.4 4   121.0 109 4.11 2.780 18.60 1  1  4    2   "
      ]
     },
     "metadata": {},
     "output_type": "display_data"
    }
   ],
   "source": [
    "mtcars"
   ]
  },
  {
   "cell_type": "code",
   "execution_count": 66,
   "metadata": {},
   "outputs": [
    {
     "name": "stderr",
     "output_type": "stream",
     "text": [
      "Warning message:\n",
      "\"package 'sqldf' was built under R version 4.3.3\"\n",
      "Loading required package: gsubfn\n",
      "\n",
      "Warning message:\n",
      "\"package 'gsubfn' was built under R version 4.3.3\"\n",
      "Loading required package: proto\n",
      "\n",
      "Warning message:\n",
      "\"package 'proto' was built under R version 4.3.3\"\n",
      "Loading required package: RSQLite\n",
      "\n",
      "Warning message:\n",
      "\"package 'RSQLite' was built under R version 4.3.3\"\n"
     ]
    },
    {
     "data": {
      "text/html": [
       "<table class=\"dataframe\">\n",
       "<caption>A data.frame: 7 × 11</caption>\n",
       "<thead>\n",
       "\t<tr><th></th><th scope=col>mpg</th><th scope=col>cyl</th><th scope=col>disp</th><th scope=col>hp</th><th scope=col>drat</th><th scope=col>wt</th><th scope=col>qsec</th><th scope=col>vs</th><th scope=col>am</th><th scope=col>gear</th><th scope=col>carb</th></tr>\n",
       "\t<tr><th></th><th scope=col>&lt;dbl&gt;</th><th scope=col>&lt;dbl&gt;</th><th scope=col>&lt;dbl&gt;</th><th scope=col>&lt;dbl&gt;</th><th scope=col>&lt;dbl&gt;</th><th scope=col>&lt;dbl&gt;</th><th scope=col>&lt;dbl&gt;</th><th scope=col>&lt;dbl&gt;</th><th scope=col>&lt;dbl&gt;</th><th scope=col>&lt;dbl&gt;</th><th scope=col>&lt;dbl&gt;</th></tr>\n",
       "</thead>\n",
       "<tbody>\n",
       "\t<tr><th scope=row>Valiant</th><td>18.1</td><td>6</td><td>225.0</td><td>105</td><td>2.76</td><td>3.460</td><td>20.22</td><td>1</td><td>0</td><td>3</td><td>1</td></tr>\n",
       "\t<tr><th scope=row>Hornet 4 Drive</th><td>21.4</td><td>6</td><td>258.0</td><td>110</td><td>3.08</td><td>3.215</td><td>19.44</td><td>1</td><td>0</td><td>3</td><td>1</td></tr>\n",
       "\t<tr><th scope=row>Toyota Corona</th><td>21.5</td><td>4</td><td>120.1</td><td> 97</td><td>3.70</td><td>2.465</td><td>20.01</td><td>1</td><td>0</td><td>3</td><td>1</td></tr>\n",
       "\t<tr><th scope=row>Datsun 710</th><td>22.8</td><td>4</td><td>108.0</td><td> 93</td><td>3.85</td><td>2.320</td><td>18.61</td><td>1</td><td>1</td><td>4</td><td>1</td></tr>\n",
       "\t<tr><th scope=row>Fiat X1-9</th><td>27.3</td><td>4</td><td> 79.0</td><td> 66</td><td>4.08</td><td>1.935</td><td>18.90</td><td>1</td><td>1</td><td>4</td><td>1</td></tr>\n",
       "\t<tr><th scope=row>Fiat 128</th><td>32.4</td><td>4</td><td> 78.7</td><td> 66</td><td>4.08</td><td>2.200</td><td>19.47</td><td>1</td><td>1</td><td>4</td><td>1</td></tr>\n",
       "\t<tr><th scope=row>Toyota Corolla</th><td>33.9</td><td>4</td><td> 71.1</td><td> 65</td><td>4.22</td><td>1.835</td><td>19.90</td><td>1</td><td>1</td><td>4</td><td>1</td></tr>\n",
       "</tbody>\n",
       "</table>\n"
      ],
      "text/latex": [
       "A data.frame: 7 × 11\n",
       "\\begin{tabular}{r|lllllllllll}\n",
       "  & mpg & cyl & disp & hp & drat & wt & qsec & vs & am & gear & carb\\\\\n",
       "  & <dbl> & <dbl> & <dbl> & <dbl> & <dbl> & <dbl> & <dbl> & <dbl> & <dbl> & <dbl> & <dbl>\\\\\n",
       "\\hline\n",
       "\tValiant & 18.1 & 6 & 225.0 & 105 & 2.76 & 3.460 & 20.22 & 1 & 0 & 3 & 1\\\\\n",
       "\tHornet 4 Drive & 21.4 & 6 & 258.0 & 110 & 3.08 & 3.215 & 19.44 & 1 & 0 & 3 & 1\\\\\n",
       "\tToyota Corona & 21.5 & 4 & 120.1 &  97 & 3.70 & 2.465 & 20.01 & 1 & 0 & 3 & 1\\\\\n",
       "\tDatsun 710 & 22.8 & 4 & 108.0 &  93 & 3.85 & 2.320 & 18.61 & 1 & 1 & 4 & 1\\\\\n",
       "\tFiat X1-9 & 27.3 & 4 &  79.0 &  66 & 4.08 & 1.935 & 18.90 & 1 & 1 & 4 & 1\\\\\n",
       "\tFiat 128 & 32.4 & 4 &  78.7 &  66 & 4.08 & 2.200 & 19.47 & 1 & 1 & 4 & 1\\\\\n",
       "\tToyota Corolla & 33.9 & 4 &  71.1 &  65 & 4.22 & 1.835 & 19.90 & 1 & 1 & 4 & 1\\\\\n",
       "\\end{tabular}\n"
      ],
      "text/markdown": [
       "\n",
       "A data.frame: 7 × 11\n",
       "\n",
       "| <!--/--> | mpg &lt;dbl&gt; | cyl &lt;dbl&gt; | disp &lt;dbl&gt; | hp &lt;dbl&gt; | drat &lt;dbl&gt; | wt &lt;dbl&gt; | qsec &lt;dbl&gt; | vs &lt;dbl&gt; | am &lt;dbl&gt; | gear &lt;dbl&gt; | carb &lt;dbl&gt; |\n",
       "|---|---|---|---|---|---|---|---|---|---|---|---|\n",
       "| Valiant | 18.1 | 6 | 225.0 | 105 | 2.76 | 3.460 | 20.22 | 1 | 0 | 3 | 1 |\n",
       "| Hornet 4 Drive | 21.4 | 6 | 258.0 | 110 | 3.08 | 3.215 | 19.44 | 1 | 0 | 3 | 1 |\n",
       "| Toyota Corona | 21.5 | 4 | 120.1 |  97 | 3.70 | 2.465 | 20.01 | 1 | 0 | 3 | 1 |\n",
       "| Datsun 710 | 22.8 | 4 | 108.0 |  93 | 3.85 | 2.320 | 18.61 | 1 | 1 | 4 | 1 |\n",
       "| Fiat X1-9 | 27.3 | 4 |  79.0 |  66 | 4.08 | 1.935 | 18.90 | 1 | 1 | 4 | 1 |\n",
       "| Fiat 128 | 32.4 | 4 |  78.7 |  66 | 4.08 | 2.200 | 19.47 | 1 | 1 | 4 | 1 |\n",
       "| Toyota Corolla | 33.9 | 4 |  71.1 |  65 | 4.22 | 1.835 | 19.90 | 1 | 1 | 4 | 1 |\n",
       "\n"
      ],
      "text/plain": [
       "               mpg  cyl disp  hp  drat wt    qsec  vs am gear carb\n",
       "Valiant        18.1 6   225.0 105 2.76 3.460 20.22 1  0  3    1   \n",
       "Hornet 4 Drive 21.4 6   258.0 110 3.08 3.215 19.44 1  0  3    1   \n",
       "Toyota Corona  21.5 4   120.1  97 3.70 2.465 20.01 1  0  3    1   \n",
       "Datsun 710     22.8 4   108.0  93 3.85 2.320 18.61 1  1  4    1   \n",
       "Fiat X1-9      27.3 4    79.0  66 4.08 1.935 18.90 1  1  4    1   \n",
       "Fiat 128       32.4 4    78.7  66 4.08 2.200 19.47 1  1  4    1   \n",
       "Toyota Corolla 33.9 4    71.1  65 4.22 1.835 19.90 1  1  4    1   "
      ]
     },
     "metadata": {},
     "output_type": "display_data"
    }
   ],
   "source": [
    "library(sqldf)\n",
    "#从数据框mtcars中选择所有的变量（列），保留carb=1的行，按照mpg对车型进行升序排序，并将结果保存为数据框newdf。参数row.names=TRUE将原始数据框中的行名延续到了新数据框中 \n",
    "newdf <- sqldf(\"select * from mtcars where carb=1 order by mpg\", row.names=TRUE) \n",
    "newdf"
   ]
  },
  {
   "cell_type": "code",
   "execution_count": 67,
   "metadata": {},
   "outputs": [
    {
     "data": {
      "text/html": [
       "<table class=\"dataframe\">\n",
       "<caption>A data.frame: 3 × 3</caption>\n",
       "<thead>\n",
       "\t<tr><th scope=col>avg_mpg</th><th scope=col>avg_disp</th><th scope=col>gear</th></tr>\n",
       "\t<tr><th scope=col>&lt;dbl&gt;</th><th scope=col>&lt;dbl&gt;</th><th scope=col>&lt;dbl&gt;</th></tr>\n",
       "</thead>\n",
       "<tbody>\n",
       "\t<tr><td>20.33333</td><td>201.0333</td><td>3</td></tr>\n",
       "\t<tr><td>24.53333</td><td>123.0167</td><td>4</td></tr>\n",
       "\t<tr><td>25.36667</td><td>120.1333</td><td>5</td></tr>\n",
       "</tbody>\n",
       "</table>\n"
      ],
      "text/latex": [
       "A data.frame: 3 × 3\n",
       "\\begin{tabular}{lll}\n",
       " avg\\_mpg & avg\\_disp & gear\\\\\n",
       " <dbl> & <dbl> & <dbl>\\\\\n",
       "\\hline\n",
       "\t 20.33333 & 201.0333 & 3\\\\\n",
       "\t 24.53333 & 123.0167 & 4\\\\\n",
       "\t 25.36667 & 120.1333 & 5\\\\\n",
       "\\end{tabular}\n"
      ],
      "text/markdown": [
       "\n",
       "A data.frame: 3 × 3\n",
       "\n",
       "| avg_mpg &lt;dbl&gt; | avg_disp &lt;dbl&gt; | gear &lt;dbl&gt; |\n",
       "|---|---|---|\n",
       "| 20.33333 | 201.0333 | 3 |\n",
       "| 24.53333 | 123.0167 | 4 |\n",
       "| 25.36667 | 120.1333 | 5 |\n",
       "\n"
      ],
      "text/plain": [
       "  avg_mpg  avg_disp gear\n",
       "1 20.33333 201.0333 3   \n",
       "2 24.53333 123.0167 4   \n",
       "3 25.36667 120.1333 5   "
      ]
     },
     "metadata": {},
     "output_type": "display_data"
    }
   ],
   "source": [
    "sqldf(\"select avg(mpg) as avg_mpg, avg(disp) as avg_disp, gear from mtcars where cyl in (4, 6) group by gear\")    \n",
    "#输出四缸和六缸车型每一gear水平的mpg和disp的平均值 "
   ]
  },
  {
   "cell_type": "markdown",
   "metadata": {},
   "source": [
    "# 整合数据 "
   ]
  },
  {
   "cell_type": "markdown",
   "metadata": {},
   "source": [
    "## 分组汇总\n",
    "--aggregate(x, by, FUN)"
   ]
  },
  {
   "cell_type": "markdown",
   "metadata": {},
   "source": [
    "根据汽缸数和挡位数整合 mtcars 数据，并返回各个数值型变量的均值"
   ]
  },
  {
   "cell_type": "code",
   "execution_count": 68,
   "metadata": {},
   "outputs": [
    {
     "data": {
      "text/html": [
       "<table class=\"dataframe\">\n",
       "<caption>A data.frame: 8 × 13</caption>\n",
       "<thead>\n",
       "\t<tr><th scope=col>Group.1</th><th scope=col>Group.2</th><th scope=col>mpg</th><th scope=col>cyl</th><th scope=col>disp</th><th scope=col>hp</th><th scope=col>drat</th><th scope=col>wt</th><th scope=col>qsec</th><th scope=col>vs</th><th scope=col>am</th><th scope=col>gear</th><th scope=col>carb</th></tr>\n",
       "\t<tr><th scope=col>&lt;dbl&gt;</th><th scope=col>&lt;dbl&gt;</th><th scope=col>&lt;dbl&gt;</th><th scope=col>&lt;dbl&gt;</th><th scope=col>&lt;dbl&gt;</th><th scope=col>&lt;dbl&gt;</th><th scope=col>&lt;dbl&gt;</th><th scope=col>&lt;dbl&gt;</th><th scope=col>&lt;dbl&gt;</th><th scope=col>&lt;dbl&gt;</th><th scope=col>&lt;dbl&gt;</th><th scope=col>&lt;dbl&gt;</th><th scope=col>&lt;dbl&gt;</th></tr>\n",
       "</thead>\n",
       "<tbody>\n",
       "\t<tr><td>4</td><td>3</td><td>21.5</td><td>4</td><td>120</td><td> 97</td><td>3.70</td><td>2.46</td><td>20.0</td><td>1.0</td><td>0.00</td><td>3</td><td>1.00</td></tr>\n",
       "\t<tr><td>6</td><td>3</td><td>19.8</td><td>6</td><td>242</td><td>108</td><td>2.92</td><td>3.34</td><td>19.8</td><td>1.0</td><td>0.00</td><td>3</td><td>1.00</td></tr>\n",
       "\t<tr><td>8</td><td>3</td><td>15.1</td><td>8</td><td>358</td><td>194</td><td>3.12</td><td>4.10</td><td>17.1</td><td>0.0</td><td>0.00</td><td>3</td><td>3.08</td></tr>\n",
       "\t<tr><td>4</td><td>4</td><td>26.9</td><td>4</td><td>103</td><td> 76</td><td>4.11</td><td>2.38</td><td>19.6</td><td>1.0</td><td>0.75</td><td>4</td><td>1.50</td></tr>\n",
       "\t<tr><td>6</td><td>4</td><td>19.8</td><td>6</td><td>164</td><td>116</td><td>3.91</td><td>3.09</td><td>17.7</td><td>0.5</td><td>0.50</td><td>4</td><td>4.00</td></tr>\n",
       "\t<tr><td>4</td><td>5</td><td>28.2</td><td>4</td><td>108</td><td>102</td><td>4.10</td><td>1.83</td><td>16.8</td><td>0.5</td><td>1.00</td><td>5</td><td>2.00</td></tr>\n",
       "\t<tr><td>6</td><td>5</td><td>19.7</td><td>6</td><td>145</td><td>175</td><td>3.62</td><td>2.77</td><td>15.5</td><td>0.0</td><td>1.00</td><td>5</td><td>6.00</td></tr>\n",
       "\t<tr><td>8</td><td>5</td><td>15.4</td><td>8</td><td>326</td><td>300</td><td>3.88</td><td>3.37</td><td>14.6</td><td>0.0</td><td>1.00</td><td>5</td><td>6.00</td></tr>\n",
       "</tbody>\n",
       "</table>\n"
      ],
      "text/latex": [
       "A data.frame: 8 × 13\n",
       "\\begin{tabular}{lllllllllllll}\n",
       " Group.1 & Group.2 & mpg & cyl & disp & hp & drat & wt & qsec & vs & am & gear & carb\\\\\n",
       " <dbl> & <dbl> & <dbl> & <dbl> & <dbl> & <dbl> & <dbl> & <dbl> & <dbl> & <dbl> & <dbl> & <dbl> & <dbl>\\\\\n",
       "\\hline\n",
       "\t 4 & 3 & 21.5 & 4 & 120 &  97 & 3.70 & 2.46 & 20.0 & 1.0 & 0.00 & 3 & 1.00\\\\\n",
       "\t 6 & 3 & 19.8 & 6 & 242 & 108 & 2.92 & 3.34 & 19.8 & 1.0 & 0.00 & 3 & 1.00\\\\\n",
       "\t 8 & 3 & 15.1 & 8 & 358 & 194 & 3.12 & 4.10 & 17.1 & 0.0 & 0.00 & 3 & 3.08\\\\\n",
       "\t 4 & 4 & 26.9 & 4 & 103 &  76 & 4.11 & 2.38 & 19.6 & 1.0 & 0.75 & 4 & 1.50\\\\\n",
       "\t 6 & 4 & 19.8 & 6 & 164 & 116 & 3.91 & 3.09 & 17.7 & 0.5 & 0.50 & 4 & 4.00\\\\\n",
       "\t 4 & 5 & 28.2 & 4 & 108 & 102 & 4.10 & 1.83 & 16.8 & 0.5 & 1.00 & 5 & 2.00\\\\\n",
       "\t 6 & 5 & 19.7 & 6 & 145 & 175 & 3.62 & 2.77 & 15.5 & 0.0 & 1.00 & 5 & 6.00\\\\\n",
       "\t 8 & 5 & 15.4 & 8 & 326 & 300 & 3.88 & 3.37 & 14.6 & 0.0 & 1.00 & 5 & 6.00\\\\\n",
       "\\end{tabular}\n"
      ],
      "text/markdown": [
       "\n",
       "A data.frame: 8 × 13\n",
       "\n",
       "| Group.1 &lt;dbl&gt; | Group.2 &lt;dbl&gt; | mpg &lt;dbl&gt; | cyl &lt;dbl&gt; | disp &lt;dbl&gt; | hp &lt;dbl&gt; | drat &lt;dbl&gt; | wt &lt;dbl&gt; | qsec &lt;dbl&gt; | vs &lt;dbl&gt; | am &lt;dbl&gt; | gear &lt;dbl&gt; | carb &lt;dbl&gt; |\n",
       "|---|---|---|---|---|---|---|---|---|---|---|---|---|\n",
       "| 4 | 3 | 21.5 | 4 | 120 |  97 | 3.70 | 2.46 | 20.0 | 1.0 | 0.00 | 3 | 1.00 |\n",
       "| 6 | 3 | 19.8 | 6 | 242 | 108 | 2.92 | 3.34 | 19.8 | 1.0 | 0.00 | 3 | 1.00 |\n",
       "| 8 | 3 | 15.1 | 8 | 358 | 194 | 3.12 | 4.10 | 17.1 | 0.0 | 0.00 | 3 | 3.08 |\n",
       "| 4 | 4 | 26.9 | 4 | 103 |  76 | 4.11 | 2.38 | 19.6 | 1.0 | 0.75 | 4 | 1.50 |\n",
       "| 6 | 4 | 19.8 | 6 | 164 | 116 | 3.91 | 3.09 | 17.7 | 0.5 | 0.50 | 4 | 4.00 |\n",
       "| 4 | 5 | 28.2 | 4 | 108 | 102 | 4.10 | 1.83 | 16.8 | 0.5 | 1.00 | 5 | 2.00 |\n",
       "| 6 | 5 | 19.7 | 6 | 145 | 175 | 3.62 | 2.77 | 15.5 | 0.0 | 1.00 | 5 | 6.00 |\n",
       "| 8 | 5 | 15.4 | 8 | 326 | 300 | 3.88 | 3.37 | 14.6 | 0.0 | 1.00 | 5 | 6.00 |\n",
       "\n"
      ],
      "text/plain": [
       "  Group.1 Group.2 mpg  cyl disp hp  drat wt   qsec vs  am   gear carb\n",
       "1 4       3       21.5 4   120   97 3.70 2.46 20.0 1.0 0.00 3    1.00\n",
       "2 6       3       19.8 6   242  108 2.92 3.34 19.8 1.0 0.00 3    1.00\n",
       "3 8       3       15.1 8   358  194 3.12 4.10 17.1 0.0 0.00 3    3.08\n",
       "4 4       4       26.9 4   103   76 4.11 2.38 19.6 1.0 0.75 4    1.50\n",
       "5 6       4       19.8 6   164  116 3.91 3.09 17.7 0.5 0.50 4    4.00\n",
       "6 4       5       28.2 4   108  102 4.10 1.83 16.8 0.5 1.00 5    2.00\n",
       "7 6       5       19.7 6   145  175 3.62 2.77 15.5 0.0 1.00 5    6.00\n",
       "8 8       5       15.4 8   326  300 3.88 3.37 14.6 0.0 1.00 5    6.00"
      ]
     },
     "metadata": {},
     "output_type": "display_data"
    }
   ],
   "source": [
    "options(digits = 3)\n",
    "attach(mtcars)\n",
    "aggdata <- aggregate(mtcars, by = list(cyl, gear), FUN = mean, na.rm = TRUE)\n",
    "aggdata"
   ]
  },
  {
   "cell_type": "raw",
   "metadata": {},
   "source": [
    "在结果中， Group.1 表示汽缸数量（4、6或8）， Group.2 代表挡位数（3、4或5）"
   ]
  },
  {
   "cell_type": "markdown",
   "metadata": {},
   "source": [
    "## 按照指定字段分组\n",
    "--split函数"
   ]
  },
  {
   "cell_type": "code",
   "execution_count": 69,
   "metadata": {},
   "outputs": [
    {
     "data": {
      "text/html": [
       "<table class=\"dataframe\">\n",
       "<caption>A data.frame: 32 × 11</caption>\n",
       "<thead>\n",
       "\t<tr><th></th><th scope=col>mpg</th><th scope=col>cyl</th><th scope=col>disp</th><th scope=col>hp</th><th scope=col>drat</th><th scope=col>wt</th><th scope=col>qsec</th><th scope=col>vs</th><th scope=col>am</th><th scope=col>gear</th><th scope=col>carb</th></tr>\n",
       "\t<tr><th></th><th scope=col>&lt;dbl&gt;</th><th scope=col>&lt;dbl&gt;</th><th scope=col>&lt;dbl&gt;</th><th scope=col>&lt;dbl&gt;</th><th scope=col>&lt;dbl&gt;</th><th scope=col>&lt;dbl&gt;</th><th scope=col>&lt;dbl&gt;</th><th scope=col>&lt;dbl&gt;</th><th scope=col>&lt;dbl&gt;</th><th scope=col>&lt;dbl&gt;</th><th scope=col>&lt;dbl&gt;</th></tr>\n",
       "</thead>\n",
       "<tbody>\n",
       "\t<tr><th scope=row>Mazda RX4</th><td>21.0</td><td>6</td><td>160.0</td><td>110</td><td>3.90</td><td>2.62</td><td>16.5</td><td>0</td><td>1</td><td>4</td><td>4</td></tr>\n",
       "\t<tr><th scope=row>Mazda RX4 Wag</th><td>21.0</td><td>6</td><td>160.0</td><td>110</td><td>3.90</td><td>2.88</td><td>17.0</td><td>0</td><td>1</td><td>4</td><td>4</td></tr>\n",
       "\t<tr><th scope=row>Datsun 710</th><td>22.8</td><td>4</td><td>108.0</td><td> 93</td><td>3.85</td><td>2.32</td><td>18.6</td><td>1</td><td>1</td><td>4</td><td>1</td></tr>\n",
       "\t<tr><th scope=row>Hornet 4 Drive</th><td>21.4</td><td>6</td><td>258.0</td><td>110</td><td>3.08</td><td>3.21</td><td>19.4</td><td>1</td><td>0</td><td>3</td><td>1</td></tr>\n",
       "\t<tr><th scope=row>Hornet Sportabout</th><td>18.7</td><td>8</td><td>360.0</td><td>175</td><td>3.15</td><td>3.44</td><td>17.0</td><td>0</td><td>0</td><td>3</td><td>2</td></tr>\n",
       "\t<tr><th scope=row>Valiant</th><td>18.1</td><td>6</td><td>225.0</td><td>105</td><td>2.76</td><td>3.46</td><td>20.2</td><td>1</td><td>0</td><td>3</td><td>1</td></tr>\n",
       "\t<tr><th scope=row>Duster 360</th><td>14.3</td><td>8</td><td>360.0</td><td>245</td><td>3.21</td><td>3.57</td><td>15.8</td><td>0</td><td>0</td><td>3</td><td>4</td></tr>\n",
       "\t<tr><th scope=row>Merc 240D</th><td>24.4</td><td>4</td><td>146.7</td><td> 62</td><td>3.69</td><td>3.19</td><td>20.0</td><td>1</td><td>0</td><td>4</td><td>2</td></tr>\n",
       "\t<tr><th scope=row>Merc 230</th><td>22.8</td><td>4</td><td>140.8</td><td> 95</td><td>3.92</td><td>3.15</td><td>22.9</td><td>1</td><td>0</td><td>4</td><td>2</td></tr>\n",
       "\t<tr><th scope=row>Merc 280</th><td>19.2</td><td>6</td><td>167.6</td><td>123</td><td>3.92</td><td>3.44</td><td>18.3</td><td>1</td><td>0</td><td>4</td><td>4</td></tr>\n",
       "\t<tr><th scope=row>Merc 280C</th><td>17.8</td><td>6</td><td>167.6</td><td>123</td><td>3.92</td><td>3.44</td><td>18.9</td><td>1</td><td>0</td><td>4</td><td>4</td></tr>\n",
       "\t<tr><th scope=row>Merc 450SE</th><td>16.4</td><td>8</td><td>275.8</td><td>180</td><td>3.07</td><td>4.07</td><td>17.4</td><td>0</td><td>0</td><td>3</td><td>3</td></tr>\n",
       "\t<tr><th scope=row>Merc 450SL</th><td>17.3</td><td>8</td><td>275.8</td><td>180</td><td>3.07</td><td>3.73</td><td>17.6</td><td>0</td><td>0</td><td>3</td><td>3</td></tr>\n",
       "\t<tr><th scope=row>Merc 450SLC</th><td>15.2</td><td>8</td><td>275.8</td><td>180</td><td>3.07</td><td>3.78</td><td>18.0</td><td>0</td><td>0</td><td>3</td><td>3</td></tr>\n",
       "\t<tr><th scope=row>Cadillac Fleetwood</th><td>10.4</td><td>8</td><td>472.0</td><td>205</td><td>2.93</td><td>5.25</td><td>18.0</td><td>0</td><td>0</td><td>3</td><td>4</td></tr>\n",
       "\t<tr><th scope=row>Lincoln Continental</th><td>10.4</td><td>8</td><td>460.0</td><td>215</td><td>3.00</td><td>5.42</td><td>17.8</td><td>0</td><td>0</td><td>3</td><td>4</td></tr>\n",
       "\t<tr><th scope=row>Chrysler Imperial</th><td>14.7</td><td>8</td><td>440.0</td><td>230</td><td>3.23</td><td>5.34</td><td>17.4</td><td>0</td><td>0</td><td>3</td><td>4</td></tr>\n",
       "\t<tr><th scope=row>Fiat 128</th><td>32.4</td><td>4</td><td> 78.7</td><td> 66</td><td>4.08</td><td>2.20</td><td>19.5</td><td>1</td><td>1</td><td>4</td><td>1</td></tr>\n",
       "\t<tr><th scope=row>Honda Civic</th><td>30.4</td><td>4</td><td> 75.7</td><td> 52</td><td>4.93</td><td>1.61</td><td>18.5</td><td>1</td><td>1</td><td>4</td><td>2</td></tr>\n",
       "\t<tr><th scope=row>Toyota Corolla</th><td>33.9</td><td>4</td><td> 71.1</td><td> 65</td><td>4.22</td><td>1.83</td><td>19.9</td><td>1</td><td>1</td><td>4</td><td>1</td></tr>\n",
       "\t<tr><th scope=row>Toyota Corona</th><td>21.5</td><td>4</td><td>120.1</td><td> 97</td><td>3.70</td><td>2.46</td><td>20.0</td><td>1</td><td>0</td><td>3</td><td>1</td></tr>\n",
       "\t<tr><th scope=row>Dodge Challenger</th><td>15.5</td><td>8</td><td>318.0</td><td>150</td><td>2.76</td><td>3.52</td><td>16.9</td><td>0</td><td>0</td><td>3</td><td>2</td></tr>\n",
       "\t<tr><th scope=row>AMC Javelin</th><td>15.2</td><td>8</td><td>304.0</td><td>150</td><td>3.15</td><td>3.44</td><td>17.3</td><td>0</td><td>0</td><td>3</td><td>2</td></tr>\n",
       "\t<tr><th scope=row>Camaro Z28</th><td>13.3</td><td>8</td><td>350.0</td><td>245</td><td>3.73</td><td>3.84</td><td>15.4</td><td>0</td><td>0</td><td>3</td><td>4</td></tr>\n",
       "\t<tr><th scope=row>Pontiac Firebird</th><td>19.2</td><td>8</td><td>400.0</td><td>175</td><td>3.08</td><td>3.85</td><td>17.1</td><td>0</td><td>0</td><td>3</td><td>2</td></tr>\n",
       "\t<tr><th scope=row>Fiat X1-9</th><td>27.3</td><td>4</td><td> 79.0</td><td> 66</td><td>4.08</td><td>1.94</td><td>18.9</td><td>1</td><td>1</td><td>4</td><td>1</td></tr>\n",
       "\t<tr><th scope=row>Porsche 914-2</th><td>26.0</td><td>4</td><td>120.3</td><td> 91</td><td>4.43</td><td>2.14</td><td>16.7</td><td>0</td><td>1</td><td>5</td><td>2</td></tr>\n",
       "\t<tr><th scope=row>Lotus Europa</th><td>30.4</td><td>4</td><td> 95.1</td><td>113</td><td>3.77</td><td>1.51</td><td>16.9</td><td>1</td><td>1</td><td>5</td><td>2</td></tr>\n",
       "\t<tr><th scope=row>Ford Pantera L</th><td>15.8</td><td>8</td><td>351.0</td><td>264</td><td>4.22</td><td>3.17</td><td>14.5</td><td>0</td><td>1</td><td>5</td><td>4</td></tr>\n",
       "\t<tr><th scope=row>Ferrari Dino</th><td>19.7</td><td>6</td><td>145.0</td><td>175</td><td>3.62</td><td>2.77</td><td>15.5</td><td>0</td><td>1</td><td>5</td><td>6</td></tr>\n",
       "\t<tr><th scope=row>Maserati Bora</th><td>15.0</td><td>8</td><td>301.0</td><td>335</td><td>3.54</td><td>3.57</td><td>14.6</td><td>0</td><td>1</td><td>5</td><td>8</td></tr>\n",
       "\t<tr><th scope=row>Volvo 142E</th><td>21.4</td><td>4</td><td>121.0</td><td>109</td><td>4.11</td><td>2.78</td><td>18.6</td><td>1</td><td>1</td><td>4</td><td>2</td></tr>\n",
       "</tbody>\n",
       "</table>\n"
      ],
      "text/latex": [
       "A data.frame: 32 × 11\n",
       "\\begin{tabular}{r|lllllllllll}\n",
       "  & mpg & cyl & disp & hp & drat & wt & qsec & vs & am & gear & carb\\\\\n",
       "  & <dbl> & <dbl> & <dbl> & <dbl> & <dbl> & <dbl> & <dbl> & <dbl> & <dbl> & <dbl> & <dbl>\\\\\n",
       "\\hline\n",
       "\tMazda RX4 & 21.0 & 6 & 160.0 & 110 & 3.90 & 2.62 & 16.5 & 0 & 1 & 4 & 4\\\\\n",
       "\tMazda RX4 Wag & 21.0 & 6 & 160.0 & 110 & 3.90 & 2.88 & 17.0 & 0 & 1 & 4 & 4\\\\\n",
       "\tDatsun 710 & 22.8 & 4 & 108.0 &  93 & 3.85 & 2.32 & 18.6 & 1 & 1 & 4 & 1\\\\\n",
       "\tHornet 4 Drive & 21.4 & 6 & 258.0 & 110 & 3.08 & 3.21 & 19.4 & 1 & 0 & 3 & 1\\\\\n",
       "\tHornet Sportabout & 18.7 & 8 & 360.0 & 175 & 3.15 & 3.44 & 17.0 & 0 & 0 & 3 & 2\\\\\n",
       "\tValiant & 18.1 & 6 & 225.0 & 105 & 2.76 & 3.46 & 20.2 & 1 & 0 & 3 & 1\\\\\n",
       "\tDuster 360 & 14.3 & 8 & 360.0 & 245 & 3.21 & 3.57 & 15.8 & 0 & 0 & 3 & 4\\\\\n",
       "\tMerc 240D & 24.4 & 4 & 146.7 &  62 & 3.69 & 3.19 & 20.0 & 1 & 0 & 4 & 2\\\\\n",
       "\tMerc 230 & 22.8 & 4 & 140.8 &  95 & 3.92 & 3.15 & 22.9 & 1 & 0 & 4 & 2\\\\\n",
       "\tMerc 280 & 19.2 & 6 & 167.6 & 123 & 3.92 & 3.44 & 18.3 & 1 & 0 & 4 & 4\\\\\n",
       "\tMerc 280C & 17.8 & 6 & 167.6 & 123 & 3.92 & 3.44 & 18.9 & 1 & 0 & 4 & 4\\\\\n",
       "\tMerc 450SE & 16.4 & 8 & 275.8 & 180 & 3.07 & 4.07 & 17.4 & 0 & 0 & 3 & 3\\\\\n",
       "\tMerc 450SL & 17.3 & 8 & 275.8 & 180 & 3.07 & 3.73 & 17.6 & 0 & 0 & 3 & 3\\\\\n",
       "\tMerc 450SLC & 15.2 & 8 & 275.8 & 180 & 3.07 & 3.78 & 18.0 & 0 & 0 & 3 & 3\\\\\n",
       "\tCadillac Fleetwood & 10.4 & 8 & 472.0 & 205 & 2.93 & 5.25 & 18.0 & 0 & 0 & 3 & 4\\\\\n",
       "\tLincoln Continental & 10.4 & 8 & 460.0 & 215 & 3.00 & 5.42 & 17.8 & 0 & 0 & 3 & 4\\\\\n",
       "\tChrysler Imperial & 14.7 & 8 & 440.0 & 230 & 3.23 & 5.34 & 17.4 & 0 & 0 & 3 & 4\\\\\n",
       "\tFiat 128 & 32.4 & 4 &  78.7 &  66 & 4.08 & 2.20 & 19.5 & 1 & 1 & 4 & 1\\\\\n",
       "\tHonda Civic & 30.4 & 4 &  75.7 &  52 & 4.93 & 1.61 & 18.5 & 1 & 1 & 4 & 2\\\\\n",
       "\tToyota Corolla & 33.9 & 4 &  71.1 &  65 & 4.22 & 1.83 & 19.9 & 1 & 1 & 4 & 1\\\\\n",
       "\tToyota Corona & 21.5 & 4 & 120.1 &  97 & 3.70 & 2.46 & 20.0 & 1 & 0 & 3 & 1\\\\\n",
       "\tDodge Challenger & 15.5 & 8 & 318.0 & 150 & 2.76 & 3.52 & 16.9 & 0 & 0 & 3 & 2\\\\\n",
       "\tAMC Javelin & 15.2 & 8 & 304.0 & 150 & 3.15 & 3.44 & 17.3 & 0 & 0 & 3 & 2\\\\\n",
       "\tCamaro Z28 & 13.3 & 8 & 350.0 & 245 & 3.73 & 3.84 & 15.4 & 0 & 0 & 3 & 4\\\\\n",
       "\tPontiac Firebird & 19.2 & 8 & 400.0 & 175 & 3.08 & 3.85 & 17.1 & 0 & 0 & 3 & 2\\\\\n",
       "\tFiat X1-9 & 27.3 & 4 &  79.0 &  66 & 4.08 & 1.94 & 18.9 & 1 & 1 & 4 & 1\\\\\n",
       "\tPorsche 914-2 & 26.0 & 4 & 120.3 &  91 & 4.43 & 2.14 & 16.7 & 0 & 1 & 5 & 2\\\\\n",
       "\tLotus Europa & 30.4 & 4 &  95.1 & 113 & 3.77 & 1.51 & 16.9 & 1 & 1 & 5 & 2\\\\\n",
       "\tFord Pantera L & 15.8 & 8 & 351.0 & 264 & 4.22 & 3.17 & 14.5 & 0 & 1 & 5 & 4\\\\\n",
       "\tFerrari Dino & 19.7 & 6 & 145.0 & 175 & 3.62 & 2.77 & 15.5 & 0 & 1 & 5 & 6\\\\\n",
       "\tMaserati Bora & 15.0 & 8 & 301.0 & 335 & 3.54 & 3.57 & 14.6 & 0 & 1 & 5 & 8\\\\\n",
       "\tVolvo 142E & 21.4 & 4 & 121.0 & 109 & 4.11 & 2.78 & 18.6 & 1 & 1 & 4 & 2\\\\\n",
       "\\end{tabular}\n"
      ],
      "text/markdown": [
       "\n",
       "A data.frame: 32 × 11\n",
       "\n",
       "| <!--/--> | mpg &lt;dbl&gt; | cyl &lt;dbl&gt; | disp &lt;dbl&gt; | hp &lt;dbl&gt; | drat &lt;dbl&gt; | wt &lt;dbl&gt; | qsec &lt;dbl&gt; | vs &lt;dbl&gt; | am &lt;dbl&gt; | gear &lt;dbl&gt; | carb &lt;dbl&gt; |\n",
       "|---|---|---|---|---|---|---|---|---|---|---|---|\n",
       "| Mazda RX4 | 21.0 | 6 | 160.0 | 110 | 3.90 | 2.62 | 16.5 | 0 | 1 | 4 | 4 |\n",
       "| Mazda RX4 Wag | 21.0 | 6 | 160.0 | 110 | 3.90 | 2.88 | 17.0 | 0 | 1 | 4 | 4 |\n",
       "| Datsun 710 | 22.8 | 4 | 108.0 |  93 | 3.85 | 2.32 | 18.6 | 1 | 1 | 4 | 1 |\n",
       "| Hornet 4 Drive | 21.4 | 6 | 258.0 | 110 | 3.08 | 3.21 | 19.4 | 1 | 0 | 3 | 1 |\n",
       "| Hornet Sportabout | 18.7 | 8 | 360.0 | 175 | 3.15 | 3.44 | 17.0 | 0 | 0 | 3 | 2 |\n",
       "| Valiant | 18.1 | 6 | 225.0 | 105 | 2.76 | 3.46 | 20.2 | 1 | 0 | 3 | 1 |\n",
       "| Duster 360 | 14.3 | 8 | 360.0 | 245 | 3.21 | 3.57 | 15.8 | 0 | 0 | 3 | 4 |\n",
       "| Merc 240D | 24.4 | 4 | 146.7 |  62 | 3.69 | 3.19 | 20.0 | 1 | 0 | 4 | 2 |\n",
       "| Merc 230 | 22.8 | 4 | 140.8 |  95 | 3.92 | 3.15 | 22.9 | 1 | 0 | 4 | 2 |\n",
       "| Merc 280 | 19.2 | 6 | 167.6 | 123 | 3.92 | 3.44 | 18.3 | 1 | 0 | 4 | 4 |\n",
       "| Merc 280C | 17.8 | 6 | 167.6 | 123 | 3.92 | 3.44 | 18.9 | 1 | 0 | 4 | 4 |\n",
       "| Merc 450SE | 16.4 | 8 | 275.8 | 180 | 3.07 | 4.07 | 17.4 | 0 | 0 | 3 | 3 |\n",
       "| Merc 450SL | 17.3 | 8 | 275.8 | 180 | 3.07 | 3.73 | 17.6 | 0 | 0 | 3 | 3 |\n",
       "| Merc 450SLC | 15.2 | 8 | 275.8 | 180 | 3.07 | 3.78 | 18.0 | 0 | 0 | 3 | 3 |\n",
       "| Cadillac Fleetwood | 10.4 | 8 | 472.0 | 205 | 2.93 | 5.25 | 18.0 | 0 | 0 | 3 | 4 |\n",
       "| Lincoln Continental | 10.4 | 8 | 460.0 | 215 | 3.00 | 5.42 | 17.8 | 0 | 0 | 3 | 4 |\n",
       "| Chrysler Imperial | 14.7 | 8 | 440.0 | 230 | 3.23 | 5.34 | 17.4 | 0 | 0 | 3 | 4 |\n",
       "| Fiat 128 | 32.4 | 4 |  78.7 |  66 | 4.08 | 2.20 | 19.5 | 1 | 1 | 4 | 1 |\n",
       "| Honda Civic | 30.4 | 4 |  75.7 |  52 | 4.93 | 1.61 | 18.5 | 1 | 1 | 4 | 2 |\n",
       "| Toyota Corolla | 33.9 | 4 |  71.1 |  65 | 4.22 | 1.83 | 19.9 | 1 | 1 | 4 | 1 |\n",
       "| Toyota Corona | 21.5 | 4 | 120.1 |  97 | 3.70 | 2.46 | 20.0 | 1 | 0 | 3 | 1 |\n",
       "| Dodge Challenger | 15.5 | 8 | 318.0 | 150 | 2.76 | 3.52 | 16.9 | 0 | 0 | 3 | 2 |\n",
       "| AMC Javelin | 15.2 | 8 | 304.0 | 150 | 3.15 | 3.44 | 17.3 | 0 | 0 | 3 | 2 |\n",
       "| Camaro Z28 | 13.3 | 8 | 350.0 | 245 | 3.73 | 3.84 | 15.4 | 0 | 0 | 3 | 4 |\n",
       "| Pontiac Firebird | 19.2 | 8 | 400.0 | 175 | 3.08 | 3.85 | 17.1 | 0 | 0 | 3 | 2 |\n",
       "| Fiat X1-9 | 27.3 | 4 |  79.0 |  66 | 4.08 | 1.94 | 18.9 | 1 | 1 | 4 | 1 |\n",
       "| Porsche 914-2 | 26.0 | 4 | 120.3 |  91 | 4.43 | 2.14 | 16.7 | 0 | 1 | 5 | 2 |\n",
       "| Lotus Europa | 30.4 | 4 |  95.1 | 113 | 3.77 | 1.51 | 16.9 | 1 | 1 | 5 | 2 |\n",
       "| Ford Pantera L | 15.8 | 8 | 351.0 | 264 | 4.22 | 3.17 | 14.5 | 0 | 1 | 5 | 4 |\n",
       "| Ferrari Dino | 19.7 | 6 | 145.0 | 175 | 3.62 | 2.77 | 15.5 | 0 | 1 | 5 | 6 |\n",
       "| Maserati Bora | 15.0 | 8 | 301.0 | 335 | 3.54 | 3.57 | 14.6 | 0 | 1 | 5 | 8 |\n",
       "| Volvo 142E | 21.4 | 4 | 121.0 | 109 | 4.11 | 2.78 | 18.6 | 1 | 1 | 4 | 2 |\n",
       "\n"
      ],
      "text/plain": [
       "                    mpg  cyl disp  hp  drat wt   qsec vs am gear carb\n",
       "Mazda RX4           21.0 6   160.0 110 3.90 2.62 16.5 0  1  4    4   \n",
       "Mazda RX4 Wag       21.0 6   160.0 110 3.90 2.88 17.0 0  1  4    4   \n",
       "Datsun 710          22.8 4   108.0  93 3.85 2.32 18.6 1  1  4    1   \n",
       "Hornet 4 Drive      21.4 6   258.0 110 3.08 3.21 19.4 1  0  3    1   \n",
       "Hornet Sportabout   18.7 8   360.0 175 3.15 3.44 17.0 0  0  3    2   \n",
       "Valiant             18.1 6   225.0 105 2.76 3.46 20.2 1  0  3    1   \n",
       "Duster 360          14.3 8   360.0 245 3.21 3.57 15.8 0  0  3    4   \n",
       "Merc 240D           24.4 4   146.7  62 3.69 3.19 20.0 1  0  4    2   \n",
       "Merc 230            22.8 4   140.8  95 3.92 3.15 22.9 1  0  4    2   \n",
       "Merc 280            19.2 6   167.6 123 3.92 3.44 18.3 1  0  4    4   \n",
       "Merc 280C           17.8 6   167.6 123 3.92 3.44 18.9 1  0  4    4   \n",
       "Merc 450SE          16.4 8   275.8 180 3.07 4.07 17.4 0  0  3    3   \n",
       "Merc 450SL          17.3 8   275.8 180 3.07 3.73 17.6 0  0  3    3   \n",
       "Merc 450SLC         15.2 8   275.8 180 3.07 3.78 18.0 0  0  3    3   \n",
       "Cadillac Fleetwood  10.4 8   472.0 205 2.93 5.25 18.0 0  0  3    4   \n",
       "Lincoln Continental 10.4 8   460.0 215 3.00 5.42 17.8 0  0  3    4   \n",
       "Chrysler Imperial   14.7 8   440.0 230 3.23 5.34 17.4 0  0  3    4   \n",
       "Fiat 128            32.4 4    78.7  66 4.08 2.20 19.5 1  1  4    1   \n",
       "Honda Civic         30.4 4    75.7  52 4.93 1.61 18.5 1  1  4    2   \n",
       "Toyota Corolla      33.9 4    71.1  65 4.22 1.83 19.9 1  1  4    1   \n",
       "Toyota Corona       21.5 4   120.1  97 3.70 2.46 20.0 1  0  3    1   \n",
       "Dodge Challenger    15.5 8   318.0 150 2.76 3.52 16.9 0  0  3    2   \n",
       "AMC Javelin         15.2 8   304.0 150 3.15 3.44 17.3 0  0  3    2   \n",
       "Camaro Z28          13.3 8   350.0 245 3.73 3.84 15.4 0  0  3    4   \n",
       "Pontiac Firebird    19.2 8   400.0 175 3.08 3.85 17.1 0  0  3    2   \n",
       "Fiat X1-9           27.3 4    79.0  66 4.08 1.94 18.9 1  1  4    1   \n",
       "Porsche 914-2       26.0 4   120.3  91 4.43 2.14 16.7 0  1  5    2   \n",
       "Lotus Europa        30.4 4    95.1 113 3.77 1.51 16.9 1  1  5    2   \n",
       "Ford Pantera L      15.8 8   351.0 264 4.22 3.17 14.5 0  1  5    4   \n",
       "Ferrari Dino        19.7 6   145.0 175 3.62 2.77 15.5 0  1  5    6   \n",
       "Maserati Bora       15.0 8   301.0 335 3.54 3.57 14.6 0  1  5    8   \n",
       "Volvo 142E          21.4 4   121.0 109 4.11 2.78 18.6 1  1  4    2   "
      ]
     },
     "metadata": {},
     "output_type": "display_data"
    }
   ],
   "source": [
    "mtcars"
   ]
  },
  {
   "cell_type": "code",
   "execution_count": 70,
   "metadata": {},
   "outputs": [
    {
     "data": {
      "text/html": [
       "<dl>\n",
       "\t<dt>$`3`</dt>\n",
       "\t\t<dd><table class=\"dataframe\">\n",
       "<caption>A data.frame: 15 × 11</caption>\n",
       "<thead>\n",
       "\t<tr><th></th><th scope=col>mpg</th><th scope=col>cyl</th><th scope=col>disp</th><th scope=col>hp</th><th scope=col>drat</th><th scope=col>wt</th><th scope=col>qsec</th><th scope=col>vs</th><th scope=col>am</th><th scope=col>gear</th><th scope=col>carb</th></tr>\n",
       "\t<tr><th></th><th scope=col>&lt;dbl&gt;</th><th scope=col>&lt;dbl&gt;</th><th scope=col>&lt;dbl&gt;</th><th scope=col>&lt;dbl&gt;</th><th scope=col>&lt;dbl&gt;</th><th scope=col>&lt;dbl&gt;</th><th scope=col>&lt;dbl&gt;</th><th scope=col>&lt;dbl&gt;</th><th scope=col>&lt;dbl&gt;</th><th scope=col>&lt;dbl&gt;</th><th scope=col>&lt;dbl&gt;</th></tr>\n",
       "</thead>\n",
       "<tbody>\n",
       "\t<tr><th scope=row>Hornet 4 Drive</th><td>21.4</td><td>6</td><td>258</td><td>110</td><td>3.08</td><td>3.21</td><td>19.4</td><td>1</td><td>0</td><td>3</td><td>1</td></tr>\n",
       "\t<tr><th scope=row>Hornet Sportabout</th><td>18.7</td><td>8</td><td>360</td><td>175</td><td>3.15</td><td>3.44</td><td>17.0</td><td>0</td><td>0</td><td>3</td><td>2</td></tr>\n",
       "\t<tr><th scope=row>Valiant</th><td>18.1</td><td>6</td><td>225</td><td>105</td><td>2.76</td><td>3.46</td><td>20.2</td><td>1</td><td>0</td><td>3</td><td>1</td></tr>\n",
       "\t<tr><th scope=row>Duster 360</th><td>14.3</td><td>8</td><td>360</td><td>245</td><td>3.21</td><td>3.57</td><td>15.8</td><td>0</td><td>0</td><td>3</td><td>4</td></tr>\n",
       "\t<tr><th scope=row>Merc 450SE</th><td>16.4</td><td>8</td><td>276</td><td>180</td><td>3.07</td><td>4.07</td><td>17.4</td><td>0</td><td>0</td><td>3</td><td>3</td></tr>\n",
       "\t<tr><th scope=row>Merc 450SL</th><td>17.3</td><td>8</td><td>276</td><td>180</td><td>3.07</td><td>3.73</td><td>17.6</td><td>0</td><td>0</td><td>3</td><td>3</td></tr>\n",
       "\t<tr><th scope=row>Merc 450SLC</th><td>15.2</td><td>8</td><td>276</td><td>180</td><td>3.07</td><td>3.78</td><td>18.0</td><td>0</td><td>0</td><td>3</td><td>3</td></tr>\n",
       "\t<tr><th scope=row>Cadillac Fleetwood</th><td>10.4</td><td>8</td><td>472</td><td>205</td><td>2.93</td><td>5.25</td><td>18.0</td><td>0</td><td>0</td><td>3</td><td>4</td></tr>\n",
       "\t<tr><th scope=row>Lincoln Continental</th><td>10.4</td><td>8</td><td>460</td><td>215</td><td>3.00</td><td>5.42</td><td>17.8</td><td>0</td><td>0</td><td>3</td><td>4</td></tr>\n",
       "\t<tr><th scope=row>Chrysler Imperial</th><td>14.7</td><td>8</td><td>440</td><td>230</td><td>3.23</td><td>5.34</td><td>17.4</td><td>0</td><td>0</td><td>3</td><td>4</td></tr>\n",
       "\t<tr><th scope=row>Toyota Corona</th><td>21.5</td><td>4</td><td>120</td><td> 97</td><td>3.70</td><td>2.46</td><td>20.0</td><td>1</td><td>0</td><td>3</td><td>1</td></tr>\n",
       "\t<tr><th scope=row>Dodge Challenger</th><td>15.5</td><td>8</td><td>318</td><td>150</td><td>2.76</td><td>3.52</td><td>16.9</td><td>0</td><td>0</td><td>3</td><td>2</td></tr>\n",
       "\t<tr><th scope=row>AMC Javelin</th><td>15.2</td><td>8</td><td>304</td><td>150</td><td>3.15</td><td>3.44</td><td>17.3</td><td>0</td><td>0</td><td>3</td><td>2</td></tr>\n",
       "\t<tr><th scope=row>Camaro Z28</th><td>13.3</td><td>8</td><td>350</td><td>245</td><td>3.73</td><td>3.84</td><td>15.4</td><td>0</td><td>0</td><td>3</td><td>4</td></tr>\n",
       "\t<tr><th scope=row>Pontiac Firebird</th><td>19.2</td><td>8</td><td>400</td><td>175</td><td>3.08</td><td>3.85</td><td>17.1</td><td>0</td><td>0</td><td>3</td><td>2</td></tr>\n",
       "</tbody>\n",
       "</table>\n",
       "</dd>\n",
       "\t<dt>$`4`</dt>\n",
       "\t\t<dd><table class=\"dataframe\">\n",
       "<caption>A data.frame: 12 × 11</caption>\n",
       "<thead>\n",
       "\t<tr><th></th><th scope=col>mpg</th><th scope=col>cyl</th><th scope=col>disp</th><th scope=col>hp</th><th scope=col>drat</th><th scope=col>wt</th><th scope=col>qsec</th><th scope=col>vs</th><th scope=col>am</th><th scope=col>gear</th><th scope=col>carb</th></tr>\n",
       "\t<tr><th></th><th scope=col>&lt;dbl&gt;</th><th scope=col>&lt;dbl&gt;</th><th scope=col>&lt;dbl&gt;</th><th scope=col>&lt;dbl&gt;</th><th scope=col>&lt;dbl&gt;</th><th scope=col>&lt;dbl&gt;</th><th scope=col>&lt;dbl&gt;</th><th scope=col>&lt;dbl&gt;</th><th scope=col>&lt;dbl&gt;</th><th scope=col>&lt;dbl&gt;</th><th scope=col>&lt;dbl&gt;</th></tr>\n",
       "</thead>\n",
       "<tbody>\n",
       "\t<tr><th scope=row>Mazda RX4</th><td>21.0</td><td>6</td><td>160.0</td><td>110</td><td>3.90</td><td>2.62</td><td>16.5</td><td>0</td><td>1</td><td>4</td><td>4</td></tr>\n",
       "\t<tr><th scope=row>Mazda RX4 Wag</th><td>21.0</td><td>6</td><td>160.0</td><td>110</td><td>3.90</td><td>2.88</td><td>17.0</td><td>0</td><td>1</td><td>4</td><td>4</td></tr>\n",
       "\t<tr><th scope=row>Datsun 710</th><td>22.8</td><td>4</td><td>108.0</td><td> 93</td><td>3.85</td><td>2.32</td><td>18.6</td><td>1</td><td>1</td><td>4</td><td>1</td></tr>\n",
       "\t<tr><th scope=row>Merc 240D</th><td>24.4</td><td>4</td><td>146.7</td><td> 62</td><td>3.69</td><td>3.19</td><td>20.0</td><td>1</td><td>0</td><td>4</td><td>2</td></tr>\n",
       "\t<tr><th scope=row>Merc 230</th><td>22.8</td><td>4</td><td>140.8</td><td> 95</td><td>3.92</td><td>3.15</td><td>22.9</td><td>1</td><td>0</td><td>4</td><td>2</td></tr>\n",
       "\t<tr><th scope=row>Merc 280</th><td>19.2</td><td>6</td><td>167.6</td><td>123</td><td>3.92</td><td>3.44</td><td>18.3</td><td>1</td><td>0</td><td>4</td><td>4</td></tr>\n",
       "\t<tr><th scope=row>Merc 280C</th><td>17.8</td><td>6</td><td>167.6</td><td>123</td><td>3.92</td><td>3.44</td><td>18.9</td><td>1</td><td>0</td><td>4</td><td>4</td></tr>\n",
       "\t<tr><th scope=row>Fiat 128</th><td>32.4</td><td>4</td><td> 78.7</td><td> 66</td><td>4.08</td><td>2.20</td><td>19.5</td><td>1</td><td>1</td><td>4</td><td>1</td></tr>\n",
       "\t<tr><th scope=row>Honda Civic</th><td>30.4</td><td>4</td><td> 75.7</td><td> 52</td><td>4.93</td><td>1.61</td><td>18.5</td><td>1</td><td>1</td><td>4</td><td>2</td></tr>\n",
       "\t<tr><th scope=row>Toyota Corolla</th><td>33.9</td><td>4</td><td> 71.1</td><td> 65</td><td>4.22</td><td>1.83</td><td>19.9</td><td>1</td><td>1</td><td>4</td><td>1</td></tr>\n",
       "\t<tr><th scope=row>Fiat X1-9</th><td>27.3</td><td>4</td><td> 79.0</td><td> 66</td><td>4.08</td><td>1.94</td><td>18.9</td><td>1</td><td>1</td><td>4</td><td>1</td></tr>\n",
       "\t<tr><th scope=row>Volvo 142E</th><td>21.4</td><td>4</td><td>121.0</td><td>109</td><td>4.11</td><td>2.78</td><td>18.6</td><td>1</td><td>1</td><td>4</td><td>2</td></tr>\n",
       "</tbody>\n",
       "</table>\n",
       "</dd>\n",
       "\t<dt>$`5`</dt>\n",
       "\t\t<dd><table class=\"dataframe\">\n",
       "<caption>A data.frame: 5 × 11</caption>\n",
       "<thead>\n",
       "\t<tr><th></th><th scope=col>mpg</th><th scope=col>cyl</th><th scope=col>disp</th><th scope=col>hp</th><th scope=col>drat</th><th scope=col>wt</th><th scope=col>qsec</th><th scope=col>vs</th><th scope=col>am</th><th scope=col>gear</th><th scope=col>carb</th></tr>\n",
       "\t<tr><th></th><th scope=col>&lt;dbl&gt;</th><th scope=col>&lt;dbl&gt;</th><th scope=col>&lt;dbl&gt;</th><th scope=col>&lt;dbl&gt;</th><th scope=col>&lt;dbl&gt;</th><th scope=col>&lt;dbl&gt;</th><th scope=col>&lt;dbl&gt;</th><th scope=col>&lt;dbl&gt;</th><th scope=col>&lt;dbl&gt;</th><th scope=col>&lt;dbl&gt;</th><th scope=col>&lt;dbl&gt;</th></tr>\n",
       "</thead>\n",
       "<tbody>\n",
       "\t<tr><th scope=row>Porsche 914-2</th><td>26.0</td><td>4</td><td>120.3</td><td> 91</td><td>4.43</td><td>2.14</td><td>16.7</td><td>0</td><td>1</td><td>5</td><td>2</td></tr>\n",
       "\t<tr><th scope=row>Lotus Europa</th><td>30.4</td><td>4</td><td> 95.1</td><td>113</td><td>3.77</td><td>1.51</td><td>16.9</td><td>1</td><td>1</td><td>5</td><td>2</td></tr>\n",
       "\t<tr><th scope=row>Ford Pantera L</th><td>15.8</td><td>8</td><td>351.0</td><td>264</td><td>4.22</td><td>3.17</td><td>14.5</td><td>0</td><td>1</td><td>5</td><td>4</td></tr>\n",
       "\t<tr><th scope=row>Ferrari Dino</th><td>19.7</td><td>6</td><td>145.0</td><td>175</td><td>3.62</td><td>2.77</td><td>15.5</td><td>0</td><td>1</td><td>5</td><td>6</td></tr>\n",
       "\t<tr><th scope=row>Maserati Bora</th><td>15.0</td><td>8</td><td>301.0</td><td>335</td><td>3.54</td><td>3.57</td><td>14.6</td><td>0</td><td>1</td><td>5</td><td>8</td></tr>\n",
       "</tbody>\n",
       "</table>\n",
       "</dd>\n",
       "</dl>\n"
      ],
      "text/latex": [
       "\\begin{description}\n",
       "\\item[\\$`3`] A data.frame: 15 × 11\n",
       "\\begin{tabular}{r|lllllllllll}\n",
       "  & mpg & cyl & disp & hp & drat & wt & qsec & vs & am & gear & carb\\\\\n",
       "  & <dbl> & <dbl> & <dbl> & <dbl> & <dbl> & <dbl> & <dbl> & <dbl> & <dbl> & <dbl> & <dbl>\\\\\n",
       "\\hline\n",
       "\tHornet 4 Drive & 21.4 & 6 & 258 & 110 & 3.08 & 3.21 & 19.4 & 1 & 0 & 3 & 1\\\\\n",
       "\tHornet Sportabout & 18.7 & 8 & 360 & 175 & 3.15 & 3.44 & 17.0 & 0 & 0 & 3 & 2\\\\\n",
       "\tValiant & 18.1 & 6 & 225 & 105 & 2.76 & 3.46 & 20.2 & 1 & 0 & 3 & 1\\\\\n",
       "\tDuster 360 & 14.3 & 8 & 360 & 245 & 3.21 & 3.57 & 15.8 & 0 & 0 & 3 & 4\\\\\n",
       "\tMerc 450SE & 16.4 & 8 & 276 & 180 & 3.07 & 4.07 & 17.4 & 0 & 0 & 3 & 3\\\\\n",
       "\tMerc 450SL & 17.3 & 8 & 276 & 180 & 3.07 & 3.73 & 17.6 & 0 & 0 & 3 & 3\\\\\n",
       "\tMerc 450SLC & 15.2 & 8 & 276 & 180 & 3.07 & 3.78 & 18.0 & 0 & 0 & 3 & 3\\\\\n",
       "\tCadillac Fleetwood & 10.4 & 8 & 472 & 205 & 2.93 & 5.25 & 18.0 & 0 & 0 & 3 & 4\\\\\n",
       "\tLincoln Continental & 10.4 & 8 & 460 & 215 & 3.00 & 5.42 & 17.8 & 0 & 0 & 3 & 4\\\\\n",
       "\tChrysler Imperial & 14.7 & 8 & 440 & 230 & 3.23 & 5.34 & 17.4 & 0 & 0 & 3 & 4\\\\\n",
       "\tToyota Corona & 21.5 & 4 & 120 &  97 & 3.70 & 2.46 & 20.0 & 1 & 0 & 3 & 1\\\\\n",
       "\tDodge Challenger & 15.5 & 8 & 318 & 150 & 2.76 & 3.52 & 16.9 & 0 & 0 & 3 & 2\\\\\n",
       "\tAMC Javelin & 15.2 & 8 & 304 & 150 & 3.15 & 3.44 & 17.3 & 0 & 0 & 3 & 2\\\\\n",
       "\tCamaro Z28 & 13.3 & 8 & 350 & 245 & 3.73 & 3.84 & 15.4 & 0 & 0 & 3 & 4\\\\\n",
       "\tPontiac Firebird & 19.2 & 8 & 400 & 175 & 3.08 & 3.85 & 17.1 & 0 & 0 & 3 & 2\\\\\n",
       "\\end{tabular}\n",
       "\n",
       "\\item[\\$`4`] A data.frame: 12 × 11\n",
       "\\begin{tabular}{r|lllllllllll}\n",
       "  & mpg & cyl & disp & hp & drat & wt & qsec & vs & am & gear & carb\\\\\n",
       "  & <dbl> & <dbl> & <dbl> & <dbl> & <dbl> & <dbl> & <dbl> & <dbl> & <dbl> & <dbl> & <dbl>\\\\\n",
       "\\hline\n",
       "\tMazda RX4 & 21.0 & 6 & 160.0 & 110 & 3.90 & 2.62 & 16.5 & 0 & 1 & 4 & 4\\\\\n",
       "\tMazda RX4 Wag & 21.0 & 6 & 160.0 & 110 & 3.90 & 2.88 & 17.0 & 0 & 1 & 4 & 4\\\\\n",
       "\tDatsun 710 & 22.8 & 4 & 108.0 &  93 & 3.85 & 2.32 & 18.6 & 1 & 1 & 4 & 1\\\\\n",
       "\tMerc 240D & 24.4 & 4 & 146.7 &  62 & 3.69 & 3.19 & 20.0 & 1 & 0 & 4 & 2\\\\\n",
       "\tMerc 230 & 22.8 & 4 & 140.8 &  95 & 3.92 & 3.15 & 22.9 & 1 & 0 & 4 & 2\\\\\n",
       "\tMerc 280 & 19.2 & 6 & 167.6 & 123 & 3.92 & 3.44 & 18.3 & 1 & 0 & 4 & 4\\\\\n",
       "\tMerc 280C & 17.8 & 6 & 167.6 & 123 & 3.92 & 3.44 & 18.9 & 1 & 0 & 4 & 4\\\\\n",
       "\tFiat 128 & 32.4 & 4 &  78.7 &  66 & 4.08 & 2.20 & 19.5 & 1 & 1 & 4 & 1\\\\\n",
       "\tHonda Civic & 30.4 & 4 &  75.7 &  52 & 4.93 & 1.61 & 18.5 & 1 & 1 & 4 & 2\\\\\n",
       "\tToyota Corolla & 33.9 & 4 &  71.1 &  65 & 4.22 & 1.83 & 19.9 & 1 & 1 & 4 & 1\\\\\n",
       "\tFiat X1-9 & 27.3 & 4 &  79.0 &  66 & 4.08 & 1.94 & 18.9 & 1 & 1 & 4 & 1\\\\\n",
       "\tVolvo 142E & 21.4 & 4 & 121.0 & 109 & 4.11 & 2.78 & 18.6 & 1 & 1 & 4 & 2\\\\\n",
       "\\end{tabular}\n",
       "\n",
       "\\item[\\$`5`] A data.frame: 5 × 11\n",
       "\\begin{tabular}{r|lllllllllll}\n",
       "  & mpg & cyl & disp & hp & drat & wt & qsec & vs & am & gear & carb\\\\\n",
       "  & <dbl> & <dbl> & <dbl> & <dbl> & <dbl> & <dbl> & <dbl> & <dbl> & <dbl> & <dbl> & <dbl>\\\\\n",
       "\\hline\n",
       "\tPorsche 914-2 & 26.0 & 4 & 120.3 &  91 & 4.43 & 2.14 & 16.7 & 0 & 1 & 5 & 2\\\\\n",
       "\tLotus Europa & 30.4 & 4 &  95.1 & 113 & 3.77 & 1.51 & 16.9 & 1 & 1 & 5 & 2\\\\\n",
       "\tFord Pantera L & 15.8 & 8 & 351.0 & 264 & 4.22 & 3.17 & 14.5 & 0 & 1 & 5 & 4\\\\\n",
       "\tFerrari Dino & 19.7 & 6 & 145.0 & 175 & 3.62 & 2.77 & 15.5 & 0 & 1 & 5 & 6\\\\\n",
       "\tMaserati Bora & 15.0 & 8 & 301.0 & 335 & 3.54 & 3.57 & 14.6 & 0 & 1 & 5 & 8\\\\\n",
       "\\end{tabular}\n",
       "\n",
       "\\end{description}\n"
      ],
      "text/markdown": [
       "$`3`\n",
       ":   \n",
       "A data.frame: 15 × 11\n",
       "\n",
       "| <!--/--> | mpg &lt;dbl&gt; | cyl &lt;dbl&gt; | disp &lt;dbl&gt; | hp &lt;dbl&gt; | drat &lt;dbl&gt; | wt &lt;dbl&gt; | qsec &lt;dbl&gt; | vs &lt;dbl&gt; | am &lt;dbl&gt; | gear &lt;dbl&gt; | carb &lt;dbl&gt; |\n",
       "|---|---|---|---|---|---|---|---|---|---|---|---|\n",
       "| Hornet 4 Drive | 21.4 | 6 | 258 | 110 | 3.08 | 3.21 | 19.4 | 1 | 0 | 3 | 1 |\n",
       "| Hornet Sportabout | 18.7 | 8 | 360 | 175 | 3.15 | 3.44 | 17.0 | 0 | 0 | 3 | 2 |\n",
       "| Valiant | 18.1 | 6 | 225 | 105 | 2.76 | 3.46 | 20.2 | 1 | 0 | 3 | 1 |\n",
       "| Duster 360 | 14.3 | 8 | 360 | 245 | 3.21 | 3.57 | 15.8 | 0 | 0 | 3 | 4 |\n",
       "| Merc 450SE | 16.4 | 8 | 276 | 180 | 3.07 | 4.07 | 17.4 | 0 | 0 | 3 | 3 |\n",
       "| Merc 450SL | 17.3 | 8 | 276 | 180 | 3.07 | 3.73 | 17.6 | 0 | 0 | 3 | 3 |\n",
       "| Merc 450SLC | 15.2 | 8 | 276 | 180 | 3.07 | 3.78 | 18.0 | 0 | 0 | 3 | 3 |\n",
       "| Cadillac Fleetwood | 10.4 | 8 | 472 | 205 | 2.93 | 5.25 | 18.0 | 0 | 0 | 3 | 4 |\n",
       "| Lincoln Continental | 10.4 | 8 | 460 | 215 | 3.00 | 5.42 | 17.8 | 0 | 0 | 3 | 4 |\n",
       "| Chrysler Imperial | 14.7 | 8 | 440 | 230 | 3.23 | 5.34 | 17.4 | 0 | 0 | 3 | 4 |\n",
       "| Toyota Corona | 21.5 | 4 | 120 |  97 | 3.70 | 2.46 | 20.0 | 1 | 0 | 3 | 1 |\n",
       "| Dodge Challenger | 15.5 | 8 | 318 | 150 | 2.76 | 3.52 | 16.9 | 0 | 0 | 3 | 2 |\n",
       "| AMC Javelin | 15.2 | 8 | 304 | 150 | 3.15 | 3.44 | 17.3 | 0 | 0 | 3 | 2 |\n",
       "| Camaro Z28 | 13.3 | 8 | 350 | 245 | 3.73 | 3.84 | 15.4 | 0 | 0 | 3 | 4 |\n",
       "| Pontiac Firebird | 19.2 | 8 | 400 | 175 | 3.08 | 3.85 | 17.1 | 0 | 0 | 3 | 2 |\n",
       "\n",
       "\n",
       "$`4`\n",
       ":   \n",
       "A data.frame: 12 × 11\n",
       "\n",
       "| <!--/--> | mpg &lt;dbl&gt; | cyl &lt;dbl&gt; | disp &lt;dbl&gt; | hp &lt;dbl&gt; | drat &lt;dbl&gt; | wt &lt;dbl&gt; | qsec &lt;dbl&gt; | vs &lt;dbl&gt; | am &lt;dbl&gt; | gear &lt;dbl&gt; | carb &lt;dbl&gt; |\n",
       "|---|---|---|---|---|---|---|---|---|---|---|---|\n",
       "| Mazda RX4 | 21.0 | 6 | 160.0 | 110 | 3.90 | 2.62 | 16.5 | 0 | 1 | 4 | 4 |\n",
       "| Mazda RX4 Wag | 21.0 | 6 | 160.0 | 110 | 3.90 | 2.88 | 17.0 | 0 | 1 | 4 | 4 |\n",
       "| Datsun 710 | 22.8 | 4 | 108.0 |  93 | 3.85 | 2.32 | 18.6 | 1 | 1 | 4 | 1 |\n",
       "| Merc 240D | 24.4 | 4 | 146.7 |  62 | 3.69 | 3.19 | 20.0 | 1 | 0 | 4 | 2 |\n",
       "| Merc 230 | 22.8 | 4 | 140.8 |  95 | 3.92 | 3.15 | 22.9 | 1 | 0 | 4 | 2 |\n",
       "| Merc 280 | 19.2 | 6 | 167.6 | 123 | 3.92 | 3.44 | 18.3 | 1 | 0 | 4 | 4 |\n",
       "| Merc 280C | 17.8 | 6 | 167.6 | 123 | 3.92 | 3.44 | 18.9 | 1 | 0 | 4 | 4 |\n",
       "| Fiat 128 | 32.4 | 4 |  78.7 |  66 | 4.08 | 2.20 | 19.5 | 1 | 1 | 4 | 1 |\n",
       "| Honda Civic | 30.4 | 4 |  75.7 |  52 | 4.93 | 1.61 | 18.5 | 1 | 1 | 4 | 2 |\n",
       "| Toyota Corolla | 33.9 | 4 |  71.1 |  65 | 4.22 | 1.83 | 19.9 | 1 | 1 | 4 | 1 |\n",
       "| Fiat X1-9 | 27.3 | 4 |  79.0 |  66 | 4.08 | 1.94 | 18.9 | 1 | 1 | 4 | 1 |\n",
       "| Volvo 142E | 21.4 | 4 | 121.0 | 109 | 4.11 | 2.78 | 18.6 | 1 | 1 | 4 | 2 |\n",
       "\n",
       "\n",
       "$`5`\n",
       ":   \n",
       "A data.frame: 5 × 11\n",
       "\n",
       "| <!--/--> | mpg &lt;dbl&gt; | cyl &lt;dbl&gt; | disp &lt;dbl&gt; | hp &lt;dbl&gt; | drat &lt;dbl&gt; | wt &lt;dbl&gt; | qsec &lt;dbl&gt; | vs &lt;dbl&gt; | am &lt;dbl&gt; | gear &lt;dbl&gt; | carb &lt;dbl&gt; |\n",
       "|---|---|---|---|---|---|---|---|---|---|---|---|\n",
       "| Porsche 914-2 | 26.0 | 4 | 120.3 |  91 | 4.43 | 2.14 | 16.7 | 0 | 1 | 5 | 2 |\n",
       "| Lotus Europa | 30.4 | 4 |  95.1 | 113 | 3.77 | 1.51 | 16.9 | 1 | 1 | 5 | 2 |\n",
       "| Ford Pantera L | 15.8 | 8 | 351.0 | 264 | 4.22 | 3.17 | 14.5 | 0 | 1 | 5 | 4 |\n",
       "| Ferrari Dino | 19.7 | 6 | 145.0 | 175 | 3.62 | 2.77 | 15.5 | 0 | 1 | 5 | 6 |\n",
       "| Maserati Bora | 15.0 | 8 | 301.0 | 335 | 3.54 | 3.57 | 14.6 | 0 | 1 | 5 | 8 |\n",
       "\n",
       "\n",
       "\n",
       "\n"
      ],
      "text/plain": [
       "$`3`\n",
       "                     mpg cyl disp  hp drat   wt qsec vs am gear carb\n",
       "Hornet 4 Drive      21.4   6  258 110 3.08 3.21 19.4  1  0    3    1\n",
       "Hornet Sportabout   18.7   8  360 175 3.15 3.44 17.0  0  0    3    2\n",
       "Valiant             18.1   6  225 105 2.76 3.46 20.2  1  0    3    1\n",
       "Duster 360          14.3   8  360 245 3.21 3.57 15.8  0  0    3    4\n",
       "Merc 450SE          16.4   8  276 180 3.07 4.07 17.4  0  0    3    3\n",
       "Merc 450SL          17.3   8  276 180 3.07 3.73 17.6  0  0    3    3\n",
       "Merc 450SLC         15.2   8  276 180 3.07 3.78 18.0  0  0    3    3\n",
       "Cadillac Fleetwood  10.4   8  472 205 2.93 5.25 18.0  0  0    3    4\n",
       "Lincoln Continental 10.4   8  460 215 3.00 5.42 17.8  0  0    3    4\n",
       "Chrysler Imperial   14.7   8  440 230 3.23 5.34 17.4  0  0    3    4\n",
       "Toyota Corona       21.5   4  120  97 3.70 2.46 20.0  1  0    3    1\n",
       "Dodge Challenger    15.5   8  318 150 2.76 3.52 16.9  0  0    3    2\n",
       "AMC Javelin         15.2   8  304 150 3.15 3.44 17.3  0  0    3    2\n",
       "Camaro Z28          13.3   8  350 245 3.73 3.84 15.4  0  0    3    4\n",
       "Pontiac Firebird    19.2   8  400 175 3.08 3.85 17.1  0  0    3    2\n",
       "\n",
       "$`4`\n",
       "                mpg cyl  disp  hp drat   wt qsec vs am gear carb\n",
       "Mazda RX4      21.0   6 160.0 110 3.90 2.62 16.5  0  1    4    4\n",
       "Mazda RX4 Wag  21.0   6 160.0 110 3.90 2.88 17.0  0  1    4    4\n",
       "Datsun 710     22.8   4 108.0  93 3.85 2.32 18.6  1  1    4    1\n",
       "Merc 240D      24.4   4 146.7  62 3.69 3.19 20.0  1  0    4    2\n",
       "Merc 230       22.8   4 140.8  95 3.92 3.15 22.9  1  0    4    2\n",
       "Merc 280       19.2   6 167.6 123 3.92 3.44 18.3  1  0    4    4\n",
       "Merc 280C      17.8   6 167.6 123 3.92 3.44 18.9  1  0    4    4\n",
       "Fiat 128       32.4   4  78.7  66 4.08 2.20 19.5  1  1    4    1\n",
       "Honda Civic    30.4   4  75.7  52 4.93 1.61 18.5  1  1    4    2\n",
       "Toyota Corolla 33.9   4  71.1  65 4.22 1.83 19.9  1  1    4    1\n",
       "Fiat X1-9      27.3   4  79.0  66 4.08 1.94 18.9  1  1    4    1\n",
       "Volvo 142E     21.4   4 121.0 109 4.11 2.78 18.6  1  1    4    2\n",
       "\n",
       "$`5`\n",
       "                mpg cyl  disp  hp drat   wt qsec vs am gear carb\n",
       "Porsche 914-2  26.0   4 120.3  91 4.43 2.14 16.7  0  1    5    2\n",
       "Lotus Europa   30.4   4  95.1 113 3.77 1.51 16.9  1  1    5    2\n",
       "Ford Pantera L 15.8   8 351.0 264 4.22 3.17 14.5  0  1    5    4\n",
       "Ferrari Dino   19.7   6 145.0 175 3.62 2.77 15.5  0  1    5    6\n",
       "Maserati Bora  15.0   8 301.0 335 3.54 3.57 14.6  0  1    5    8\n"
      ]
     },
     "metadata": {},
     "output_type": "display_data"
    }
   ],
   "source": [
    "a=split(mtcars,mtcars$gear)\n",
    "a"
   ]
  },
  {
   "cell_type": "code",
   "execution_count": 71,
   "metadata": {},
   "outputs": [
    {
     "data": {
      "text/html": [
       "'list'"
      ],
      "text/latex": [
       "'list'"
      ],
      "text/markdown": [
       "'list'"
      ],
      "text/plain": [
       "[1] \"list\""
      ]
     },
     "metadata": {},
     "output_type": "display_data"
    }
   ],
   "source": [
    "class(a)"
   ]
  },
  {
   "cell_type": "markdown",
   "metadata": {},
   "source": [
    "## 重构和整合数据集的万能工具 \n",
    "--reshape 包/reshape2 包"
   ]
  },
  {
   "cell_type": "code",
   "execution_count": 72,
   "metadata": {},
   "outputs": [
    {
     "data": {
      "text/html": [
       "<table class=\"dataframe\">\n",
       "<caption>A data.frame: 4 × 4</caption>\n",
       "<thead>\n",
       "\t<tr><th scope=col>ID</th><th scope=col>Time</th><th scope=col>X1</th><th scope=col>X2</th></tr>\n",
       "\t<tr><th scope=col>&lt;dbl&gt;</th><th scope=col>&lt;dbl&gt;</th><th scope=col>&lt;dbl&gt;</th><th scope=col>&lt;dbl&gt;</th></tr>\n",
       "</thead>\n",
       "<tbody>\n",
       "\t<tr><td>1</td><td>1</td><td>5</td><td>6</td></tr>\n",
       "\t<tr><td>1</td><td>2</td><td>3</td><td>5</td></tr>\n",
       "\t<tr><td>2</td><td>1</td><td>6</td><td>1</td></tr>\n",
       "\t<tr><td>2</td><td>2</td><td>2</td><td>4</td></tr>\n",
       "</tbody>\n",
       "</table>\n"
      ],
      "text/latex": [
       "A data.frame: 4 × 4\n",
       "\\begin{tabular}{llll}\n",
       " ID & Time & X1 & X2\\\\\n",
       " <dbl> & <dbl> & <dbl> & <dbl>\\\\\n",
       "\\hline\n",
       "\t 1 & 1 & 5 & 6\\\\\n",
       "\t 1 & 2 & 3 & 5\\\\\n",
       "\t 2 & 1 & 6 & 1\\\\\n",
       "\t 2 & 2 & 2 & 4\\\\\n",
       "\\end{tabular}\n"
      ],
      "text/markdown": [
       "\n",
       "A data.frame: 4 × 4\n",
       "\n",
       "| ID &lt;dbl&gt; | Time &lt;dbl&gt; | X1 &lt;dbl&gt; | X2 &lt;dbl&gt; |\n",
       "|---|---|---|---|\n",
       "| 1 | 1 | 5 | 6 |\n",
       "| 1 | 2 | 3 | 5 |\n",
       "| 2 | 1 | 6 | 1 |\n",
       "| 2 | 2 | 2 | 4 |\n",
       "\n"
      ],
      "text/plain": [
       "  ID Time X1 X2\n",
       "1 1  1    5  6 \n",
       "2 1  2    3  5 \n",
       "3 2  1    6  1 \n",
       "4 2  2    2  4 "
      ]
     },
     "metadata": {},
     "output_type": "display_data"
    }
   ],
   "source": [
    "ID <- c(1,1,2,2) \n",
    "Time <- c(1,2,1,2) \n",
    "X1 <- c(5,3,6,2) \n",
    "X2 <- c(6,5,1,4) \n",
    "(mydata <- data.frame(ID,Time,X1,X2))"
   ]
  },
  {
   "cell_type": "code",
   "execution_count": 73,
   "metadata": {},
   "outputs": [
    {
     "name": "stderr",
     "output_type": "stream",
     "text": [
      "Warning message:\n",
      "\"package 'reshape' was built under R version 4.3.3\"\n"
     ]
    },
    {
     "data": {
      "text/html": [
       "<table class=\"dataframe\">\n",
       "<caption>A data.frame: 8 × 4</caption>\n",
       "<thead>\n",
       "\t<tr><th scope=col>ID</th><th scope=col>Time</th><th scope=col>variable</th><th scope=col>value</th></tr>\n",
       "\t<tr><th scope=col>&lt;dbl&gt;</th><th scope=col>&lt;dbl&gt;</th><th scope=col>&lt;fct&gt;</th><th scope=col>&lt;dbl&gt;</th></tr>\n",
       "</thead>\n",
       "<tbody>\n",
       "\t<tr><td>1</td><td>1</td><td>X1</td><td>5</td></tr>\n",
       "\t<tr><td>1</td><td>2</td><td>X1</td><td>3</td></tr>\n",
       "\t<tr><td>2</td><td>1</td><td>X1</td><td>6</td></tr>\n",
       "\t<tr><td>2</td><td>2</td><td>X1</td><td>2</td></tr>\n",
       "\t<tr><td>1</td><td>1</td><td>X2</td><td>6</td></tr>\n",
       "\t<tr><td>1</td><td>2</td><td>X2</td><td>5</td></tr>\n",
       "\t<tr><td>2</td><td>1</td><td>X2</td><td>1</td></tr>\n",
       "\t<tr><td>2</td><td>2</td><td>X2</td><td>4</td></tr>\n",
       "</tbody>\n",
       "</table>\n"
      ],
      "text/latex": [
       "A data.frame: 8 × 4\n",
       "\\begin{tabular}{llll}\n",
       " ID & Time & variable & value\\\\\n",
       " <dbl> & <dbl> & <fct> & <dbl>\\\\\n",
       "\\hline\n",
       "\t 1 & 1 & X1 & 5\\\\\n",
       "\t 1 & 2 & X1 & 3\\\\\n",
       "\t 2 & 1 & X1 & 6\\\\\n",
       "\t 2 & 2 & X1 & 2\\\\\n",
       "\t 1 & 1 & X2 & 6\\\\\n",
       "\t 1 & 2 & X2 & 5\\\\\n",
       "\t 2 & 1 & X2 & 1\\\\\n",
       "\t 2 & 2 & X2 & 4\\\\\n",
       "\\end{tabular}\n"
      ],
      "text/markdown": [
       "\n",
       "A data.frame: 8 × 4\n",
       "\n",
       "| ID &lt;dbl&gt; | Time &lt;dbl&gt; | variable &lt;fct&gt; | value &lt;dbl&gt; |\n",
       "|---|---|---|---|\n",
       "| 1 | 1 | X1 | 5 |\n",
       "| 1 | 2 | X1 | 3 |\n",
       "| 2 | 1 | X1 | 6 |\n",
       "| 2 | 2 | X1 | 2 |\n",
       "| 1 | 1 | X2 | 6 |\n",
       "| 1 | 2 | X2 | 5 |\n",
       "| 2 | 1 | X2 | 1 |\n",
       "| 2 | 2 | X2 | 4 |\n",
       "\n"
      ],
      "text/plain": [
       "  ID Time variable value\n",
       "1 1  1    X1       5    \n",
       "2 1  2    X1       3    \n",
       "3 2  1    X1       6    \n",
       "4 2  2    X1       2    \n",
       "5 1  1    X2       6    \n",
       "6 1  2    X2       5    \n",
       "7 2  1    X2       1    \n",
       "8 2  2    X2       4    "
      ]
     },
     "metadata": {},
     "output_type": "display_data"
    }
   ],
   "source": [
    "library(reshape) \n",
    "(md <- melt(mydata, id=c(\"ID\", \"Time\")))  #将 mydata 按 ID 和 Time（为key） 融合，将结果保存在 md 中"
   ]
  },
  {
   "cell_type": "code",
   "execution_count": 74,
   "metadata": {},
   "outputs": [
    {
     "data": {
      "text/html": [
       "<table class=\"dataframe\">\n",
       "<caption>A cast_df: 2 × 3</caption>\n",
       "<thead>\n",
       "\t<tr><th></th><th scope=col>ID</th><th scope=col>X1</th><th scope=col>X2</th></tr>\n",
       "\t<tr><th></th><th scope=col>&lt;dbl&gt;</th><th scope=col>&lt;dbl&gt;</th><th scope=col>&lt;dbl&gt;</th></tr>\n",
       "</thead>\n",
       "<tbody>\n",
       "\t<tr><th scope=row>1</th><td>1</td><td>4</td><td>5.5</td></tr>\n",
       "\t<tr><th scope=row>2</th><td>2</td><td>4</td><td>2.5</td></tr>\n",
       "</tbody>\n",
       "</table>\n"
      ],
      "text/latex": [
       "A cast\\_df: 2 × 3\n",
       "\\begin{tabular}{r|lll}\n",
       "  & ID & X1 & X2\\\\\n",
       "  & <dbl> & <dbl> & <dbl>\\\\\n",
       "\\hline\n",
       "\t1 & 1 & 4 & 5.5\\\\\n",
       "\t2 & 2 & 4 & 2.5\\\\\n",
       "\\end{tabular}\n"
      ],
      "text/markdown": [
       "\n",
       "A cast_df: 2 × 3\n",
       "\n",
       "| <!--/--> | ID &lt;dbl&gt; | X1 &lt;dbl&gt; | X2 &lt;dbl&gt; |\n",
       "|---|---|---|---|\n",
       "| 1 | 1 | 4 | 5.5 |\n",
       "| 2 | 2 | 4 | 2.5 |\n",
       "\n"
      ],
      "text/plain": [
       "  ID X1 X2 \n",
       "1 1  4  5.5\n",
       "2 2  4  2.5"
      ]
     },
     "metadata": {},
     "output_type": "display_data"
    }
   ],
   "source": [
    "cast(md, ID ~ variable, mean) # 重塑并整合 md，求每个ID该variable 的均值\n",
    "#“~”前边是索引列的取值，后边是抬头后续列的取值，函数是成组元素的处理"
   ]
  },
  {
   "cell_type": "code",
   "execution_count": 75,
   "metadata": {},
   "outputs": [
    {
     "data": {
      "text/html": [
       "<table class=\"dataframe\">\n",
       "<caption>A cast_df: 2 × 3</caption>\n",
       "<thead>\n",
       "\t<tr><th></th><th scope=col>Time</th><th scope=col>X1</th><th scope=col>X2</th></tr>\n",
       "\t<tr><th></th><th scope=col>&lt;dbl&gt;</th><th scope=col>&lt;dbl&gt;</th><th scope=col>&lt;dbl&gt;</th></tr>\n",
       "</thead>\n",
       "<tbody>\n",
       "\t<tr><th scope=row>1</th><td>1</td><td>5.5</td><td>3.5</td></tr>\n",
       "\t<tr><th scope=row>2</th><td>2</td><td>2.5</td><td>4.5</td></tr>\n",
       "</tbody>\n",
       "</table>\n"
      ],
      "text/latex": [
       "A cast\\_df: 2 × 3\n",
       "\\begin{tabular}{r|lll}\n",
       "  & Time & X1 & X2\\\\\n",
       "  & <dbl> & <dbl> & <dbl>\\\\\n",
       "\\hline\n",
       "\t1 & 1 & 5.5 & 3.5\\\\\n",
       "\t2 & 2 & 2.5 & 4.5\\\\\n",
       "\\end{tabular}\n"
      ],
      "text/markdown": [
       "\n",
       "A cast_df: 2 × 3\n",
       "\n",
       "| <!--/--> | Time &lt;dbl&gt; | X1 &lt;dbl&gt; | X2 &lt;dbl&gt; |\n",
       "|---|---|---|---|\n",
       "| 1 | 1 | 5.5 | 3.5 |\n",
       "| 2 | 2 | 2.5 | 4.5 |\n",
       "\n"
      ],
      "text/plain": [
       "  Time X1  X2 \n",
       "1 1    5.5 3.5\n",
       "2 2    2.5 4.5"
      ]
     },
     "metadata": {},
     "output_type": "display_data"
    }
   ],
   "source": [
    "cast(md, Time ~ variable, mean) # 重塑并整合 md，求每个Time该variable均值"
   ]
  },
  {
   "cell_type": "code",
   "execution_count": 76,
   "metadata": {},
   "outputs": [
    {
     "data": {
      "text/html": [
       "<table class=\"dataframe\">\n",
       "<caption>A cast_df: 2 × 3</caption>\n",
       "<thead>\n",
       "\t<tr><th></th><th scope=col>ID</th><th scope=col>1</th><th scope=col>2</th></tr>\n",
       "\t<tr><th></th><th scope=col>&lt;dbl&gt;</th><th scope=col>&lt;dbl&gt;</th><th scope=col>&lt;dbl&gt;</th></tr>\n",
       "</thead>\n",
       "<tbody>\n",
       "\t<tr><th scope=row>1</th><td>1</td><td>5.5</td><td>4</td></tr>\n",
       "\t<tr><th scope=row>2</th><td>2</td><td>3.5</td><td>3</td></tr>\n",
       "</tbody>\n",
       "</table>\n"
      ],
      "text/latex": [
       "A cast\\_df: 2 × 3\n",
       "\\begin{tabular}{r|lll}\n",
       "  & ID & 1 & 2\\\\\n",
       "  & <dbl> & <dbl> & <dbl>\\\\\n",
       "\\hline\n",
       "\t1 & 1 & 5.5 & 4\\\\\n",
       "\t2 & 2 & 3.5 & 3\\\\\n",
       "\\end{tabular}\n"
      ],
      "text/markdown": [
       "\n",
       "A cast_df: 2 × 3\n",
       "\n",
       "| <!--/--> | ID &lt;dbl&gt; | 1 &lt;dbl&gt; | 2 &lt;dbl&gt; |\n",
       "|---|---|---|---|\n",
       "| 1 | 1 | 5.5 | 4 |\n",
       "| 2 | 2 | 3.5 | 3 |\n",
       "\n"
      ],
      "text/plain": [
       "  ID 1   2\n",
       "1 1  5.5 4\n",
       "2 2  3.5 3"
      ]
     },
     "metadata": {},
     "output_type": "display_data"
    }
   ],
   "source": [
    "cast(md, ID ~ Time, mean) # 重塑并整合 md，求每个 ID 该Time平均值"
   ]
  },
  {
   "cell_type": "code",
   "execution_count": 77,
   "metadata": {},
   "outputs": [
    {
     "data": {
      "text/html": [
       "<table class=\"dataframe\">\n",
       "<caption>A cast_df: 4 × 4</caption>\n",
       "<thead>\n",
       "\t<tr><th></th><th scope=col>ID</th><th scope=col>Time</th><th scope=col>X1</th><th scope=col>X2</th></tr>\n",
       "\t<tr><th></th><th scope=col>&lt;dbl&gt;</th><th scope=col>&lt;dbl&gt;</th><th scope=col>&lt;dbl&gt;</th><th scope=col>&lt;dbl&gt;</th></tr>\n",
       "</thead>\n",
       "<tbody>\n",
       "\t<tr><th scope=row>1</th><td>1</td><td>1</td><td>5</td><td>6</td></tr>\n",
       "\t<tr><th scope=row>2</th><td>1</td><td>2</td><td>3</td><td>5</td></tr>\n",
       "\t<tr><th scope=row>3</th><td>2</td><td>1</td><td>6</td><td>1</td></tr>\n",
       "\t<tr><th scope=row>4</th><td>2</td><td>2</td><td>2</td><td>4</td></tr>\n",
       "</tbody>\n",
       "</table>\n"
      ],
      "text/latex": [
       "A cast\\_df: 4 × 4\n",
       "\\begin{tabular}{r|llll}\n",
       "  & ID & Time & X1 & X2\\\\\n",
       "  & <dbl> & <dbl> & <dbl> & <dbl>\\\\\n",
       "\\hline\n",
       "\t1 & 1 & 1 & 5 & 6\\\\\n",
       "\t2 & 1 & 2 & 3 & 5\\\\\n",
       "\t3 & 2 & 1 & 6 & 1\\\\\n",
       "\t4 & 2 & 2 & 2 & 4\\\\\n",
       "\\end{tabular}\n"
      ],
      "text/markdown": [
       "\n",
       "A cast_df: 4 × 4\n",
       "\n",
       "| <!--/--> | ID &lt;dbl&gt; | Time &lt;dbl&gt; | X1 &lt;dbl&gt; | X2 &lt;dbl&gt; |\n",
       "|---|---|---|---|---|\n",
       "| 1 | 1 | 1 | 5 | 6 |\n",
       "| 2 | 1 | 2 | 3 | 5 |\n",
       "| 3 | 2 | 1 | 6 | 1 |\n",
       "| 4 | 2 | 2 | 2 | 4 |\n",
       "\n"
      ],
      "text/plain": [
       "  ID Time X1 X2\n",
       "1 1  1    5  6 \n",
       "2 1  2    3  5 \n",
       "3 2  1    6  1 \n",
       "4 2  2    2  4 "
      ]
     },
     "metadata": {},
     "output_type": "display_data"
    }
   ],
   "source": [
    "cast(md, ID + Time ~ variable)\n",
    "#重塑 md，得到每个 ID 在不同 Time 中对应的 variable（X1 和X2）值（即 ID 为一级行标签，Time 为二级行标签，variable 是列变量）"
   ]
  },
  {
   "cell_type": "code",
   "execution_count": 78,
   "metadata": {},
   "outputs": [
    {
     "data": {
      "text/html": [
       "<table class=\"dataframe\">\n",
       "<caption>A data.frame: 8 × 4</caption>\n",
       "<thead>\n",
       "\t<tr><th scope=col>ID</th><th scope=col>Time</th><th scope=col>variable</th><th scope=col>value</th></tr>\n",
       "\t<tr><th scope=col>&lt;dbl&gt;</th><th scope=col>&lt;dbl&gt;</th><th scope=col>&lt;fct&gt;</th><th scope=col>&lt;dbl&gt;</th></tr>\n",
       "</thead>\n",
       "<tbody>\n",
       "\t<tr><td>1</td><td>1</td><td>X1</td><td>5</td></tr>\n",
       "\t<tr><td>1</td><td>2</td><td>X1</td><td>3</td></tr>\n",
       "\t<tr><td>2</td><td>1</td><td>X1</td><td>6</td></tr>\n",
       "\t<tr><td>2</td><td>2</td><td>X1</td><td>2</td></tr>\n",
       "\t<tr><td>1</td><td>1</td><td>X2</td><td>6</td></tr>\n",
       "\t<tr><td>1</td><td>2</td><td>X2</td><td>5</td></tr>\n",
       "\t<tr><td>2</td><td>1</td><td>X2</td><td>1</td></tr>\n",
       "\t<tr><td>2</td><td>2</td><td>X2</td><td>4</td></tr>\n",
       "</tbody>\n",
       "</table>\n"
      ],
      "text/latex": [
       "A data.frame: 8 × 4\n",
       "\\begin{tabular}{llll}\n",
       " ID & Time & variable & value\\\\\n",
       " <dbl> & <dbl> & <fct> & <dbl>\\\\\n",
       "\\hline\n",
       "\t 1 & 1 & X1 & 5\\\\\n",
       "\t 1 & 2 & X1 & 3\\\\\n",
       "\t 2 & 1 & X1 & 6\\\\\n",
       "\t 2 & 2 & X1 & 2\\\\\n",
       "\t 1 & 1 & X2 & 6\\\\\n",
       "\t 1 & 2 & X2 & 5\\\\\n",
       "\t 2 & 1 & X2 & 1\\\\\n",
       "\t 2 & 2 & X2 & 4\\\\\n",
       "\\end{tabular}\n"
      ],
      "text/markdown": [
       "\n",
       "A data.frame: 8 × 4\n",
       "\n",
       "| ID &lt;dbl&gt; | Time &lt;dbl&gt; | variable &lt;fct&gt; | value &lt;dbl&gt; |\n",
       "|---|---|---|---|\n",
       "| 1 | 1 | X1 | 5 |\n",
       "| 1 | 2 | X1 | 3 |\n",
       "| 2 | 1 | X1 | 6 |\n",
       "| 2 | 2 | X1 | 2 |\n",
       "| 1 | 1 | X2 | 6 |\n",
       "| 1 | 2 | X2 | 5 |\n",
       "| 2 | 1 | X2 | 1 |\n",
       "| 2 | 2 | X2 | 4 |\n",
       "\n"
      ],
      "text/plain": [
       "  ID Time variable value\n",
       "1 1  1    X1       5    \n",
       "2 1  2    X1       3    \n",
       "3 2  1    X1       6    \n",
       "4 2  2    X1       2    \n",
       "5 1  1    X2       6    \n",
       "6 1  2    X2       5    \n",
       "7 2  1    X2       1    \n",
       "8 2  2    X2       4    "
      ]
     },
     "metadata": {},
     "output_type": "display_data"
    }
   ],
   "source": [
    "(md <- melt(mydata, id = c(\"ID\", \"Time\")))  #便于以下对照"
   ]
  },
  {
   "cell_type": "code",
   "execution_count": 79,
   "metadata": {},
   "outputs": [
    {
     "data": {
      "text/html": [
       "<table class=\"dataframe\">\n",
       "<caption>A cast_df: 4 × 4</caption>\n",
       "<thead>\n",
       "\t<tr><th></th><th scope=col>ID</th><th scope=col>variable</th><th scope=col>1</th><th scope=col>2</th></tr>\n",
       "\t<tr><th></th><th scope=col>&lt;dbl&gt;</th><th scope=col>&lt;fct&gt;</th><th scope=col>&lt;dbl&gt;</th><th scope=col>&lt;dbl&gt;</th></tr>\n",
       "</thead>\n",
       "<tbody>\n",
       "\t<tr><th scope=row>1</th><td>1</td><td>X1</td><td>5</td><td>3</td></tr>\n",
       "\t<tr><th scope=row>2</th><td>1</td><td>X2</td><td>6</td><td>5</td></tr>\n",
       "\t<tr><th scope=row>3</th><td>2</td><td>X1</td><td>6</td><td>2</td></tr>\n",
       "\t<tr><th scope=row>4</th><td>2</td><td>X2</td><td>1</td><td>4</td></tr>\n",
       "</tbody>\n",
       "</table>\n"
      ],
      "text/latex": [
       "A cast\\_df: 4 × 4\n",
       "\\begin{tabular}{r|llll}\n",
       "  & ID & variable & 1 & 2\\\\\n",
       "  & <dbl> & <fct> & <dbl> & <dbl>\\\\\n",
       "\\hline\n",
       "\t1 & 1 & X1 & 5 & 3\\\\\n",
       "\t2 & 1 & X2 & 6 & 5\\\\\n",
       "\t3 & 2 & X1 & 6 & 2\\\\\n",
       "\t4 & 2 & X2 & 1 & 4\\\\\n",
       "\\end{tabular}\n"
      ],
      "text/markdown": [
       "\n",
       "A cast_df: 4 × 4\n",
       "\n",
       "| <!--/--> | ID &lt;dbl&gt; | variable &lt;fct&gt; | 1 &lt;dbl&gt; | 2 &lt;dbl&gt; |\n",
       "|---|---|---|---|---|\n",
       "| 1 | 1 | X1 | 5 | 3 |\n",
       "| 2 | 1 | X2 | 6 | 5 |\n",
       "| 3 | 2 | X1 | 6 | 2 |\n",
       "| 4 | 2 | X2 | 1 | 4 |\n",
       "\n"
      ],
      "text/plain": [
       "  ID variable 1 2\n",
       "1 1  X1       5 3\n",
       "2 1  X2       6 5\n",
       "3 2  X1       6 2\n",
       "4 2  X2       1 4"
      ]
     },
     "metadata": {},
     "output_type": "display_data"
    }
   ],
   "source": [
    "cast(md, ID + variable ~ Time)\n",
    "#重塑 md，得到每个 ID 在不同 variable 中对应的 Time 值（即ID 为一级行标签，variable 为二级行标签，Time 是列变量）"
   ]
  },
  {
   "cell_type": "code",
   "execution_count": 80,
   "metadata": {},
   "outputs": [
    {
     "data": {
      "text/html": [
       "<table class=\"dataframe\">\n",
       "<caption>A cast_df: 2 × 5</caption>\n",
       "<thead>\n",
       "\t<tr><th></th><th scope=col>ID</th><th scope=col>X1_1</th><th scope=col>X1_2</th><th scope=col>X2_1</th><th scope=col>X2_2</th></tr>\n",
       "\t<tr><th></th><th scope=col>&lt;dbl&gt;</th><th scope=col>&lt;dbl&gt;</th><th scope=col>&lt;dbl&gt;</th><th scope=col>&lt;dbl&gt;</th><th scope=col>&lt;dbl&gt;</th></tr>\n",
       "</thead>\n",
       "<tbody>\n",
       "\t<tr><th scope=row>1</th><td>1</td><td>5</td><td>3</td><td>6</td><td>5</td></tr>\n",
       "\t<tr><th scope=row>2</th><td>2</td><td>6</td><td>2</td><td>1</td><td>4</td></tr>\n",
       "</tbody>\n",
       "</table>\n"
      ],
      "text/latex": [
       "A cast\\_df: 2 × 5\n",
       "\\begin{tabular}{r|lllll}\n",
       "  & ID & X1\\_1 & X1\\_2 & X2\\_1 & X2\\_2\\\\\n",
       "  & <dbl> & <dbl> & <dbl> & <dbl> & <dbl>\\\\\n",
       "\\hline\n",
       "\t1 & 1 & 5 & 3 & 6 & 5\\\\\n",
       "\t2 & 2 & 6 & 2 & 1 & 4\\\\\n",
       "\\end{tabular}\n"
      ],
      "text/markdown": [
       "\n",
       "A cast_df: 2 × 5\n",
       "\n",
       "| <!--/--> | ID &lt;dbl&gt; | X1_1 &lt;dbl&gt; | X1_2 &lt;dbl&gt; | X2_1 &lt;dbl&gt; | X2_2 &lt;dbl&gt; |\n",
       "|---|---|---|---|---|---|\n",
       "| 1 | 1 | 5 | 3 | 6 | 5 |\n",
       "| 2 | 2 | 6 | 2 | 1 | 4 |\n",
       "\n"
      ],
      "text/plain": [
       "  ID X1_1 X1_2 X2_1 X2_2\n",
       "1 1  5    3    6    5   \n",
       "2 2  6    2    1    4   "
      ]
     },
     "metadata": {},
     "output_type": "display_data"
    }
   ],
   "source": [
    "cast(md, ID ~ variable + Time)\n",
    "#重塑 md，得到每个 ID 的 X1 和 X2 在不同 Time 中的值是多少（即 ID 为行标签，variable 和 Time 是列变量）"
   ]
  },
  {
   "cell_type": "markdown",
   "metadata": {},
   "source": [
    "**如果觉得上面的示例的演示不够直观，可以尝试下面这个例子：** \n",
    "\n",
    "已知：a 和 b 参加了在 2017 年和 2018 年分别组织的 3 次考试，取得了 math 和 english 的成绩。 "
   ]
  },
  {
   "cell_type": "code",
   "execution_count": 81,
   "metadata": {},
   "outputs": [
    {
     "data": {
      "text/html": [
       "<table class=\"dataframe\">\n",
       "<caption>A data.frame: 12 × 5</caption>\n",
       "<thead>\n",
       "\t<tr><th scope=col>name</th><th scope=col>year</th><th scope=col>test</th><th scope=col>math</th><th scope=col>english</th></tr>\n",
       "\t<tr><th scope=col>&lt;chr&gt;</th><th scope=col>&lt;dbl&gt;</th><th scope=col>&lt;dbl&gt;</th><th scope=col>&lt;dbl&gt;</th><th scope=col>&lt;dbl&gt;</th></tr>\n",
       "</thead>\n",
       "<tbody>\n",
       "\t<tr><td>a</td><td>2017</td><td>1</td><td>1</td><td>2</td></tr>\n",
       "\t<tr><td>a</td><td>2017</td><td>2</td><td>5</td><td>9</td></tr>\n",
       "\t<tr><td>a</td><td>2017</td><td>3</td><td>8</td><td>8</td></tr>\n",
       "\t<tr><td>a</td><td>2018</td><td>1</td><td>6</td><td>5</td></tr>\n",
       "\t<tr><td>a</td><td>2018</td><td>2</td><td>4</td><td>3</td></tr>\n",
       "\t<tr><td>a</td><td>2018</td><td>3</td><td>2</td><td>2</td></tr>\n",
       "\t<tr><td>b</td><td>2017</td><td>1</td><td>7</td><td>7</td></tr>\n",
       "\t<tr><td>b</td><td>2017</td><td>2</td><td>8</td><td>1</td></tr>\n",
       "\t<tr><td>b</td><td>2017</td><td>3</td><td>5</td><td>4</td></tr>\n",
       "\t<tr><td>b</td><td>2018</td><td>1</td><td>4</td><td>9</td></tr>\n",
       "\t<tr><td>b</td><td>2018</td><td>2</td><td>6</td><td>5</td></tr>\n",
       "\t<tr><td>b</td><td>2018</td><td>3</td><td>7</td><td>7</td></tr>\n",
       "</tbody>\n",
       "</table>\n"
      ],
      "text/latex": [
       "A data.frame: 12 × 5\n",
       "\\begin{tabular}{lllll}\n",
       " name & year & test & math & english\\\\\n",
       " <chr> & <dbl> & <dbl> & <dbl> & <dbl>\\\\\n",
       "\\hline\n",
       "\t a & 2017 & 1 & 1 & 2\\\\\n",
       "\t a & 2017 & 2 & 5 & 9\\\\\n",
       "\t a & 2017 & 3 & 8 & 8\\\\\n",
       "\t a & 2018 & 1 & 6 & 5\\\\\n",
       "\t a & 2018 & 2 & 4 & 3\\\\\n",
       "\t a & 2018 & 3 & 2 & 2\\\\\n",
       "\t b & 2017 & 1 & 7 & 7\\\\\n",
       "\t b & 2017 & 2 & 8 & 1\\\\\n",
       "\t b & 2017 & 3 & 5 & 4\\\\\n",
       "\t b & 2018 & 1 & 4 & 9\\\\\n",
       "\t b & 2018 & 2 & 6 & 5\\\\\n",
       "\t b & 2018 & 3 & 7 & 7\\\\\n",
       "\\end{tabular}\n"
      ],
      "text/markdown": [
       "\n",
       "A data.frame: 12 × 5\n",
       "\n",
       "| name &lt;chr&gt; | year &lt;dbl&gt; | test &lt;dbl&gt; | math &lt;dbl&gt; | english &lt;dbl&gt; |\n",
       "|---|---|---|---|---|\n",
       "| a | 2017 | 1 | 1 | 2 |\n",
       "| a | 2017 | 2 | 5 | 9 |\n",
       "| a | 2017 | 3 | 8 | 8 |\n",
       "| a | 2018 | 1 | 6 | 5 |\n",
       "| a | 2018 | 2 | 4 | 3 |\n",
       "| a | 2018 | 3 | 2 | 2 |\n",
       "| b | 2017 | 1 | 7 | 7 |\n",
       "| b | 2017 | 2 | 8 | 1 |\n",
       "| b | 2017 | 3 | 5 | 4 |\n",
       "| b | 2018 | 1 | 4 | 9 |\n",
       "| b | 2018 | 2 | 6 | 5 |\n",
       "| b | 2018 | 3 | 7 | 7 |\n",
       "\n"
      ],
      "text/plain": [
       "   name year test math english\n",
       "1  a    2017 1    1    2      \n",
       "2  a    2017 2    5    9      \n",
       "3  a    2017 3    8    8      \n",
       "4  a    2018 1    6    5      \n",
       "5  a    2018 2    4    3      \n",
       "6  a    2018 3    2    2      \n",
       "7  b    2017 1    7    7      \n",
       "8  b    2017 2    8    1      \n",
       "9  b    2017 3    5    4      \n",
       "10 b    2018 1    4    9      \n",
       "11 b    2018 2    6    5      \n",
       "12 b    2018 3    7    7      "
      ]
     },
     "metadata": {},
     "output_type": "display_data"
    }
   ],
   "source": [
    "name <- c(\"a\", \"a\", \"a\", \"a\", \"a\", \"a\", \"b\", \"b\", \"b\", \"b\", \"b\", \"b\")\n",
    "year <- c(2017, 2017, 2017, 2018, 2018, 2018, 2017, 2017, 2017, 2018, 2018, 2018)\n",
    "test <- c(1, 2, 3, 1, 2, 3, 1, 2, 3, 1, 2, 3)\n",
    "math <- c(1, 5, 8, 6, 4, 2, 7, 8, 5, 4, 6, 7)\n",
    "english <- c(2, 9, 8, 5, 3, 2, 7, 1, 4, 9, 5, 7)\n",
    "(mydata <- data.frame(name, year, test, math, english))"
   ]
  },
  {
   "cell_type": "code",
   "execution_count": 82,
   "metadata": {},
   "outputs": [
    {
     "data": {
      "text/html": [
       "12"
      ],
      "text/latex": [
       "12"
      ],
      "text/markdown": [
       "12"
      ],
      "text/plain": [
       "[1] 12"
      ]
     },
     "metadata": {},
     "output_type": "display_data"
    }
   ],
   "source": [
    "nrow(mydata)"
   ]
  },
  {
   "cell_type": "code",
   "execution_count": 83,
   "metadata": {},
   "outputs": [
    {
     "data": {
      "text/html": [
       "<table class=\"dataframe\">\n",
       "<caption>A data.frame: 24 × 5</caption>\n",
       "<thead>\n",
       "\t<tr><th scope=col>name</th><th scope=col>year</th><th scope=col>test</th><th scope=col>variable</th><th scope=col>value</th></tr>\n",
       "\t<tr><th scope=col>&lt;chr&gt;</th><th scope=col>&lt;dbl&gt;</th><th scope=col>&lt;dbl&gt;</th><th scope=col>&lt;fct&gt;</th><th scope=col>&lt;dbl&gt;</th></tr>\n",
       "</thead>\n",
       "<tbody>\n",
       "\t<tr><td>a</td><td>2017</td><td>1</td><td>math   </td><td>1</td></tr>\n",
       "\t<tr><td>a</td><td>2017</td><td>2</td><td>math   </td><td>5</td></tr>\n",
       "\t<tr><td>a</td><td>2017</td><td>3</td><td>math   </td><td>8</td></tr>\n",
       "\t<tr><td>a</td><td>2018</td><td>1</td><td>math   </td><td>6</td></tr>\n",
       "\t<tr><td>a</td><td>2018</td><td>2</td><td>math   </td><td>4</td></tr>\n",
       "\t<tr><td>a</td><td>2018</td><td>3</td><td>math   </td><td>2</td></tr>\n",
       "\t<tr><td>b</td><td>2017</td><td>1</td><td>math   </td><td>7</td></tr>\n",
       "\t<tr><td>b</td><td>2017</td><td>2</td><td>math   </td><td>8</td></tr>\n",
       "\t<tr><td>b</td><td>2017</td><td>3</td><td>math   </td><td>5</td></tr>\n",
       "\t<tr><td>b</td><td>2018</td><td>1</td><td>math   </td><td>4</td></tr>\n",
       "\t<tr><td>b</td><td>2018</td><td>2</td><td>math   </td><td>6</td></tr>\n",
       "\t<tr><td>b</td><td>2018</td><td>3</td><td>math   </td><td>7</td></tr>\n",
       "\t<tr><td>a</td><td>2017</td><td>1</td><td>english</td><td>2</td></tr>\n",
       "\t<tr><td>a</td><td>2017</td><td>2</td><td>english</td><td>9</td></tr>\n",
       "\t<tr><td>a</td><td>2017</td><td>3</td><td>english</td><td>8</td></tr>\n",
       "\t<tr><td>a</td><td>2018</td><td>1</td><td>english</td><td>5</td></tr>\n",
       "\t<tr><td>a</td><td>2018</td><td>2</td><td>english</td><td>3</td></tr>\n",
       "\t<tr><td>a</td><td>2018</td><td>3</td><td>english</td><td>2</td></tr>\n",
       "\t<tr><td>b</td><td>2017</td><td>1</td><td>english</td><td>7</td></tr>\n",
       "\t<tr><td>b</td><td>2017</td><td>2</td><td>english</td><td>1</td></tr>\n",
       "\t<tr><td>b</td><td>2017</td><td>3</td><td>english</td><td>4</td></tr>\n",
       "\t<tr><td>b</td><td>2018</td><td>1</td><td>english</td><td>9</td></tr>\n",
       "\t<tr><td>b</td><td>2018</td><td>2</td><td>english</td><td>5</td></tr>\n",
       "\t<tr><td>b</td><td>2018</td><td>3</td><td>english</td><td>7</td></tr>\n",
       "</tbody>\n",
       "</table>\n"
      ],
      "text/latex": [
       "A data.frame: 24 × 5\n",
       "\\begin{tabular}{lllll}\n",
       " name & year & test & variable & value\\\\\n",
       " <chr> & <dbl> & <dbl> & <fct> & <dbl>\\\\\n",
       "\\hline\n",
       "\t a & 2017 & 1 & math    & 1\\\\\n",
       "\t a & 2017 & 2 & math    & 5\\\\\n",
       "\t a & 2017 & 3 & math    & 8\\\\\n",
       "\t a & 2018 & 1 & math    & 6\\\\\n",
       "\t a & 2018 & 2 & math    & 4\\\\\n",
       "\t a & 2018 & 3 & math    & 2\\\\\n",
       "\t b & 2017 & 1 & math    & 7\\\\\n",
       "\t b & 2017 & 2 & math    & 8\\\\\n",
       "\t b & 2017 & 3 & math    & 5\\\\\n",
       "\t b & 2018 & 1 & math    & 4\\\\\n",
       "\t b & 2018 & 2 & math    & 6\\\\\n",
       "\t b & 2018 & 3 & math    & 7\\\\\n",
       "\t a & 2017 & 1 & english & 2\\\\\n",
       "\t a & 2017 & 2 & english & 9\\\\\n",
       "\t a & 2017 & 3 & english & 8\\\\\n",
       "\t a & 2018 & 1 & english & 5\\\\\n",
       "\t a & 2018 & 2 & english & 3\\\\\n",
       "\t a & 2018 & 3 & english & 2\\\\\n",
       "\t b & 2017 & 1 & english & 7\\\\\n",
       "\t b & 2017 & 2 & english & 1\\\\\n",
       "\t b & 2017 & 3 & english & 4\\\\\n",
       "\t b & 2018 & 1 & english & 9\\\\\n",
       "\t b & 2018 & 2 & english & 5\\\\\n",
       "\t b & 2018 & 3 & english & 7\\\\\n",
       "\\end{tabular}\n"
      ],
      "text/markdown": [
       "\n",
       "A data.frame: 24 × 5\n",
       "\n",
       "| name &lt;chr&gt; | year &lt;dbl&gt; | test &lt;dbl&gt; | variable &lt;fct&gt; | value &lt;dbl&gt; |\n",
       "|---|---|---|---|---|\n",
       "| a | 2017 | 1 | math    | 1 |\n",
       "| a | 2017 | 2 | math    | 5 |\n",
       "| a | 2017 | 3 | math    | 8 |\n",
       "| a | 2018 | 1 | math    | 6 |\n",
       "| a | 2018 | 2 | math    | 4 |\n",
       "| a | 2018 | 3 | math    | 2 |\n",
       "| b | 2017 | 1 | math    | 7 |\n",
       "| b | 2017 | 2 | math    | 8 |\n",
       "| b | 2017 | 3 | math    | 5 |\n",
       "| b | 2018 | 1 | math    | 4 |\n",
       "| b | 2018 | 2 | math    | 6 |\n",
       "| b | 2018 | 3 | math    | 7 |\n",
       "| a | 2017 | 1 | english | 2 |\n",
       "| a | 2017 | 2 | english | 9 |\n",
       "| a | 2017 | 3 | english | 8 |\n",
       "| a | 2018 | 1 | english | 5 |\n",
       "| a | 2018 | 2 | english | 3 |\n",
       "| a | 2018 | 3 | english | 2 |\n",
       "| b | 2017 | 1 | english | 7 |\n",
       "| b | 2017 | 2 | english | 1 |\n",
       "| b | 2017 | 3 | english | 4 |\n",
       "| b | 2018 | 1 | english | 9 |\n",
       "| b | 2018 | 2 | english | 5 |\n",
       "| b | 2018 | 3 | english | 7 |\n",
       "\n"
      ],
      "text/plain": [
       "   name year test variable value\n",
       "1  a    2017 1    math     1    \n",
       "2  a    2017 2    math     5    \n",
       "3  a    2017 3    math     8    \n",
       "4  a    2018 1    math     6    \n",
       "5  a    2018 2    math     4    \n",
       "6  a    2018 3    math     2    \n",
       "7  b    2017 1    math     7    \n",
       "8  b    2017 2    math     8    \n",
       "9  b    2017 3    math     5    \n",
       "10 b    2018 1    math     4    \n",
       "11 b    2018 2    math     6    \n",
       "12 b    2018 3    math     7    \n",
       "13 a    2017 1    english  2    \n",
       "14 a    2017 2    english  9    \n",
       "15 a    2017 3    english  8    \n",
       "16 a    2018 1    english  5    \n",
       "17 a    2018 2    english  3    \n",
       "18 a    2018 3    english  2    \n",
       "19 b    2017 1    english  7    \n",
       "20 b    2017 2    english  1    \n",
       "21 b    2017 3    english  4    \n",
       "22 b    2018 1    english  9    \n",
       "23 b    2018 2    english  5    \n",
       "24 b    2018 3    english  7    "
      ]
     },
     "metadata": {},
     "output_type": "display_data"
    }
   ],
   "source": [
    "library(reshape)\n",
    "md <- melt(mydata, id = (c(\"name\", \"year\", \"test\"))) # 融合 mydata，保存在 md 中\n",
    "md"
   ]
  },
  {
   "cell_type": "code",
   "execution_count": 84,
   "metadata": {},
   "outputs": [
    {
     "data": {
      "text/html": [
       "24"
      ],
      "text/latex": [
       "24"
      ],
      "text/markdown": [
       "24"
      ],
      "text/plain": [
       "[1] 24"
      ]
     },
     "metadata": {},
     "output_type": "display_data"
    }
   ],
   "source": [
    "nrow(md)"
   ]
  },
  {
   "cell_type": "code",
   "execution_count": 85,
   "metadata": {},
   "outputs": [
    {
     "data": {
      "text/html": [
       "<table class=\"dataframe\">\n",
       "<caption>A cast_df: 2 × 3</caption>\n",
       "<thead>\n",
       "\t<tr><th></th><th scope=col>year</th><th scope=col>math</th><th scope=col>english</th></tr>\n",
       "\t<tr><th></th><th scope=col>&lt;dbl&gt;</th><th scope=col>&lt;dbl&gt;</th><th scope=col>&lt;dbl&gt;</th></tr>\n",
       "</thead>\n",
       "<tbody>\n",
       "\t<tr><th scope=row>1</th><td>2017</td><td>5.67</td><td>5.17</td></tr>\n",
       "\t<tr><th scope=row>2</th><td>2018</td><td>4.83</td><td>5.17</td></tr>\n",
       "</tbody>\n",
       "</table>\n"
      ],
      "text/latex": [
       "A cast\\_df: 2 × 3\n",
       "\\begin{tabular}{r|lll}\n",
       "  & year & math & english\\\\\n",
       "  & <dbl> & <dbl> & <dbl>\\\\\n",
       "\\hline\n",
       "\t1 & 2017 & 5.67 & 5.17\\\\\n",
       "\t2 & 2018 & 4.83 & 5.17\\\\\n",
       "\\end{tabular}\n"
      ],
      "text/markdown": [
       "\n",
       "A cast_df: 2 × 3\n",
       "\n",
       "| <!--/--> | year &lt;dbl&gt; | math &lt;dbl&gt; | english &lt;dbl&gt; |\n",
       "|---|---|---|---|\n",
       "| 1 | 2017 | 5.67 | 5.17 |\n",
       "| 2 | 2018 | 4.83 | 5.17 |\n",
       "\n"
      ],
      "text/plain": [
       "  year math english\n",
       "1 2017 5.67 5.17   \n",
       "2 2018 4.83 5.17   "
      ]
     },
     "metadata": {},
     "output_type": "display_data"
    }
   ],
   "source": [
    "cast(md, year ~ variable, mean) # 重塑并整合 mydata，求每年 math 和 english 的平均分"
   ]
  },
  {
   "cell_type": "code",
   "execution_count": 86,
   "metadata": {},
   "outputs": [
    {
     "data": {
      "text/html": [
       "<table class=\"dataframe\">\n",
       "<caption>A cast_df: 4 × 4</caption>\n",
       "<thead>\n",
       "\t<tr><th></th><th scope=col>name</th><th scope=col>year</th><th scope=col>math</th><th scope=col>english</th></tr>\n",
       "\t<tr><th></th><th scope=col>&lt;chr&gt;</th><th scope=col>&lt;dbl&gt;</th><th scope=col>&lt;dbl&gt;</th><th scope=col>&lt;dbl&gt;</th></tr>\n",
       "</thead>\n",
       "<tbody>\n",
       "\t<tr><th scope=row>1</th><td>a</td><td>2017</td><td>14</td><td>19</td></tr>\n",
       "\t<tr><th scope=row>2</th><td>a</td><td>2018</td><td>12</td><td>10</td></tr>\n",
       "\t<tr><th scope=row>3</th><td>b</td><td>2017</td><td>20</td><td>12</td></tr>\n",
       "\t<tr><th scope=row>4</th><td>b</td><td>2018</td><td>17</td><td>21</td></tr>\n",
       "</tbody>\n",
       "</table>\n"
      ],
      "text/latex": [
       "A cast\\_df: 4 × 4\n",
       "\\begin{tabular}{r|llll}\n",
       "  & name & year & math & english\\\\\n",
       "  & <chr> & <dbl> & <dbl> & <dbl>\\\\\n",
       "\\hline\n",
       "\t1 & a & 2017 & 14 & 19\\\\\n",
       "\t2 & a & 2018 & 12 & 10\\\\\n",
       "\t3 & b & 2017 & 20 & 12\\\\\n",
       "\t4 & b & 2018 & 17 & 21\\\\\n",
       "\\end{tabular}\n"
      ],
      "text/markdown": [
       "\n",
       "A cast_df: 4 × 4\n",
       "\n",
       "| <!--/--> | name &lt;chr&gt; | year &lt;dbl&gt; | math &lt;dbl&gt; | english &lt;dbl&gt; |\n",
       "|---|---|---|---|---|\n",
       "| 1 | a | 2017 | 14 | 19 |\n",
       "| 2 | a | 2018 | 12 | 10 |\n",
       "| 3 | b | 2017 | 20 | 12 |\n",
       "| 4 | b | 2018 | 17 | 21 |\n",
       "\n"
      ],
      "text/plain": [
       "  name year math english\n",
       "1 a    2017 14   19     \n",
       "2 a    2018 12   10     \n",
       "3 b    2017 20   12     \n",
       "4 b    2018 17   21     "
      ]
     },
     "metadata": {},
     "output_type": "display_data"
    }
   ],
   "source": [
    "cast(md, name + year ~ variable, sum) # 重塑并整合 mydata，求每人每年 math 和 english 的总分"
   ]
  },
  {
   "cell_type": "code",
   "execution_count": 87,
   "metadata": {},
   "outputs": [
    {
     "data": {
      "text/html": [
       "<table class=\"dataframe\">\n",
       "<caption>A cast_df: 2 × 7</caption>\n",
       "<thead>\n",
       "\t<tr><th></th><th scope=col>name</th><th scope=col>2017_1</th><th scope=col>2017_2</th><th scope=col>2017_3</th><th scope=col>2018_1</th><th scope=col>2018_2</th><th scope=col>2018_3</th></tr>\n",
       "\t<tr><th></th><th scope=col>&lt;chr&gt;</th><th scope=col>&lt;dbl&gt;</th><th scope=col>&lt;dbl&gt;</th><th scope=col>&lt;dbl&gt;</th><th scope=col>&lt;dbl&gt;</th><th scope=col>&lt;dbl&gt;</th><th scope=col>&lt;dbl&gt;</th></tr>\n",
       "</thead>\n",
       "<tbody>\n",
       "\t<tr><th scope=row>1</th><td>a</td><td> 3</td><td>14</td><td>16</td><td>11</td><td> 7</td><td> 4</td></tr>\n",
       "\t<tr><th scope=row>2</th><td>b</td><td>14</td><td> 9</td><td> 9</td><td>13</td><td>11</td><td>14</td></tr>\n",
       "</tbody>\n",
       "</table>\n"
      ],
      "text/latex": [
       "A cast\\_df: 2 × 7\n",
       "\\begin{tabular}{r|lllllll}\n",
       "  & name & 2017\\_1 & 2017\\_2 & 2017\\_3 & 2018\\_1 & 2018\\_2 & 2018\\_3\\\\\n",
       "  & <chr> & <dbl> & <dbl> & <dbl> & <dbl> & <dbl> & <dbl>\\\\\n",
       "\\hline\n",
       "\t1 & a &  3 & 14 & 16 & 11 &  7 &  4\\\\\n",
       "\t2 & b & 14 &  9 &  9 & 13 & 11 & 14\\\\\n",
       "\\end{tabular}\n"
      ],
      "text/markdown": [
       "\n",
       "A cast_df: 2 × 7\n",
       "\n",
       "| <!--/--> | name &lt;chr&gt; | 2017_1 &lt;dbl&gt; | 2017_2 &lt;dbl&gt; | 2017_3 &lt;dbl&gt; | 2018_1 &lt;dbl&gt; | 2018_2 &lt;dbl&gt; | 2018_3 &lt;dbl&gt; |\n",
       "|---|---|---|---|---|---|---|---|\n",
       "| 1 | a |  3 | 14 | 16 | 11 |  7 |  4 |\n",
       "| 2 | b | 14 |  9 |  9 | 13 | 11 | 14 |\n",
       "\n"
      ],
      "text/plain": [
       "  name 2017_1 2017_2 2017_3 2018_1 2018_2 2018_3\n",
       "1 a     3     14     16     11      7      4    \n",
       "2 b    14      9      9     13     11     14    "
      ]
     },
     "metadata": {},
     "output_type": "display_data"
    }
   ],
   "source": [
    "cast(md, name ~ year + test, sum) # 重塑并整合 mydata，求每人（行标签）在每年每次考试（列标签）中的总分"
   ]
  },
  {
   "cell_type": "code",
   "execution_count": 88,
   "metadata": {},
   "outputs": [
    {
     "data": {
      "text/html": [
       "<table class=\"dataframe\">\n",
       "<caption>A cast_df: 2 × 13</caption>\n",
       "<thead>\n",
       "\t<tr><th></th><th scope=col>name</th><th scope=col>2017_1_math</th><th scope=col>2017_1_english</th><th scope=col>2017_2_math</th><th scope=col>2017_2_english</th><th scope=col>2017_3_math</th><th scope=col>2017_3_english</th><th scope=col>2018_1_math</th><th scope=col>2018_1_english</th><th scope=col>2018_2_math</th><th scope=col>2018_2_english</th><th scope=col>2018_3_math</th><th scope=col>2018_3_english</th></tr>\n",
       "\t<tr><th></th><th scope=col>&lt;chr&gt;</th><th scope=col>&lt;dbl&gt;</th><th scope=col>&lt;dbl&gt;</th><th scope=col>&lt;dbl&gt;</th><th scope=col>&lt;dbl&gt;</th><th scope=col>&lt;dbl&gt;</th><th scope=col>&lt;dbl&gt;</th><th scope=col>&lt;dbl&gt;</th><th scope=col>&lt;dbl&gt;</th><th scope=col>&lt;dbl&gt;</th><th scope=col>&lt;dbl&gt;</th><th scope=col>&lt;dbl&gt;</th><th scope=col>&lt;dbl&gt;</th></tr>\n",
       "</thead>\n",
       "<tbody>\n",
       "\t<tr><th scope=row>1</th><td>a</td><td>1</td><td>2</td><td>5</td><td>9</td><td>8</td><td>8</td><td>6</td><td>5</td><td>4</td><td>3</td><td>2</td><td>2</td></tr>\n",
       "\t<tr><th scope=row>2</th><td>b</td><td>7</td><td>7</td><td>8</td><td>1</td><td>5</td><td>4</td><td>4</td><td>9</td><td>6</td><td>5</td><td>7</td><td>7</td></tr>\n",
       "</tbody>\n",
       "</table>\n"
      ],
      "text/latex": [
       "A cast\\_df: 2 × 13\n",
       "\\begin{tabular}{r|lllllllllllll}\n",
       "  & name & 2017\\_1\\_math & 2017\\_1\\_english & 2017\\_2\\_math & 2017\\_2\\_english & 2017\\_3\\_math & 2017\\_3\\_english & 2018\\_1\\_math & 2018\\_1\\_english & 2018\\_2\\_math & 2018\\_2\\_english & 2018\\_3\\_math & 2018\\_3\\_english\\\\\n",
       "  & <chr> & <dbl> & <dbl> & <dbl> & <dbl> & <dbl> & <dbl> & <dbl> & <dbl> & <dbl> & <dbl> & <dbl> & <dbl>\\\\\n",
       "\\hline\n",
       "\t1 & a & 1 & 2 & 5 & 9 & 8 & 8 & 6 & 5 & 4 & 3 & 2 & 2\\\\\n",
       "\t2 & b & 7 & 7 & 8 & 1 & 5 & 4 & 4 & 9 & 6 & 5 & 7 & 7\\\\\n",
       "\\end{tabular}\n"
      ],
      "text/markdown": [
       "\n",
       "A cast_df: 2 × 13\n",
       "\n",
       "| <!--/--> | name &lt;chr&gt; | 2017_1_math &lt;dbl&gt; | 2017_1_english &lt;dbl&gt; | 2017_2_math &lt;dbl&gt; | 2017_2_english &lt;dbl&gt; | 2017_3_math &lt;dbl&gt; | 2017_3_english &lt;dbl&gt; | 2018_1_math &lt;dbl&gt; | 2018_1_english &lt;dbl&gt; | 2018_2_math &lt;dbl&gt; | 2018_2_english &lt;dbl&gt; | 2018_3_math &lt;dbl&gt; | 2018_3_english &lt;dbl&gt; |\n",
       "|---|---|---|---|---|---|---|---|---|---|---|---|---|---|\n",
       "| 1 | a | 1 | 2 | 5 | 9 | 8 | 8 | 6 | 5 | 4 | 3 | 2 | 2 |\n",
       "| 2 | b | 7 | 7 | 8 | 1 | 5 | 4 | 4 | 9 | 6 | 5 | 7 | 7 |\n",
       "\n"
      ],
      "text/plain": [
       "  name 2017_1_math 2017_1_english 2017_2_math 2017_2_english 2017_3_math\n",
       "1 a    1           2              5           9              8          \n",
       "2 b    7           7              8           1              5          \n",
       "  2017_3_english 2018_1_math 2018_1_english 2018_2_math 2018_2_english\n",
       "1 8              6           5              4           3             \n",
       "2 4              4           9              6           5             \n",
       "  2018_3_math 2018_3_english\n",
       "1 2           2             \n",
       "2 7           7             "
      ]
     },
     "metadata": {},
     "output_type": "display_data"
    }
   ],
   "source": [
    "cast(md, name ~ year + test + variable) # 重塑 mydata，得到每人（行标签）在每年每次考试（列标签）中的分数"
   ]
  },
  {
   "cell_type": "code",
   "execution_count": 89,
   "metadata": {},
   "outputs": [
    {
     "data": {
      "text/html": [
       "<table class=\"dataframe\">\n",
       "<caption>A cast_df: 6 × 6</caption>\n",
       "<thead>\n",
       "\t<tr><th></th><th scope=col>year</th><th scope=col>test</th><th scope=col>a_math</th><th scope=col>a_english</th><th scope=col>b_math</th><th scope=col>b_english</th></tr>\n",
       "\t<tr><th></th><th scope=col>&lt;dbl&gt;</th><th scope=col>&lt;dbl&gt;</th><th scope=col>&lt;dbl&gt;</th><th scope=col>&lt;dbl&gt;</th><th scope=col>&lt;dbl&gt;</th><th scope=col>&lt;dbl&gt;</th></tr>\n",
       "</thead>\n",
       "<tbody>\n",
       "\t<tr><th scope=row>1</th><td>2017</td><td>1</td><td>1</td><td>2</td><td>7</td><td>7</td></tr>\n",
       "\t<tr><th scope=row>2</th><td>2017</td><td>2</td><td>5</td><td>9</td><td>8</td><td>1</td></tr>\n",
       "\t<tr><th scope=row>3</th><td>2017</td><td>3</td><td>8</td><td>8</td><td>5</td><td>4</td></tr>\n",
       "\t<tr><th scope=row>4</th><td>2018</td><td>1</td><td>6</td><td>5</td><td>4</td><td>9</td></tr>\n",
       "\t<tr><th scope=row>5</th><td>2018</td><td>2</td><td>4</td><td>3</td><td>6</td><td>5</td></tr>\n",
       "\t<tr><th scope=row>6</th><td>2018</td><td>3</td><td>2</td><td>2</td><td>7</td><td>7</td></tr>\n",
       "</tbody>\n",
       "</table>\n"
      ],
      "text/latex": [
       "A cast\\_df: 6 × 6\n",
       "\\begin{tabular}{r|llllll}\n",
       "  & year & test & a\\_math & a\\_english & b\\_math & b\\_english\\\\\n",
       "  & <dbl> & <dbl> & <dbl> & <dbl> & <dbl> & <dbl>\\\\\n",
       "\\hline\n",
       "\t1 & 2017 & 1 & 1 & 2 & 7 & 7\\\\\n",
       "\t2 & 2017 & 2 & 5 & 9 & 8 & 1\\\\\n",
       "\t3 & 2017 & 3 & 8 & 8 & 5 & 4\\\\\n",
       "\t4 & 2018 & 1 & 6 & 5 & 4 & 9\\\\\n",
       "\t5 & 2018 & 2 & 4 & 3 & 6 & 5\\\\\n",
       "\t6 & 2018 & 3 & 2 & 2 & 7 & 7\\\\\n",
       "\\end{tabular}\n"
      ],
      "text/markdown": [
       "\n",
       "A cast_df: 6 × 6\n",
       "\n",
       "| <!--/--> | year &lt;dbl&gt; | test &lt;dbl&gt; | a_math &lt;dbl&gt; | a_english &lt;dbl&gt; | b_math &lt;dbl&gt; | b_english &lt;dbl&gt; |\n",
       "|---|---|---|---|---|---|---|\n",
       "| 1 | 2017 | 1 | 1 | 2 | 7 | 7 |\n",
       "| 2 | 2017 | 2 | 5 | 9 | 8 | 1 |\n",
       "| 3 | 2017 | 3 | 8 | 8 | 5 | 4 |\n",
       "| 4 | 2018 | 1 | 6 | 5 | 4 | 9 |\n",
       "| 5 | 2018 | 2 | 4 | 3 | 6 | 5 |\n",
       "| 6 | 2018 | 3 | 2 | 2 | 7 | 7 |\n",
       "\n"
      ],
      "text/plain": [
       "  year test a_math a_english b_math b_english\n",
       "1 2017 1    1      2         7      7        \n",
       "2 2017 2    5      9         8      1        \n",
       "3 2017 3    8      8         5      4        \n",
       "4 2018 1    6      5         4      9        \n",
       "5 2018 2    4      3         6      5        \n",
       "6 2018 3    2      2         7      7        "
      ]
     },
     "metadata": {},
     "output_type": "display_data"
    }
   ],
   "source": [
    "cast(md, year + test ~ name + variable) # 重塑 mydata，得到每年每次（行标签）每人每次考试（列标签）的分数"
   ]
  },
  {
   "cell_type": "code",
   "execution_count": null,
   "metadata": {},
   "outputs": [],
   "source": []
  }
 ],
 "metadata": {
  "kernelspec": {
   "display_name": "R",
   "language": "R",
   "name": "ir"
  },
  "language_info": {
   "codemirror_mode": "r",
   "file_extension": ".r",
   "mimetype": "text/x-r-source",
   "name": "R",
   "pygments_lexer": "r",
   "version": "4.3.2"
  }
 },
 "nbformat": 4,
 "nbformat_minor": 4
}
