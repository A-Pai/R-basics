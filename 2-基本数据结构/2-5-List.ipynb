{
 "cells": [
  {
   "cell_type": "markdown",
   "metadata": {
    "collapsed": true,
    "jupyter": {
     "outputs_hidden": true
    }
   },
   "source": [
    "- 向量、矩阵和数组的元素都必须是同一类型的数据。\n",
    "- 如果一个数据对象需要含有不同的数据类型，可以采用列表（list）这种数据对象的形式。\n",
    "- 列表是一个对象的有序集合构成的对象，列表中包含的对象又称为它的分量（components），分量可以是不同的类型，如一个列表可以包括数值向量、逻辑向量、矩阵、字符、数组、**列表**等。\n",
    "- 创建列表的函数是list()，其句法是：list（变量1=分量1，变量2=分量2，….）。\n",
    "- **R中函数往往用列表返回结果**"
   ]
  },
  {
   "cell_type": "markdown",
   "metadata": {},
   "source": [
    "# 构建列表"
   ]
  },
  {
   "cell_type": "code",
   "execution_count": 1,
   "metadata": {},
   "outputs": [
    {
     "data": {
      "text/html": [
       "<ol>\n",
       "\t<li><style>\n",
       ".list-inline {list-style: none; margin:0; padding: 0}\n",
       ".list-inline>li {display: inline-block}\n",
       ".list-inline>li:not(:last-child)::after {content: \"\\00b7\"; padding: 0 .5ex}\n",
       "</style>\n",
       "<ol class=list-inline><li>1</li><li>1</li><li>2</li><li>2</li><li>3</li><li>3</li><li>3</li></ol>\n",
       "</li>\n",
       "\t<li><style>\n",
       ".list-inline {list-style: none; margin:0; padding: 0}\n",
       ".list-inline>li {display: inline-block}\n",
       ".list-inline>li:not(:last-child)::after {content: \"\\00b7\"; padding: 0 .5ex}\n",
       "</style>\n",
       "<ol class=list-inline><li>'女'</li><li>'男'</li><li>'男'</li><li>'女'</li><li>'女'</li><li>'女'</li><li>'男'</li></ol>\n",
       "</li>\n",
       "\t<li><style>\n",
       ".list-inline {list-style: none; margin:0; padding: 0}\n",
       ".list-inline>li {display: inline-block}\n",
       ".list-inline>li:not(:last-child)::after {content: \"\\00b7\"; padding: 0 .5ex}\n",
       "</style>\n",
       "<ol class=list-inline><li>80</li><li>85</li><li>92</li><li>76</li><li>61</li><li>95</li><li>83</li></ol>\n",
       "</li>\n",
       "</ol>\n"
      ],
      "text/latex": [
       "\\begin{enumerate}\n",
       "\\item \\begin{enumerate*}\n",
       "\\item 1\n",
       "\\item 1\n",
       "\\item 2\n",
       "\\item 2\n",
       "\\item 3\n",
       "\\item 3\n",
       "\\item 3\n",
       "\\end{enumerate*}\n",
       "\n",
       "\\item \\begin{enumerate*}\n",
       "\\item '女'\n",
       "\\item '男'\n",
       "\\item '男'\n",
       "\\item '女'\n",
       "\\item '女'\n",
       "\\item '女'\n",
       "\\item '男'\n",
       "\\end{enumerate*}\n",
       "\n",
       "\\item \\begin{enumerate*}\n",
       "\\item 80\n",
       "\\item 85\n",
       "\\item 92\n",
       "\\item 76\n",
       "\\item 61\n",
       "\\item 95\n",
       "\\item 83\n",
       "\\end{enumerate*}\n",
       "\n",
       "\\end{enumerate}\n"
      ],
      "text/markdown": [
       "1. 1. 1\n",
       "2. 1\n",
       "3. 2\n",
       "4. 2\n",
       "5. 3\n",
       "6. 3\n",
       "7. 3\n",
       "\n",
       "\n",
       "\n",
       "2. 1. '女'\n",
       "2. '男'\n",
       "3. '男'\n",
       "4. '女'\n",
       "5. '女'\n",
       "6. '女'\n",
       "7. '男'\n",
       "\n",
       "\n",
       "\n",
       "3. 1. 80\n",
       "2. 85\n",
       "3. 92\n",
       "4. 76\n",
       "5. 61\n",
       "6. 95\n",
       "7. 83\n",
       "\n",
       "\n",
       "\n",
       "\n",
       "\n"
      ],
      "text/plain": [
       "[[1]]\n",
       "[1] 1 1 2 2 3 3 3\n",
       "\n",
       "[[2]]\n",
       "[1] \"女\" \"男\" \"男\" \"女\" \"女\" \"女\" \"男\"\n",
       "\n",
       "[[3]]\n",
       "[1] 80 85 92 76 61 95 83\n"
      ]
     },
     "metadata": {},
     "output_type": "display_data"
    }
   ],
   "source": [
    "# 下面是某校部分学生的情况，其中，x、y、z分别表示班级、性别和成绩\n",
    "x <- c(1, 1, 2, 2, 3, 3, 3)\n",
    "y <- c(\"女\", \"男\", \"男\", \"女\", \"女\", \"女\", \"男\")\n",
    "z <- c(80, 85, 92, 76, 61, 95, 83)\n",
    "(LST <- list(x, y, z)) # 不给分量命名"
   ]
  },
  {
   "cell_type": "code",
   "execution_count": 2,
   "metadata": {},
   "outputs": [
    {
     "name": "stdout",
     "output_type": "stream",
     "text": [
      "List of 3\n",
      " $ : num [1:7] 1 1 2 2 3 3 3\n",
      " $ : chr [1:7] \"女\" \"男\" \"男\" \"女\" ...\n",
      " $ : num [1:7] 80 85 92 76 61 95 83\n"
     ]
    }
   ],
   "source": [
    "str(LST)    #列表的结构"
   ]
  },
  {
   "cell_type": "markdown",
   "metadata": {},
   "source": [
    "# 访问列表"
   ]
  },
  {
   "cell_type": "markdown",
   "metadata": {},
   "source": [
    "# 访问列表"
   ]
  },
  {
   "cell_type": "code",
   "execution_count": 3,
   "metadata": {},
   "outputs": [
    {
     "data": {
      "text/html": [
       "<style>\n",
       ".list-inline {list-style: none; margin:0; padding: 0}\n",
       ".list-inline>li {display: inline-block}\n",
       ".list-inline>li:not(:last-child)::after {content: \"\\00b7\"; padding: 0 .5ex}\n",
       "</style>\n",
       "<ol class=list-inline><li>1</li><li>1</li><li>2</li><li>2</li><li>3</li><li>3</li><li>3</li></ol>\n"
      ],
      "text/latex": [
       "\\begin{enumerate*}\n",
       "\\item 1\n",
       "\\item 1\n",
       "\\item 2\n",
       "\\item 2\n",
       "\\item 3\n",
       "\\item 3\n",
       "\\item 3\n",
       "\\end{enumerate*}\n"
      ],
      "text/markdown": [
       "1. 1\n",
       "2. 1\n",
       "3. 2\n",
       "4. 2\n",
       "5. 3\n",
       "6. 3\n",
       "7. 3\n",
       "\n",
       "\n"
      ],
      "text/plain": [
       "[1] 1 1 2 2 3 3 3"
      ]
     },
     "metadata": {},
     "output_type": "display_data"
    },
    {
     "name": "stdout",
     "output_type": "stream",
     "text": [
      "[1] \"numeric\"\n"
     ]
    }
   ],
   "source": [
    "LST[[1]]     #返回分量自身，只能通过[[  ]]访问\n",
    "print(class(LST[[1]]))"
   ]
  },
  {
   "cell_type": "code",
   "execution_count": 4,
   "metadata": {},
   "outputs": [
    {
     "data": {
      "text/html": [
       "<ol>\n",
       "\t<li><style>\n",
       ".list-inline {list-style: none; margin:0; padding: 0}\n",
       ".list-inline>li {display: inline-block}\n",
       ".list-inline>li:not(:last-child)::after {content: \"\\00b7\"; padding: 0 .5ex}\n",
       "</style>\n",
       "<ol class=list-inline><li>1</li><li>1</li><li>2</li><li>2</li><li>3</li><li>3</li><li>3</li></ol>\n",
       "</li>\n",
       "</ol>\n"
      ],
      "text/latex": [
       "\\begin{enumerate}\n",
       "\\item \\begin{enumerate*}\n",
       "\\item 1\n",
       "\\item 1\n",
       "\\item 2\n",
       "\\item 2\n",
       "\\item 3\n",
       "\\item 3\n",
       "\\item 3\n",
       "\\end{enumerate*}\n",
       "\n",
       "\\end{enumerate}\n"
      ],
      "text/markdown": [
       "1. 1. 1\n",
       "2. 1\n",
       "3. 2\n",
       "4. 2\n",
       "5. 3\n",
       "6. 3\n",
       "7. 3\n",
       "\n",
       "\n",
       "\n",
       "\n",
       "\n"
      ],
      "text/plain": [
       "[[1]]\n",
       "[1] 1 1 2 2 3 3 3\n"
      ]
     },
     "metadata": {},
     "output_type": "display_data"
    },
    {
     "name": "stdout",
     "output_type": "stream",
     "text": [
      "[1] \"list\"\n"
     ]
    }
   ],
   "source": [
    "LST[1]     #返回的是子列表，与LST[1:2]联系起来考虑\n",
    "print(class(LST[1]))"
   ]
  },
  {
   "cell_type": "markdown",
   "metadata": {},
   "source": [
    "##### 可以这样理解：[[ ]]更深一些，接近于分量的内容，[ ]浅一些，接近于分量的外壳"
   ]
  },
  {
   "cell_type": "code",
   "execution_count": 5,
   "metadata": {},
   "outputs": [
    {
     "data": {
      "text/html": [
       "<ol>\n",
       "\t<li><style>\n",
       ".list-inline {list-style: none; margin:0; padding: 0}\n",
       ".list-inline>li {display: inline-block}\n",
       ".list-inline>li:not(:last-child)::after {content: \"\\00b7\"; padding: 0 .5ex}\n",
       "</style>\n",
       "<ol class=list-inline><li>1</li><li>1</li><li>2</li><li>2</li><li>3</li><li>3</li><li>3</li></ol>\n",
       "</li>\n",
       "\t<li><style>\n",
       ".list-inline {list-style: none; margin:0; padding: 0}\n",
       ".list-inline>li {display: inline-block}\n",
       ".list-inline>li:not(:last-child)::after {content: \"\\00b7\"; padding: 0 .5ex}\n",
       "</style>\n",
       "<ol class=list-inline><li>'女'</li><li>'男'</li><li>'男'</li><li>'女'</li><li>'女'</li><li>'女'</li><li>'男'</li></ol>\n",
       "</li>\n",
       "</ol>\n"
      ],
      "text/latex": [
       "\\begin{enumerate}\n",
       "\\item \\begin{enumerate*}\n",
       "\\item 1\n",
       "\\item 1\n",
       "\\item 2\n",
       "\\item 2\n",
       "\\item 3\n",
       "\\item 3\n",
       "\\item 3\n",
       "\\end{enumerate*}\n",
       "\n",
       "\\item \\begin{enumerate*}\n",
       "\\item '女'\n",
       "\\item '男'\n",
       "\\item '男'\n",
       "\\item '女'\n",
       "\\item '女'\n",
       "\\item '女'\n",
       "\\item '男'\n",
       "\\end{enumerate*}\n",
       "\n",
       "\\end{enumerate}\n"
      ],
      "text/markdown": [
       "1. 1. 1\n",
       "2. 1\n",
       "3. 2\n",
       "4. 2\n",
       "5. 3\n",
       "6. 3\n",
       "7. 3\n",
       "\n",
       "\n",
       "\n",
       "2. 1. '女'\n",
       "2. '男'\n",
       "3. '男'\n",
       "4. '女'\n",
       "5. '女'\n",
       "6. '女'\n",
       "7. '男'\n",
       "\n",
       "\n",
       "\n",
       "\n",
       "\n"
      ],
      "text/plain": [
       "[[1]]\n",
       "[1] 1 1 2 2 3 3 3\n",
       "\n",
       "[[2]]\n",
       "[1] \"女\" \"男\" \"男\" \"女\" \"女\" \"女\" \"男\"\n"
      ]
     },
     "metadata": {},
     "output_type": "display_data"
    },
    {
     "name": "stdout",
     "output_type": "stream",
     "text": [
      "[1] \"list\"\n"
     ]
    }
   ],
   "source": [
    "LST[1:2]    #返回的是子列表\n",
    "print(class(LST[1:2]))"
   ]
  },
  {
   "cell_type": "code",
   "execution_count": 6,
   "metadata": {},
   "outputs": [
    {
     "data": {
      "text/html": [
       "<dl>\n",
       "\t<dt>$id</dt>\n",
       "\t\t<dd><style>\n",
       ".list-inline {list-style: none; margin:0; padding: 0}\n",
       ".list-inline>li {display: inline-block}\n",
       ".list-inline>li:not(:last-child)::after {content: \"\\00b7\"; padding: 0 .5ex}\n",
       "</style>\n",
       "<ol class=list-inline><li>1</li><li>1</li><li>2</li><li>2</li><li>3</li><li>3</li><li>3</li></ol>\n",
       "</dd>\n",
       "\t<dt>$sex</dt>\n",
       "\t\t<dd><style>\n",
       ".list-inline {list-style: none; margin:0; padding: 0}\n",
       ".list-inline>li {display: inline-block}\n",
       ".list-inline>li:not(:last-child)::after {content: \"\\00b7\"; padding: 0 .5ex}\n",
       "</style>\n",
       "<ol class=list-inline><li>'女'</li><li>'男'</li><li>'男'</li><li>'女'</li><li>'女'</li><li>'女'</li><li>'男'</li></ol>\n",
       "</dd>\n",
       "\t<dt>$score</dt>\n",
       "\t\t<dd><style>\n",
       ".list-inline {list-style: none; margin:0; padding: 0}\n",
       ".list-inline>li {display: inline-block}\n",
       ".list-inline>li:not(:last-child)::after {content: \"\\00b7\"; padding: 0 .5ex}\n",
       "</style>\n",
       "<ol class=list-inline><li>80</li><li>85</li><li>92</li><li>76</li><li>61</li><li>95</li><li>83</li></ol>\n",
       "</dd>\n",
       "</dl>\n"
      ],
      "text/latex": [
       "\\begin{description}\n",
       "\\item[\\$id] \\begin{enumerate*}\n",
       "\\item 1\n",
       "\\item 1\n",
       "\\item 2\n",
       "\\item 2\n",
       "\\item 3\n",
       "\\item 3\n",
       "\\item 3\n",
       "\\end{enumerate*}\n",
       "\n",
       "\\item[\\$sex] \\begin{enumerate*}\n",
       "\\item '女'\n",
       "\\item '男'\n",
       "\\item '男'\n",
       "\\item '女'\n",
       "\\item '女'\n",
       "\\item '女'\n",
       "\\item '男'\n",
       "\\end{enumerate*}\n",
       "\n",
       "\\item[\\$score] \\begin{enumerate*}\n",
       "\\item 80\n",
       "\\item 85\n",
       "\\item 92\n",
       "\\item 76\n",
       "\\item 61\n",
       "\\item 95\n",
       "\\item 83\n",
       "\\end{enumerate*}\n",
       "\n",
       "\\end{description}\n"
      ],
      "text/markdown": [
       "$id\n",
       ":   1. 1\n",
       "2. 1\n",
       "3. 2\n",
       "4. 2\n",
       "5. 3\n",
       "6. 3\n",
       "7. 3\n",
       "\n",
       "\n",
       "\n",
       "$sex\n",
       ":   1. '女'\n",
       "2. '男'\n",
       "3. '男'\n",
       "4. '女'\n",
       "5. '女'\n",
       "6. '女'\n",
       "7. '男'\n",
       "\n",
       "\n",
       "\n",
       "$score\n",
       ":   1. 80\n",
       "2. 85\n",
       "3. 92\n",
       "4. 76\n",
       "5. 61\n",
       "6. 95\n",
       "7. 83\n",
       "\n",
       "\n",
       "\n",
       "\n",
       "\n"
      ],
      "text/plain": [
       "$id\n",
       "[1] 1 1 2 2 3 3 3\n",
       "\n",
       "$sex\n",
       "[1] \"女\" \"男\" \"男\" \"女\" \"女\" \"女\" \"男\"\n",
       "\n",
       "$score\n",
       "[1] 80 85 92 76 61 95 83\n"
      ]
     },
     "metadata": {},
     "output_type": "display_data"
    }
   ],
   "source": [
    "(LST <- list(id = x,sex = y,score = z))   #给分量命名，可以只给其中某些分量命名"
   ]
  },
  {
   "cell_type": "code",
   "execution_count": 7,
   "metadata": {},
   "outputs": [
    {
     "name": "stdout",
     "output_type": "stream",
     "text": [
      "List of 3\n",
      " $ id   : num [1:7] 1 1 2 2 3 3 3\n",
      " $ sex  : chr [1:7] \"女\" \"男\" \"男\" \"女\" ...\n",
      " $ score: num [1:7] 80 85 92 76 61 95 83\n"
     ]
    }
   ],
   "source": [
    "str(LST)"
   ]
  },
  {
   "cell_type": "markdown",
   "metadata": {},
   "source": [
    "可以通过方括号 [ ]、正或负的下标数字、元素名称或逻辑索引这四种方法访问列表中的分量，返回“子列表”--还是列表类型\n",
    "以下四行代码的结果相同："
   ]
  },
  {
   "cell_type": "code",
   "execution_count": 8,
   "metadata": {},
   "outputs": [
    {
     "data": {
      "text/html": [
       "<dl>\n",
       "\t<dt>$id</dt>\n",
       "\t\t<dd><style>\n",
       ".list-inline {list-style: none; margin:0; padding: 0}\n",
       ".list-inline>li {display: inline-block}\n",
       ".list-inline>li:not(:last-child)::after {content: \"\\00b7\"; padding: 0 .5ex}\n",
       "</style>\n",
       "<ol class=list-inline><li>1</li><li>1</li><li>2</li><li>2</li><li>3</li><li>3</li><li>3</li></ol>\n",
       "</dd>\n",
       "\t<dt>$sex</dt>\n",
       "\t\t<dd><style>\n",
       ".list-inline {list-style: none; margin:0; padding: 0}\n",
       ".list-inline>li {display: inline-block}\n",
       ".list-inline>li:not(:last-child)::after {content: \"\\00b7\"; padding: 0 .5ex}\n",
       "</style>\n",
       "<ol class=list-inline><li>'女'</li><li>'男'</li><li>'男'</li><li>'女'</li><li>'女'</li><li>'女'</li><li>'男'</li></ol>\n",
       "</dd>\n",
       "</dl>\n"
      ],
      "text/latex": [
       "\\begin{description}\n",
       "\\item[\\$id] \\begin{enumerate*}\n",
       "\\item 1\n",
       "\\item 1\n",
       "\\item 2\n",
       "\\item 2\n",
       "\\item 3\n",
       "\\item 3\n",
       "\\item 3\n",
       "\\end{enumerate*}\n",
       "\n",
       "\\item[\\$sex] \\begin{enumerate*}\n",
       "\\item '女'\n",
       "\\item '男'\n",
       "\\item '男'\n",
       "\\item '女'\n",
       "\\item '女'\n",
       "\\item '女'\n",
       "\\item '男'\n",
       "\\end{enumerate*}\n",
       "\n",
       "\\end{description}\n"
      ],
      "text/markdown": [
       "$id\n",
       ":   1. 1\n",
       "2. 1\n",
       "3. 2\n",
       "4. 2\n",
       "5. 3\n",
       "6. 3\n",
       "7. 3\n",
       "\n",
       "\n",
       "\n",
       "$sex\n",
       ":   1. '女'\n",
       "2. '男'\n",
       "3. '男'\n",
       "4. '女'\n",
       "5. '女'\n",
       "6. '女'\n",
       "7. '男'\n",
       "\n",
       "\n",
       "\n",
       "\n",
       "\n"
      ],
      "text/plain": [
       "$id\n",
       "[1] 1 1 2 2 3 3 3\n",
       "\n",
       "$sex\n",
       "[1] \"女\" \"男\" \"男\" \"女\" \"女\" \"女\" \"男\"\n"
      ]
     },
     "metadata": {},
     "output_type": "display_data"
    },
    {
     "name": "stdout",
     "output_type": "stream",
     "text": [
      "[1] \"list\"\n"
     ]
    }
   ],
   "source": [
    "LST[1:2]\n",
    "print(class(LST[1:2]))"
   ]
  },
  {
   "cell_type": "code",
   "execution_count": 9,
   "metadata": {},
   "outputs": [
    {
     "data": {
      "text/html": [
       "<dl>\n",
       "\t<dt>$id</dt>\n",
       "\t\t<dd><style>\n",
       ".list-inline {list-style: none; margin:0; padding: 0}\n",
       ".list-inline>li {display: inline-block}\n",
       ".list-inline>li:not(:last-child)::after {content: \"\\00b7\"; padding: 0 .5ex}\n",
       "</style>\n",
       "<ol class=list-inline><li>1</li><li>1</li><li>2</li><li>2</li><li>3</li><li>3</li><li>3</li></ol>\n",
       "</dd>\n",
       "\t<dt>$sex</dt>\n",
       "\t\t<dd><style>\n",
       ".list-inline {list-style: none; margin:0; padding: 0}\n",
       ".list-inline>li {display: inline-block}\n",
       ".list-inline>li:not(:last-child)::after {content: \"\\00b7\"; padding: 0 .5ex}\n",
       "</style>\n",
       "<ol class=list-inline><li>'女'</li><li>'男'</li><li>'男'</li><li>'女'</li><li>'女'</li><li>'女'</li><li>'男'</li></ol>\n",
       "</dd>\n",
       "</dl>\n"
      ],
      "text/latex": [
       "\\begin{description}\n",
       "\\item[\\$id] \\begin{enumerate*}\n",
       "\\item 1\n",
       "\\item 1\n",
       "\\item 2\n",
       "\\item 2\n",
       "\\item 3\n",
       "\\item 3\n",
       "\\item 3\n",
       "\\end{enumerate*}\n",
       "\n",
       "\\item[\\$sex] \\begin{enumerate*}\n",
       "\\item '女'\n",
       "\\item '男'\n",
       "\\item '男'\n",
       "\\item '女'\n",
       "\\item '女'\n",
       "\\item '女'\n",
       "\\item '男'\n",
       "\\end{enumerate*}\n",
       "\n",
       "\\end{description}\n"
      ],
      "text/markdown": [
       "$id\n",
       ":   1. 1\n",
       "2. 1\n",
       "3. 2\n",
       "4. 2\n",
       "5. 3\n",
       "6. 3\n",
       "7. 3\n",
       "\n",
       "\n",
       "\n",
       "$sex\n",
       ":   1. '女'\n",
       "2. '男'\n",
       "3. '男'\n",
       "4. '女'\n",
       "5. '女'\n",
       "6. '女'\n",
       "7. '男'\n",
       "\n",
       "\n",
       "\n",
       "\n",
       "\n"
      ],
      "text/plain": [
       "$id\n",
       "[1] 1 1 2 2 3 3 3\n",
       "\n",
       "$sex\n",
       "[1] \"女\" \"男\" \"男\" \"女\" \"女\" \"女\" \"男\"\n"
      ]
     },
     "metadata": {},
     "output_type": "display_data"
    },
    {
     "name": "stdout",
     "output_type": "stream",
     "text": [
      "[1] \"list\"\n"
     ]
    }
   ],
   "source": [
    "LST[-3]\n",
    "print(class(LST[-3]))"
   ]
  },
  {
   "cell_type": "code",
   "execution_count": 10,
   "metadata": {},
   "outputs": [
    {
     "data": {
      "text/html": [
       "<dl>\n",
       "\t<dt>$id</dt>\n",
       "\t\t<dd><style>\n",
       ".list-inline {list-style: none; margin:0; padding: 0}\n",
       ".list-inline>li {display: inline-block}\n",
       ".list-inline>li:not(:last-child)::after {content: \"\\00b7\"; padding: 0 .5ex}\n",
       "</style>\n",
       "<ol class=list-inline><li>1</li><li>1</li><li>2</li><li>2</li><li>3</li><li>3</li><li>3</li></ol>\n",
       "</dd>\n",
       "\t<dt>$sex</dt>\n",
       "\t\t<dd><style>\n",
       ".list-inline {list-style: none; margin:0; padding: 0}\n",
       ".list-inline>li {display: inline-block}\n",
       ".list-inline>li:not(:last-child)::after {content: \"\\00b7\"; padding: 0 .5ex}\n",
       "</style>\n",
       "<ol class=list-inline><li>'女'</li><li>'男'</li><li>'男'</li><li>'女'</li><li>'女'</li><li>'女'</li><li>'男'</li></ol>\n",
       "</dd>\n",
       "</dl>\n"
      ],
      "text/latex": [
       "\\begin{description}\n",
       "\\item[\\$id] \\begin{enumerate*}\n",
       "\\item 1\n",
       "\\item 1\n",
       "\\item 2\n",
       "\\item 2\n",
       "\\item 3\n",
       "\\item 3\n",
       "\\item 3\n",
       "\\end{enumerate*}\n",
       "\n",
       "\\item[\\$sex] \\begin{enumerate*}\n",
       "\\item '女'\n",
       "\\item '男'\n",
       "\\item '男'\n",
       "\\item '女'\n",
       "\\item '女'\n",
       "\\item '女'\n",
       "\\item '男'\n",
       "\\end{enumerate*}\n",
       "\n",
       "\\end{description}\n"
      ],
      "text/markdown": [
       "$id\n",
       ":   1. 1\n",
       "2. 1\n",
       "3. 2\n",
       "4. 2\n",
       "5. 3\n",
       "6. 3\n",
       "7. 3\n",
       "\n",
       "\n",
       "\n",
       "$sex\n",
       ":   1. '女'\n",
       "2. '男'\n",
       "3. '男'\n",
       "4. '女'\n",
       "5. '女'\n",
       "6. '女'\n",
       "7. '男'\n",
       "\n",
       "\n",
       "\n",
       "\n",
       "\n"
      ],
      "text/plain": [
       "$id\n",
       "[1] 1 1 2 2 3 3 3\n",
       "\n",
       "$sex\n",
       "[1] \"女\" \"男\" \"男\" \"女\" \"女\" \"女\" \"男\"\n"
      ]
     },
     "metadata": {},
     "output_type": "display_data"
    },
    {
     "name": "stdout",
     "output_type": "stream",
     "text": [
      "[1] \"list\"\n"
     ]
    }
   ],
   "source": [
    "LST[c(\"id\", \"sex\")]\n",
    "print(class(LST[c(\"id\", \"sex\")]))"
   ]
  },
  {
   "cell_type": "code",
   "execution_count": 11,
   "metadata": {},
   "outputs": [
    {
     "data": {
      "text/html": [
       "<dl>\n",
       "\t<dt>$id</dt>\n",
       "\t\t<dd><style>\n",
       ".list-inline {list-style: none; margin:0; padding: 0}\n",
       ".list-inline>li {display: inline-block}\n",
       ".list-inline>li:not(:last-child)::after {content: \"\\00b7\"; padding: 0 .5ex}\n",
       "</style>\n",
       "<ol class=list-inline><li>1</li><li>1</li><li>2</li><li>2</li><li>3</li><li>3</li><li>3</li></ol>\n",
       "</dd>\n",
       "\t<dt>$sex</dt>\n",
       "\t\t<dd><style>\n",
       ".list-inline {list-style: none; margin:0; padding: 0}\n",
       ".list-inline>li {display: inline-block}\n",
       ".list-inline>li:not(:last-child)::after {content: \"\\00b7\"; padding: 0 .5ex}\n",
       "</style>\n",
       "<ol class=list-inline><li>'女'</li><li>'男'</li><li>'男'</li><li>'女'</li><li>'女'</li><li>'女'</li><li>'男'</li></ol>\n",
       "</dd>\n",
       "</dl>\n"
      ],
      "text/latex": [
       "\\begin{description}\n",
       "\\item[\\$id] \\begin{enumerate*}\n",
       "\\item 1\n",
       "\\item 1\n",
       "\\item 2\n",
       "\\item 2\n",
       "\\item 3\n",
       "\\item 3\n",
       "\\item 3\n",
       "\\end{enumerate*}\n",
       "\n",
       "\\item[\\$sex] \\begin{enumerate*}\n",
       "\\item '女'\n",
       "\\item '男'\n",
       "\\item '男'\n",
       "\\item '女'\n",
       "\\item '女'\n",
       "\\item '女'\n",
       "\\item '男'\n",
       "\\end{enumerate*}\n",
       "\n",
       "\\end{description}\n"
      ],
      "text/markdown": [
       "$id\n",
       ":   1. 1\n",
       "2. 1\n",
       "3. 2\n",
       "4. 2\n",
       "5. 3\n",
       "6. 3\n",
       "7. 3\n",
       "\n",
       "\n",
       "\n",
       "$sex\n",
       ":   1. '女'\n",
       "2. '男'\n",
       "3. '男'\n",
       "4. '女'\n",
       "5. '女'\n",
       "6. '女'\n",
       "7. '男'\n",
       "\n",
       "\n",
       "\n",
       "\n",
       "\n"
      ],
      "text/plain": [
       "$id\n",
       "[1] 1 1 2 2 3 3 3\n",
       "\n",
       "$sex\n",
       "[1] \"女\" \"男\" \"男\" \"女\" \"女\" \"女\" \"男\"\n"
      ]
     },
     "metadata": {},
     "output_type": "display_data"
    },
    {
     "name": "stdout",
     "output_type": "stream",
     "text": [
      "[1] \"list\"\n"
     ]
    }
   ],
   "source": [
    "LST[c(TRUE, TRUE, FALSE)]\n",
    "print(class(LST[c(TRUE, TRUE, FALSE)]))"
   ]
  },
  {
   "cell_type": "markdown",
   "metadata": {},
   "source": [
    "## 通过分量名访问"
   ]
  },
  {
   "cell_type": "code",
   "execution_count": 12,
   "metadata": {},
   "outputs": [
    {
     "name": "stdout",
     "output_type": "stream",
     "text": [
      "List of 3\n",
      " $ id   : num [1:7] 1 1 2 2 3 3 3\n",
      " $ sex  : chr [1:7] \"女\" \"男\" \"男\" \"女\" ...\n",
      " $ score: num [1:7] 80 85 92 76 61 95 83\n"
     ]
    }
   ],
   "source": [
    "str(LST)"
   ]
  },
  {
   "cell_type": "code",
   "execution_count": 13,
   "metadata": {},
   "outputs": [
    {
     "data": {
      "text/html": [
       "<style>\n",
       ".list-inline {list-style: none; margin:0; padding: 0}\n",
       ".list-inline>li {display: inline-block}\n",
       ".list-inline>li:not(:last-child)::after {content: \"\\00b7\"; padding: 0 .5ex}\n",
       "</style>\n",
       "<ol class=list-inline><li>80</li><li>85</li><li>92</li><li>76</li><li>61</li><li>95</li><li>83</li></ol>\n"
      ],
      "text/latex": [
       "\\begin{enumerate*}\n",
       "\\item 80\n",
       "\\item 85\n",
       "\\item 92\n",
       "\\item 76\n",
       "\\item 61\n",
       "\\item 95\n",
       "\\item 83\n",
       "\\end{enumerate*}\n"
      ],
      "text/markdown": [
       "1. 80\n",
       "2. 85\n",
       "3. 92\n",
       "4. 76\n",
       "5. 61\n",
       "6. 95\n",
       "7. 83\n",
       "\n",
       "\n"
      ],
      "text/plain": [
       "[1] 80 85 92 76 61 95 83"
      ]
     },
     "metadata": {},
     "output_type": "display_data"
    }
   ],
   "source": [
    "LST$score    #得到的是分量内容"
   ]
  },
  {
   "cell_type": "code",
   "execution_count": 14,
   "metadata": {},
   "outputs": [
    {
     "data": {
      "text/html": [
       "'numeric'"
      ],
      "text/latex": [
       "'numeric'"
      ],
      "text/markdown": [
       "'numeric'"
      ],
      "text/plain": [
       "[1] \"numeric\""
      ]
     },
     "metadata": {},
     "output_type": "display_data"
    }
   ],
   "source": [
    "class(LST$score)"
   ]
  },
  {
   "cell_type": "markdown",
   "metadata": {},
   "source": [
    "## 访问分量的某一部分"
   ]
  },
  {
   "cell_type": "code",
   "execution_count": 15,
   "metadata": {},
   "outputs": [
    {
     "data": {
      "text/html": [
       "<style>\n",
       ".list-inline {list-style: none; margin:0; padding: 0}\n",
       ".list-inline>li {display: inline-block}\n",
       ".list-inline>li:not(:last-child)::after {content: \"\\00b7\"; padding: 0 .5ex}\n",
       "</style>\n",
       "<ol class=list-inline><li>'女'</li><li>'男'</li><li>'男'</li><li>'女'</li><li>'女'</li><li>'女'</li><li>'男'</li></ol>\n"
      ],
      "text/latex": [
       "\\begin{enumerate*}\n",
       "\\item '女'\n",
       "\\item '男'\n",
       "\\item '男'\n",
       "\\item '女'\n",
       "\\item '女'\n",
       "\\item '女'\n",
       "\\item '男'\n",
       "\\end{enumerate*}\n"
      ],
      "text/markdown": [
       "1. '女'\n",
       "2. '男'\n",
       "3. '男'\n",
       "4. '女'\n",
       "5. '女'\n",
       "6. '女'\n",
       "7. '男'\n",
       "\n",
       "\n"
      ],
      "text/plain": [
       "[1] \"女\" \"男\" \"男\" \"女\" \"女\" \"女\" \"男\""
      ]
     },
     "metadata": {},
     "output_type": "display_data"
    }
   ],
   "source": [
    "LST[[2]] #返回列表的第2个分量"
   ]
  },
  {
   "cell_type": "code",
   "execution_count": 16,
   "metadata": {},
   "outputs": [
    {
     "data": {
      "text/html": [
       "<style>\n",
       ".list-inline {list-style: none; margin:0; padding: 0}\n",
       ".list-inline>li {display: inline-block}\n",
       ".list-inline>li:not(:last-child)::after {content: \"\\00b7\"; padding: 0 .5ex}\n",
       "</style>\n",
       "<ol class=list-inline><li>'女'</li><li>'男'</li><li>'男'</li></ol>\n"
      ],
      "text/latex": [
       "\\begin{enumerate*}\n",
       "\\item '女'\n",
       "\\item '男'\n",
       "\\item '男'\n",
       "\\end{enumerate*}\n"
      ],
      "text/markdown": [
       "1. '女'\n",
       "2. '男'\n",
       "3. '男'\n",
       "\n",
       "\n"
      ],
      "text/plain": [
       "[1] \"女\" \"男\" \"男\""
      ]
     },
     "metadata": {},
     "output_type": "display_data"
    },
    {
     "data": {
      "text/html": [
       "'character'"
      ],
      "text/latex": [
       "'character'"
      ],
      "text/markdown": [
       "'character'"
      ],
      "text/plain": [
       "[1] \"character\""
      ]
     },
     "metadata": {},
     "output_type": "display_data"
    }
   ],
   "source": [
    "LST[[2]][1:3] #返回列表第二个成分的第1到3元素\n",
    "class(LST[[2]][1:3])"
   ]
  },
  {
   "cell_type": "code",
   "execution_count": 17,
   "metadata": {},
   "outputs": [
    {
     "data": {
      "text/html": [
       "92"
      ],
      "text/latex": [
       "92"
      ],
      "text/markdown": [
       "92"
      ],
      "text/plain": [
       "[1] 92"
      ]
     },
     "metadata": {},
     "output_type": "display_data"
    }
   ],
   "source": [
    "LST$score[3]  #取成分score的第3个元素"
   ]
  },
  {
   "cell_type": "code",
   "execution_count": 18,
   "metadata": {},
   "outputs": [
    {
     "data": {
      "text/html": [
       "<style>\n",
       ".list-inline {list-style: none; margin:0; padding: 0}\n",
       ".list-inline>li {display: inline-block}\n",
       ".list-inline>li:not(:last-child)::after {content: \"\\00b7\"; padding: 0 .5ex}\n",
       "</style>\n",
       "<ol class=list-inline><li>80</li><li>85</li><li>92</li></ol>\n"
      ],
      "text/latex": [
       "\\begin{enumerate*}\n",
       "\\item 80\n",
       "\\item 85\n",
       "\\item 92\n",
       "\\end{enumerate*}\n"
      ],
      "text/markdown": [
       "1. 80\n",
       "2. 85\n",
       "3. 92\n",
       "\n",
       "\n"
      ],
      "text/plain": [
       "[1] 80 85 92"
      ]
     },
     "metadata": {},
     "output_type": "display_data"
    }
   ],
   "source": [
    "LST$score[1:3]   #取成分score的第1-3个元素"
   ]
  },
  {
   "cell_type": "code",
   "execution_count": 19,
   "metadata": {},
   "outputs": [
    {
     "data": {
      "text/html": [
       "<style>\n",
       ".list-inline {list-style: none; margin:0; padding: 0}\n",
       ".list-inline>li {display: inline-block}\n",
       ".list-inline>li:not(:last-child)::after {content: \"\\00b7\"; padding: 0 .5ex}\n",
       "</style>\n",
       "<ol class=list-inline><li>85</li><li>61</li></ol>\n"
      ],
      "text/latex": [
       "\\begin{enumerate*}\n",
       "\\item 85\n",
       "\\item 61\n",
       "\\end{enumerate*}\n"
      ],
      "text/markdown": [
       "1. 85\n",
       "2. 61\n",
       "\n",
       "\n"
      ],
      "text/plain": [
       "[1] 85 61"
      ]
     },
     "metadata": {},
     "output_type": "display_data"
    }
   ],
   "source": [
    "LST$score[c(2,5)]  #取成分score的第2、5个元素"
   ]
  },
  {
   "cell_type": "markdown",
   "metadata": {},
   "source": [
    "# 将向量转换成列表\n",
    "--函数 as.list 将向量转换成列表，<font face=\"黑体\" color=red>向量中每个元素都成为分量</font>"
   ]
  },
  {
   "cell_type": "code",
   "execution_count": 20,
   "metadata": {},
   "outputs": [],
   "source": [
    "b <- c(1, 6, 21, 107) "
   ]
  },
  {
   "cell_type": "code",
   "execution_count": 21,
   "metadata": {},
   "outputs": [
    {
     "name": "stdout",
     "output_type": "stream",
     "text": [
      "List of 4\n",
      " $ : num 1\n",
      " $ : num 6\n",
      " $ : num 21\n",
      " $ : num 107\n"
     ]
    }
   ],
   "source": [
    "L1 <- as.list(b)\n",
    "str(L1)"
   ]
  },
  {
   "cell_type": "code",
   "execution_count": 22,
   "metadata": {},
   "outputs": [
    {
     "name": "stdout",
     "output_type": "stream",
     "text": [
      "List of 1\n",
      " $ : num [1:4] 1 6 21 107\n"
     ]
    }
   ],
   "source": [
    "L2 <- list(b)     #注意和上边的区别\n",
    "str(L2)"
   ]
  },
  {
   "cell_type": "code",
   "execution_count": 23,
   "metadata": {},
   "outputs": [
    {
     "data": {
      "text/html": [
       "6"
      ],
      "text/latex": [
       "6"
      ],
      "text/markdown": [
       "6"
      ],
      "text/plain": [
       "[1] 6"
      ]
     },
     "metadata": {},
     "output_type": "display_data"
    }
   ],
   "source": [
    "L1[[2]]"
   ]
  },
  {
   "cell_type": "code",
   "execution_count": 24,
   "metadata": {},
   "outputs": [
    {
     "ename": "ERROR",
     "evalue": "Error in L2[[2]]: subscript out of bounds\n",
     "output_type": "error",
     "traceback": [
      "Error in L2[[2]]: subscript out of bounds\nTraceback:\n"
     ]
    }
   ],
   "source": [
    "L2[[2]]"
   ]
  },
  {
   "cell_type": "markdown",
   "metadata": {},
   "source": [
    "# 列表转为向量\n",
    "--如果列表中元素是单一的数值、字符串，可使用函数as.numeric、as.character等将其转换成向量："
   ]
  },
  {
   "cell_type": "code",
   "execution_count": 25,
   "metadata": {},
   "outputs": [
    {
     "data": {
      "text/html": [
       "<style>\n",
       ".list-inline {list-style: none; margin:0; padding: 0}\n",
       ".list-inline>li {display: inline-block}\n",
       ".list-inline>li:not(:last-child)::after {content: \"\\00b7\"; padding: 0 .5ex}\n",
       "</style>\n",
       "<ol class=list-inline><li>1</li><li>6</li><li>21</li><li>107</li></ol>\n"
      ],
      "text/latex": [
       "\\begin{enumerate*}\n",
       "\\item 1\n",
       "\\item 6\n",
       "\\item 21\n",
       "\\item 107\n",
       "\\end{enumerate*}\n"
      ],
      "text/markdown": [
       "1. 1\n",
       "2. 6\n",
       "3. 21\n",
       "4. 107\n",
       "\n",
       "\n"
      ],
      "text/plain": [
       "[1]   1   6  21 107"
      ]
     },
     "metadata": {},
     "output_type": "display_data"
    }
   ],
   "source": [
    "(x <- as.numeric(list(1, 6, 21, 107)))"
   ]
  },
  {
   "cell_type": "code",
   "execution_count": 26,
   "metadata": {},
   "outputs": [
    {
     "data": {
      "text/html": [
       "'numeric'"
      ],
      "text/latex": [
       "'numeric'"
      ],
      "text/markdown": [
       "'numeric'"
      ],
      "text/plain": [
       "[1] \"numeric\""
      ]
     },
     "metadata": {},
     "output_type": "display_data"
    }
   ],
   "source": [
    "class(x)"
   ]
  },
  {
   "cell_type": "code",
   "execution_count": 27,
   "metadata": {},
   "outputs": [
    {
     "data": {
      "text/html": [
       "<style>\n",
       ".list-inline {list-style: none; margin:0; padding: 0}\n",
       ".list-inline>li {display: inline-block}\n",
       ".list-inline>li:not(:last-child)::after {content: \"\\00b7\"; padding: 0 .5ex}\n",
       "</style>\n",
       "<ol class=list-inline><li>'a'</li><li>'b'</li><li>'c'</li><li>'d'</li></ol>\n"
      ],
      "text/latex": [
       "\\begin{enumerate*}\n",
       "\\item 'a'\n",
       "\\item 'b'\n",
       "\\item 'c'\n",
       "\\item 'd'\n",
       "\\end{enumerate*}\n"
      ],
      "text/markdown": [
       "1. 'a'\n",
       "2. 'b'\n",
       "3. 'c'\n",
       "4. 'd'\n",
       "\n",
       "\n"
      ],
      "text/plain": [
       "[1] \"a\" \"b\" \"c\" \"d\""
      ]
     },
     "metadata": {},
     "output_type": "display_data"
    }
   ],
   "source": [
    "(y <- as.character(list('a', 'b', 'c', 'd')))"
   ]
  },
  {
   "cell_type": "code",
   "execution_count": 28,
   "metadata": {},
   "outputs": [
    {
     "data": {
      "text/html": [
       "'character'"
      ],
      "text/latex": [
       "'character'"
      ],
      "text/markdown": [
       "'character'"
      ],
      "text/plain": [
       "[1] \"character\""
      ]
     },
     "metadata": {},
     "output_type": "display_data"
    }
   ],
   "source": [
    "class(y)"
   ]
  },
  {
   "cell_type": "markdown",
   "metadata": {},
   "source": [
    "# 拼接列表\n",
    "--c函数既能用于拼接向量，亦能用于拼接列表："
   ]
  },
  {
   "cell_type": "code",
   "execution_count": 29,
   "metadata": {},
   "outputs": [
    {
     "name": "stdout",
     "output_type": "stream",
     "text": [
      "$a\n",
      "[1] 1\n",
      "\n",
      "$b\n",
      "[1] 2\n",
      "\n",
      "[[3]]\n",
      "[1] 3\n",
      "\n"
     ]
    }
   ],
   "source": [
    "L <- c(list(a = 1, b = 2), list(3))\n",
    "print(L)"
   ]
  },
  {
   "cell_type": "markdown",
   "metadata": {},
   "source": [
    "如果用c函数来拼接列表和向量(前后元素地位相同)，向量在拼接之前将被转换为列表(<font face=\"黑体\" color=red>类似as.list函数，向量中每个元素都成为分量</font>)："
   ]
  },
  {
   "cell_type": "code",
   "execution_count": 30,
   "metadata": {},
   "outputs": [
    {
     "data": {
      "text/html": [
       "<style>\n",
       ".list-inline {list-style: none; margin:0; padding: 0}\n",
       ".list-inline>li {display: inline-block}\n",
       ".list-inline>li:not(:last-child)::after {content: \"\\00b7\"; padding: 0 .5ex}\n",
       "</style>\n",
       "<ol class=list-inline><li>4</li><li>5</li><li>6</li></ol>\n"
      ],
      "text/latex": [
       "\\begin{enumerate*}\n",
       "\\item 4\n",
       "\\item 5\n",
       "\\item 6\n",
       "\\end{enumerate*}\n"
      ],
      "text/markdown": [
       "1. 4\n",
       "2. 5\n",
       "3. 6\n",
       "\n",
       "\n"
      ],
      "text/plain": [
       "[1] 4 5 6"
      ]
     },
     "metadata": {},
     "output_type": "display_data"
    }
   ],
   "source": [
    "d <- c(4,5,6)\n",
    "d"
   ]
  },
  {
   "cell_type": "code",
   "execution_count": 31,
   "metadata": {},
   "outputs": [
    {
     "data": {
      "text/html": [
       "'numeric'"
      ],
      "text/latex": [
       "'numeric'"
      ],
      "text/markdown": [
       "'numeric'"
      ],
      "text/plain": [
       "[1] \"numeric\""
      ]
     },
     "metadata": {},
     "output_type": "display_data"
    }
   ],
   "source": [
    "class(d)"
   ]
  },
  {
   "cell_type": "code",
   "execution_count": 32,
   "metadata": {},
   "outputs": [
    {
     "name": "stdout",
     "output_type": "stream",
     "text": [
      "$a\n",
      "[1] 1\n",
      "\n",
      "$b\n",
      "[1] 2\n",
      "\n",
      "[[3]]\n",
      "[1] 4\n",
      "\n",
      "[[4]]\n",
      "[1] 5\n",
      "\n",
      "[[5]]\n",
      "[1] 6\n",
      "\n"
     ]
    }
   ],
   "source": [
    "L <- c(list(a = 1, b = 2), d)\n",
    "print(L)"
   ]
  },
  {
   "cell_type": "code",
   "execution_count": 33,
   "metadata": {},
   "outputs": [
    {
     "name": "stdout",
     "output_type": "stream",
     "text": [
      "List of 5\n",
      " $ a: num 1\n",
      " $ b: num 2\n",
      " $  : num 4\n",
      " $  : num 5\n",
      " $  : num 6\n"
     ]
    }
   ],
   "source": [
    "str(L)"
   ]
  },
  {
   "cell_type": "code",
   "execution_count": 34,
   "metadata": {},
   "outputs": [
    {
     "name": "stdout",
     "output_type": "stream",
     "text": [
      "List of 3\n",
      " $ : num 4\n",
      " $ : num 5\n",
      " $ : num 6\n"
     ]
    }
   ],
   "source": [
    "str(as.list(d))"
   ]
  },
  {
   "cell_type": "markdown",
   "metadata": {},
   "source": [
    "# 添加，删除和更新列表元素"
   ]
  },
  {
   "cell_type": "code",
   "execution_count": 35,
   "metadata": {},
   "outputs": [
    {
     "name": "stdout",
     "output_type": "stream",
     "text": [
      "[[1]]\n",
      "[1] \"a\"\n",
      "\n",
      "[[2]]\n",
      "[1] 1\n",
      "\n",
      "[[3]]\n",
      "[1] TRUE\n",
      "\n"
     ]
    }
   ],
   "source": [
    "# Create a list containing a vector, a matrix and a list.\n",
    "list_data <- list(\"a\", 1,TRUE)\n",
    "print(list_data)"
   ]
  },
  {
   "cell_type": "code",
   "execution_count": 36,
   "metadata": {},
   "outputs": [
    {
     "name": "stdout",
     "output_type": "stream",
     "text": [
      "$character\n",
      "[1] \"a\"\n",
      "\n",
      "$numeric\n",
      "[1] 1\n",
      "\n",
      "$logic\n",
      "[1] TRUE\n",
      "\n"
     ]
    }
   ],
   "source": [
    "# Give names to the elements in the list.\n",
    "names(list_data) <- c(\"character\", \"numeric\", \"logic\")\n",
    "print(list_data)"
   ]
  },
  {
   "cell_type": "code",
   "execution_count": 37,
   "metadata": {},
   "outputs": [
    {
     "name": "stdout",
     "output_type": "stream",
     "text": [
      "$character\n",
      "[1] \"a\"\n",
      "\n",
      "$numeric\n",
      "[1] 1\n",
      "\n",
      "$logic\n",
      "[1] TRUE\n",
      "\n",
      "[[4]]\n",
      "[1] \"New element1\"\n",
      "\n"
     ]
    }
   ],
   "source": [
    "# Add element at the end of the list.\n",
    "list_data[[4]] <- \"New element1\"    #此处[[ ]]与[ ]均可\n",
    "print(list_data)"
   ]
  },
  {
   "cell_type": "code",
   "execution_count": 38,
   "metadata": {},
   "outputs": [
    {
     "name": "stdout",
     "output_type": "stream",
     "text": [
      "$character\n",
      "[1] \"a\"\n",
      "\n",
      "$numeric\n",
      "[1] 1\n",
      "\n",
      "$logic\n",
      "[1] TRUE\n",
      "\n",
      "[[4]]\n",
      "[1] \"New element1\"\n",
      "\n",
      "[[5]]\n",
      "[1] \"New element2\"\n",
      "\n"
     ]
    }
   ],
   "source": [
    "list_data[5] <- \"New element2\"    #此处[[ ]]与[ ]均可\n",
    "print(list_data)"
   ]
  },
  {
   "cell_type": "code",
   "execution_count": 39,
   "metadata": {},
   "outputs": [
    {
     "name": "stdout",
     "output_type": "stream",
     "text": [
      "$character\n",
      "[1] \"a\"\n",
      "\n",
      "$numeric\n",
      "[1] 1\n",
      "\n",
      "$logic\n",
      "[1] TRUE\n",
      "\n",
      "[[4]]\n",
      "[1] \"New element2\"\n",
      "\n"
     ]
    }
   ],
   "source": [
    "# Remove the last element.\n",
    "list_data[4] <- NULL\n",
    "print(list_data)"
   ]
  },
  {
   "cell_type": "code",
   "execution_count": 40,
   "metadata": {},
   "outputs": [
    {
     "name": "stdout",
     "output_type": "stream",
     "text": [
      "$character\n",
      "[1] \"a\"\n",
      "\n",
      "$numeric\n",
      "[1] 1\n",
      "\n",
      "$logic\n",
      "[1] \"updated element\"\n",
      "\n",
      "[[4]]\n",
      "[1] \"New element2\"\n",
      "\n"
     ]
    }
   ],
   "source": [
    "# Update the 3rd Element.\n",
    "list_data[3] <- \"updated element\"\n",
    "print(list_data)"
   ]
  },
  {
   "cell_type": "code",
   "execution_count": null,
   "metadata": {},
   "outputs": [],
   "source": []
  }
 ],
 "metadata": {
  "kernelspec": {
   "display_name": "R",
   "language": "R",
   "name": "ir"
  },
  "language_info": {
   "codemirror_mode": "r",
   "file_extension": ".r",
   "mimetype": "text/x-r-source",
   "name": "R",
   "pygments_lexer": "r",
   "version": "4.3.2"
  }
 },
 "nbformat": 4,
 "nbformat_minor": 4
}
