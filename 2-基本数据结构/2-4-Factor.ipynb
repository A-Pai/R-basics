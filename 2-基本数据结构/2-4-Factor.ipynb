{
 "cells": [
  {
   "cell_type": "markdown",
   "metadata": {},
   "source": [
    "**因子是“类别”数据对象**\n",
    "\n",
    "分类型数据（category data）经常要把数据分成不同的水平或因子（factor）。比如，学生的性别包含男和女两个因子。因子代表变量的不同可能的水平（即使在数据中不出现）。在统计模型统计分析中十分有用，例如将0，1转换为’yes’,’no’就很方便，在R里可以使用factor函数来创建因子，函数形式如下：\n",
    "        \n",
    "             factor(x = character(), levels, labels = levels, exclude = NA, ordered = is.ordered(x))\n",
    "\n",
    " 其中，levels用来指定因子的水平；labels用来指定水平的名字；exclude表示在x中需要排除的水平；ordered用来决定因子的水平是否有次序。\n"
   ]
  },
  {
   "cell_type": "markdown",
   "metadata": {},
   "source": [
    "# 创建因子"
   ]
  },
  {
   "cell_type": "markdown",
   "metadata": {},
   "source": [
    "## 无序因子\n",
    "--factor函数"
   ]
  },
  {
   "cell_type": "code",
   "execution_count": 1,
   "metadata": {},
   "outputs": [],
   "source": [
    "colour <- c('G', 'G', 'R', 'Y', 'G', 'Y', 'Y', 'R', 'Y')"
   ]
  },
  {
   "cell_type": "code",
   "execution_count": 2,
   "metadata": {},
   "outputs": [
    {
     "name": "stdout",
     "output_type": "stream",
     "text": [
      "[1] Green  Green  Red    Yellow Green  Yellow Yellow Red    Yellow\n",
      "Levels: Green Red Yellow\n"
     ]
    }
   ],
   "source": [
    "col <- factor(colour, levels = c('G', 'R', 'Y'), labels = c('Green', 'Red', 'Yellow')) #创建一个因子\n",
    "print(col)"
   ]
  },
  {
   "cell_type": "code",
   "execution_count": 3,
   "metadata": {},
   "outputs": [
    {
     "data": {
      "text/html": [
       "'factor'"
      ],
      "text/latex": [
       "'factor'"
      ],
      "text/markdown": [
       "'factor'"
      ],
      "text/plain": [
       "[1] \"factor\""
      ]
     },
     "metadata": {},
     "output_type": "display_data"
    }
   ],
   "source": [
    "class(col)"
   ]
  },
  {
   "cell_type": "markdown",
   "metadata": {},
   "source": [
    "## 有序因子\n",
    "--ordered函数"
   ]
  },
  {
   "cell_type": "code",
   "execution_count": 4,
   "metadata": {},
   "outputs": [
    {
     "name": "stdout",
     "output_type": "stream",
     "text": [
      "[1] A B A C B\n",
      "Levels: C < B < A\n"
     ]
    }
   ],
   "source": [
    "score <- c('A', 'B', 'A', 'C', 'B')\n",
    "score1 <- ordered(score, levels = c('C', 'B', 'A'))\n",
    "print(score1)"
   ]
  },
  {
   "cell_type": "code",
   "execution_count": 5,
   "metadata": {},
   "outputs": [
    {
     "data": {
      "text/html": [
       "<style>\n",
       ".list-inline {list-style: none; margin:0; padding: 0}\n",
       ".list-inline>li {display: inline-block}\n",
       ".list-inline>li:not(:last-child)::after {content: \"\\00b7\"; padding: 0 .5ex}\n",
       "</style>\n",
       "<ol class=list-inline><li>'ordered'</li><li>'factor'</li></ol>\n"
      ],
      "text/latex": [
       "\\begin{enumerate*}\n",
       "\\item 'ordered'\n",
       "\\item 'factor'\n",
       "\\end{enumerate*}\n"
      ],
      "text/markdown": [
       "1. 'ordered'\n",
       "2. 'factor'\n",
       "\n",
       "\n"
      ],
      "text/plain": [
       "[1] \"ordered\" \"factor\" "
      ]
     },
     "metadata": {},
     "output_type": "display_data"
    }
   ],
   "source": [
    "class(score1)"
   ]
  },
  {
   "cell_type": "markdown",
   "metadata": {},
   "source": [
    "## 将numeric向量转化因子\n",
    "--cut函数"
   ]
  },
  {
   "cell_type": "code",
   "execution_count": 6,
   "metadata": {},
   "outputs": [
    {
     "data": {
      "text/html": [
       "<style>\n",
       ".list-inline {list-style: none; margin:0; padding: 0}\n",
       ".list-inline>li {display: inline-block}\n",
       ".list-inline>li:not(:last-child)::after {content: \"\\00b7\"; padding: 0 .5ex}\n",
       "</style>\n",
       "<ol class=list-inline><li>(60,73]</li><li>(60,73]</li><li>(73,86]</li><li>(86,99]</li><li>(86,99]</li><li>(60,73]</li><li>(60,73]</li><li>(73,86]</li></ol>\n",
       "\n",
       "<details>\n",
       "\t<summary style=display:list-item;cursor:pointer>\n",
       "\t\t<strong>Levels</strong>:\n",
       "\t</summary>\n",
       "\t<style>\n",
       "\t.list-inline {list-style: none; margin:0; padding: 0}\n",
       "\t.list-inline>li {display: inline-block}\n",
       "\t.list-inline>li:not(:last-child)::after {content: \"\\00b7\"; padding: 0 .5ex}\n",
       "\t</style>\n",
       "\t<ol class=list-inline><li>'(60,73]'</li><li>'(73,86]'</li><li>'(86,99]'</li></ol>\n",
       "</details>"
      ],
      "text/latex": [
       "\\begin{enumerate*}\n",
       "\\item (60,73{]}\n",
       "\\item (60,73{]}\n",
       "\\item (73,86{]}\n",
       "\\item (86,99{]}\n",
       "\\item (86,99{]}\n",
       "\\item (60,73{]}\n",
       "\\item (60,73{]}\n",
       "\\item (73,86{]}\n",
       "\\end{enumerate*}\n",
       "\n",
       "\\emph{Levels}: \\begin{enumerate*}\n",
       "\\item '(60,73{]}'\n",
       "\\item '(73,86{]}'\n",
       "\\item '(86,99{]}'\n",
       "\\end{enumerate*}\n"
      ],
      "text/markdown": [
       "1. (60,73]\n",
       "2. (60,73]\n",
       "3. (73,86]\n",
       "4. (86,99]\n",
       "5. (86,99]\n",
       "6. (60,73]\n",
       "7. (60,73]\n",
       "8. (73,86]\n",
       "\n",
       "\n",
       "\n",
       "**Levels**: 1. '(60,73]'\n",
       "2. '(73,86]'\n",
       "3. '(86,99]'\n",
       "\n",
       "\n"
      ],
      "text/plain": [
       "[1] (60,73] (60,73] (73,86] (86,99] (86,99] (60,73] (60,73] (73,86]\n",
       "Levels: (60,73] (73,86] (86,99]"
      ]
     },
     "metadata": {},
     "output_type": "display_data"
    }
   ],
   "source": [
    "exam <- c(60,70,80,90,99,65,72,86)\n",
    "(exam1 <- cut(exam, breaks = 3)) #切分成3组--（max-min）/3=（99-60）/3"
   ]
  },
  {
   "cell_type": "code",
   "execution_count": 7,
   "metadata": {},
   "outputs": [
    {
     "data": {
      "text/html": [
       "'factor'"
      ],
      "text/latex": [
       "'factor'"
      ],
      "text/markdown": [
       "'factor'"
      ],
      "text/plain": [
       "[1] \"factor\""
      ]
     },
     "metadata": {},
     "output_type": "display_data"
    }
   ],
   "source": [
    "class(exam1)"
   ]
  },
  {
   "cell_type": "code",
   "execution_count": 8,
   "metadata": {},
   "outputs": [
    {
     "data": {
      "text/html": [
       "<style>\n",
       ".list-inline {list-style: none; margin:0; padding: 0}\n",
       ".list-inline>li {display: inline-block}\n",
       ".list-inline>li:not(:last-child)::after {content: \"\\00b7\"; padding: 0 .5ex}\n",
       "</style>\n",
       "<ol class=list-inline><li>[60,73)</li><li>[60,73)</li><li>[73,86)</li><li>[86,99)</li><li>[86,99)</li><li>[60,73)</li><li>[60,73)</li><li>[86,99)</li></ol>\n",
       "\n",
       "<details>\n",
       "\t<summary style=display:list-item;cursor:pointer>\n",
       "\t\t<strong>Levels</strong>:\n",
       "\t</summary>\n",
       "\t<style>\n",
       "\t.list-inline {list-style: none; margin:0; padding: 0}\n",
       "\t.list-inline>li {display: inline-block}\n",
       "\t.list-inline>li:not(:last-child)::after {content: \"\\00b7\"; padding: 0 .5ex}\n",
       "\t</style>\n",
       "\t<ol class=list-inline><li>'[60,73)'</li><li>'[73,86)'</li><li>'[86,99)'</li></ol>\n",
       "</details>"
      ],
      "text/latex": [
       "\\begin{enumerate*}\n",
       "\\item {[}60,73)\n",
       "\\item {[}60,73)\n",
       "\\item {[}73,86)\n",
       "\\item {[}86,99)\n",
       "\\item {[}86,99)\n",
       "\\item {[}60,73)\n",
       "\\item {[}60,73)\n",
       "\\item {[}86,99)\n",
       "\\end{enumerate*}\n",
       "\n",
       "\\emph{Levels}: \\begin{enumerate*}\n",
       "\\item '{[}60,73)'\n",
       "\\item '{[}73,86)'\n",
       "\\item '{[}86,99)'\n",
       "\\end{enumerate*}\n"
      ],
      "text/markdown": [
       "1. [60,73)\n",
       "2. [60,73)\n",
       "3. [73,86)\n",
       "4. [86,99)\n",
       "5. [86,99)\n",
       "6. [60,73)\n",
       "7. [60,73)\n",
       "8. [86,99)\n",
       "\n",
       "\n",
       "\n",
       "**Levels**: 1. '[60,73)'\n",
       "2. '[73,86)'\n",
       "3. '[86,99)'\n",
       "\n",
       "\n"
      ],
      "text/plain": [
       "[1] [60,73) [60,73) [73,86) [86,99) [86,99) [60,73) [60,73) [86,99)\n",
       "Levels: [60,73) [73,86) [86,99)"
      ]
     },
     "metadata": {},
     "output_type": "display_data"
    }
   ],
   "source": [
    "(exam1 <- cut(exam,right=F, breaks = 3)) #right = F--闭区间不在右边，默认值是T"
   ]
  },
  {
   "cell_type": "code",
   "execution_count": 9,
   "metadata": {},
   "outputs": [
    {
     "data": {
      "text/html": [
       "<style>\n",
       ".list-inline {list-style: none; margin:0; padding: 0}\n",
       ".list-inline>li {display: inline-block}\n",
       ".list-inline>li:not(:last-child)::after {content: \"\\00b7\"; padding: 0 .5ex}\n",
       "</style>\n",
       "<ol class=list-inline><li>[60,70)</li><li>[70,80)</li><li>[80,90)</li><li>[90,100)</li><li>[90,100)</li><li>[60,70)</li><li>[70,80)</li><li>[80,90)</li></ol>\n",
       "\n",
       "<details>\n",
       "\t<summary style=display:list-item;cursor:pointer>\n",
       "\t\t<strong>Levels</strong>:\n",
       "\t</summary>\n",
       "\t<style>\n",
       "\t.list-inline {list-style: none; margin:0; padding: 0}\n",
       "\t.list-inline>li {display: inline-block}\n",
       "\t.list-inline>li:not(:last-child)::after {content: \"\\00b7\"; padding: 0 .5ex}\n",
       "\t</style>\n",
       "\t<ol class=list-inline><li>'[0,60)'</li><li>'[60,70)'</li><li>'[70,80)'</li><li>'[80,90)'</li><li>'[90,100)'</li></ol>\n",
       "</details>"
      ],
      "text/latex": [
       "\\begin{enumerate*}\n",
       "\\item {[}60,70)\n",
       "\\item {[}70,80)\n",
       "\\item {[}80,90)\n",
       "\\item {[}90,100)\n",
       "\\item {[}90,100)\n",
       "\\item {[}60,70)\n",
       "\\item {[}70,80)\n",
       "\\item {[}80,90)\n",
       "\\end{enumerate*}\n",
       "\n",
       "\\emph{Levels}: \\begin{enumerate*}\n",
       "\\item '{[}0,60)'\n",
       "\\item '{[}60,70)'\n",
       "\\item '{[}70,80)'\n",
       "\\item '{[}80,90)'\n",
       "\\item '{[}90,100)'\n",
       "\\end{enumerate*}\n"
      ],
      "text/markdown": [
       "1. [60,70)\n",
       "2. [70,80)\n",
       "3. [80,90)\n",
       "4. [90,100)\n",
       "5. [90,100)\n",
       "6. [60,70)\n",
       "7. [70,80)\n",
       "8. [80,90)\n",
       "\n",
       "\n",
       "\n",
       "**Levels**: 1. '[0,60)'\n",
       "2. '[60,70)'\n",
       "3. '[70,80)'\n",
       "4. '[80,90)'\n",
       "5. '[90,100)'\n",
       "\n",
       "\n"
      ],
      "text/plain": [
       "[1] [60,70)  [70,80)  [80,90)  [90,100) [90,100) [60,70)  [70,80)  [80,90) \n",
       "Levels: [0,60) [60,70) [70,80) [80,90) [90,100)"
      ]
     },
     "metadata": {},
     "output_type": "display_data"
    }
   ],
   "source": [
    "(exam2 <- cut(exam, breaks = c(0, 60, 70, 80, 90, 100), right = F)) # 切分成自己设置的组"
   ]
  },
  {
   "cell_type": "code",
   "execution_count": 10,
   "metadata": {},
   "outputs": [
    {
     "data": {
      "text/html": [
       "<style>\n",
       ".list-inline {list-style: none; margin:0; padding: 0}\n",
       ".list-inline>li {display: inline-block}\n",
       ".list-inline>li:not(:last-child)::after {content: \"\\00b7\"; padding: 0 .5ex}\n",
       "</style>\n",
       "<ol class=list-inline><li>[60,70)</li><li>[70,80)</li><li>[80,90)</li><li>[90,100)</li><li>[90,100)</li><li>[60,70)</li><li>[70,80)</li><li>[80,90)</li></ol>\n",
       "\n",
       "<details>\n",
       "\t<summary style=display:list-item;cursor:pointer>\n",
       "\t\t<strong>Levels</strong>:\n",
       "\t</summary>\n",
       "\t<style>\n",
       "\t.list-inline {list-style: none; margin:0; padding: 0}\n",
       "\t.list-inline>li {display: inline-block}\n",
       "\t.list-inline>li:not(:last-child)::after {content: \"\\00b7\"; padding: 0 .5ex}\n",
       "\t</style>\n",
       "\t<ol class=list-inline><li>'[0,60)'</li><li>'[60,70)'</li><li>'[70,80)'</li><li>'[80,90)'</li><li>'[90,100)'</li></ol>\n",
       "</details>"
      ],
      "text/latex": [
       "\\begin{enumerate*}\n",
       "\\item {[}60,70)\n",
       "\\item {[}70,80)\n",
       "\\item {[}80,90)\n",
       "\\item {[}90,100)\n",
       "\\item {[}90,100)\n",
       "\\item {[}60,70)\n",
       "\\item {[}70,80)\n",
       "\\item {[}80,90)\n",
       "\\end{enumerate*}\n",
       "\n",
       "\\emph{Levels}: \\begin{enumerate*}\n",
       "\\item '{[}0,60)'\n",
       "\\item '{[}60,70)'\n",
       "\\item '{[}70,80)'\n",
       "\\item '{[}80,90)'\n",
       "\\item '{[}90,100)'\n",
       "\\end{enumerate*}\n"
      ],
      "text/markdown": [
       "1. [60,70)\n",
       "2. [70,80)\n",
       "3. [80,90)\n",
       "4. [90,100)\n",
       "5. [90,100)\n",
       "6. [60,70)\n",
       "7. [70,80)\n",
       "8. [80,90)\n",
       "\n",
       "\n",
       "\n",
       "**Levels**: 1. '[0,60)'\n",
       "2. '[60,70)'\n",
       "3. '[70,80)'\n",
       "4. '[80,90)'\n",
       "5. '[90,100)'\n",
       "\n",
       "\n"
      ],
      "text/plain": [
       "[1] [60,70)  [70,80)  [80,90)  [90,100) [90,100) [60,70)  [70,80)  [80,90) \n",
       "Levels: [0,60) < [60,70) < [70,80) < [80,90) < [90,100)"
      ]
     },
     "metadata": {},
     "output_type": "display_data"
    }
   ],
   "source": [
    "(exam3 <- cut(exam, breaks = c(0, 60, 70, 80,90,100),right = F,ordered_result = T)) #切分成自己设置的组，并且有序"
   ]
  },
  {
   "cell_type": "code",
   "execution_count": 11,
   "metadata": {},
   "outputs": [
    {
     "name": "stdout",
     "output_type": "stream",
     "text": [
      "[1] 及格 中   良   优   优   及格 中   良  \n",
      "Levels: 不及格 及格 中 良 优\n"
     ]
    }
   ],
   "source": [
    " #切分成自己设置的组\n",
    "exam4 <- cut(exam, breaks = c(0, 60, 70, 80,90,100),right = F,labels = c('不及格','及格', '中', '良','优'))  #其实已有顺序关系\n",
    "print(exam4)   "
   ]
  },
  {
   "cell_type": "code",
   "execution_count": 12,
   "metadata": {},
   "outputs": [
    {
     "data": {
      "text/html": [
       "'character'"
      ],
      "text/latex": [
       "'character'"
      ],
      "text/markdown": [
       "'character'"
      ],
      "text/plain": [
       "[1] \"character\""
      ]
     },
     "metadata": {},
     "output_type": "display_data"
    }
   ],
   "source": [
    "y <- c(\"女\",\"男\",\"男\",\"女\",\"女\",\"女\",\"男\") \n",
    "class(y)"
   ]
  },
  {
   "cell_type": "code",
   "execution_count": 13,
   "metadata": {},
   "outputs": [
    {
     "data": {
      "text/html": [
       "<style>\n",
       ".list-inline {list-style: none; margin:0; padding: 0}\n",
       ".list-inline>li {display: inline-block}\n",
       ".list-inline>li:not(:last-child)::after {content: \"\\00b7\"; padding: 0 .5ex}\n",
       "</style>\n",
       "<ol class=list-inline><li>女</li><li>男</li><li>男</li><li>女</li><li>女</li><li>女</li><li>男</li></ol>\n",
       "\n",
       "<details>\n",
       "\t<summary style=display:list-item;cursor:pointer>\n",
       "\t\t<strong>Levels</strong>:\n",
       "\t</summary>\n",
       "\t<style>\n",
       "\t.list-inline {list-style: none; margin:0; padding: 0}\n",
       "\t.list-inline>li {display: inline-block}\n",
       "\t.list-inline>li:not(:last-child)::after {content: \"\\00b7\"; padding: 0 .5ex}\n",
       "\t</style>\n",
       "\t<ol class=list-inline><li>'男'</li><li>'女'</li></ol>\n",
       "</details>"
      ],
      "text/latex": [
       "\\begin{enumerate*}\n",
       "\\item 女\n",
       "\\item 男\n",
       "\\item 男\n",
       "\\item 女\n",
       "\\item 女\n",
       "\\item 女\n",
       "\\item 男\n",
       "\\end{enumerate*}\n",
       "\n",
       "\\emph{Levels}: \\begin{enumerate*}\n",
       "\\item '男'\n",
       "\\item '女'\n",
       "\\end{enumerate*}\n"
      ],
      "text/markdown": [
       "1. 女\n",
       "2. 男\n",
       "3. 男\n",
       "4. 女\n",
       "5. 女\n",
       "6. 女\n",
       "7. 男\n",
       "\n",
       "\n",
       "\n",
       "**Levels**: 1. '男'\n",
       "2. '女'\n",
       "\n",
       "\n"
      ],
      "text/plain": [
       "[1] 女 男 男 女 女 女 男\n",
       "Levels: 男 女"
      ]
     },
     "metadata": {},
     "output_type": "display_data"
    }
   ],
   "source": [
    "(f <- factor(y)) #生成因子"
   ]
  },
  {
   "cell_type": "code",
   "execution_count": 14,
   "metadata": {},
   "outputs": [
    {
     "data": {
      "text/html": [
       "'factor'"
      ],
      "text/latex": [
       "'factor'"
      ],
      "text/markdown": [
       "'factor'"
      ],
      "text/plain": [
       "[1] \"factor\""
      ]
     },
     "metadata": {},
     "output_type": "display_data"
    }
   ],
   "source": [
    "class(f)"
   ]
  },
  {
   "cell_type": "code",
   "execution_count": 15,
   "metadata": {},
   "outputs": [
    {
     "data": {
      "text/html": [
       "<style>\n",
       ".list-inline {list-style: none; margin:0; padding: 0}\n",
       ".list-inline>li {display: inline-block}\n",
       ".list-inline>li:not(:last-child)::after {content: \"\\00b7\"; padding: 0 .5ex}\n",
       "</style>\n",
       "<ol class=list-inline><li>'男'</li><li>'女'</li></ol>\n"
      ],
      "text/latex": [
       "\\begin{enumerate*}\n",
       "\\item '男'\n",
       "\\item '女'\n",
       "\\end{enumerate*}\n"
      ],
      "text/markdown": [
       "1. '男'\n",
       "2. '女'\n",
       "\n",
       "\n"
      ],
      "text/plain": [
       "[1] \"男\" \"女\""
      ]
     },
     "metadata": {},
     "output_type": "display_data"
    }
   ],
   "source": [
    "levels(f)      #因子水平--取哪些类别值"
   ]
  },
  {
   "cell_type": "markdown",
   "metadata": {},
   "source": [
    "# 按照因子排序"
   ]
  },
  {
   "cell_type": "code",
   "execution_count": 16,
   "metadata": {},
   "outputs": [
    {
     "data": {
      "text/html": [
       "<table class=\"dataframe\">\n",
       "<caption>A data.frame: 8 × 2</caption>\n",
       "<thead>\n",
       "\t<tr><th scope=col>score</th><th scope=col>gender</th></tr>\n",
       "\t<tr><th scope=col>&lt;fct&gt;</th><th scope=col>&lt;fct&gt;</th></tr>\n",
       "</thead>\n",
       "<tbody>\n",
       "\t<tr><td>及格</td><td>female</td></tr>\n",
       "\t<tr><td>中  </td><td>male  </td></tr>\n",
       "\t<tr><td>良  </td><td>female</td></tr>\n",
       "\t<tr><td>优  </td><td>male  </td></tr>\n",
       "\t<tr><td>优  </td><td>male  </td></tr>\n",
       "\t<tr><td>及格</td><td>female</td></tr>\n",
       "\t<tr><td>中  </td><td>female</td></tr>\n",
       "\t<tr><td>良  </td><td>male  </td></tr>\n",
       "</tbody>\n",
       "</table>\n"
      ],
      "text/latex": [
       "A data.frame: 8 × 2\n",
       "\\begin{tabular}{ll}\n",
       " score & gender\\\\\n",
       " <fct> & <fct>\\\\\n",
       "\\hline\n",
       "\t 及格 & female\\\\\n",
       "\t 中   & male  \\\\\n",
       "\t 良   & female\\\\\n",
       "\t 优   & male  \\\\\n",
       "\t 优   & male  \\\\\n",
       "\t 及格 & female\\\\\n",
       "\t 中   & female\\\\\n",
       "\t 良   & male  \\\\\n",
       "\\end{tabular}\n"
      ],
      "text/markdown": [
       "\n",
       "A data.frame: 8 × 2\n",
       "\n",
       "| score &lt;fct&gt; | gender &lt;fct&gt; |\n",
       "|---|---|\n",
       "| 及格 | female |\n",
       "| 中   | male   |\n",
       "| 良   | female |\n",
       "| 优   | male   |\n",
       "| 优   | male   |\n",
       "| 及格 | female |\n",
       "| 中   | female |\n",
       "| 良   | male   |\n",
       "\n"
      ],
      "text/plain": [
       "  score gender\n",
       "1 及格  female\n",
       "2 中    male  \n",
       "3 良    female\n",
       "4 优    male  \n",
       "5 优    male  \n",
       "6 及格  female\n",
       "7 中    female\n",
       "8 良    male  "
      ]
     },
     "metadata": {},
     "output_type": "display_data"
    }
   ],
   "source": [
    "(T1 <- data.frame(\n",
    "  score = exam4,\n",
    "  gender = factor(c(\"female\", \"male\", \"female\", \"male\", \"male\", \"female\", \"female\", \"male\"))\n",
    ")) # gender被自动转化为无序因子"
   ]
  },
  {
   "cell_type": "code",
   "execution_count": 17,
   "metadata": {},
   "outputs": [
    {
     "data": {
      "text/html": [
       "<table class=\"dataframe\">\n",
       "<caption>A data.frame: 8 × 2</caption>\n",
       "<thead>\n",
       "\t<tr><th></th><th scope=col>score</th><th scope=col>gender</th></tr>\n",
       "\t<tr><th></th><th scope=col>&lt;fct&gt;</th><th scope=col>&lt;fct&gt;</th></tr>\n",
       "</thead>\n",
       "<tbody>\n",
       "\t<tr><th scope=row>1</th><td>及格</td><td>female</td></tr>\n",
       "\t<tr><th scope=row>3</th><td>良  </td><td>female</td></tr>\n",
       "\t<tr><th scope=row>6</th><td>及格</td><td>female</td></tr>\n",
       "\t<tr><th scope=row>7</th><td>中  </td><td>female</td></tr>\n",
       "\t<tr><th scope=row>2</th><td>中  </td><td>male  </td></tr>\n",
       "\t<tr><th scope=row>4</th><td>优  </td><td>male  </td></tr>\n",
       "\t<tr><th scope=row>5</th><td>优  </td><td>male  </td></tr>\n",
       "\t<tr><th scope=row>8</th><td>良  </td><td>male  </td></tr>\n",
       "</tbody>\n",
       "</table>\n"
      ],
      "text/latex": [
       "A data.frame: 8 × 2\n",
       "\\begin{tabular}{r|ll}\n",
       "  & score & gender\\\\\n",
       "  & <fct> & <fct>\\\\\n",
       "\\hline\n",
       "\t1 & 及格 & female\\\\\n",
       "\t3 & 良   & female\\\\\n",
       "\t6 & 及格 & female\\\\\n",
       "\t7 & 中   & female\\\\\n",
       "\t2 & 中   & male  \\\\\n",
       "\t4 & 优   & male  \\\\\n",
       "\t5 & 优   & male  \\\\\n",
       "\t8 & 良   & male  \\\\\n",
       "\\end{tabular}\n"
      ],
      "text/markdown": [
       "\n",
       "A data.frame: 8 × 2\n",
       "\n",
       "| <!--/--> | score &lt;fct&gt; | gender &lt;fct&gt; |\n",
       "|---|---|---|\n",
       "| 1 | 及格 | female |\n",
       "| 3 | 良   | female |\n",
       "| 6 | 及格 | female |\n",
       "| 7 | 中   | female |\n",
       "| 2 | 中   | male   |\n",
       "| 4 | 优   | male   |\n",
       "| 5 | 优   | male   |\n",
       "| 8 | 良   | male   |\n",
       "\n"
      ],
      "text/plain": [
       "  score gender\n",
       "1 及格  female\n",
       "3 良    female\n",
       "6 及格  female\n",
       "7 中    female\n",
       "2 中    male  \n",
       "4 优    male  \n",
       "5 优    male  \n",
       "8 良    male  "
      ]
     },
     "metadata": {},
     "output_type": "display_data"
    }
   ],
   "source": [
    "T1[with(T1, order(gender)), ]   #T1中gender不是有序因子--按照字典顺序"
   ]
  },
  {
   "cell_type": "code",
   "execution_count": 18,
   "metadata": {},
   "outputs": [
    {
     "data": {
      "text/html": [
       "<table class=\"dataframe\">\n",
       "<caption>A data.frame: 8 × 2</caption>\n",
       "<thead>\n",
       "\t<tr><th scope=col>score</th><th scope=col>gender</th></tr>\n",
       "\t<tr><th scope=col>&lt;fct&gt;</th><th scope=col>&lt;ord&gt;</th></tr>\n",
       "</thead>\n",
       "<tbody>\n",
       "\t<tr><td>及格</td><td>female</td></tr>\n",
       "\t<tr><td>中  </td><td>male  </td></tr>\n",
       "\t<tr><td>良  </td><td>female</td></tr>\n",
       "\t<tr><td>优  </td><td>male  </td></tr>\n",
       "\t<tr><td>优  </td><td>male  </td></tr>\n",
       "\t<tr><td>及格</td><td>female</td></tr>\n",
       "\t<tr><td>中  </td><td>female</td></tr>\n",
       "\t<tr><td>良  </td><td>male  </td></tr>\n",
       "</tbody>\n",
       "</table>\n"
      ],
      "text/latex": [
       "A data.frame: 8 × 2\n",
       "\\begin{tabular}{ll}\n",
       " score & gender\\\\\n",
       " <fct> & <ord>\\\\\n",
       "\\hline\n",
       "\t 及格 & female\\\\\n",
       "\t 中   & male  \\\\\n",
       "\t 良   & female\\\\\n",
       "\t 优   & male  \\\\\n",
       "\t 优   & male  \\\\\n",
       "\t 及格 & female\\\\\n",
       "\t 中   & female\\\\\n",
       "\t 良   & male  \\\\\n",
       "\\end{tabular}\n"
      ],
      "text/markdown": [
       "\n",
       "A data.frame: 8 × 2\n",
       "\n",
       "| score &lt;fct&gt; | gender &lt;ord&gt; |\n",
       "|---|---|\n",
       "| 及格 | female |\n",
       "| 中   | male   |\n",
       "| 良   | female |\n",
       "| 优   | male   |\n",
       "| 优   | male   |\n",
       "| 及格 | female |\n",
       "| 中   | female |\n",
       "| 良   | male   |\n",
       "\n"
      ],
      "text/plain": [
       "  score gender\n",
       "1 及格  female\n",
       "2 中    male  \n",
       "3 良    female\n",
       "4 优    male  \n",
       "5 优    male  \n",
       "6 及格  female\n",
       "7 中    female\n",
       "8 良    male  "
      ]
     },
     "metadata": {},
     "output_type": "display_data"
    }
   ],
   "source": [
    "(T2 <- data.frame(\n",
    "  score = exam4,\n",
    "  gender = ordered(c(\"female\", \"male\", \"female\", \"male\", \"male\", \"female\", \"female\", \"male\"), levels = c(\"male\", \"female\"))\n",
    "))"
   ]
  },
  {
   "cell_type": "code",
   "execution_count": 19,
   "metadata": {},
   "outputs": [
    {
     "data": {
      "text/html": [
       "<style>\n",
       ".list-inline {list-style: none; margin:0; padding: 0}\n",
       ".list-inline>li {display: inline-block}\n",
       ".list-inline>li:not(:last-child)::after {content: \"\\00b7\"; padding: 0 .5ex}\n",
       "</style>\n",
       "<ol class=list-inline><li>'male'</li><li>'female'</li></ol>\n"
      ],
      "text/latex": [
       "\\begin{enumerate*}\n",
       "\\item 'male'\n",
       "\\item 'female'\n",
       "\\end{enumerate*}\n"
      ],
      "text/markdown": [
       "1. 'male'\n",
       "2. 'female'\n",
       "\n",
       "\n"
      ],
      "text/plain": [
       "[1] \"male\"   \"female\""
      ]
     },
     "metadata": {},
     "output_type": "display_data"
    }
   ],
   "source": [
    "levels(T2$gender)   #与levels(T1$gender)比较，顺序发生了改变 "
   ]
  },
  {
   "cell_type": "code",
   "execution_count": 20,
   "metadata": {},
   "outputs": [
    {
     "data": {
      "text/html": [
       "<table class=\"dataframe\">\n",
       "<caption>A data.frame: 8 × 2</caption>\n",
       "<thead>\n",
       "\t<tr><th></th><th scope=col>score</th><th scope=col>gender</th></tr>\n",
       "\t<tr><th></th><th scope=col>&lt;fct&gt;</th><th scope=col>&lt;ord&gt;</th></tr>\n",
       "</thead>\n",
       "<tbody>\n",
       "\t<tr><th scope=row>2</th><td>中  </td><td>male  </td></tr>\n",
       "\t<tr><th scope=row>4</th><td>优  </td><td>male  </td></tr>\n",
       "\t<tr><th scope=row>5</th><td>优  </td><td>male  </td></tr>\n",
       "\t<tr><th scope=row>8</th><td>良  </td><td>male  </td></tr>\n",
       "\t<tr><th scope=row>1</th><td>及格</td><td>female</td></tr>\n",
       "\t<tr><th scope=row>3</th><td>良  </td><td>female</td></tr>\n",
       "\t<tr><th scope=row>6</th><td>及格</td><td>female</td></tr>\n",
       "\t<tr><th scope=row>7</th><td>中  </td><td>female</td></tr>\n",
       "</tbody>\n",
       "</table>\n"
      ],
      "text/latex": [
       "A data.frame: 8 × 2\n",
       "\\begin{tabular}{r|ll}\n",
       "  & score & gender\\\\\n",
       "  & <fct> & <ord>\\\\\n",
       "\\hline\n",
       "\t2 & 中   & male  \\\\\n",
       "\t4 & 优   & male  \\\\\n",
       "\t5 & 优   & male  \\\\\n",
       "\t8 & 良   & male  \\\\\n",
       "\t1 & 及格 & female\\\\\n",
       "\t3 & 良   & female\\\\\n",
       "\t6 & 及格 & female\\\\\n",
       "\t7 & 中   & female\\\\\n",
       "\\end{tabular}\n"
      ],
      "text/markdown": [
       "\n",
       "A data.frame: 8 × 2\n",
       "\n",
       "| <!--/--> | score &lt;fct&gt; | gender &lt;ord&gt; |\n",
       "|---|---|---|\n",
       "| 2 | 中   | male   |\n",
       "| 4 | 优   | male   |\n",
       "| 5 | 优   | male   |\n",
       "| 8 | 良   | male   |\n",
       "| 1 | 及格 | female |\n",
       "| 3 | 良   | female |\n",
       "| 6 | 及格 | female |\n",
       "| 7 | 中   | female |\n",
       "\n"
      ],
      "text/plain": [
       "  score gender\n",
       "2 中    male  \n",
       "4 优    male  \n",
       "5 优    male  \n",
       "8 良    male  \n",
       "1 及格  female\n",
       "3 良    female\n",
       "6 及格  female\n",
       "7 中    female"
      ]
     },
     "metadata": {},
     "output_type": "display_data"
    }
   ],
   "source": [
    "T2[with(T2, order(gender)), ]    #T2中gender是有序因子，按照指定的level升序排列-- 默认decreasing = FALSE"
   ]
  },
  {
   "cell_type": "code",
   "execution_count": 21,
   "metadata": {},
   "outputs": [
    {
     "data": {
      "text/html": [
       "<table class=\"dataframe\">\n",
       "<caption>A data.frame: 8 × 2</caption>\n",
       "<thead>\n",
       "\t<tr><th></th><th scope=col>score</th><th scope=col>gender</th></tr>\n",
       "\t<tr><th></th><th scope=col>&lt;fct&gt;</th><th scope=col>&lt;ord&gt;</th></tr>\n",
       "</thead>\n",
       "<tbody>\n",
       "\t<tr><th scope=row>1</th><td>及格</td><td>female</td></tr>\n",
       "\t<tr><th scope=row>3</th><td>良  </td><td>female</td></tr>\n",
       "\t<tr><th scope=row>6</th><td>及格</td><td>female</td></tr>\n",
       "\t<tr><th scope=row>7</th><td>中  </td><td>female</td></tr>\n",
       "\t<tr><th scope=row>2</th><td>中  </td><td>male  </td></tr>\n",
       "\t<tr><th scope=row>4</th><td>优  </td><td>male  </td></tr>\n",
       "\t<tr><th scope=row>5</th><td>优  </td><td>male  </td></tr>\n",
       "\t<tr><th scope=row>8</th><td>良  </td><td>male  </td></tr>\n",
       "</tbody>\n",
       "</table>\n"
      ],
      "text/latex": [
       "A data.frame: 8 × 2\n",
       "\\begin{tabular}{r|ll}\n",
       "  & score & gender\\\\\n",
       "  & <fct> & <ord>\\\\\n",
       "\\hline\n",
       "\t1 & 及格 & female\\\\\n",
       "\t3 & 良   & female\\\\\n",
       "\t6 & 及格 & female\\\\\n",
       "\t7 & 中   & female\\\\\n",
       "\t2 & 中   & male  \\\\\n",
       "\t4 & 优   & male  \\\\\n",
       "\t5 & 优   & male  \\\\\n",
       "\t8 & 良   & male  \\\\\n",
       "\\end{tabular}\n"
      ],
      "text/markdown": [
       "\n",
       "A data.frame: 8 × 2\n",
       "\n",
       "| <!--/--> | score &lt;fct&gt; | gender &lt;ord&gt; |\n",
       "|---|---|---|\n",
       "| 1 | 及格 | female |\n",
       "| 3 | 良   | female |\n",
       "| 6 | 及格 | female |\n",
       "| 7 | 中   | female |\n",
       "| 2 | 中   | male   |\n",
       "| 4 | 优   | male   |\n",
       "| 5 | 优   | male   |\n",
       "| 8 | 良   | male   |\n",
       "\n"
      ],
      "text/plain": [
       "  score gender\n",
       "1 及格  female\n",
       "3 良    female\n",
       "6 及格  female\n",
       "7 中    female\n",
       "2 中    male  \n",
       "4 优    male  \n",
       "5 优    male  \n",
       "8 良    male  "
      ]
     },
     "metadata": {},
     "output_type": "display_data"
    }
   ],
   "source": [
    "T2[with(T2, order(gender, decreasing = T)), ] #T2中gender是有序因子，按照指定的level降序排列"
   ]
  },
  {
   "cell_type": "markdown",
   "metadata": {},
   "source": [
    "# 因子约束作用\n",
    "\n",
    "因子中的取值被限制为其因子水平或缺失值，不能赋予别的值"
   ]
  },
  {
   "cell_type": "code",
   "execution_count": 22,
   "metadata": {},
   "outputs": [
    {
     "data": {
      "text/html": [
       "<table class=\"dataframe\">\n",
       "<caption>A data.frame: 8 × 2</caption>\n",
       "<thead>\n",
       "\t<tr><th scope=col>score</th><th scope=col>gender</th></tr>\n",
       "\t<tr><th scope=col>&lt;fct&gt;</th><th scope=col>&lt;ord&gt;</th></tr>\n",
       "</thead>\n",
       "<tbody>\n",
       "\t<tr><td>及格</td><td>female</td></tr>\n",
       "\t<tr><td>中  </td><td>male  </td></tr>\n",
       "\t<tr><td>良  </td><td>female</td></tr>\n",
       "\t<tr><td>优  </td><td>male  </td></tr>\n",
       "\t<tr><td>优  </td><td>male  </td></tr>\n",
       "\t<tr><td>及格</td><td>female</td></tr>\n",
       "\t<tr><td>中  </td><td>female</td></tr>\n",
       "\t<tr><td>良  </td><td>male  </td></tr>\n",
       "</tbody>\n",
       "</table>\n"
      ],
      "text/latex": [
       "A data.frame: 8 × 2\n",
       "\\begin{tabular}{ll}\n",
       " score & gender\\\\\n",
       " <fct> & <ord>\\\\\n",
       "\\hline\n",
       "\t 及格 & female\\\\\n",
       "\t 中   & male  \\\\\n",
       "\t 良   & female\\\\\n",
       "\t 优   & male  \\\\\n",
       "\t 优   & male  \\\\\n",
       "\t 及格 & female\\\\\n",
       "\t 中   & female\\\\\n",
       "\t 良   & male  \\\\\n",
       "\\end{tabular}\n"
      ],
      "text/markdown": [
       "\n",
       "A data.frame: 8 × 2\n",
       "\n",
       "| score &lt;fct&gt; | gender &lt;ord&gt; |\n",
       "|---|---|\n",
       "| 及格 | female |\n",
       "| 中   | male   |\n",
       "| 良   | female |\n",
       "| 优   | male   |\n",
       "| 优   | male   |\n",
       "| 及格 | female |\n",
       "| 中   | female |\n",
       "| 良   | male   |\n",
       "\n"
      ],
      "text/plain": [
       "  score gender\n",
       "1 及格  female\n",
       "2 中    male  \n",
       "3 良    female\n",
       "4 优    male  \n",
       "5 优    male  \n",
       "6 及格  female\n",
       "7 中    female\n",
       "8 良    male  "
      ]
     },
     "metadata": {},
     "output_type": "display_data"
    }
   ],
   "source": [
    "(T2 <- data.frame(\n",
    "  score = exam4,\n",
    "  gender = ordered(c(\"female\", \"male\", \"female\", \"male\", \"male\", \"female\", \"female\", \"male\"), levels = c(\"male\", \"female\"))\n",
    "))"
   ]
  },
  {
   "cell_type": "markdown",
   "metadata": {},
   "source": [
    "因子gender的取值被限制为“female”、“male”或缺失值。如果把不同的字符串添加到 genders 中，此项约束则变得很明显："
   ]
  },
  {
   "cell_type": "code",
   "execution_count": 23,
   "metadata": {},
   "outputs": [
    {
     "data": {
      "text/html": [
       "female\n",
       "<details>\n",
       "\t<summary style=display:list-item;cursor:pointer>\n",
       "\t\t<strong>Levels</strong>:\n",
       "\t</summary>\n",
       "\t<style>\n",
       "\t.list-inline {list-style: none; margin:0; padding: 0}\n",
       "\t.list-inline>li {display: inline-block}\n",
       "\t.list-inline>li:not(:last-child)::after {content: \"\\00b7\"; padding: 0 .5ex}\n",
       "\t</style>\n",
       "\t<ol class=list-inline><li>'male'</li><li>'female'</li></ol>\n",
       "</details>"
      ],
      "text/latex": [
       "female\n",
       "\\emph{Levels}: \\begin{enumerate*}\n",
       "\\item 'male'\n",
       "\\item 'female'\n",
       "\\end{enumerate*}\n"
      ],
      "text/markdown": [
       "female\n",
       "**Levels**: 1. 'male'\n",
       "2. 'female'\n",
       "\n",
       "\n"
      ],
      "text/plain": [
       "[1] female\n",
       "Levels: male < female"
      ]
     },
     "metadata": {},
     "output_type": "display_data"
    }
   ],
   "source": [
    "T2$gender[1]"
   ]
  },
  {
   "cell_type": "code",
   "execution_count": 24,
   "metadata": {},
   "outputs": [
    {
     "name": "stderr",
     "output_type": "stream",
     "text": [
      "Warning message in `[<-.factor`(`*tmp*`, 1, value = \"Male\"):\n",
      "\"invalid factor level, NA generated\"\n"
     ]
    }
   ],
   "source": [
    "T2$gender[1] <- \"Male\"    # 注意是大写的 \"M\""
   ]
  },
  {
   "cell_type": "code",
   "execution_count": 25,
   "metadata": {},
   "outputs": [
    {
     "data": {
      "text/html": [
       "'male'"
      ],
      "text/latex": [
       "'male'"
      ],
      "text/markdown": [
       "'male'"
      ],
      "text/plain": [
       "[1] \"male\""
      ]
     },
     "metadata": {},
     "output_type": "display_data"
    }
   ],
   "source": [
    "(T2$gender[1] <- \"male\")"
   ]
  },
  {
   "cell_type": "code",
   "execution_count": 26,
   "metadata": {},
   "outputs": [
    {
     "data": {
      "text/html": [
       "<table class=\"dataframe\">\n",
       "<caption>A data.frame: 8 × 2</caption>\n",
       "<thead>\n",
       "\t<tr><th scope=col>score</th><th scope=col>gender</th></tr>\n",
       "\t<tr><th scope=col>&lt;fct&gt;</th><th scope=col>&lt;ord&gt;</th></tr>\n",
       "</thead>\n",
       "<tbody>\n",
       "\t<tr><td>及格</td><td>male  </td></tr>\n",
       "\t<tr><td>中  </td><td>male  </td></tr>\n",
       "\t<tr><td>良  </td><td>female</td></tr>\n",
       "\t<tr><td>优  </td><td>male  </td></tr>\n",
       "\t<tr><td>优  </td><td>male  </td></tr>\n",
       "\t<tr><td>及格</td><td>female</td></tr>\n",
       "\t<tr><td>中  </td><td>female</td></tr>\n",
       "\t<tr><td>良  </td><td>male  </td></tr>\n",
       "</tbody>\n",
       "</table>\n"
      ],
      "text/latex": [
       "A data.frame: 8 × 2\n",
       "\\begin{tabular}{ll}\n",
       " score & gender\\\\\n",
       " <fct> & <ord>\\\\\n",
       "\\hline\n",
       "\t 及格 & male  \\\\\n",
       "\t 中   & male  \\\\\n",
       "\t 良   & female\\\\\n",
       "\t 优   & male  \\\\\n",
       "\t 优   & male  \\\\\n",
       "\t 及格 & female\\\\\n",
       "\t 中   & female\\\\\n",
       "\t 良   & male  \\\\\n",
       "\\end{tabular}\n"
      ],
      "text/markdown": [
       "\n",
       "A data.frame: 8 × 2\n",
       "\n",
       "| score &lt;fct&gt; | gender &lt;ord&gt; |\n",
       "|---|---|\n",
       "| 及格 | male   |\n",
       "| 中   | male   |\n",
       "| 良   | female |\n",
       "| 优   | male   |\n",
       "| 优   | male   |\n",
       "| 及格 | female |\n",
       "| 中   | female |\n",
       "| 良   | male   |\n",
       "\n"
      ],
      "text/plain": [
       "  score gender\n",
       "1 及格  male  \n",
       "2 中    male  \n",
       "3 良    female\n",
       "4 优    male  \n",
       "5 优    male  \n",
       "6 及格  female\n",
       "7 中    female\n",
       "8 良    male  "
      ]
     },
     "metadata": {},
     "output_type": "display_data"
    }
   ],
   "source": [
    "T2"
   ]
  },
  {
   "cell_type": "markdown",
   "metadata": {},
   "source": [
    "# 去掉因子水平\n",
    "在数据集清理的过程中，最终你可能需要去掉所有与因子水平对应的数据。考虑以下数据集，它记录了上班途中所使用的交通工具的次数："
   ]
  },
  {
   "cell_type": "code",
   "execution_count": 27,
   "metadata": {},
   "outputs": [
    {
     "data": {
      "text/html": [
       "<table class=\"dataframe\">\n",
       "<caption>A data.frame: 10 × 2</caption>\n",
       "<thead>\n",
       "\t<tr><th scope=col>mode</th><th scope=col>time_mins</th></tr>\n",
       "\t<tr><th scope=col>&lt;fct&gt;</th><th scope=col>&lt;dbl&gt;</th></tr>\n",
       "</thead>\n",
       "<tbody>\n",
       "\t<tr><td>bike</td><td>25</td></tr>\n",
       "\t<tr><td>car </td><td>13</td></tr>\n",
       "\t<tr><td>bus </td><td>NA</td></tr>\n",
       "\t<tr><td>car </td><td>22</td></tr>\n",
       "\t<tr><td>walk</td><td>65</td></tr>\n",
       "\t<tr><td>bike</td><td>28</td></tr>\n",
       "\t<tr><td>car </td><td>15</td></tr>\n",
       "\t<tr><td>bike</td><td>24</td></tr>\n",
       "\t<tr><td>car </td><td>NA</td></tr>\n",
       "\t<tr><td>car </td><td>14</td></tr>\n",
       "</tbody>\n",
       "</table>\n"
      ],
      "text/latex": [
       "A data.frame: 10 × 2\n",
       "\\begin{tabular}{ll}\n",
       " mode & time\\_mins\\\\\n",
       " <fct> & <dbl>\\\\\n",
       "\\hline\n",
       "\t bike & 25\\\\\n",
       "\t car  & 13\\\\\n",
       "\t bus  & NA\\\\\n",
       "\t car  & 22\\\\\n",
       "\t walk & 65\\\\\n",
       "\t bike & 28\\\\\n",
       "\t car  & 15\\\\\n",
       "\t bike & 24\\\\\n",
       "\t car  & NA\\\\\n",
       "\t car  & 14\\\\\n",
       "\\end{tabular}\n"
      ],
      "text/markdown": [
       "\n",
       "A data.frame: 10 × 2\n",
       "\n",
       "| mode &lt;fct&gt; | time_mins &lt;dbl&gt; |\n",
       "|---|---|\n",
       "| bike | 25 |\n",
       "| car  | 13 |\n",
       "| bus  | NA |\n",
       "| car  | 22 |\n",
       "| walk | 65 |\n",
       "| bike | 28 |\n",
       "| car  | 15 |\n",
       "| bike | 24 |\n",
       "| car  | NA |\n",
       "| car  | 14 |\n",
       "\n"
      ],
      "text/plain": [
       "   mode time_mins\n",
       "1  bike 25       \n",
       "2  car  13       \n",
       "3  bus  NA       \n",
       "4  car  22       \n",
       "5  walk 65       \n",
       "6  bike 28       \n",
       "7  car  15       \n",
       "8  bike 24       \n",
       "9  car  NA       \n",
       "10 car  14       "
      ]
     },
     "metadata": {},
     "output_type": "display_data"
    }
   ],
   "source": [
    "(getting_to_work <- data.frame(mode = factor(c(\"bike\", \"car\", \"bus\", \"car\", \"walk\",\"bike\", \"car\", \"bike\", \"car\", \"car\" )),\n",
    "                              time_mins = c(25, 13, NA, 22, 65, 28, 15, 24, NA, 14)))"
   ]
  },
  {
   "cell_type": "code",
   "execution_count": 28,
   "metadata": {},
   "outputs": [
    {
     "data": {
      "text/html": [
       "<table class=\"dataframe\">\n",
       "<caption>A data.frame: 8 × 2</caption>\n",
       "<thead>\n",
       "\t<tr><th></th><th scope=col>mode</th><th scope=col>time_mins</th></tr>\n",
       "\t<tr><th></th><th scope=col>&lt;fct&gt;</th><th scope=col>&lt;dbl&gt;</th></tr>\n",
       "</thead>\n",
       "<tbody>\n",
       "\t<tr><th scope=row>1</th><td>bike</td><td>25</td></tr>\n",
       "\t<tr><th scope=row>2</th><td>car </td><td>13</td></tr>\n",
       "\t<tr><th scope=row>4</th><td>car </td><td>22</td></tr>\n",
       "\t<tr><th scope=row>5</th><td>walk</td><td>65</td></tr>\n",
       "\t<tr><th scope=row>6</th><td>bike</td><td>28</td></tr>\n",
       "\t<tr><th scope=row>7</th><td>car </td><td>15</td></tr>\n",
       "\t<tr><th scope=row>8</th><td>bike</td><td>24</td></tr>\n",
       "\t<tr><th scope=row>10</th><td>car </td><td>14</td></tr>\n",
       "</tbody>\n",
       "</table>\n"
      ],
      "text/latex": [
       "A data.frame: 8 × 2\n",
       "\\begin{tabular}{r|ll}\n",
       "  & mode & time\\_mins\\\\\n",
       "  & <fct> & <dbl>\\\\\n",
       "\\hline\n",
       "\t1 & bike & 25\\\\\n",
       "\t2 & car  & 13\\\\\n",
       "\t4 & car  & 22\\\\\n",
       "\t5 & walk & 65\\\\\n",
       "\t6 & bike & 28\\\\\n",
       "\t7 & car  & 15\\\\\n",
       "\t8 & bike & 24\\\\\n",
       "\t10 & car  & 14\\\\\n",
       "\\end{tabular}\n"
      ],
      "text/markdown": [
       "\n",
       "A data.frame: 8 × 2\n",
       "\n",
       "| <!--/--> | mode &lt;fct&gt; | time_mins &lt;dbl&gt; |\n",
       "|---|---|---|\n",
       "| 1 | bike | 25 |\n",
       "| 2 | car  | 13 |\n",
       "| 4 | car  | 22 |\n",
       "| 5 | walk | 65 |\n",
       "| 6 | bike | 28 |\n",
       "| 7 | car  | 15 |\n",
       "| 8 | bike | 24 |\n",
       "| 10 | car  | 14 |\n",
       "\n"
      ],
      "text/plain": [
       "   mode time_mins\n",
       "1  bike 25       \n",
       "2  car  13       \n",
       "4  car  22       \n",
       "5  walk 65       \n",
       "6  bike 28       \n",
       "7  car  15       \n",
       "8  bike 24       \n",
       "10 car  14       "
      ]
     },
     "metadata": {},
     "output_type": "display_data"
    }
   ],
   "source": [
    "#去掉那些 time_mins 是 NA 的行 ：\n",
    "(getting_to_work <- subset(getting_to_work, !is.na(time_mins)))"
   ]
  },
  {
   "cell_type": "code",
   "execution_count": 29,
   "metadata": {},
   "outputs": [
    {
     "data": {
      "text/html": [
       "<style>\n",
       ".list-inline {list-style: none; margin:0; padding: 0}\n",
       ".list-inline>li {display: inline-block}\n",
       ".list-inline>li:not(:last-child)::after {content: \"\\00b7\"; padding: 0 .5ex}\n",
       "</style>\n",
       "<ol class=list-inline><li>'bike'</li><li>'bus'</li><li>'car'</li><li>'walk'</li></ol>\n"
      ],
      "text/latex": [
       "\\begin{enumerate*}\n",
       "\\item 'bike'\n",
       "\\item 'bus'\n",
       "\\item 'car'\n",
       "\\item 'walk'\n",
       "\\end{enumerate*}\n"
      ],
      "text/markdown": [
       "1. 'bike'\n",
       "2. 'bus'\n",
       "3. 'car'\n",
       "4. 'walk'\n",
       "\n",
       "\n"
      ],
      "text/plain": [
       "[1] \"bike\" \"bus\"  \"car\"  \"walk\""
      ]
     },
     "metadata": {},
     "output_type": "display_data"
    }
   ],
   "source": [
    "levels(getting_to_work$mode)"
   ]
  },
  {
   "cell_type": "code",
   "execution_count": 30,
   "metadata": {},
   "outputs": [
    {
     "data": {
      "text/html": [
       "<style>\n",
       ".list-inline {list-style: none; margin:0; padding: 0}\n",
       ".list-inline>li {display: inline-block}\n",
       ".list-inline>li:not(:last-child)::after {content: \"\\00b7\"; padding: 0 .5ex}\n",
       "</style>\n",
       "<ol class=list-inline><li>bike</li><li>car</li><li>walk</li></ol>\n",
       "\n",
       "<details>\n",
       "\t<summary style=display:list-item;cursor:pointer>\n",
       "\t\t<strong>Levels</strong>:\n",
       "\t</summary>\n",
       "\t<style>\n",
       "\t.list-inline {list-style: none; margin:0; padding: 0}\n",
       "\t.list-inline>li {display: inline-block}\n",
       "\t.list-inline>li:not(:last-child)::after {content: \"\\00b7\"; padding: 0 .5ex}\n",
       "\t</style>\n",
       "\t<ol class=list-inline><li>'bike'</li><li>'bus'</li><li>'car'</li><li>'walk'</li></ol>\n",
       "</details>"
      ],
      "text/latex": [
       "\\begin{enumerate*}\n",
       "\\item bike\n",
       "\\item car\n",
       "\\item walk\n",
       "\\end{enumerate*}\n",
       "\n",
       "\\emph{Levels}: \\begin{enumerate*}\n",
       "\\item 'bike'\n",
       "\\item 'bus'\n",
       "\\item 'car'\n",
       "\\item 'walk'\n",
       "\\end{enumerate*}\n"
      ],
      "text/markdown": [
       "1. bike\n",
       "2. car\n",
       "3. walk\n",
       "\n",
       "\n",
       "\n",
       "**Levels**: 1. 'bike'\n",
       "2. 'bus'\n",
       "3. 'car'\n",
       "4. 'walk'\n",
       "\n",
       "\n"
      ],
      "text/plain": [
       "[1] bike car  walk\n",
       "Levels: bike bus car walk"
      ]
     },
     "metadata": {},
     "output_type": "display_data"
    }
   ],
   "source": [
    "unique(getting_to_work$mode)   #数据集中没有出现'bus'"
   ]
  },
  {
   "cell_type": "markdown",
   "metadata": {},
   "source": [
    "删除未使用的水平因子，可以使用 droplevels 函数"
   ]
  },
  {
   "cell_type": "code",
   "execution_count": 31,
   "metadata": {},
   "outputs": [
    {
     "data": {
      "text/html": [
       "<style>\n",
       ".list-inline {list-style: none; margin:0; padding: 0}\n",
       ".list-inline>li {display: inline-block}\n",
       ".list-inline>li:not(:last-child)::after {content: \"\\00b7\"; padding: 0 .5ex}\n",
       "</style>\n",
       "<ol class=list-inline><li>'bike'</li><li>'car'</li><li>'walk'</li></ol>\n"
      ],
      "text/latex": [
       "\\begin{enumerate*}\n",
       "\\item 'bike'\n",
       "\\item 'car'\n",
       "\\item 'walk'\n",
       "\\end{enumerate*}\n"
      ],
      "text/markdown": [
       "1. 'bike'\n",
       "2. 'car'\n",
       "3. 'walk'\n",
       "\n",
       "\n"
      ],
      "text/plain": [
       "[1] \"bike\" \"car\"  \"walk\""
      ]
     },
     "metadata": {},
     "output_type": "display_data"
    }
   ],
   "source": [
    "getting_to_work <- droplevels(getting_to_work) \n",
    "levels(getting_to_work$mode)"
   ]
  },
  {
   "cell_type": "code",
   "execution_count": null,
   "metadata": {},
   "outputs": [],
   "source": []
  }
 ],
 "metadata": {
  "kernelspec": {
   "display_name": "R",
   "language": "R",
   "name": "ir"
  },
  "language_info": {
   "codemirror_mode": "r",
   "file_extension": ".r",
   "mimetype": "text/x-r-source",
   "name": "R",
   "pygments_lexer": "r",
   "version": "4.3.2"
  }
 },
 "nbformat": 4,
 "nbformat_minor": 4
}
