{
 "cells": [
  {
   "cell_type": "markdown",
   "metadata": {},
   "source": [
    "- 向量是一维的--只有长度而没有其他维度。\n",
    "- 数组（array）可以看作是**带有多个下标的<font color=red>类型相同</font>的**元素的集合。\n",
    "- 数组也可以看作是向量和矩阵的推广，**一维数组就是向量，二维数组就是矩阵**。"
   ]
  },
  {
   "cell_type": "markdown",
   "metadata": {},
   "source": [
    "# 数组(array)的创建\n",
    " \n",
    "   --函数array()，其句法是：\n",
    "    \tarray(data = NA, dim = length(data), dimnames = NULL)"
   ]
  },
  {
   "cell_type": "code",
   "execution_count": 1,
   "metadata": {},
   "outputs": [],
   "source": [
    "ta  <- array(1:24,c(4,3,2))   # 产生维数为(4,3,2)的3维数组，排列顺序是：行-列-面"
   ]
  },
  {
   "cell_type": "code",
   "execution_count": 2,
   "metadata": {},
   "outputs": [
    {
     "data": {
      "text/html": [
       "'array'"
      ],
      "text/latex": [
       "'array'"
      ],
      "text/markdown": [
       "'array'"
      ],
      "text/plain": [
       "[1] \"array\""
      ]
     },
     "metadata": {},
     "output_type": "display_data"
    }
   ],
   "source": [
    "class(ta)"
   ]
  },
  {
   "cell_type": "code",
   "execution_count": 3,
   "metadata": {},
   "outputs": [
    {
     "data": {
      "text/html": [
       "4"
      ],
      "text/latex": [
       "4"
      ],
      "text/markdown": [
       "4"
      ],
      "text/plain": [
       "[1] 4"
      ]
     },
     "metadata": {},
     "output_type": "display_data"
    }
   ],
   "source": [
    "nrow(ta)   #返回行数"
   ]
  },
  {
   "cell_type": "code",
   "execution_count": 4,
   "metadata": {},
   "outputs": [
    {
     "data": {
      "text/html": [
       "<style>\n",
       ".list-inline {list-style: none; margin:0; padding: 0}\n",
       ".list-inline>li {display: inline-block}\n",
       ".list-inline>li:not(:last-child)::after {content: \"\\00b7\"; padding: 0 .5ex}\n",
       "</style>\n",
       "<ol class=list-inline><li>4</li><li>3</li><li>2</li></ol>\n"
      ],
      "text/latex": [
       "\\begin{enumerate*}\n",
       "\\item 4\n",
       "\\item 3\n",
       "\\item 2\n",
       "\\end{enumerate*}\n"
      ],
      "text/markdown": [
       "1. 4\n",
       "2. 3\n",
       "3. 2\n",
       "\n",
       "\n"
      ],
      "text/plain": [
       "[1] 4 3 2"
      ]
     },
     "metadata": {},
     "output_type": "display_data"
    }
   ],
   "source": [
    "dim(ta)   #返回各维度值"
   ]
  },
  {
   "cell_type": "code",
   "execution_count": 5,
   "metadata": {},
   "outputs": [
    {
     "data": {
      "text/html": [
       "<table class=\"dataframe\">\n",
       "<caption>A matrix: 4 × 3 of type int</caption>\n",
       "<tbody>\n",
       "\t<tr><td>1</td><td>5</td><td> 9</td></tr>\n",
       "\t<tr><td>2</td><td>6</td><td>10</td></tr>\n",
       "\t<tr><td>3</td><td>7</td><td>11</td></tr>\n",
       "\t<tr><td>4</td><td>8</td><td>12</td></tr>\n",
       "</tbody>\n",
       "</table>\n"
      ],
      "text/latex": [
       "A matrix: 4 × 3 of type int\n",
       "\\begin{tabular}{lll}\n",
       "\t 1 & 5 &  9\\\\\n",
       "\t 2 & 6 & 10\\\\\n",
       "\t 3 & 7 & 11\\\\\n",
       "\t 4 & 8 & 12\\\\\n",
       "\\end{tabular}\n"
      ],
      "text/markdown": [
       "\n",
       "A matrix: 4 × 3 of type int\n",
       "\n",
       "| 1 | 5 |  9 |\n",
       "| 2 | 6 | 10 |\n",
       "| 3 | 7 | 11 |\n",
       "| 4 | 8 | 12 |\n",
       "\n"
      ],
      "text/plain": [
       "     [,1] [,2] [,3]\n",
       "[1,] 1    5     9  \n",
       "[2,] 2    6    10  \n",
       "[3,] 3    7    11  \n",
       "[4,] 4    8    12  "
      ]
     },
     "metadata": {},
     "output_type": "display_data"
    }
   ],
   "source": [
    "ta[,,1]   #返回第一层，默认的排列顺序是：列-行-层"
   ]
  },
  {
   "cell_type": "code",
   "execution_count": 6,
   "metadata": {},
   "outputs": [
    {
     "data": {
      "text/html": [
       "<table class=\"dataframe\">\n",
       "<caption>A matrix: 4 × 3 of type int</caption>\n",
       "<tbody>\n",
       "\t<tr><td>13</td><td>17</td><td>21</td></tr>\n",
       "\t<tr><td>14</td><td>18</td><td>22</td></tr>\n",
       "\t<tr><td>15</td><td>19</td><td>23</td></tr>\n",
       "\t<tr><td>16</td><td>20</td><td>24</td></tr>\n",
       "</tbody>\n",
       "</table>\n"
      ],
      "text/latex": [
       "A matrix: 4 × 3 of type int\n",
       "\\begin{tabular}{lll}\n",
       "\t 13 & 17 & 21\\\\\n",
       "\t 14 & 18 & 22\\\\\n",
       "\t 15 & 19 & 23\\\\\n",
       "\t 16 & 20 & 24\\\\\n",
       "\\end{tabular}\n"
      ],
      "text/markdown": [
       "\n",
       "A matrix: 4 × 3 of type int\n",
       "\n",
       "| 13 | 17 | 21 |\n",
       "| 14 | 18 | 22 |\n",
       "| 15 | 19 | 23 |\n",
       "| 16 | 20 | 24 |\n",
       "\n"
      ],
      "text/plain": [
       "     [,1] [,2] [,3]\n",
       "[1,] 13   17   21  \n",
       "[2,] 14   18   22  \n",
       "[3,] 15   19   23  \n",
       "[4,] 16   20   24  "
      ]
     },
     "metadata": {},
     "output_type": "display_data"
    }
   ],
   "source": [
    "ta[,,2]    #返回第二层"
   ]
  },
  {
   "cell_type": "code",
   "execution_count": 7,
   "metadata": {},
   "outputs": [],
   "source": [
    "ta  <- array(1:24,dim = c(4,3,2),dimnames = list(c(\"R1\", \"R2\", \"R3\",\"R4\"),c(\"C1\", \"C2\", \"C3\"),c(\"L1\", \"L2\")))\n",
    "#指定维度值和行、列、层名\n",
    "#在Rstudio展示更清楚"
   ]
  },
  {
   "cell_type": "code",
   "execution_count": 8,
   "metadata": {},
   "outputs": [
    {
     "data": {
      "text/html": [
       "<table class=\"dataframe\">\n",
       "<caption>A matrix: 4 × 3 of type int</caption>\n",
       "<thead>\n",
       "\t<tr><th></th><th scope=col>C1</th><th scope=col>C2</th><th scope=col>C3</th></tr>\n",
       "</thead>\n",
       "<tbody>\n",
       "\t<tr><th scope=row>R1</th><td>1</td><td>5</td><td> 9</td></tr>\n",
       "\t<tr><th scope=row>R2</th><td>2</td><td>6</td><td>10</td></tr>\n",
       "\t<tr><th scope=row>R3</th><td>3</td><td>7</td><td>11</td></tr>\n",
       "\t<tr><th scope=row>R4</th><td>4</td><td>8</td><td>12</td></tr>\n",
       "</tbody>\n",
       "</table>\n"
      ],
      "text/latex": [
       "A matrix: 4 × 3 of type int\n",
       "\\begin{tabular}{r|lll}\n",
       "  & C1 & C2 & C3\\\\\n",
       "\\hline\n",
       "\tR1 & 1 & 5 &  9\\\\\n",
       "\tR2 & 2 & 6 & 10\\\\\n",
       "\tR3 & 3 & 7 & 11\\\\\n",
       "\tR4 & 4 & 8 & 12\\\\\n",
       "\\end{tabular}\n"
      ],
      "text/markdown": [
       "\n",
       "A matrix: 4 × 3 of type int\n",
       "\n",
       "| <!--/--> | C1 | C2 | C3 |\n",
       "|---|---|---|---|\n",
       "| R1 | 1 | 5 |  9 |\n",
       "| R2 | 2 | 6 | 10 |\n",
       "| R3 | 3 | 7 | 11 |\n",
       "| R4 | 4 | 8 | 12 |\n",
       "\n"
      ],
      "text/plain": [
       "   C1 C2 C3\n",
       "R1 1  5   9\n",
       "R2 2  6  10\n",
       "R3 3  7  11\n",
       "R4 4  8  12"
      ]
     },
     "metadata": {},
     "output_type": "display_data"
    }
   ],
   "source": [
    "ta[,,1]"
   ]
  },
  {
   "cell_type": "code",
   "execution_count": 9,
   "metadata": {},
   "outputs": [
    {
     "data": {
      "text/html": [
       "<table class=\"dataframe\">\n",
       "<caption>A matrix: 4 × 3 of type int</caption>\n",
       "<thead>\n",
       "\t<tr><th></th><th scope=col>C1</th><th scope=col>C2</th><th scope=col>C3</th></tr>\n",
       "</thead>\n",
       "<tbody>\n",
       "\t<tr><th scope=row>R1</th><td>13</td><td>17</td><td>21</td></tr>\n",
       "\t<tr><th scope=row>R2</th><td>14</td><td>18</td><td>22</td></tr>\n",
       "\t<tr><th scope=row>R3</th><td>15</td><td>19</td><td>23</td></tr>\n",
       "\t<tr><th scope=row>R4</th><td>16</td><td>20</td><td>24</td></tr>\n",
       "</tbody>\n",
       "</table>\n"
      ],
      "text/latex": [
       "A matrix: 4 × 3 of type int\n",
       "\\begin{tabular}{r|lll}\n",
       "  & C1 & C2 & C3\\\\\n",
       "\\hline\n",
       "\tR1 & 13 & 17 & 21\\\\\n",
       "\tR2 & 14 & 18 & 22\\\\\n",
       "\tR3 & 15 & 19 & 23\\\\\n",
       "\tR4 & 16 & 20 & 24\\\\\n",
       "\\end{tabular}\n"
      ],
      "text/markdown": [
       "\n",
       "A matrix: 4 × 3 of type int\n",
       "\n",
       "| <!--/--> | C1 | C2 | C3 |\n",
       "|---|---|---|---|\n",
       "| R1 | 13 | 17 | 21 |\n",
       "| R2 | 14 | 18 | 22 |\n",
       "| R3 | 15 | 19 | 23 |\n",
       "| R4 | 16 | 20 | 24 |\n",
       "\n"
      ],
      "text/plain": [
       "   C1 C2 C3\n",
       "R1 13 17 21\n",
       "R2 14 18 22\n",
       "R3 15 19 23\n",
       "R4 16 20 24"
      ]
     },
     "metadata": {},
     "output_type": "display_data"
    }
   ],
   "source": [
    "ta[,,2]"
   ]
  },
  {
   "cell_type": "code",
   "execution_count": 10,
   "metadata": {},
   "outputs": [
    {
     "data": {
      "text/html": [
       "<table class=\"dataframe\">\n",
       "<caption>A matrix: 2 × 4 of type int</caption>\n",
       "<tbody>\n",
       "\t<tr><td>1</td><td>3</td><td>2</td><td>1</td></tr>\n",
       "\t<tr><td>2</td><td>1</td><td>3</td><td>2</td></tr>\n",
       "</tbody>\n",
       "</table>\n"
      ],
      "text/latex": [
       "A matrix: 2 × 4 of type int\n",
       "\\begin{tabular}{llll}\n",
       "\t 1 & 3 & 2 & 1\\\\\n",
       "\t 2 & 1 & 3 & 2\\\\\n",
       "\\end{tabular}\n"
      ],
      "text/markdown": [
       "\n",
       "A matrix: 2 × 4 of type int\n",
       "\n",
       "| 1 | 3 | 2 | 1 |\n",
       "| 2 | 1 | 3 | 2 |\n",
       "\n"
      ],
      "text/plain": [
       "     [,1] [,2] [,3] [,4]\n",
       "[1,] 1    3    2    1   \n",
       "[2,] 2    1    3    2   "
      ]
     },
     "metadata": {},
     "output_type": "display_data"
    }
   ],
   "source": [
    "array(1:3, c(2,4)) # recycle 1:3 --当数据不够用时"
   ]
  },
  {
   "cell_type": "markdown",
   "metadata": {},
   "source": [
    "# 矩阵(matrix)的创建\n",
    "\n",
    "- 矩阵将数据用行和列排列的长方形表格，它是二维的数组，其单元必须是<font color=red>相同的数据类型</font>。\n",
    "\n",
    "- 矩阵通常**用列来表示不同的变量（属性、字段），用行表示各个对象（纪录，样例、观察）**。R语言生成矩阵的函数是matrix()，其句法是：\n",
    "\n",
    "myymatrix <- matrix(vector, nrow=number_of_rows, ncol=number_of_columns,\n",
    "                    byrow=logical_value, dimnames=list(              \n",
    "                    char_vector_rownames, char_vector_colnames)) \n",
    "      \n",
    " 其中，vector 项为必要的矩阵元素,nrow 为行数,ncol 为列数,注意 nrow 与 ncol 的乘积应为矩阵元素个数, dimnames 给定行和列的名称，byrow 项控制排列元素时是否按行进行,**默认byrow=FALSE，即按列顺序排列**。"
   ]
  },
  {
   "cell_type": "code",
   "execution_count": 11,
   "metadata": {},
   "outputs": [
    {
     "data": {
      "text/html": [
       "<table class=\"dataframe\">\n",
       "<caption>A matrix: 4 × 3 of type int</caption>\n",
       "<thead>\n",
       "\t<tr><th></th><th scope=col>C1</th><th scope=col>C2</th><th scope=col>C3</th></tr>\n",
       "</thead>\n",
       "<tbody>\n",
       "\t<tr><th scope=row>R1</th><td>1</td><td>5</td><td> 9</td></tr>\n",
       "\t<tr><th scope=row>R2</th><td>2</td><td>6</td><td>10</td></tr>\n",
       "\t<tr><th scope=row>R3</th><td>3</td><td>7</td><td>11</td></tr>\n",
       "\t<tr><th scope=row>R4</th><td>4</td><td>8</td><td>12</td></tr>\n",
       "</tbody>\n",
       "</table>\n"
      ],
      "text/latex": [
       "A matrix: 4 × 3 of type int\n",
       "\\begin{tabular}{r|lll}\n",
       "  & C1 & C2 & C3\\\\\n",
       "\\hline\n",
       "\tR1 & 1 & 5 &  9\\\\\n",
       "\tR2 & 2 & 6 & 10\\\\\n",
       "\tR3 & 3 & 7 & 11\\\\\n",
       "\tR4 & 4 & 8 & 12\\\\\n",
       "\\end{tabular}\n"
      ],
      "text/markdown": [
       "\n",
       "A matrix: 4 × 3 of type int\n",
       "\n",
       "| <!--/--> | C1 | C2 | C3 |\n",
       "|---|---|---|---|\n",
       "| R1 | 1 | 5 |  9 |\n",
       "| R2 | 2 | 6 | 10 |\n",
       "| R3 | 3 | 7 | 11 |\n",
       "| R4 | 4 | 8 | 12 |\n",
       "\n"
      ],
      "text/plain": [
       "   C1 C2 C3\n",
       "R1 1  5   9\n",
       "R2 2  6  10\n",
       "R3 3  7  11\n",
       "R4 4  8  12"
      ]
     },
     "metadata": {},
     "output_type": "display_data"
    }
   ],
   "source": [
    "(a <- matrix(1:12, nrow = 4, dimnames = list(c(\"R1\", \"R2\", \"R3\", \"R4\"),c(\"C1\", \"C2\", \"C3\"))))"
   ]
  },
  {
   "cell_type": "code",
   "execution_count": 12,
   "metadata": {},
   "outputs": [
    {
     "data": {
      "text/html": [
       "<style>\n",
       ".list-inline {list-style: none; margin:0; padding: 0}\n",
       ".list-inline>li {display: inline-block}\n",
       ".list-inline>li:not(:last-child)::after {content: \"\\00b7\"; padding: 0 .5ex}\n",
       "</style>\n",
       "<ol class=list-inline><li>'matrix'</li><li>'array'</li></ol>\n"
      ],
      "text/latex": [
       "\\begin{enumerate*}\n",
       "\\item 'matrix'\n",
       "\\item 'array'\n",
       "\\end{enumerate*}\n"
      ],
      "text/markdown": [
       "1. 'matrix'\n",
       "2. 'array'\n",
       "\n",
       "\n"
      ],
      "text/plain": [
       "[1] \"matrix\" \"array\" "
      ]
     },
     "metadata": {},
     "output_type": "display_data"
    }
   ],
   "source": [
    "class(a)"
   ]
  },
  {
   "cell_type": "code",
   "execution_count": 13,
   "metadata": {},
   "outputs": [
    {
     "data": {
      "text/html": [
       "<table class=\"dataframe\">\n",
       "<caption>A matrix: 4 × 3 of type int</caption>\n",
       "<thead>\n",
       "\t<tr><th></th><th scope=col>C1</th><th scope=col>C2</th><th scope=col>C3</th></tr>\n",
       "</thead>\n",
       "<tbody>\n",
       "\t<tr><th scope=row>R1</th><td>1</td><td>5</td><td> 9</td></tr>\n",
       "\t<tr><th scope=row>R2</th><td>2</td><td>6</td><td>10</td></tr>\n",
       "\t<tr><th scope=row>R3</th><td>3</td><td>7</td><td>11</td></tr>\n",
       "\t<tr><th scope=row>R4</th><td>4</td><td>8</td><td>12</td></tr>\n",
       "</tbody>\n",
       "</table>\n"
      ],
      "text/latex": [
       "A matrix: 4 × 3 of type int\n",
       "\\begin{tabular}{r|lll}\n",
       "  & C1 & C2 & C3\\\\\n",
       "\\hline\n",
       "\tR1 & 1 & 5 &  9\\\\\n",
       "\tR2 & 2 & 6 & 10\\\\\n",
       "\tR3 & 3 & 7 & 11\\\\\n",
       "\tR4 & 4 & 8 & 12\\\\\n",
       "\\end{tabular}\n"
      ],
      "text/markdown": [
       "\n",
       "A matrix: 4 × 3 of type int\n",
       "\n",
       "| <!--/--> | C1 | C2 | C3 |\n",
       "|---|---|---|---|\n",
       "| R1 | 1 | 5 |  9 |\n",
       "| R2 | 2 | 6 | 10 |\n",
       "| R3 | 3 | 7 | 11 |\n",
       "| R4 | 4 | 8 | 12 |\n",
       "\n"
      ],
      "text/plain": [
       "   C1 C2 C3\n",
       "R1 1  5   9\n",
       "R2 2  6  10\n",
       "R3 3  7  11\n",
       "R4 4  8  12"
      ]
     },
     "metadata": {},
     "output_type": "display_data"
    }
   ],
   "source": [
    "#该矩阵也可以用 array 函数来创建。下列二维数组与刚创建的矩阵完全相等：\n",
    "(b <- array(1:12,dim = c(4, 3),dimnames = list(c(\"R1\", \"R2\", \"R3\", \"R4\"),c(\"C1\", \"C2\", \"C3\"))))"
   ]
  },
  {
   "cell_type": "code",
   "execution_count": 14,
   "metadata": {},
   "outputs": [
    {
     "data": {
      "text/html": [
       "<style>\n",
       ".list-inline {list-style: none; margin:0; padding: 0}\n",
       ".list-inline>li {display: inline-block}\n",
       ".list-inline>li:not(:last-child)::after {content: \"\\00b7\"; padding: 0 .5ex}\n",
       "</style>\n",
       "<ol class=list-inline><li>'matrix'</li><li>'array'</li></ol>\n"
      ],
      "text/latex": [
       "\\begin{enumerate*}\n",
       "\\item 'matrix'\n",
       "\\item 'array'\n",
       "\\end{enumerate*}\n"
      ],
      "text/markdown": [
       "1. 'matrix'\n",
       "2. 'array'\n",
       "\n",
       "\n"
      ],
      "text/plain": [
       "[1] \"matrix\" \"array\" "
      ]
     },
     "metadata": {},
     "output_type": "display_data"
    }
   ],
   "source": [
    "class(b)        ##二维array被认为是matrix"
   ]
  },
  {
   "cell_type": "code",
   "execution_count": 15,
   "metadata": {},
   "outputs": [
    {
     "data": {
      "text/html": [
       "<style>\n",
       ".list-inline {list-style: none; margin:0; padding: 0}\n",
       ".list-inline>li {display: inline-block}\n",
       ".list-inline>li:not(:last-child)::after {content: \"\\00b7\"; padding: 0 .5ex}\n",
       "</style>\n",
       "<ol class=list-inline><li>1</li><li>2</li><li>3</li><li>4</li><li>5</li><li>6</li><li>7</li><li>8</li><li>9</li><li>10</li><li>11</li><li>12</li></ol>\n"
      ],
      "text/latex": [
       "\\begin{enumerate*}\n",
       "\\item 1\n",
       "\\item 2\n",
       "\\item 3\n",
       "\\item 4\n",
       "\\item 5\n",
       "\\item 6\n",
       "\\item 7\n",
       "\\item 8\n",
       "\\item 9\n",
       "\\item 10\n",
       "\\item 11\n",
       "\\item 12\n",
       "\\end{enumerate*}\n"
      ],
      "text/markdown": [
       "1. 1\n",
       "2. 2\n",
       "3. 3\n",
       "4. 4\n",
       "5. 5\n",
       "6. 6\n",
       "7. 7\n",
       "8. 8\n",
       "9. 9\n",
       "10. 10\n",
       "11. 11\n",
       "12. 12\n",
       "\n",
       "\n"
      ],
      "text/plain": [
       ", , 1\n",
       "\n",
       "     [,1] [,2] [,3]\n",
       "[1,]    1    3    5\n",
       "[2,]    2    4    6\n",
       "\n",
       ", , 2\n",
       "\n",
       "     [,1] [,2] [,3]\n",
       "[1,]    7    9   11\n",
       "[2,]    8   10   12\n"
      ]
     },
     "metadata": {},
     "output_type": "display_data"
    }
   ],
   "source": [
    "(c <- array(1:12,dim = c(2,3,2)))     #在Rstudio展示更清楚"
   ]
  },
  {
   "cell_type": "code",
   "execution_count": 16,
   "metadata": {},
   "outputs": [
    {
     "data": {
      "text/html": [
       "'array'"
      ],
      "text/latex": [
       "'array'"
      ],
      "text/markdown": [
       "'array'"
      ],
      "text/plain": [
       "[1] \"array\""
      ]
     },
     "metadata": {},
     "output_type": "display_data"
    }
   ],
   "source": [
    "class(c)"
   ]
  },
  {
   "cell_type": "code",
   "execution_count": 17,
   "metadata": {},
   "outputs": [
    {
     "data": {
      "text/html": [
       "TRUE"
      ],
      "text/latex": [
       "TRUE"
      ],
      "text/markdown": [
       "TRUE"
      ],
      "text/plain": [
       "[1] TRUE"
      ]
     },
     "metadata": {},
     "output_type": "display_data"
    }
   ],
   "source": [
    "identical(a, b)     #两个对象是否完全相等"
   ]
  },
  {
   "cell_type": "markdown",
   "metadata": {},
   "source": [
    "## 用多个等长向量创建矩阵\n",
    "\n",
    "用3个现有等长向量x，y，z，把它们分别作为列构建矩阵"
   ]
  },
  {
   "cell_type": "code",
   "execution_count": 18,
   "metadata": {},
   "outputs": [
    {
     "data": {
      "text/html": [
       "<table class=\"dataframe\">\n",
       "<caption>A matrix: 3 × 3 of type dbl</caption>\n",
       "<thead>\n",
       "\t<tr><th scope=col>x</th><th scope=col>y</th><th scope=col>z</th></tr>\n",
       "</thead>\n",
       "<tbody>\n",
       "\t<tr><td>1</td><td>2</td><td> 8</td></tr>\n",
       "\t<tr><td>3</td><td>4</td><td>10</td></tr>\n",
       "\t<tr><td>5</td><td>6</td><td>12</td></tr>\n",
       "</tbody>\n",
       "</table>\n"
      ],
      "text/latex": [
       "A matrix: 3 × 3 of type dbl\n",
       "\\begin{tabular}{lll}\n",
       " x & y & z\\\\\n",
       "\\hline\n",
       "\t 1 & 2 &  8\\\\\n",
       "\t 3 & 4 & 10\\\\\n",
       "\t 5 & 6 & 12\\\\\n",
       "\\end{tabular}\n"
      ],
      "text/markdown": [
       "\n",
       "A matrix: 3 × 3 of type dbl\n",
       "\n",
       "| x | y | z |\n",
       "|---|---|---|\n",
       "| 1 | 2 |  8 |\n",
       "| 3 | 4 | 10 |\n",
       "| 5 | 6 | 12 |\n",
       "\n"
      ],
      "text/plain": [
       "     x y z \n",
       "[1,] 1 2  8\n",
       "[2,] 3 4 10\n",
       "[3,] 5 6 12"
      ]
     },
     "metadata": {},
     "output_type": "display_data"
    }
   ],
   "source": [
    "x <- c(1, 3, 5)\n",
    "y <- c(2, 4, 6)\n",
    "z <- c(8, 10, 12)\n",
    "(M <- cbind(x, y, z))"
   ]
  },
  {
   "cell_type": "code",
   "execution_count": 19,
   "metadata": {},
   "outputs": [
    {
     "data": {
      "text/html": [
       "<style>\n",
       ".list-inline {list-style: none; margin:0; padding: 0}\n",
       ".list-inline>li {display: inline-block}\n",
       ".list-inline>li:not(:last-child)::after {content: \"\\00b7\"; padding: 0 .5ex}\n",
       "</style>\n",
       "<ol class=list-inline><li>'matrix'</li><li>'array'</li></ol>\n"
      ],
      "text/latex": [
       "\\begin{enumerate*}\n",
       "\\item 'matrix'\n",
       "\\item 'array'\n",
       "\\end{enumerate*}\n"
      ],
      "text/markdown": [
       "1. 'matrix'\n",
       "2. 'array'\n",
       "\n",
       "\n"
      ],
      "text/plain": [
       "[1] \"matrix\" \"array\" "
      ]
     },
     "metadata": {},
     "output_type": "display_data"
    }
   ],
   "source": [
    "class(M)"
   ]
  },
  {
   "cell_type": "markdown",
   "metadata": {},
   "source": [
    "# dim函数\n",
    "\n",
    "--对于矩阵和数组，dim函数将返回其维度的整数值向量："
   ]
  },
  {
   "cell_type": "code",
   "execution_count": 20,
   "metadata": {},
   "outputs": [
    {
     "data": {
      "text/html": [
       "<style>\n",
       ".list-inline {list-style: none; margin:0; padding: 0}\n",
       ".list-inline>li {display: inline-block}\n",
       ".list-inline>li:not(:last-child)::after {content: \"\\00b7\"; padding: 0 .5ex}\n",
       "</style>\n",
       "<ol class=list-inline><li>2</li><li>3</li><li>2</li></ol>\n"
      ],
      "text/latex": [
       "\\begin{enumerate*}\n",
       "\\item 2\n",
       "\\item 3\n",
       "\\item 2\n",
       "\\end{enumerate*}\n"
      ],
      "text/markdown": [
       "1. 2\n",
       "2. 3\n",
       "3. 2\n",
       "\n",
       "\n"
      ],
      "text/plain": [
       "[1] 2 3 2"
      ]
     },
     "metadata": {},
     "output_type": "display_data"
    }
   ],
   "source": [
    "dim(c)"
   ]
  },
  {
   "cell_type": "code",
   "execution_count": 21,
   "metadata": {},
   "outputs": [
    {
     "data": {
      "text/html": [
       "<style>\n",
       ".list-inline {list-style: none; margin:0; padding: 0}\n",
       ".list-inline>li {display: inline-block}\n",
       ".list-inline>li:not(:last-child)::after {content: \"\\00b7\"; padding: 0 .5ex}\n",
       "</style>\n",
       "<ol class=list-inline><li>4</li><li>3</li></ol>\n"
      ],
      "text/latex": [
       "\\begin{enumerate*}\n",
       "\\item 4\n",
       "\\item 3\n",
       "\\end{enumerate*}\n"
      ],
      "text/markdown": [
       "1. 4\n",
       "2. 3\n",
       "\n",
       "\n"
      ],
      "text/plain": [
       "[1] 4 3"
      ]
     },
     "metadata": {},
     "output_type": "display_data"
    }
   ],
   "source": [
    "dim(a)"
   ]
  },
  {
   "cell_type": "markdown",
   "metadata": {},
   "source": [
    "dim()可以用来将向量转化成数组或矩阵"
   ]
  },
  {
   "cell_type": "code",
   "execution_count": 22,
   "metadata": {},
   "outputs": [
    {
     "data": {
      "text/plain": [
       "NULL"
      ]
     },
     "metadata": {},
     "output_type": "display_data"
    }
   ],
   "source": [
    "zz <- 1:12\n",
    "dim(zz)"
   ]
  },
  {
   "cell_type": "code",
   "execution_count": 23,
   "metadata": {},
   "outputs": [
    {
     "data": {
      "text/html": [
       "<style>\n",
       ".list-inline {list-style: none; margin:0; padding: 0}\n",
       ".list-inline>li {display: inline-block}\n",
       ".list-inline>li:not(:last-child)::after {content: \"\\00b7\"; padding: 0 .5ex}\n",
       "</style>\n",
       "<ol class=list-inline><li>2</li><li>2</li><li>3</li></ol>\n"
      ],
      "text/latex": [
       "\\begin{enumerate*}\n",
       "\\item 2\n",
       "\\item 2\n",
       "\\item 3\n",
       "\\end{enumerate*}\n"
      ],
      "text/markdown": [
       "1. 2\n",
       "2. 2\n",
       "3. 3\n",
       "\n",
       "\n"
      ],
      "text/plain": [
       "[1] 2 2 3"
      ]
     },
     "metadata": {},
     "output_type": "display_data"
    }
   ],
   "source": [
    "dim(zz) <- c(2, 2, 3) # 将向量转成维度为（2,2,3）的数组\n",
    "dim(zz)\n",
    "#在Rstudio展示更清楚"
   ]
  },
  {
   "cell_type": "markdown",
   "metadata": {},
   "source": [
    "可通过给 dim 函数分配一个新的维度来重塑矩阵或数组。不过请小心使用，因为它会删除原维度的名称："
   ]
  },
  {
   "cell_type": "code",
   "execution_count": 24,
   "metadata": {},
   "outputs": [
    {
     "data": {
      "text/html": [
       "<table class=\"dataframe\">\n",
       "<caption>A matrix: 4 × 3 of type int</caption>\n",
       "<thead>\n",
       "\t<tr><th></th><th scope=col>C1</th><th scope=col>C2</th><th scope=col>C3</th></tr>\n",
       "</thead>\n",
       "<tbody>\n",
       "\t<tr><th scope=row>R1</th><td>1</td><td>5</td><td> 9</td></tr>\n",
       "\t<tr><th scope=row>R2</th><td>2</td><td>6</td><td>10</td></tr>\n",
       "\t<tr><th scope=row>R3</th><td>3</td><td>7</td><td>11</td></tr>\n",
       "\t<tr><th scope=row>R4</th><td>4</td><td>8</td><td>12</td></tr>\n",
       "</tbody>\n",
       "</table>\n"
      ],
      "text/latex": [
       "A matrix: 4 × 3 of type int\n",
       "\\begin{tabular}{r|lll}\n",
       "  & C1 & C2 & C3\\\\\n",
       "\\hline\n",
       "\tR1 & 1 & 5 &  9\\\\\n",
       "\tR2 & 2 & 6 & 10\\\\\n",
       "\tR3 & 3 & 7 & 11\\\\\n",
       "\tR4 & 4 & 8 & 12\\\\\n",
       "\\end{tabular}\n"
      ],
      "text/markdown": [
       "\n",
       "A matrix: 4 × 3 of type int\n",
       "\n",
       "| <!--/--> | C1 | C2 | C3 |\n",
       "|---|---|---|---|\n",
       "| R1 | 1 | 5 |  9 |\n",
       "| R2 | 2 | 6 | 10 |\n",
       "| R3 | 3 | 7 | 11 |\n",
       "| R4 | 4 | 8 | 12 |\n",
       "\n"
      ],
      "text/plain": [
       "   C1 C2 C3\n",
       "R1 1  5   9\n",
       "R2 2  6  10\n",
       "R3 3  7  11\n",
       "R4 4  8  12"
      ]
     },
     "metadata": {},
     "output_type": "display_data"
    }
   ],
   "source": [
    "a"
   ]
  },
  {
   "cell_type": "code",
   "execution_count": 25,
   "metadata": {},
   "outputs": [
    {
     "data": {
      "text/html": [
       "<table class=\"dataframe\">\n",
       "<caption>A matrix: 6 × 2 of type int</caption>\n",
       "<tbody>\n",
       "\t<tr><td>1</td><td> 7</td></tr>\n",
       "\t<tr><td>2</td><td> 8</td></tr>\n",
       "\t<tr><td>3</td><td> 9</td></tr>\n",
       "\t<tr><td>4</td><td>10</td></tr>\n",
       "\t<tr><td>5</td><td>11</td></tr>\n",
       "\t<tr><td>6</td><td>12</td></tr>\n",
       "</tbody>\n",
       "</table>\n"
      ],
      "text/latex": [
       "A matrix: 6 × 2 of type int\n",
       "\\begin{tabular}{ll}\n",
       "\t 1 &  7\\\\\n",
       "\t 2 &  8\\\\\n",
       "\t 3 &  9\\\\\n",
       "\t 4 & 10\\\\\n",
       "\t 5 & 11\\\\\n",
       "\t 6 & 12\\\\\n",
       "\\end{tabular}\n"
      ],
      "text/markdown": [
       "\n",
       "A matrix: 6 × 2 of type int\n",
       "\n",
       "| 1 |  7 |\n",
       "| 2 |  8 |\n",
       "| 3 |  9 |\n",
       "| 4 | 10 |\n",
       "| 5 | 11 |\n",
       "| 6 | 12 |\n",
       "\n"
      ],
      "text/plain": [
       "     [,1] [,2]\n",
       "[1,] 1     7  \n",
       "[2,] 2     8  \n",
       "[3,] 3     9  \n",
       "[4,] 4    10  \n",
       "[5,] 5    11  \n",
       "[6,] 6    12  "
      ]
     },
     "metadata": {},
     "output_type": "display_data"
    }
   ],
   "source": [
    "dim(a) <- c(6, 2) \n",
    "a"
   ]
  },
  {
   "cell_type": "markdown",
   "metadata": {},
   "source": [
    "# nrow 和 ncol 行数\n",
    "--函数 nrow 和 ncol 将分别返回矩阵的行数和列数："
   ]
  },
  {
   "cell_type": "code",
   "execution_count": 26,
   "metadata": {},
   "outputs": [
    {
     "data": {
      "text/html": [
       "6"
      ],
      "text/latex": [
       "6"
      ],
      "text/markdown": [
       "6"
      ],
      "text/plain": [
       "[1] 6"
      ]
     },
     "metadata": {},
     "output_type": "display_data"
    }
   ],
   "source": [
    "nrow(a)"
   ]
  },
  {
   "cell_type": "code",
   "execution_count": 27,
   "metadata": {},
   "outputs": [
    {
     "data": {
      "text/html": [
       "2"
      ],
      "text/latex": [
       "2"
      ],
      "text/markdown": [
       "2"
      ],
      "text/plain": [
       "[1] 2"
      ]
     },
     "metadata": {},
     "output_type": "display_data"
    }
   ],
   "source": [
    "ncol(a)"
   ]
  },
  {
   "cell_type": "markdown",
   "metadata": {},
   "source": [
    "# length函数\n",
    "--对于矩阵和数组，返回所有维度的乘积--所有元素的个数："
   ]
  },
  {
   "cell_type": "code",
   "execution_count": 28,
   "metadata": {},
   "outputs": [
    {
     "data": {
      "text/html": [
       "<style>\n",
       ".list-inline {list-style: none; margin:0; padding: 0}\n",
       ".list-inline>li {display: inline-block}\n",
       ".list-inline>li:not(:last-child)::after {content: \"\\00b7\"; padding: 0 .5ex}\n",
       "</style>\n",
       "<ol class=list-inline><li>4</li><li>3</li><li>2</li></ol>\n"
      ],
      "text/latex": [
       "\\begin{enumerate*}\n",
       "\\item 4\n",
       "\\item 3\n",
       "\\item 2\n",
       "\\end{enumerate*}\n"
      ],
      "text/markdown": [
       "1. 4\n",
       "2. 3\n",
       "3. 2\n",
       "\n",
       "\n"
      ],
      "text/plain": [
       "[1] 4 3 2"
      ]
     },
     "metadata": {},
     "output_type": "display_data"
    }
   ],
   "source": [
    "dim(ta)"
   ]
  },
  {
   "cell_type": "code",
   "execution_count": 29,
   "metadata": {},
   "outputs": [
    {
     "data": {
      "text/html": [
       "24"
      ],
      "text/latex": [
       "24"
      ],
      "text/markdown": [
       "24"
      ],
      "text/plain": [
       "[1] 24"
      ]
     },
     "metadata": {},
     "output_type": "display_data"
    }
   ],
   "source": [
    "length(ta)"
   ]
  },
  {
   "cell_type": "code",
   "execution_count": 30,
   "metadata": {},
   "outputs": [
    {
     "data": {
      "text/html": [
       "<style>\n",
       ".list-inline {list-style: none; margin:0; padding: 0}\n",
       ".list-inline>li {display: inline-block}\n",
       ".list-inline>li:not(:last-child)::after {content: \"\\00b7\"; padding: 0 .5ex}\n",
       "</style>\n",
       "<ol class=list-inline><li>6</li><li>2</li></ol>\n"
      ],
      "text/latex": [
       "\\begin{enumerate*}\n",
       "\\item 6\n",
       "\\item 2\n",
       "\\end{enumerate*}\n"
      ],
      "text/markdown": [
       "1. 6\n",
       "2. 2\n",
       "\n",
       "\n"
      ],
      "text/plain": [
       "[1] 6 2"
      ]
     },
     "metadata": {},
     "output_type": "display_data"
    }
   ],
   "source": [
    "dim(a)"
   ]
  },
  {
   "cell_type": "code",
   "execution_count": 31,
   "metadata": {},
   "outputs": [
    {
     "data": {
      "text/html": [
       "12"
      ],
      "text/latex": [
       "12"
      ],
      "text/markdown": [
       "12"
      ],
      "text/plain": [
       "[1] 12"
      ]
     },
     "metadata": {},
     "output_type": "display_data"
    }
   ],
   "source": [
    "length(a)"
   ]
  },
  {
   "cell_type": "markdown",
   "metadata": {},
   "source": [
    "# 矩阵的加减法与数乘\n",
    "--对应元素计算"
   ]
  },
  {
   "cell_type": "code",
   "execution_count": 32,
   "metadata": {},
   "outputs": [
    {
     "data": {
      "text/html": [
       "<table class=\"dataframe\">\n",
       "<caption>A matrix: 3 × 4 of type int</caption>\n",
       "<tbody>\n",
       "\t<tr><td>2</td><td> 8</td><td>14</td><td>20</td></tr>\n",
       "\t<tr><td>4</td><td>10</td><td>16</td><td>22</td></tr>\n",
       "\t<tr><td>6</td><td>12</td><td>18</td><td>24</td></tr>\n",
       "</tbody>\n",
       "</table>\n"
      ],
      "text/latex": [
       "A matrix: 3 × 4 of type int\n",
       "\\begin{tabular}{llll}\n",
       "\t 2 &  8 & 14 & 20\\\\\n",
       "\t 4 & 10 & 16 & 22\\\\\n",
       "\t 6 & 12 & 18 & 24\\\\\n",
       "\\end{tabular}\n"
      ],
      "text/markdown": [
       "\n",
       "A matrix: 3 × 4 of type int\n",
       "\n",
       "| 2 |  8 | 14 | 20 |\n",
       "| 4 | 10 | 16 | 22 |\n",
       "| 6 | 12 | 18 | 24 |\n",
       "\n"
      ],
      "text/plain": [
       "     [,1] [,2] [,3] [,4]\n",
       "[1,] 2     8   14   20  \n",
       "[2,] 4    10   16   22  \n",
       "[3,] 6    12   18   24  "
      ]
     },
     "metadata": {},
     "output_type": "display_data"
    }
   ],
   "source": [
    "A <- B <- matrix(1:12,nrow=3) #将生成的矩阵赋给B，同时又赋给A\n",
    "A + B"
   ]
  },
  {
   "cell_type": "code",
   "execution_count": 33,
   "metadata": {},
   "outputs": [
    {
     "data": {
      "text/html": [
       "<table class=\"dataframe\">\n",
       "<caption>A matrix: 3 × 4 of type dbl</caption>\n",
       "<tbody>\n",
       "\t<tr><td>3</td><td>12</td><td>21</td><td>30</td></tr>\n",
       "\t<tr><td>6</td><td>15</td><td>24</td><td>33</td></tr>\n",
       "\t<tr><td>9</td><td>18</td><td>27</td><td>36</td></tr>\n",
       "</tbody>\n",
       "</table>\n"
      ],
      "text/latex": [
       "A matrix: 3 × 4 of type dbl\n",
       "\\begin{tabular}{llll}\n",
       "\t 3 & 12 & 21 & 30\\\\\n",
       "\t 6 & 15 & 24 & 33\\\\\n",
       "\t 9 & 18 & 27 & 36\\\\\n",
       "\\end{tabular}\n"
      ],
      "text/markdown": [
       "\n",
       "A matrix: 3 × 4 of type dbl\n",
       "\n",
       "| 3 | 12 | 21 | 30 |\n",
       "| 6 | 15 | 24 | 33 |\n",
       "| 9 | 18 | 27 | 36 |\n",
       "\n"
      ],
      "text/plain": [
       "     [,1] [,2] [,3] [,4]\n",
       "[1,] 3    12   21   30  \n",
       "[2,] 6    15   24   33  \n",
       "[3,] 9    18   27   36  "
      ]
     },
     "metadata": {},
     "output_type": "display_data"
    }
   ],
   "source": [
    "3*A"
   ]
  },
  {
   "cell_type": "code",
   "execution_count": 34,
   "metadata": {},
   "outputs": [
    {
     "data": {
      "text/html": [
       "<table class=\"dataframe\">\n",
       "<caption>A matrix: 3 × 4 of type int</caption>\n",
       "<tbody>\n",
       "\t<tr><td> 0</td><td>-6</td><td> 0</td><td>6</td></tr>\n",
       "\t<tr><td>-2</td><td> 4</td><td>-2</td><td>4</td></tr>\n",
       "\t<tr><td>-4</td><td> 2</td><td> 8</td><td>2</td></tr>\n",
       "</tbody>\n",
       "</table>\n"
      ],
      "text/latex": [
       "A matrix: 3 × 4 of type int\n",
       "\\begin{tabular}{llll}\n",
       "\t  0 & -6 &  0 & 6\\\\\n",
       "\t -2 &  4 & -2 & 4\\\\\n",
       "\t -4 &  2 &  8 & 2\\\\\n",
       "\\end{tabular}\n"
      ],
      "text/markdown": [
       "\n",
       "A matrix: 3 × 4 of type int\n",
       "\n",
       "|  0 | -6 |  0 | 6 |\n",
       "| -2 |  4 | -2 | 4 |\n",
       "| -4 |  2 |  8 | 2 |\n",
       "\n"
      ],
      "text/plain": [
       "     [,1] [,2] [,3] [,4]\n",
       "[1,]  0   -6    0   6   \n",
       "[2,] -2    4   -2   4   \n",
       "[3,] -4    2    8   2   "
      ]
     },
     "metadata": {},
     "output_type": "display_data"
    }
   ],
   "source": [
    "A - A[1,]       #减去自身的第一行，怎么减的？"
   ]
  },
  {
   "cell_type": "code",
   "execution_count": 35,
   "metadata": {},
   "outputs": [
    {
     "data": {
      "text/html": [
       "<table class=\"dataframe\">\n",
       "<caption>A matrix: 3 × 4 of type int</caption>\n",
       "<tbody>\n",
       "\t<tr><td>0</td><td>0</td><td>0</td><td>0</td></tr>\n",
       "\t<tr><td>1</td><td>1</td><td>1</td><td>1</td></tr>\n",
       "\t<tr><td>2</td><td>2</td><td>2</td><td>2</td></tr>\n",
       "</tbody>\n",
       "</table>\n"
      ],
      "text/latex": [
       "A matrix: 3 × 4 of type int\n",
       "\\begin{tabular}{llll}\n",
       "\t 0 & 0 & 0 & 0\\\\\n",
       "\t 1 & 1 & 1 & 1\\\\\n",
       "\t 2 & 2 & 2 & 2\\\\\n",
       "\\end{tabular}\n"
      ],
      "text/markdown": [
       "\n",
       "A matrix: 3 × 4 of type int\n",
       "\n",
       "| 0 | 0 | 0 | 0 |\n",
       "| 1 | 1 | 1 | 1 |\n",
       "| 2 | 2 | 2 | 2 |\n",
       "\n"
      ],
      "text/plain": [
       "     [,1] [,2] [,3] [,4]\n",
       "[1,] 0    0    0    0   \n",
       "[2,] 1    1    1    1   \n",
       "[3,] 2    2    2    2   "
      ]
     },
     "metadata": {},
     "output_type": "display_data"
    }
   ],
   "source": [
    "t(t(A)-A[1,])   # 各行减去第一行"
   ]
  },
  {
   "cell_type": "markdown",
   "metadata": {},
   "source": [
    "# %*% 相乘\n",
    "--矩阵的乘法，除了矩阵需要满足可以相乘的要求之外，在R中需要用运算符“%*%”来进行计算。"
   ]
  },
  {
   "cell_type": "code",
   "execution_count": 36,
   "metadata": {},
   "outputs": [
    {
     "data": {
      "text/html": [
       "<table class=\"dataframe\">\n",
       "<caption>A matrix: 2 × 2 of type int</caption>\n",
       "<tbody>\n",
       "\t<tr><td>1</td><td>3</td></tr>\n",
       "\t<tr><td>2</td><td>4</td></tr>\n",
       "</tbody>\n",
       "</table>\n"
      ],
      "text/latex": [
       "A matrix: 2 × 2 of type int\n",
       "\\begin{tabular}{ll}\n",
       "\t 1 & 3\\\\\n",
       "\t 2 & 4\\\\\n",
       "\\end{tabular}\n"
      ],
      "text/markdown": [
       "\n",
       "A matrix: 2 × 2 of type int\n",
       "\n",
       "| 1 | 3 |\n",
       "| 2 | 4 |\n",
       "\n"
      ],
      "text/plain": [
       "     [,1] [,2]\n",
       "[1,] 1    3   \n",
       "[2,] 2    4   "
      ]
     },
     "metadata": {},
     "output_type": "display_data"
    }
   ],
   "source": [
    "(A <- matrix(1:4, nrow = 2))"
   ]
  },
  {
   "cell_type": "code",
   "execution_count": 37,
   "metadata": {},
   "outputs": [
    {
     "data": {
      "text/html": [
       "<table class=\"dataframe\">\n",
       "<caption>A matrix: 2 × 2 of type dbl</caption>\n",
       "<tbody>\n",
       "\t<tr><td>1</td><td>2</td></tr>\n",
       "\t<tr><td>1</td><td>2</td></tr>\n",
       "</tbody>\n",
       "</table>\n"
      ],
      "text/latex": [
       "A matrix: 2 × 2 of type dbl\n",
       "\\begin{tabular}{ll}\n",
       "\t 1 & 2\\\\\n",
       "\t 1 & 2\\\\\n",
       "\\end{tabular}\n"
      ],
      "text/markdown": [
       "\n",
       "A matrix: 2 × 2 of type dbl\n",
       "\n",
       "| 1 | 2 |\n",
       "| 1 | 2 |\n",
       "\n"
      ],
      "text/plain": [
       "     [,1] [,2]\n",
       "[1,] 1    2   \n",
       "[2,] 1    2   "
      ]
     },
     "metadata": {},
     "output_type": "display_data"
    }
   ],
   "source": [
    "(B <- matrix(c(1,1,2,2), nrow = 2))"
   ]
  },
  {
   "cell_type": "code",
   "execution_count": 38,
   "metadata": {},
   "outputs": [
    {
     "data": {
      "text/html": [
       "<table class=\"dataframe\">\n",
       "<caption>A matrix: 2 × 2 of type dbl</caption>\n",
       "<tbody>\n",
       "\t<tr><td>1</td><td>6</td></tr>\n",
       "\t<tr><td>2</td><td>8</td></tr>\n",
       "</tbody>\n",
       "</table>\n"
      ],
      "text/latex": [
       "A matrix: 2 × 2 of type dbl\n",
       "\\begin{tabular}{ll}\n",
       "\t 1 & 6\\\\\n",
       "\t 2 & 8\\\\\n",
       "\\end{tabular}\n"
      ],
      "text/markdown": [
       "\n",
       "A matrix: 2 × 2 of type dbl\n",
       "\n",
       "| 1 | 6 |\n",
       "| 2 | 8 |\n",
       "\n"
      ],
      "text/plain": [
       "     [,1] [,2]\n",
       "[1,] 1    6   \n",
       "[2,] 2    8   "
      ]
     },
     "metadata": {},
     "output_type": "display_data"
    }
   ],
   "source": [
    "(result1 <- A * B)   #\"*\"是对应元素相乘"
   ]
  },
  {
   "cell_type": "code",
   "execution_count": 39,
   "metadata": {},
   "outputs": [
    {
     "data": {
      "text/html": [
       "<table class=\"dataframe\">\n",
       "<caption>A matrix: 2 × 2 of type dbl</caption>\n",
       "<tbody>\n",
       "\t<tr><td>4</td><td> 8</td></tr>\n",
       "\t<tr><td>6</td><td>12</td></tr>\n",
       "</tbody>\n",
       "</table>\n"
      ],
      "text/latex": [
       "A matrix: 2 × 2 of type dbl\n",
       "\\begin{tabular}{ll}\n",
       "\t 4 &  8\\\\\n",
       "\t 6 & 12\\\\\n",
       "\\end{tabular}\n"
      ],
      "text/markdown": [
       "\n",
       "A matrix: 2 × 2 of type dbl\n",
       "\n",
       "| 4 |  8 |\n",
       "| 6 | 12 |\n",
       "\n"
      ],
      "text/plain": [
       "     [,1] [,2]\n",
       "[1,] 4     8  \n",
       "[2,] 6    12  "
      ]
     },
     "metadata": {},
     "output_type": "display_data"
    }
   ],
   "source": [
    "(result2 <- A %*% B)   #\"%*%\"是矩阵相乘"
   ]
  },
  {
   "cell_type": "markdown",
   "metadata": {},
   "source": [
    "# 对各行、列运算"
   ]
  },
  {
   "cell_type": "code",
   "execution_count": 40,
   "metadata": {},
   "outputs": [
    {
     "data": {
      "text/html": [
       "<style>\n",
       ".list-inline {list-style: none; margin:0; padding: 0}\n",
       ".list-inline>li {display: inline-block}\n",
       ".list-inline>li:not(:last-child)::after {content: \"\\00b7\"; padding: 0 .5ex}\n",
       "</style>\n",
       "<ol class=list-inline><li>4</li><li>6</li></ol>\n"
      ],
      "text/latex": [
       "\\begin{enumerate*}\n",
       "\\item 4\n",
       "\\item 6\n",
       "\\end{enumerate*}\n"
      ],
      "text/markdown": [
       "1. 4\n",
       "2. 6\n",
       "\n",
       "\n"
      ],
      "text/plain": [
       "[1] 4 6"
      ]
     },
     "metadata": {},
     "output_type": "display_data"
    }
   ],
   "source": [
    "rowSums(A)  #求各行和"
   ]
  },
  {
   "cell_type": "code",
   "execution_count": 41,
   "metadata": {},
   "outputs": [
    {
     "data": {
      "text/html": [
       "<style>\n",
       ".list-inline {list-style: none; margin:0; padding: 0}\n",
       ".list-inline>li {display: inline-block}\n",
       ".list-inline>li:not(:last-child)::after {content: \"\\00b7\"; padding: 0 .5ex}\n",
       "</style>\n",
       "<ol class=list-inline><li>3</li><li>7</li></ol>\n"
      ],
      "text/latex": [
       "\\begin{enumerate*}\n",
       "\\item 3\n",
       "\\item 7\n",
       "\\end{enumerate*}\n"
      ],
      "text/markdown": [
       "1. 3\n",
       "2. 7\n",
       "\n",
       "\n"
      ],
      "text/plain": [
       "[1] 3 7"
      ]
     },
     "metadata": {},
     "output_type": "display_data"
    }
   ],
   "source": [
    "colSums(A) #求各列和"
   ]
  },
  {
   "cell_type": "code",
   "execution_count": 42,
   "metadata": {},
   "outputs": [
    {
     "data": {
      "text/html": [
       "<style>\n",
       ".list-inline {list-style: none; margin:0; padding: 0}\n",
       ".list-inline>li {display: inline-block}\n",
       ".list-inline>li:not(:last-child)::after {content: \"\\00b7\"; padding: 0 .5ex}\n",
       "</style>\n",
       "<ol class=list-inline><li>2</li><li>3</li></ol>\n"
      ],
      "text/latex": [
       "\\begin{enumerate*}\n",
       "\\item 2\n",
       "\\item 3\n",
       "\\end{enumerate*}\n"
      ],
      "text/markdown": [
       "1. 2\n",
       "2. 3\n",
       "\n",
       "\n"
      ],
      "text/plain": [
       "[1] 2 3"
      ]
     },
     "metadata": {},
     "output_type": "display_data"
    }
   ],
   "source": [
    "rowMeans(A) #求各行均值"
   ]
  },
  {
   "cell_type": "code",
   "execution_count": 43,
   "metadata": {},
   "outputs": [
    {
     "data": {
      "text/html": [
       "<style>\n",
       ".list-inline {list-style: none; margin:0; padding: 0}\n",
       ".list-inline>li {display: inline-block}\n",
       ".list-inline>li:not(:last-child)::after {content: \"\\00b7\"; padding: 0 .5ex}\n",
       "</style>\n",
       "<ol class=list-inline><li>1.5</li><li>3.5</li></ol>\n"
      ],
      "text/latex": [
       "\\begin{enumerate*}\n",
       "\\item 1.5\n",
       "\\item 3.5\n",
       "\\end{enumerate*}\n"
      ],
      "text/markdown": [
       "1. 1.5\n",
       "2. 3.5\n",
       "\n",
       "\n"
      ],
      "text/plain": [
       "[1] 1.5 3.5"
      ]
     },
     "metadata": {},
     "output_type": "display_data"
    }
   ],
   "source": [
    "colMeans(A)  #求各列均值"
   ]
  },
  {
   "cell_type": "markdown",
   "metadata": {},
   "source": [
    "# apply函数\n",
    "--apply函数可以矩阵的行、列进行各种更为复杂、灵活地计算，其用法为：\n",
    "apply(X, MARGIN, FUN, ...) \n",
    "\n",
    "其中，X表示需要处理的数据，MARGIN表示函数的作用范围，1为对行运算，2为对列运算。FUN为需要运用的函数。"
   ]
  },
  {
   "cell_type": "code",
   "execution_count": 44,
   "metadata": {},
   "outputs": [
    {
     "data": {
      "text/html": [
       "<table class=\"dataframe\">\n",
       "<caption>A matrix: 2 × 2 of type int</caption>\n",
       "<tbody>\n",
       "\t<tr><td>1</td><td>3</td></tr>\n",
       "\t<tr><td>2</td><td>4</td></tr>\n",
       "</tbody>\n",
       "</table>\n"
      ],
      "text/latex": [
       "A matrix: 2 × 2 of type int\n",
       "\\begin{tabular}{ll}\n",
       "\t 1 & 3\\\\\n",
       "\t 2 & 4\\\\\n",
       "\\end{tabular}\n"
      ],
      "text/markdown": [
       "\n",
       "A matrix: 2 × 2 of type int\n",
       "\n",
       "| 1 | 3 |\n",
       "| 2 | 4 |\n",
       "\n"
      ],
      "text/plain": [
       "     [,1] [,2]\n",
       "[1,] 1    3   \n",
       "[2,] 2    4   "
      ]
     },
     "metadata": {},
     "output_type": "display_data"
    }
   ],
   "source": [
    "A <- matrix(1:4,2,2)\n",
    "A"
   ]
  },
  {
   "cell_type": "code",
   "execution_count": 45,
   "metadata": {},
   "outputs": [
    {
     "data": {
      "text/html": [
       "<style>\n",
       ".list-inline {list-style: none; margin:0; padding: 0}\n",
       ".list-inline>li {display: inline-block}\n",
       ".list-inline>li:not(:last-child)::after {content: \"\\00b7\"; padding: 0 .5ex}\n",
       "</style>\n",
       "<ol class=list-inline><li>3</li><li>7</li></ol>\n"
      ],
      "text/latex": [
       "\\begin{enumerate*}\n",
       "\\item 3\n",
       "\\item 7\n",
       "\\end{enumerate*}\n"
      ],
      "text/markdown": [
       "1. 3\n",
       "2. 7\n",
       "\n",
       "\n"
      ],
      "text/plain": [
       "[1] 3 7"
      ]
     },
     "metadata": {},
     "output_type": "display_data"
    }
   ],
   "source": [
    "apply(A, 2, sum) #矩阵的列求和"
   ]
  },
  {
   "cell_type": "code",
   "execution_count": 46,
   "metadata": {},
   "outputs": [
    {
     "data": {
      "text/html": [
       "<style>\n",
       ".list-inline {list-style: none; margin:0; padding: 0}\n",
       ".list-inline>li {display: inline-block}\n",
       ".list-inline>li:not(:last-child)::after {content: \"\\00b7\"; padding: 0 .5ex}\n",
       "</style>\n",
       "<ol class=list-inline><li>4</li><li>6</li></ol>\n"
      ],
      "text/latex": [
       "\\begin{enumerate*}\n",
       "\\item 4\n",
       "\\item 6\n",
       "\\end{enumerate*}\n"
      ],
      "text/markdown": [
       "1. 4\n",
       "2. 6\n",
       "\n",
       "\n"
      ],
      "text/plain": [
       "[1] 4 6"
      ]
     },
     "metadata": {},
     "output_type": "display_data"
    },
    {
     "data": {
      "text/html": [
       "'integer'"
      ],
      "text/latex": [
       "'integer'"
      ],
      "text/markdown": [
       "'integer'"
      ],
      "text/plain": [
       "[1] \"integer\""
      ]
     },
     "metadata": {},
     "output_type": "display_data"
    }
   ],
   "source": [
    "(s<-apply(A, 1, sum)) #矩阵的行求和--还是写成行的形式，实际上返回的是向量--无所谓行、列\n",
    "class(s)"
   ]
  },
  {
   "cell_type": "code",
   "execution_count": 47,
   "metadata": {},
   "outputs": [
    {
     "data": {
      "text/html": [
       "<style>\n",
       ".list-inline {list-style: none; margin:0; padding: 0}\n",
       ".list-inline>li {display: inline-block}\n",
       ".list-inline>li:not(:last-child)::after {content: \"\\00b7\"; padding: 0 .5ex}\n",
       "</style>\n",
       "<ol class=list-inline><li>1.5</li><li>3.5</li></ol>\n"
      ],
      "text/latex": [
       "\\begin{enumerate*}\n",
       "\\item 1.5\n",
       "\\item 3.5\n",
       "\\end{enumerate*}\n"
      ],
      "text/markdown": [
       "1. 1.5\n",
       "2. 3.5\n",
       "\n",
       "\n"
      ],
      "text/plain": [
       "[1] 1.5 3.5"
      ]
     },
     "metadata": {},
     "output_type": "display_data"
    }
   ],
   "source": [
    "apply(A, 2, mean) #矩阵的列求均值"
   ]
  },
  {
   "cell_type": "code",
   "execution_count": 48,
   "metadata": {},
   "outputs": [
    {
     "data": {
      "text/html": [
       "<style>\n",
       ".list-inline {list-style: none; margin:0; padding: 0}\n",
       ".list-inline>li {display: inline-block}\n",
       ".list-inline>li:not(:last-child)::after {content: \"\\00b7\"; padding: 0 .5ex}\n",
       "</style>\n",
       "<ol class=list-inline><li>0.5</li><li>0.5</li></ol>\n"
      ],
      "text/latex": [
       "\\begin{enumerate*}\n",
       "\\item 0.5\n",
       "\\item 0.5\n",
       "\\end{enumerate*}\n"
      ],
      "text/markdown": [
       "1. 0.5\n",
       "2. 0.5\n",
       "\n",
       "\n"
      ],
      "text/plain": [
       "[1] 0.5 0.5"
      ]
     },
     "metadata": {},
     "output_type": "display_data"
    }
   ],
   "source": [
    "apply(A, 2, var) #矩阵的列求方差"
   ]
  },
  {
   "cell_type": "code",
   "execution_count": 49,
   "metadata": {},
   "outputs": [
    {
     "data": {
      "text/html": [
       "<style>\n",
       ".list-inline {list-style: none; margin:0; padding: 0}\n",
       ".list-inline>li {display: inline-block}\n",
       ".list-inline>li:not(:last-child)::after {content: \"\\00b7\"; padding: 0 .5ex}\n",
       "</style>\n",
       "<ol class=list-inline><li>0.707106781186548</li><li>0.707106781186548</li></ol>\n"
      ],
      "text/latex": [
       "\\begin{enumerate*}\n",
       "\\item 0.707106781186548\n",
       "\\item 0.707106781186548\n",
       "\\end{enumerate*}\n"
      ],
      "text/markdown": [
       "1. 0.707106781186548\n",
       "2. 0.707106781186548\n",
       "\n",
       "\n"
      ],
      "text/plain": [
       "[1] 0.7071068 0.7071068"
      ]
     },
     "metadata": {},
     "output_type": "display_data"
    }
   ],
   "source": [
    "apply(A, 2, sd) #矩阵的列求标准差"
   ]
  },
  {
   "cell_type": "markdown",
   "metadata": {},
   "source": [
    "# diag函数\n",
    "--对角元素"
   ]
  },
  {
   "cell_type": "code",
   "execution_count": 50,
   "metadata": {},
   "outputs": [
    {
     "data": {
      "text/html": [
       "<table class=\"dataframe\">\n",
       "<caption>A matrix: 4 × 4 of type int</caption>\n",
       "<tbody>\n",
       "\t<tr><td>1</td><td>5</td><td> 9</td><td>13</td></tr>\n",
       "\t<tr><td>2</td><td>6</td><td>10</td><td>14</td></tr>\n",
       "\t<tr><td>3</td><td>7</td><td>11</td><td>15</td></tr>\n",
       "\t<tr><td>4</td><td>8</td><td>12</td><td>16</td></tr>\n",
       "</tbody>\n",
       "</table>\n"
      ],
      "text/latex": [
       "A matrix: 4 × 4 of type int\n",
       "\\begin{tabular}{llll}\n",
       "\t 1 & 5 &  9 & 13\\\\\n",
       "\t 2 & 6 & 10 & 14\\\\\n",
       "\t 3 & 7 & 11 & 15\\\\\n",
       "\t 4 & 8 & 12 & 16\\\\\n",
       "\\end{tabular}\n"
      ],
      "text/markdown": [
       "\n",
       "A matrix: 4 × 4 of type int\n",
       "\n",
       "| 1 | 5 |  9 | 13 |\n",
       "| 2 | 6 | 10 | 14 |\n",
       "| 3 | 7 | 11 | 15 |\n",
       "| 4 | 8 | 12 | 16 |\n",
       "\n"
      ],
      "text/plain": [
       "     [,1] [,2] [,3] [,4]\n",
       "[1,] 1    5     9   13  \n",
       "[2,] 2    6    10   14  \n",
       "[3,] 3    7    11   15  \n",
       "[4,] 4    8    12   16  "
      ]
     },
     "metadata": {},
     "output_type": "display_data"
    }
   ],
   "source": [
    "(A <- matrix(1:16,nrow=4)) "
   ]
  },
  {
   "cell_type": "code",
   "execution_count": 51,
   "metadata": {},
   "outputs": [
    {
     "data": {
      "text/html": [
       "<style>\n",
       ".list-inline {list-style: none; margin:0; padding: 0}\n",
       ".list-inline>li {display: inline-block}\n",
       ".list-inline>li:not(:last-child)::after {content: \"\\00b7\"; padding: 0 .5ex}\n",
       "</style>\n",
       "<ol class=list-inline><li>1</li><li>6</li><li>11</li><li>16</li></ol>\n"
      ],
      "text/latex": [
       "\\begin{enumerate*}\n",
       "\\item 1\n",
       "\\item 6\n",
       "\\item 11\n",
       "\\item 16\n",
       "\\end{enumerate*}\n"
      ],
      "text/markdown": [
       "1. 1\n",
       "2. 6\n",
       "3. 11\n",
       "4. 16\n",
       "\n",
       "\n"
      ],
      "text/plain": [
       "[1]  1  6 11 16"
      ]
     },
     "metadata": {},
     "output_type": "display_data"
    }
   ],
   "source": [
    "diag(A) #取一个方阵的对角元素"
   ]
  },
  {
   "cell_type": "code",
   "execution_count": 52,
   "metadata": {},
   "outputs": [
    {
     "data": {
      "text/html": [
       "<table class=\"dataframe\">\n",
       "<caption>A matrix: 4 × 4 of type int</caption>\n",
       "<tbody>\n",
       "\t<tr><td>1</td><td>0</td><td> 0</td><td> 0</td></tr>\n",
       "\t<tr><td>0</td><td>6</td><td> 0</td><td> 0</td></tr>\n",
       "\t<tr><td>0</td><td>0</td><td>11</td><td> 0</td></tr>\n",
       "\t<tr><td>0</td><td>0</td><td> 0</td><td>16</td></tr>\n",
       "</tbody>\n",
       "</table>\n"
      ],
      "text/latex": [
       "A matrix: 4 × 4 of type int\n",
       "\\begin{tabular}{llll}\n",
       "\t 1 & 0 &  0 &  0\\\\\n",
       "\t 0 & 6 &  0 &  0\\\\\n",
       "\t 0 & 0 & 11 &  0\\\\\n",
       "\t 0 & 0 &  0 & 16\\\\\n",
       "\\end{tabular}\n"
      ],
      "text/markdown": [
       "\n",
       "A matrix: 4 × 4 of type int\n",
       "\n",
       "| 1 | 0 |  0 |  0 |\n",
       "| 0 | 6 |  0 |  0 |\n",
       "| 0 | 0 | 11 |  0 |\n",
       "| 0 | 0 |  0 | 16 |\n",
       "\n"
      ],
      "text/plain": [
       "     [,1] [,2] [,3] [,4]\n",
       "[1,] 1    0     0    0  \n",
       "[2,] 0    6     0    0  \n",
       "[3,] 0    0    11    0  \n",
       "[4,] 0    0     0   16  "
      ]
     },
     "metadata": {},
     "output_type": "display_data"
    }
   ],
   "source": [
    "diag(diag(A)) #产生以某向量的元素为对角元的对角矩阵"
   ]
  },
  {
   "cell_type": "code",
   "execution_count": 53,
   "metadata": {},
   "outputs": [
    {
     "data": {
      "text/html": [
       "<table class=\"dataframe\">\n",
       "<caption>A matrix: 3 × 3 of type dbl</caption>\n",
       "<tbody>\n",
       "\t<tr><td>1</td><td>0</td><td>0</td></tr>\n",
       "\t<tr><td>0</td><td>1</td><td>0</td></tr>\n",
       "\t<tr><td>0</td><td>0</td><td>1</td></tr>\n",
       "</tbody>\n",
       "</table>\n"
      ],
      "text/latex": [
       "A matrix: 3 × 3 of type dbl\n",
       "\\begin{tabular}{lll}\n",
       "\t 1 & 0 & 0\\\\\n",
       "\t 0 & 1 & 0\\\\\n",
       "\t 0 & 0 & 1\\\\\n",
       "\\end{tabular}\n"
      ],
      "text/markdown": [
       "\n",
       "A matrix: 3 × 3 of type dbl\n",
       "\n",
       "| 1 | 0 | 0 |\n",
       "| 0 | 1 | 0 |\n",
       "| 0 | 0 | 1 |\n",
       "\n"
      ],
      "text/plain": [
       "     [,1] [,2] [,3]\n",
       "[1,] 1    0    0   \n",
       "[2,] 0    1    0   \n",
       "[3,] 0    0    1   "
      ]
     },
     "metadata": {},
     "output_type": "display_data"
    }
   ],
   "source": [
    "diag(3) #生成一个对应维数的单位阵"
   ]
  },
  {
   "cell_type": "markdown",
   "metadata": {},
   "source": [
    "# solve函数\n",
    "--方阵求逆"
   ]
  },
  {
   "cell_type": "code",
   "execution_count": 54,
   "metadata": {},
   "outputs": [
    {
     "data": {
      "text/html": [
       "<table class=\"dataframe\">\n",
       "<caption>A matrix: 4 × 4 of type dbl</caption>\n",
       "<tbody>\n",
       "\t<tr><td> 1.2629543</td><td> 0.4146414</td><td>-0.005767173</td><td>-1.1476570</td></tr>\n",
       "\t<tr><td>-0.3262334</td><td>-1.5399500</td><td> 2.404653389</td><td>-0.2894616</td></tr>\n",
       "\t<tr><td> 1.3297993</td><td>-0.9285670</td><td> 0.763593461</td><td>-0.2992151</td></tr>\n",
       "\t<tr><td> 1.2724293</td><td>-0.2947204</td><td>-0.799009249</td><td>-0.4115108</td></tr>\n",
       "</tbody>\n",
       "</table>\n"
      ],
      "text/latex": [
       "A matrix: 4 × 4 of type dbl\n",
       "\\begin{tabular}{llll}\n",
       "\t  1.2629543 &  0.4146414 & -0.005767173 & -1.1476570\\\\\n",
       "\t -0.3262334 & -1.5399500 &  2.404653389 & -0.2894616\\\\\n",
       "\t  1.3297993 & -0.9285670 &  0.763593461 & -0.2992151\\\\\n",
       "\t  1.2724293 & -0.2947204 & -0.799009249 & -0.4115108\\\\\n",
       "\\end{tabular}\n"
      ],
      "text/markdown": [
       "\n",
       "A matrix: 4 × 4 of type dbl\n",
       "\n",
       "|  1.2629543 |  0.4146414 | -0.005767173 | -1.1476570 |\n",
       "| -0.3262334 | -1.5399500 |  2.404653389 | -0.2894616 |\n",
       "|  1.3297993 | -0.9285670 |  0.763593461 | -0.2992151 |\n",
       "|  1.2724293 | -0.2947204 | -0.799009249 | -0.4115108 |\n",
       "\n"
      ],
      "text/plain": [
       "     [,1]       [,2]       [,3]         [,4]      \n",
       "[1,]  1.2629543  0.4146414 -0.005767173 -1.1476570\n",
       "[2,] -0.3262334 -1.5399500  2.404653389 -0.2894616\n",
       "[3,]  1.3297993 -0.9285670  0.763593461 -0.2992151\n",
       "[4,]  1.2724293 -0.2947204 -0.799009249 -0.4115108"
      ]
     },
     "metadata": {},
     "output_type": "display_data"
    }
   ],
   "source": [
    "set.seed(0)\n",
    "(A <- matrix(rnorm(16),4,4)) #rnorm()是生成16个标准正态分布随机数"
   ]
  },
  {
   "cell_type": "code",
   "execution_count": 55,
   "metadata": {},
   "outputs": [
    {
     "data": {
      "text/html": [
       "<table class=\"dataframe\">\n",
       "<caption>A matrix: 4 × 4 of type dbl</caption>\n",
       "<tbody>\n",
       "\t<tr><td> 0.05541852</td><td>-0.5504911</td><td>1.1230126</td><td>-0.5838917</td></tr>\n",
       "\t<tr><td> 0.48142273</td><td>-0.6728353</td><td>0.6887668</td><td>-1.3701648</td></tr>\n",
       "\t<tr><td> 0.23906964</td><td>-0.1917792</td><td>0.7716981</td><td>-1.0929505</td></tr>\n",
       "\t<tr><td>-0.63762072</td><td>-0.8479228</td><td>1.4808033</td><td>-1.1320912</td></tr>\n",
       "</tbody>\n",
       "</table>\n"
      ],
      "text/latex": [
       "A matrix: 4 × 4 of type dbl\n",
       "\\begin{tabular}{llll}\n",
       "\t  0.05541852 & -0.5504911 & 1.1230126 & -0.5838917\\\\\n",
       "\t  0.48142273 & -0.6728353 & 0.6887668 & -1.3701648\\\\\n",
       "\t  0.23906964 & -0.1917792 & 0.7716981 & -1.0929505\\\\\n",
       "\t -0.63762072 & -0.8479228 & 1.4808033 & -1.1320912\\\\\n",
       "\\end{tabular}\n"
      ],
      "text/markdown": [
       "\n",
       "A matrix: 4 × 4 of type dbl\n",
       "\n",
       "|  0.05541852 | -0.5504911 | 1.1230126 | -0.5838917 |\n",
       "|  0.48142273 | -0.6728353 | 0.6887668 | -1.3701648 |\n",
       "|  0.23906964 | -0.1917792 | 0.7716981 | -1.0929505 |\n",
       "| -0.63762072 | -0.8479228 | 1.4808033 | -1.1320912 |\n",
       "\n"
      ],
      "text/plain": [
       "     [,1]        [,2]       [,3]      [,4]      \n",
       "[1,]  0.05541852 -0.5504911 1.1230126 -0.5838917\n",
       "[2,]  0.48142273 -0.6728353 0.6887668 -1.3701648\n",
       "[3,]  0.23906964 -0.1917792 0.7716981 -1.0929505\n",
       "[4,] -0.63762072 -0.8479228 1.4808033 -1.1320912"
      ]
     },
     "metadata": {},
     "output_type": "display_data"
    }
   ],
   "source": [
    "(R_A <- solve(A))"
   ]
  },
  {
   "cell_type": "code",
   "execution_count": 56,
   "metadata": {},
   "outputs": [
    {
     "data": {
      "text/html": [
       "<table class=\"dataframe\">\n",
       "<caption>A matrix: 4 × 4 of type dbl</caption>\n",
       "<tbody>\n",
       "\t<tr><td> 1.000000e+00</td><td>1.110223e-16</td><td>-2.220446e-16</td><td>-2.220446e-16</td></tr>\n",
       "\t<tr><td>-8.326673e-17</td><td>1.000000e+00</td><td> 1.665335e-16</td><td> 4.996004e-16</td></tr>\n",
       "\t<tr><td>-2.775558e-17</td><td>0.000000e+00</td><td> 1.000000e+00</td><td> 5.551115e-17</td></tr>\n",
       "\t<tr><td>-5.551115e-17</td><td>0.000000e+00</td><td>-1.110223e-16</td><td> 1.000000e+00</td></tr>\n",
       "</tbody>\n",
       "</table>\n"
      ],
      "text/latex": [
       "A matrix: 4 × 4 of type dbl\n",
       "\\begin{tabular}{llll}\n",
       "\t  1.000000e+00 & 1.110223e-16 & -2.220446e-16 & -2.220446e-16\\\\\n",
       "\t -8.326673e-17 & 1.000000e+00 &  1.665335e-16 &  4.996004e-16\\\\\n",
       "\t -2.775558e-17 & 0.000000e+00 &  1.000000e+00 &  5.551115e-17\\\\\n",
       "\t -5.551115e-17 & 0.000000e+00 & -1.110223e-16 &  1.000000e+00\\\\\n",
       "\\end{tabular}\n"
      ],
      "text/markdown": [
       "\n",
       "A matrix: 4 × 4 of type dbl\n",
       "\n",
       "|  1.000000e+00 | 1.110223e-16 | -2.220446e-16 | -2.220446e-16 |\n",
       "| -8.326673e-17 | 1.000000e+00 |  1.665335e-16 |  4.996004e-16 |\n",
       "| -2.775558e-17 | 0.000000e+00 |  1.000000e+00 |  5.551115e-17 |\n",
       "| -5.551115e-17 | 0.000000e+00 | -1.110223e-16 |  1.000000e+00 |\n",
       "\n"
      ],
      "text/plain": [
       "     [,1]          [,2]         [,3]          [,4]         \n",
       "[1,]  1.000000e+00 1.110223e-16 -2.220446e-16 -2.220446e-16\n",
       "[2,] -8.326673e-17 1.000000e+00  1.665335e-16  4.996004e-16\n",
       "[3,] -2.775558e-17 0.000000e+00  1.000000e+00  5.551115e-17\n",
       "[4,] -5.551115e-17 0.000000e+00 -1.110223e-16  1.000000e+00"
      ]
     },
     "metadata": {},
     "output_type": "display_data"
    }
   ],
   "source": [
    "A %*% R_A"
   ]
  },
  {
   "cell_type": "code",
   "execution_count": 57,
   "metadata": {},
   "outputs": [
    {
     "data": {
      "text/html": [
       "<table class=\"dataframe\">\n",
       "<caption>A matrix: 4 × 4 of type dbl</caption>\n",
       "<tbody>\n",
       "\t<tr><td> 1.000000e+00</td><td> 8.326673e-17</td><td> 0.000000e+00</td><td> 5.551115e-17</td></tr>\n",
       "\t<tr><td>-2.220446e-16</td><td> 1.000000e+00</td><td> 0.000000e+00</td><td> 1.110223e-16</td></tr>\n",
       "\t<tr><td> 0.000000e+00</td><td>-5.551115e-17</td><td> 1.000000e+00</td><td>-5.551115e-17</td></tr>\n",
       "\t<tr><td> 4.440892e-16</td><td> 5.551115e-17</td><td>-2.220446e-16</td><td> 1.000000e+00</td></tr>\n",
       "</tbody>\n",
       "</table>\n"
      ],
      "text/latex": [
       "A matrix: 4 × 4 of type dbl\n",
       "\\begin{tabular}{llll}\n",
       "\t  1.000000e+00 &  8.326673e-17 &  0.000000e+00 &  5.551115e-17\\\\\n",
       "\t -2.220446e-16 &  1.000000e+00 &  0.000000e+00 &  1.110223e-16\\\\\n",
       "\t  0.000000e+00 & -5.551115e-17 &  1.000000e+00 & -5.551115e-17\\\\\n",
       "\t  4.440892e-16 &  5.551115e-17 & -2.220446e-16 &  1.000000e+00\\\\\n",
       "\\end{tabular}\n"
      ],
      "text/markdown": [
       "\n",
       "A matrix: 4 × 4 of type dbl\n",
       "\n",
       "|  1.000000e+00 |  8.326673e-17 |  0.000000e+00 |  5.551115e-17 |\n",
       "| -2.220446e-16 |  1.000000e+00 |  0.000000e+00 |  1.110223e-16 |\n",
       "|  0.000000e+00 | -5.551115e-17 |  1.000000e+00 | -5.551115e-17 |\n",
       "|  4.440892e-16 |  5.551115e-17 | -2.220446e-16 |  1.000000e+00 |\n",
       "\n"
      ],
      "text/plain": [
       "     [,1]          [,2]          [,3]          [,4]         \n",
       "[1,]  1.000000e+00  8.326673e-17  0.000000e+00  5.551115e-17\n",
       "[2,] -2.220446e-16  1.000000e+00  0.000000e+00  1.110223e-16\n",
       "[3,]  0.000000e+00 -5.551115e-17  1.000000e+00 -5.551115e-17\n",
       "[4,]  4.440892e-16  5.551115e-17 -2.220446e-16  1.000000e+00"
      ]
     },
     "metadata": {},
     "output_type": "display_data"
    }
   ],
   "source": [
    "R_A %*% A"
   ]
  },
  {
   "cell_type": "markdown",
   "metadata": {},
   "source": [
    "# rbind和cbind函数\n",
    "--对矩阵按照行和列进行合并"
   ]
  },
  {
   "cell_type": "code",
   "execution_count": 58,
   "metadata": {},
   "outputs": [
    {
     "data": {
      "text/html": [
       "<table class=\"dataframe\">\n",
       "<caption>A matrix: 4 × 2 of type dbl</caption>\n",
       "<tbody>\n",
       "\t<tr><td>1</td><td>1</td></tr>\n",
       "\t<tr><td>1</td><td>1</td></tr>\n",
       "\t<tr><td>1</td><td>1</td></tr>\n",
       "\t<tr><td>1</td><td>1</td></tr>\n",
       "</tbody>\n",
       "</table>\n"
      ],
      "text/latex": [
       "A matrix: 4 × 2 of type dbl\n",
       "\\begin{tabular}{ll}\n",
       "\t 1 & 1\\\\\n",
       "\t 1 & 1\\\\\n",
       "\t 1 & 1\\\\\n",
       "\t 1 & 1\\\\\n",
       "\\end{tabular}\n"
      ],
      "text/markdown": [
       "\n",
       "A matrix: 4 × 2 of type dbl\n",
       "\n",
       "| 1 | 1 |\n",
       "| 1 | 1 |\n",
       "| 1 | 1 |\n",
       "| 1 | 1 |\n",
       "\n"
      ],
      "text/plain": [
       "     [,1] [,2]\n",
       "[1,] 1    1   \n",
       "[2,] 1    1   \n",
       "[3,] 1    1   \n",
       "[4,] 1    1   "
      ]
     },
     "metadata": {},
     "output_type": "display_data"
    }
   ],
   "source": [
    "B <- matrix(c(1, 1, 1, 1), 2, 2) # 生成2×2的矩阵\n",
    "rbind(B, B) # 将B和B矩阵按行合并"
   ]
  },
  {
   "cell_type": "code",
   "execution_count": 59,
   "metadata": {},
   "outputs": [
    {
     "data": {
      "text/html": [
       "<table class=\"dataframe\">\n",
       "<caption>A matrix: 2 × 4 of type dbl</caption>\n",
       "<tbody>\n",
       "\t<tr><td>1</td><td>1</td><td>1</td><td>1</td></tr>\n",
       "\t<tr><td>1</td><td>1</td><td>1</td><td>1</td></tr>\n",
       "</tbody>\n",
       "</table>\n"
      ],
      "text/latex": [
       "A matrix: 2 × 4 of type dbl\n",
       "\\begin{tabular}{llll}\n",
       "\t 1 & 1 & 1 & 1\\\\\n",
       "\t 1 & 1 & 1 & 1\\\\\n",
       "\\end{tabular}\n"
      ],
      "text/markdown": [
       "\n",
       "A matrix: 2 × 4 of type dbl\n",
       "\n",
       "| 1 | 1 | 1 | 1 |\n",
       "| 1 | 1 | 1 | 1 |\n",
       "\n"
      ],
      "text/plain": [
       "     [,1] [,2] [,3] [,4]\n",
       "[1,] 1    1    1    1   \n",
       "[2,] 1    1    1    1   "
      ]
     },
     "metadata": {},
     "output_type": "display_data"
    }
   ],
   "source": [
    "cbind(B,B) #将B和B矩阵按列合并"
   ]
  },
  {
   "cell_type": "markdown",
   "metadata": {},
   "source": [
    "# t函数\n",
    "--矩阵转置"
   ]
  },
  {
   "cell_type": "code",
   "execution_count": 60,
   "metadata": {},
   "outputs": [
    {
     "data": {
      "text/html": [
       "<table class=\"dataframe\">\n",
       "<caption>A matrix: 4 × 4 of type int</caption>\n",
       "<tbody>\n",
       "\t<tr><td>1</td><td>5</td><td> 9</td><td>13</td></tr>\n",
       "\t<tr><td>2</td><td>6</td><td>10</td><td>14</td></tr>\n",
       "\t<tr><td>3</td><td>7</td><td>11</td><td>15</td></tr>\n",
       "\t<tr><td>4</td><td>8</td><td>12</td><td>16</td></tr>\n",
       "</tbody>\n",
       "</table>\n"
      ],
      "text/latex": [
       "A matrix: 4 × 4 of type int\n",
       "\\begin{tabular}{llll}\n",
       "\t 1 & 5 &  9 & 13\\\\\n",
       "\t 2 & 6 & 10 & 14\\\\\n",
       "\t 3 & 7 & 11 & 15\\\\\n",
       "\t 4 & 8 & 12 & 16\\\\\n",
       "\\end{tabular}\n"
      ],
      "text/markdown": [
       "\n",
       "A matrix: 4 × 4 of type int\n",
       "\n",
       "| 1 | 5 |  9 | 13 |\n",
       "| 2 | 6 | 10 | 14 |\n",
       "| 3 | 7 | 11 | 15 |\n",
       "| 4 | 8 | 12 | 16 |\n",
       "\n"
      ],
      "text/plain": [
       "     [,1] [,2] [,3] [,4]\n",
       "[1,] 1    5     9   13  \n",
       "[2,] 2    6    10   14  \n",
       "[3,] 3    7    11   15  \n",
       "[4,] 4    8    12   16  "
      ]
     },
     "metadata": {},
     "output_type": "display_data"
    }
   ],
   "source": [
    "(A <- matrix(1:16,nrow=4))"
   ]
  },
  {
   "cell_type": "code",
   "execution_count": 61,
   "metadata": {},
   "outputs": [
    {
     "data": {
      "text/html": [
       "<table class=\"dataframe\">\n",
       "<caption>A matrix: 4 × 4 of type int</caption>\n",
       "<tbody>\n",
       "\t<tr><td> 1</td><td> 2</td><td> 3</td><td> 4</td></tr>\n",
       "\t<tr><td> 5</td><td> 6</td><td> 7</td><td> 8</td></tr>\n",
       "\t<tr><td> 9</td><td>10</td><td>11</td><td>12</td></tr>\n",
       "\t<tr><td>13</td><td>14</td><td>15</td><td>16</td></tr>\n",
       "</tbody>\n",
       "</table>\n"
      ],
      "text/latex": [
       "A matrix: 4 × 4 of type int\n",
       "\\begin{tabular}{llll}\n",
       "\t  1 &  2 &  3 &  4\\\\\n",
       "\t  5 &  6 &  7 &  8\\\\\n",
       "\t  9 & 10 & 11 & 12\\\\\n",
       "\t 13 & 14 & 15 & 16\\\\\n",
       "\\end{tabular}\n"
      ],
      "text/markdown": [
       "\n",
       "A matrix: 4 × 4 of type int\n",
       "\n",
       "|  1 |  2 |  3 |  4 |\n",
       "|  5 |  6 |  7 |  8 |\n",
       "|  9 | 10 | 11 | 12 |\n",
       "| 13 | 14 | 15 | 16 |\n",
       "\n"
      ],
      "text/plain": [
       "     [,1] [,2] [,3] [,4]\n",
       "[1,]  1    2    3    4  \n",
       "[2,]  5    6    7    8  \n",
       "[3,]  9   10   11   12  \n",
       "[4,] 13   14   15   16  "
      ]
     },
     "metadata": {},
     "output_type": "display_data"
    }
   ],
   "source": [
    "t(A)"
   ]
  },
  {
   "cell_type": "markdown",
   "metadata": {},
   "source": [
    "# 矩阵索引\n",
    "- 对于得到的矩阵，可以使用A[i,j]得到A矩阵第i行第j列的元素\n",
    "- **A[i,]**和**A[,j]**分别表示返回**第i行和第j列的所有元素**。\n",
    "- 可以使用**A[i:k,j:l]**的形式来获得**多行多列的子矩阵**。"
   ]
  },
  {
   "cell_type": "code",
   "execution_count": 7,
   "metadata": {},
   "outputs": [
    {
     "data": {
      "text/html": [
       "<table class=\"dataframe\">\n",
       "<caption>A matrix: 3 × 4 of type int</caption>\n",
       "<tbody>\n",
       "\t<tr><td>1</td><td>4</td><td>7</td><td>10</td></tr>\n",
       "\t<tr><td>2</td><td>5</td><td>8</td><td>11</td></tr>\n",
       "\t<tr><td>3</td><td>6</td><td>9</td><td>12</td></tr>\n",
       "</tbody>\n",
       "</table>\n"
      ],
      "text/latex": [
       "A matrix: 3 × 4 of type int\n",
       "\\begin{tabular}{llll}\n",
       "\t 1 & 4 & 7 & 10\\\\\n",
       "\t 2 & 5 & 8 & 11\\\\\n",
       "\t 3 & 6 & 9 & 12\\\\\n",
       "\\end{tabular}\n"
      ],
      "text/markdown": [
       "\n",
       "A matrix: 3 × 4 of type int\n",
       "\n",
       "| 1 | 4 | 7 | 10 |\n",
       "| 2 | 5 | 8 | 11 |\n",
       "| 3 | 6 | 9 | 12 |\n",
       "\n"
      ],
      "text/plain": [
       "     [,1] [,2] [,3] [,4]\n",
       "[1,] 1    4    7    10  \n",
       "[2,] 2    5    8    11  \n",
       "[3,] 3    6    9    12  "
      ]
     },
     "metadata": {},
     "output_type": "display_data"
    }
   ],
   "source": [
    "(A <- matrix(1:12, 3, 4))"
   ]
  },
  {
   "cell_type": "code",
   "execution_count": 8,
   "metadata": {},
   "outputs": [
    {
     "data": {
      "text/html": [
       "8"
      ],
      "text/latex": [
       "8"
      ],
      "text/markdown": [
       "8"
      ],
      "text/plain": [
       "[1] 8"
      ]
     },
     "metadata": {},
     "output_type": "display_data"
    }
   ],
   "source": [
    "A[2,3] #返回矩阵第2行第3列元素"
   ]
  },
  {
   "cell_type": "code",
   "execution_count": 9,
   "metadata": {},
   "outputs": [
    {
     "data": {
      "text/html": [
       "<style>\n",
       ".list-inline {list-style: none; margin:0; padding: 0}\n",
       ".list-inline>li {display: inline-block}\n",
       ".list-inline>li:not(:last-child)::after {content: \"\\00b7\"; padding: 0 .5ex}\n",
       "</style>\n",
       "<ol class=list-inline><li>2</li><li>5</li><li>8</li><li>11</li></ol>\n"
      ],
      "text/latex": [
       "\\begin{enumerate*}\n",
       "\\item 2\n",
       "\\item 5\n",
       "\\item 8\n",
       "\\item 11\n",
       "\\end{enumerate*}\n"
      ],
      "text/markdown": [
       "1. 2\n",
       "2. 5\n",
       "3. 8\n",
       "4. 11\n",
       "\n",
       "\n"
      ],
      "text/plain": [
       "[1]  2  5  8 11"
      ]
     },
     "metadata": {},
     "output_type": "display_data"
    }
   ],
   "source": [
    "A[2,] #返回矩阵第2行所有元素"
   ]
  },
  {
   "cell_type": "code",
   "execution_count": 10,
   "metadata": {},
   "outputs": [
    {
     "data": {
      "text/html": [
       "<style>\n",
       ".list-inline {list-style: none; margin:0; padding: 0}\n",
       ".list-inline>li {display: inline-block}\n",
       ".list-inline>li:not(:last-child)::after {content: \"\\00b7\"; padding: 0 .5ex}\n",
       "</style>\n",
       "<ol class=list-inline><li>7</li><li>8</li><li>9</li></ol>\n"
      ],
      "text/latex": [
       "\\begin{enumerate*}\n",
       "\\item 7\n",
       "\\item 8\n",
       "\\item 9\n",
       "\\end{enumerate*}\n"
      ],
      "text/markdown": [
       "1. 7\n",
       "2. 8\n",
       "3. 9\n",
       "\n",
       "\n"
      ],
      "text/plain": [
       "[1] 7 8 9"
      ]
     },
     "metadata": {},
     "output_type": "display_data"
    }
   ],
   "source": [
    "A[,3] #返回矩阵第3列所有元素"
   ]
  },
  {
   "cell_type": "code",
   "execution_count": 11,
   "metadata": {},
   "outputs": [
    {
     "data": {
      "text/html": [
       "'integer'"
      ],
      "text/latex": [
       "'integer'"
      ],
      "text/markdown": [
       "'integer'"
      ],
      "text/plain": [
       "[1] \"integer\""
      ]
     },
     "metadata": {},
     "output_type": "display_data"
    }
   ],
   "source": [
    "class(A[,3])       #取出的是向量"
   ]
  },
  {
   "cell_type": "code",
   "execution_count": 12,
   "metadata": {},
   "outputs": [
    {
     "data": {
      "text/html": [
       "<table class=\"dataframe\">\n",
       "<caption>A matrix: 3 × 2 of type int</caption>\n",
       "<tbody>\n",
       "\t<tr><td>4</td><td>10</td></tr>\n",
       "\t<tr><td>5</td><td>11</td></tr>\n",
       "\t<tr><td>6</td><td>12</td></tr>\n",
       "</tbody>\n",
       "</table>\n"
      ],
      "text/latex": [
       "A matrix: 3 × 2 of type int\n",
       "\\begin{tabular}{ll}\n",
       "\t 4 & 10\\\\\n",
       "\t 5 & 11\\\\\n",
       "\t 6 & 12\\\\\n",
       "\\end{tabular}\n"
      ],
      "text/markdown": [
       "\n",
       "A matrix: 3 × 2 of type int\n",
       "\n",
       "| 4 | 10 |\n",
       "| 5 | 11 |\n",
       "| 6 | 12 |\n",
       "\n"
      ],
      "text/plain": [
       "     [,1] [,2]\n",
       "[1,] 4    10  \n",
       "[2,] 5    11  \n",
       "[3,] 6    12  "
      ]
     },
     "metadata": {},
     "output_type": "display_data"
    }
   ],
   "source": [
    "a <- A[1:3, c(2, 4)] # 返回矩阵第1-3行，第2、4列的元素\n",
    "a"
   ]
  },
  {
   "cell_type": "code",
   "execution_count": 13,
   "metadata": {},
   "outputs": [
    {
     "data": {
      "text/html": [
       "<style>\n",
       ".list-inline {list-style: none; margin:0; padding: 0}\n",
       ".list-inline>li {display: inline-block}\n",
       ".list-inline>li:not(:last-child)::after {content: \"\\00b7\"; padding: 0 .5ex}\n",
       "</style>\n",
       "<ol class=list-inline><li>'matrix'</li><li>'array'</li></ol>\n"
      ],
      "text/latex": [
       "\\begin{enumerate*}\n",
       "\\item 'matrix'\n",
       "\\item 'array'\n",
       "\\end{enumerate*}\n"
      ],
      "text/markdown": [
       "1. 'matrix'\n",
       "2. 'array'\n",
       "\n",
       "\n"
      ],
      "text/plain": [
       "[1] \"matrix\" \"array\" "
      ]
     },
     "metadata": {},
     "output_type": "display_data"
    }
   ],
   "source": [
    "class(a)"
   ]
  },
  {
   "cell_type": "code",
   "execution_count": 14,
   "metadata": {},
   "outputs": [
    {
     "data": {
      "text/html": [
       "<table class=\"dataframe\">\n",
       "<caption>A matrix: 4 × 3 of type int</caption>\n",
       "<thead>\n",
       "\t<tr><th></th><th scope=col>C1</th><th scope=col>C2</th><th scope=col>C3</th></tr>\n",
       "</thead>\n",
       "<tbody>\n",
       "\t<tr><th scope=row>R1</th><td>1</td><td>5</td><td> 9</td></tr>\n",
       "\t<tr><th scope=row>R2</th><td>2</td><td>6</td><td>10</td></tr>\n",
       "\t<tr><th scope=row>R3</th><td>3</td><td>7</td><td>11</td></tr>\n",
       "\t<tr><th scope=row>R4</th><td>4</td><td>8</td><td>12</td></tr>\n",
       "</tbody>\n",
       "</table>\n"
      ],
      "text/latex": [
       "A matrix: 4 × 3 of type int\n",
       "\\begin{tabular}{r|lll}\n",
       "  & C1 & C2 & C3\\\\\n",
       "\\hline\n",
       "\tR1 & 1 & 5 &  9\\\\\n",
       "\tR2 & 2 & 6 & 10\\\\\n",
       "\tR3 & 3 & 7 & 11\\\\\n",
       "\tR4 & 4 & 8 & 12\\\\\n",
       "\\end{tabular}\n"
      ],
      "text/markdown": [
       "\n",
       "A matrix: 4 × 3 of type int\n",
       "\n",
       "| <!--/--> | C1 | C2 | C3 |\n",
       "|---|---|---|---|\n",
       "| R1 | 1 | 5 |  9 |\n",
       "| R2 | 2 | 6 | 10 |\n",
       "| R3 | 3 | 7 | 11 |\n",
       "| R4 | 4 | 8 | 12 |\n",
       "\n"
      ],
      "text/plain": [
       "   C1 C2 C3\n",
       "R1 1  5   9\n",
       "R2 2  6  10\n",
       "R3 3  7  11\n",
       "R4 4  8  12"
      ]
     },
     "metadata": {},
     "output_type": "display_data"
    }
   ],
   "source": [
    "(a <- matrix(1:12, nrow = 4, dimnames = list(c(\"R1\", \"R2\", \"R3\", \"R4\"),c(\"C1\", \"C2\", \"C3\"))))"
   ]
  },
  {
   "cell_type": "markdown",
   "metadata": {},
   "source": [
    "对于行列命名的矩阵，可以通过行列名访问"
   ]
  },
  {
   "cell_type": "code",
   "execution_count": 15,
   "metadata": {},
   "outputs": [
    {
     "data": {
      "text/html": [
       "<style>\n",
       ".dl-inline {width: auto; margin:0; padding: 0}\n",
       ".dl-inline>dt, .dl-inline>dd {float: none; width: auto; display: inline-block}\n",
       ".dl-inline>dt::after {content: \":\\0020\"; padding-right: .5ex}\n",
       ".dl-inline>dt:not(:first-of-type) {padding-left: .5ex}\n",
       "</style><dl class=dl-inline><dt>C1</dt><dd>1</dd><dt>C2</dt><dd>5</dd><dt>C3</dt><dd>9</dd></dl>\n"
      ],
      "text/latex": [
       "\\begin{description*}\n",
       "\\item[C1] 1\n",
       "\\item[C2] 5\n",
       "\\item[C3] 9\n",
       "\\end{description*}\n"
      ],
      "text/markdown": [
       "C1\n",
       ":   1C2\n",
       ":   5C3\n",
       ":   9\n",
       "\n"
      ],
      "text/plain": [
       "C1 C2 C3 \n",
       " 1  5  9 "
      ]
     },
     "metadata": {},
     "output_type": "display_data"
    }
   ],
   "source": [
    "a[\"R1\",]    #获取第一行"
   ]
  },
  {
   "cell_type": "code",
   "execution_count": 17,
   "metadata": {},
   "outputs": [
    {
     "data": {
      "text/html": [
       "<style>\n",
       ".dl-inline {width: auto; margin:0; padding: 0}\n",
       ".dl-inline>dt, .dl-inline>dd {float: none; width: auto; display: inline-block}\n",
       ".dl-inline>dt::after {content: \":\\0020\"; padding-right: .5ex}\n",
       ".dl-inline>dt:not(:first-of-type) {padding-left: .5ex}\n",
       "</style><dl class=dl-inline><dt>R1</dt><dd>1</dd><dt>R2</dt><dd>2</dd><dt>R3</dt><dd>3</dd><dt>R4</dt><dd>4</dd></dl>\n"
      ],
      "text/latex": [
       "\\begin{description*}\n",
       "\\item[R1] 1\n",
       "\\item[R2] 2\n",
       "\\item[R3] 3\n",
       "\\item[R4] 4\n",
       "\\end{description*}\n"
      ],
      "text/markdown": [
       "R1\n",
       ":   1R2\n",
       ":   2R3\n",
       ":   3R4\n",
       ":   4\n",
       "\n"
      ],
      "text/plain": [
       "R1 R2 R3 R4 \n",
       " 1  2  3  4 "
      ]
     },
     "metadata": {},
     "output_type": "display_data"
    }
   ],
   "source": [
    "a[,\"C1\"]    #获取第一列"
   ]
  },
  {
   "cell_type": "code",
   "execution_count": 20,
   "metadata": {},
   "outputs": [
    {
     "data": {
      "text/html": [
       "1"
      ],
      "text/latex": [
       "1"
      ],
      "text/markdown": [
       "1"
      ],
      "text/plain": [
       "[1] 1"
      ]
     },
     "metadata": {},
     "output_type": "display_data"
    }
   ],
   "source": [
    "a[\"R1\",\"C1\"]    #获取第一行的第一列"
   ]
  },
  {
   "attachments": {},
   "cell_type": "markdown",
   "metadata": {},
   "source": [
    "# 数组索引\n",
    "\n",
    "- 索引数组与索引向量类似，只是现在要索引的维度多于一个。和之前一样，用方括号来表示索引\n",
    "- 仍有四种指定索引的方法（**正整数、负整数、逻辑值和元素的名称**）。在不同的维度上用不同的方式指定索引下标完全没问题。每个维度的下标用逗号分隔"
   ]
  },
  {
   "cell_type": "code",
   "execution_count": 22,
   "metadata": {},
   "outputs": [],
   "source": [
    "#Rstudio演示\n",
    "three_d_array  <- array(1:24,dim = c(4,3,2),dimnames = list(c(\"R1\", \"R2\", \"R3\",\"R4\"),c(\"C1\", \"C2\", \"C3\"),c(\"L1\", \"L2\")))"
   ]
  },
  {
   "cell_type": "code",
   "execution_count": 70,
   "metadata": {},
   "outputs": [
    {
     "data": {
      "text/html": [
       "<table class=\"dataframe\">\n",
       "<caption>A matrix: 4 × 3 of type int</caption>\n",
       "<thead>\n",
       "\t<tr><th></th><th scope=col>C1</th><th scope=col>C2</th><th scope=col>C3</th></tr>\n",
       "</thead>\n",
       "<tbody>\n",
       "\t<tr><th scope=row>R1</th><td>1</td><td>5</td><td> 9</td></tr>\n",
       "\t<tr><th scope=row>R2</th><td>2</td><td>6</td><td>10</td></tr>\n",
       "\t<tr><th scope=row>R3</th><td>3</td><td>7</td><td>11</td></tr>\n",
       "\t<tr><th scope=row>R4</th><td>4</td><td>8</td><td>12</td></tr>\n",
       "</tbody>\n",
       "</table>\n"
      ],
      "text/latex": [
       "A matrix: 4 × 3 of type int\n",
       "\\begin{tabular}{r|lll}\n",
       "  & C1 & C2 & C3\\\\\n",
       "\\hline\n",
       "\tR1 & 1 & 5 &  9\\\\\n",
       "\tR2 & 2 & 6 & 10\\\\\n",
       "\tR3 & 3 & 7 & 11\\\\\n",
       "\tR4 & 4 & 8 & 12\\\\\n",
       "\\end{tabular}\n"
      ],
      "text/markdown": [
       "\n",
       "A matrix: 4 × 3 of type int\n",
       "\n",
       "| <!--/--> | C1 | C2 | C3 |\n",
       "|---|---|---|---|\n",
       "| R1 | 1 | 5 |  9 |\n",
       "| R2 | 2 | 6 | 10 |\n",
       "| R3 | 3 | 7 | 11 |\n",
       "| R4 | 4 | 8 | 12 |\n",
       "\n"
      ],
      "text/plain": [
       "   C1 C2 C3\n",
       "R1 1  5   9\n",
       "R2 2  6  10\n",
       "R3 3  7  11\n",
       "R4 4  8  12"
      ]
     },
     "metadata": {},
     "output_type": "display_data"
    }
   ],
   "source": [
    "three_d_array[,,1]    #第1“面”上的元素"
   ]
  },
  {
   "cell_type": "code",
   "execution_count": 71,
   "metadata": {},
   "outputs": [
    {
     "data": {
      "text/html": [
       "<table class=\"dataframe\">\n",
       "<caption>A matrix: 4 × 3 of type int</caption>\n",
       "<thead>\n",
       "\t<tr><th></th><th scope=col>C1</th><th scope=col>C2</th><th scope=col>C3</th></tr>\n",
       "</thead>\n",
       "<tbody>\n",
       "\t<tr><th scope=row>R1</th><td>13</td><td>17</td><td>21</td></tr>\n",
       "\t<tr><th scope=row>R2</th><td>14</td><td>18</td><td>22</td></tr>\n",
       "\t<tr><th scope=row>R3</th><td>15</td><td>19</td><td>23</td></tr>\n",
       "\t<tr><th scope=row>R4</th><td>16</td><td>20</td><td>24</td></tr>\n",
       "</tbody>\n",
       "</table>\n"
      ],
      "text/latex": [
       "A matrix: 4 × 3 of type int\n",
       "\\begin{tabular}{r|lll}\n",
       "  & C1 & C2 & C3\\\\\n",
       "\\hline\n",
       "\tR1 & 13 & 17 & 21\\\\\n",
       "\tR2 & 14 & 18 & 22\\\\\n",
       "\tR3 & 15 & 19 & 23\\\\\n",
       "\tR4 & 16 & 20 & 24\\\\\n",
       "\\end{tabular}\n"
      ],
      "text/markdown": [
       "\n",
       "A matrix: 4 × 3 of type int\n",
       "\n",
       "| <!--/--> | C1 | C2 | C3 |\n",
       "|---|---|---|---|\n",
       "| R1 | 13 | 17 | 21 |\n",
       "| R2 | 14 | 18 | 22 |\n",
       "| R3 | 15 | 19 | 23 |\n",
       "| R4 | 16 | 20 | 24 |\n",
       "\n"
      ],
      "text/plain": [
       "   C1 C2 C3\n",
       "R1 13 17 21\n",
       "R2 14 18 22\n",
       "R3 15 19 23\n",
       "R4 16 20 24"
      ]
     },
     "metadata": {},
     "output_type": "display_data"
    }
   ],
   "source": [
    "three_d_array[,,2]    #第2“面”上的元素"
   ]
  },
  {
   "cell_type": "code",
   "execution_count": 72,
   "metadata": {},
   "outputs": [
    {
     "data": {
      "text/html": [
       "<table class=\"dataframe\">\n",
       "<caption>A matrix: 3 × 2 of type int</caption>\n",
       "<thead>\n",
       "\t<tr><th></th><th scope=col>L1</th><th scope=col>L2</th></tr>\n",
       "</thead>\n",
       "<tbody>\n",
       "\t<tr><th scope=row>C1</th><td>1</td><td>13</td></tr>\n",
       "\t<tr><th scope=row>C2</th><td>5</td><td>17</td></tr>\n",
       "\t<tr><th scope=row>C3</th><td>9</td><td>21</td></tr>\n",
       "</tbody>\n",
       "</table>\n"
      ],
      "text/latex": [
       "A matrix: 3 × 2 of type int\n",
       "\\begin{tabular}{r|ll}\n",
       "  & L1 & L2\\\\\n",
       "\\hline\n",
       "\tC1 & 1 & 13\\\\\n",
       "\tC2 & 5 & 17\\\\\n",
       "\tC3 & 9 & 21\\\\\n",
       "\\end{tabular}\n"
      ],
      "text/markdown": [
       "\n",
       "A matrix: 3 × 2 of type int\n",
       "\n",
       "| <!--/--> | L1 | L2 |\n",
       "|---|---|---|\n",
       "| C1 | 1 | 13 |\n",
       "| C2 | 5 | 17 |\n",
       "| C3 | 9 | 21 |\n",
       "\n"
      ],
      "text/plain": [
       "   L1 L2\n",
       "C1 1  13\n",
       "C2 5  17\n",
       "C3 9  21"
      ]
     },
     "metadata": {},
     "output_type": "display_data"
    }
   ],
   "source": [
    "three_d_array[1,,]    #第1“行”上的元素"
   ]
  },
  {
   "cell_type": "code",
   "execution_count": 73,
   "metadata": {},
   "outputs": [
    {
     "data": {
      "text/html": [
       "<table class=\"dataframe\">\n",
       "<caption>A matrix: 4 × 2 of type int</caption>\n",
       "<thead>\n",
       "\t<tr><th></th><th scope=col>L1</th><th scope=col>L2</th></tr>\n",
       "</thead>\n",
       "<tbody>\n",
       "\t<tr><th scope=row>R1</th><td>1</td><td>13</td></tr>\n",
       "\t<tr><th scope=row>R2</th><td>2</td><td>14</td></tr>\n",
       "\t<tr><th scope=row>R3</th><td>3</td><td>15</td></tr>\n",
       "\t<tr><th scope=row>R4</th><td>4</td><td>16</td></tr>\n",
       "</tbody>\n",
       "</table>\n"
      ],
      "text/latex": [
       "A matrix: 4 × 2 of type int\n",
       "\\begin{tabular}{r|ll}\n",
       "  & L1 & L2\\\\\n",
       "\\hline\n",
       "\tR1 & 1 & 13\\\\\n",
       "\tR2 & 2 & 14\\\\\n",
       "\tR3 & 3 & 15\\\\\n",
       "\tR4 & 4 & 16\\\\\n",
       "\\end{tabular}\n"
      ],
      "text/markdown": [
       "\n",
       "A matrix: 4 × 2 of type int\n",
       "\n",
       "| <!--/--> | L1 | L2 |\n",
       "|---|---|---|\n",
       "| R1 | 1 | 13 |\n",
       "| R2 | 2 | 14 |\n",
       "| R3 | 3 | 15 |\n",
       "| R4 | 4 | 16 |\n",
       "\n"
      ],
      "text/plain": [
       "   L1 L2\n",
       "R1 1  13\n",
       "R2 2  14\n",
       "R3 3  15\n",
       "R4 4  16"
      ]
     },
     "metadata": {},
     "output_type": "display_data"
    }
   ],
   "source": [
    "three_d_array[,1,]    #第1“列”上的元素"
   ]
  },
  {
   "cell_type": "code",
   "execution_count": 74,
   "metadata": {},
   "outputs": [
    {
     "data": {
      "text/html": [
       "<table class=\"dataframe\">\n",
       "<caption>A matrix: 4 × 3 of type int</caption>\n",
       "<thead>\n",
       "\t<tr><th></th><th scope=col>C1</th><th scope=col>C2</th><th scope=col>C3</th></tr>\n",
       "</thead>\n",
       "<tbody>\n",
       "\t<tr><th scope=row>R1</th><td>13</td><td>17</td><td>21</td></tr>\n",
       "\t<tr><th scope=row>R2</th><td>14</td><td>18</td><td>22</td></tr>\n",
       "\t<tr><th scope=row>R3</th><td>15</td><td>19</td><td>23</td></tr>\n",
       "\t<tr><th scope=row>R4</th><td>16</td><td>20</td><td>24</td></tr>\n",
       "</tbody>\n",
       "</table>\n"
      ],
      "text/latex": [
       "A matrix: 4 × 3 of type int\n",
       "\\begin{tabular}{r|lll}\n",
       "  & C1 & C2 & C3\\\\\n",
       "\\hline\n",
       "\tR1 & 13 & 17 & 21\\\\\n",
       "\tR2 & 14 & 18 & 22\\\\\n",
       "\tR3 & 15 & 19 & 23\\\\\n",
       "\tR4 & 16 & 20 & 24\\\\\n",
       "\\end{tabular}\n"
      ],
      "text/markdown": [
       "\n",
       "A matrix: 4 × 3 of type int\n",
       "\n",
       "| <!--/--> | C1 | C2 | C3 |\n",
       "|---|---|---|---|\n",
       "| R1 | 13 | 17 | 21 |\n",
       "| R2 | 14 | 18 | 22 |\n",
       "| R3 | 15 | 19 | 23 |\n",
       "| R4 | 16 | 20 | 24 |\n",
       "\n"
      ],
      "text/plain": [
       "   C1 C2 C3\n",
       "R1 13 17 21\n",
       "R2 14 18 22\n",
       "R3 15 19 23\n",
       "R4 16 20 24"
      ]
     },
     "metadata": {},
     "output_type": "display_data"
    }
   ],
   "source": [
    "three_d_array[,,-1] #去掉第1面"
   ]
  },
  {
   "cell_type": "code",
   "execution_count": 75,
   "metadata": {},
   "outputs": [
    {
     "data": {
      "text/html": [
       "<style>\n",
       ".list-inline {list-style: none; margin:0; padding: 0}\n",
       ".list-inline>li {display: inline-block}\n",
       ".list-inline>li:not(:last-child)::after {content: \"\\00b7\"; padding: 0 .5ex}\n",
       "</style>\n",
       "<ol class=list-inline><li>5</li><li>6</li><li>7</li><li>8</li><li>9</li><li>10</li><li>11</li><li>12</li><li>17</li><li>18</li><li>19</li><li>20</li><li>21</li><li>22</li><li>23</li><li>24</li></ol>\n"
      ],
      "text/latex": [
       "\\begin{enumerate*}\n",
       "\\item 5\n",
       "\\item 6\n",
       "\\item 7\n",
       "\\item 8\n",
       "\\item 9\n",
       "\\item 10\n",
       "\\item 11\n",
       "\\item 12\n",
       "\\item 17\n",
       "\\item 18\n",
       "\\item 19\n",
       "\\item 20\n",
       "\\item 21\n",
       "\\item 22\n",
       "\\item 23\n",
       "\\item 24\n",
       "\\end{enumerate*}\n"
      ],
      "text/markdown": [
       "1. 5\n",
       "2. 6\n",
       "3. 7\n",
       "4. 8\n",
       "5. 9\n",
       "6. 10\n",
       "7. 11\n",
       "8. 12\n",
       "9. 17\n",
       "10. 18\n",
       "11. 19\n",
       "12. 20\n",
       "13. 21\n",
       "14. 22\n",
       "15. 23\n",
       "16. 24\n",
       "\n",
       "\n"
      ],
      "text/plain": [
       ", , L1\n",
       "\n",
       "   C2 C3\n",
       "R1  5  9\n",
       "R2  6 10\n",
       "R3  7 11\n",
       "R4  8 12\n",
       "\n",
       ", , L2\n",
       "\n",
       "   C2 C3\n",
       "R1 17 21\n",
       "R2 18 22\n",
       "R3 19 23\n",
       "R4 20 24\n"
      ]
     },
     "metadata": {},
     "output_type": "display_data"
    }
   ],
   "source": [
    "three_d_array[,-1,] #去掉第1列"
   ]
  },
  {
   "cell_type": "code",
   "execution_count": 76,
   "metadata": {},
   "outputs": [
    {
     "data": {
      "text/html": [
       "<style>\n",
       ".list-inline {list-style: none; margin:0; padding: 0}\n",
       ".list-inline>li {display: inline-block}\n",
       ".list-inline>li:not(:last-child)::after {content: \"\\00b7\"; padding: 0 .5ex}\n",
       "</style>\n",
       "<ol class=list-inline><li>2</li><li>3</li><li>4</li><li>6</li><li>7</li><li>8</li><li>10</li><li>11</li><li>12</li><li>14</li><li>15</li><li>16</li><li>18</li><li>19</li><li>20</li><li>22</li><li>23</li><li>24</li></ol>\n"
      ],
      "text/latex": [
       "\\begin{enumerate*}\n",
       "\\item 2\n",
       "\\item 3\n",
       "\\item 4\n",
       "\\item 6\n",
       "\\item 7\n",
       "\\item 8\n",
       "\\item 10\n",
       "\\item 11\n",
       "\\item 12\n",
       "\\item 14\n",
       "\\item 15\n",
       "\\item 16\n",
       "\\item 18\n",
       "\\item 19\n",
       "\\item 20\n",
       "\\item 22\n",
       "\\item 23\n",
       "\\item 24\n",
       "\\end{enumerate*}\n"
      ],
      "text/markdown": [
       "1. 2\n",
       "2. 3\n",
       "3. 4\n",
       "4. 6\n",
       "5. 7\n",
       "6. 8\n",
       "7. 10\n",
       "8. 11\n",
       "9. 12\n",
       "10. 14\n",
       "11. 15\n",
       "12. 16\n",
       "13. 18\n",
       "14. 19\n",
       "15. 20\n",
       "16. 22\n",
       "17. 23\n",
       "18. 24\n",
       "\n",
       "\n"
      ],
      "text/plain": [
       ", , L1\n",
       "\n",
       "   C1 C2 C3\n",
       "R2  2  6 10\n",
       "R3  3  7 11\n",
       "R4  4  8 12\n",
       "\n",
       ", , L2\n",
       "\n",
       "   C1 C2 C3\n",
       "R2 14 18 22\n",
       "R3 15 19 23\n",
       "R4 16 20 24\n"
      ]
     },
     "metadata": {},
     "output_type": "display_data"
    }
   ],
   "source": [
    "three_d_array[-1,,] #去掉第1行"
   ]
  },
  {
   "cell_type": "markdown",
   "metadata": {},
   "source": [
    "对于行、列、层命名的矩阵，可以通过行、列、层名访问"
   ]
  },
  {
   "cell_type": "code",
   "execution_count": 23,
   "metadata": {},
   "outputs": [
    {
     "data": {
      "text/html": [
       "<table class=\"dataframe\">\n",
       "<caption>A matrix: 4 × 3 of type int</caption>\n",
       "<thead>\n",
       "\t<tr><th></th><th scope=col>C1</th><th scope=col>C2</th><th scope=col>C3</th></tr>\n",
       "</thead>\n",
       "<tbody>\n",
       "\t<tr><th scope=row>R1</th><td>1</td><td>5</td><td> 9</td></tr>\n",
       "\t<tr><th scope=row>R2</th><td>2</td><td>6</td><td>10</td></tr>\n",
       "\t<tr><th scope=row>R3</th><td>3</td><td>7</td><td>11</td></tr>\n",
       "\t<tr><th scope=row>R4</th><td>4</td><td>8</td><td>12</td></tr>\n",
       "</tbody>\n",
       "</table>\n"
      ],
      "text/latex": [
       "A matrix: 4 × 3 of type int\n",
       "\\begin{tabular}{r|lll}\n",
       "  & C1 & C2 & C3\\\\\n",
       "\\hline\n",
       "\tR1 & 1 & 5 &  9\\\\\n",
       "\tR2 & 2 & 6 & 10\\\\\n",
       "\tR3 & 3 & 7 & 11\\\\\n",
       "\tR4 & 4 & 8 & 12\\\\\n",
       "\\end{tabular}\n"
      ],
      "text/markdown": [
       "\n",
       "A matrix: 4 × 3 of type int\n",
       "\n",
       "| <!--/--> | C1 | C2 | C3 |\n",
       "|---|---|---|---|\n",
       "| R1 | 1 | 5 |  9 |\n",
       "| R2 | 2 | 6 | 10 |\n",
       "| R3 | 3 | 7 | 11 |\n",
       "| R4 | 4 | 8 | 12 |\n",
       "\n"
      ],
      "text/plain": [
       "   C1 C2 C3\n",
       "R1 1  5   9\n",
       "R2 2  6  10\n",
       "R3 3  7  11\n",
       "R4 4  8  12"
      ]
     },
     "metadata": {},
     "output_type": "display_data"
    }
   ],
   "source": [
    "three_d_array[,,\"L1\"]    #第1“面”上的元素"
   ]
  },
  {
   "cell_type": "code",
   "execution_count": 24,
   "metadata": {},
   "outputs": [
    {
     "data": {
      "text/html": [
       "<table class=\"dataframe\">\n",
       "<caption>A matrix: 3 × 2 of type int</caption>\n",
       "<thead>\n",
       "\t<tr><th></th><th scope=col>L1</th><th scope=col>L2</th></tr>\n",
       "</thead>\n",
       "<tbody>\n",
       "\t<tr><th scope=row>C1</th><td>1</td><td>13</td></tr>\n",
       "\t<tr><th scope=row>C2</th><td>5</td><td>17</td></tr>\n",
       "\t<tr><th scope=row>C3</th><td>9</td><td>21</td></tr>\n",
       "</tbody>\n",
       "</table>\n"
      ],
      "text/latex": [
       "A matrix: 3 × 2 of type int\n",
       "\\begin{tabular}{r|ll}\n",
       "  & L1 & L2\\\\\n",
       "\\hline\n",
       "\tC1 & 1 & 13\\\\\n",
       "\tC2 & 5 & 17\\\\\n",
       "\tC3 & 9 & 21\\\\\n",
       "\\end{tabular}\n"
      ],
      "text/markdown": [
       "\n",
       "A matrix: 3 × 2 of type int\n",
       "\n",
       "| <!--/--> | L1 | L2 |\n",
       "|---|---|---|\n",
       "| C1 | 1 | 13 |\n",
       "| C2 | 5 | 17 |\n",
       "| C3 | 9 | 21 |\n",
       "\n"
      ],
      "text/plain": [
       "   L1 L2\n",
       "C1 1  13\n",
       "C2 5  17\n",
       "C3 9  21"
      ]
     },
     "metadata": {},
     "output_type": "display_data"
    }
   ],
   "source": [
    "three_d_array[\"R1\",,]    #第1“行”上的元素"
   ]
  },
  {
   "cell_type": "code",
   "execution_count": 25,
   "metadata": {},
   "outputs": [
    {
     "data": {
      "text/html": [
       "<table class=\"dataframe\">\n",
       "<caption>A matrix: 4 × 2 of type int</caption>\n",
       "<thead>\n",
       "\t<tr><th></th><th scope=col>L1</th><th scope=col>L2</th></tr>\n",
       "</thead>\n",
       "<tbody>\n",
       "\t<tr><th scope=row>R1</th><td>1</td><td>13</td></tr>\n",
       "\t<tr><th scope=row>R2</th><td>2</td><td>14</td></tr>\n",
       "\t<tr><th scope=row>R3</th><td>3</td><td>15</td></tr>\n",
       "\t<tr><th scope=row>R4</th><td>4</td><td>16</td></tr>\n",
       "</tbody>\n",
       "</table>\n"
      ],
      "text/latex": [
       "A matrix: 4 × 2 of type int\n",
       "\\begin{tabular}{r|ll}\n",
       "  & L1 & L2\\\\\n",
       "\\hline\n",
       "\tR1 & 1 & 13\\\\\n",
       "\tR2 & 2 & 14\\\\\n",
       "\tR3 & 3 & 15\\\\\n",
       "\tR4 & 4 & 16\\\\\n",
       "\\end{tabular}\n"
      ],
      "text/markdown": [
       "\n",
       "A matrix: 4 × 2 of type int\n",
       "\n",
       "| <!--/--> | L1 | L2 |\n",
       "|---|---|---|\n",
       "| R1 | 1 | 13 |\n",
       "| R2 | 2 | 14 |\n",
       "| R3 | 3 | 15 |\n",
       "| R4 | 4 | 16 |\n",
       "\n"
      ],
      "text/plain": [
       "   L1 L2\n",
       "R1 1  13\n",
       "R2 2  14\n",
       "R3 3  15\n",
       "R4 4  16"
      ]
     },
     "metadata": {},
     "output_type": "display_data"
    }
   ],
   "source": [
    "three_d_array[,\"C1\",]    #第1“列”上的元素"
   ]
  },
  {
   "cell_type": "code",
   "execution_count": 26,
   "metadata": {},
   "outputs": [
    {
     "data": {
      "text/html": [
       "<style>\n",
       ".dl-inline {width: auto; margin:0; padding: 0}\n",
       ".dl-inline>dt, .dl-inline>dd {float: none; width: auto; display: inline-block}\n",
       ".dl-inline>dt::after {content: \":\\0020\"; padding-right: .5ex}\n",
       ".dl-inline>dt:not(:first-of-type) {padding-left: .5ex}\n",
       "</style><dl class=dl-inline><dt>L1</dt><dd>1</dd><dt>L2</dt><dd>13</dd></dl>\n"
      ],
      "text/latex": [
       "\\begin{description*}\n",
       "\\item[L1] 1\n",
       "\\item[L2] 13\n",
       "\\end{description*}\n"
      ],
      "text/markdown": [
       "L1\n",
       ":   1L2\n",
       ":   13\n",
       "\n"
      ],
      "text/plain": [
       "L1 L2 \n",
       " 1 13 "
      ]
     },
     "metadata": {},
     "output_type": "display_data"
    }
   ],
   "source": [
    "three_d_array[\"R1\",\"C1\",]    #第1“行”.第1“列”上的元素"
   ]
  }
 ],
 "metadata": {
  "kernelspec": {
   "display_name": "R",
   "language": "R",
   "name": "ir"
  },
  "language_info": {
   "codemirror_mode": "r",
   "file_extension": ".r",
   "mimetype": "text/x-r-source",
   "name": "R",
   "pygments_lexer": "r",
   "version": "4.3.2"
  }
 },
 "nbformat": 4,
 "nbformat_minor": 4
}
